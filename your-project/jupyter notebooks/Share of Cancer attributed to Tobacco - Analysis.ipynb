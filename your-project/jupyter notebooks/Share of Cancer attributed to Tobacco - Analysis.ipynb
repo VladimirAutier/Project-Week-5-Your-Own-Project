{
 "cells": [
  {
   "cell_type": "code",
   "execution_count": 1,
   "metadata": {},
   "outputs": [
    {
     "data": {
      "text/html": [
       "        <script type=\"text/javascript\">\n",
       "        window.PlotlyConfig = {MathJaxConfig: 'local'};\n",
       "        if (window.MathJax) {MathJax.Hub.Config({SVG: {font: \"STIX-Web\"}});}\n",
       "        if (typeof require !== 'undefined') {\n",
       "        require.undef(\"plotly\");\n",
       "        requirejs.config({\n",
       "            paths: {\n",
       "                'plotly': ['https://cdn.plot.ly/plotly-latest.min']\n",
       "            }\n",
       "        });\n",
       "        require(['plotly'], function(Plotly) {\n",
       "            window._Plotly = Plotly;\n",
       "        });\n",
       "        }\n",
       "        </script>\n",
       "        "
      ]
     },
     "metadata": {},
     "output_type": "display_data"
    }
   ],
   "source": [
    "import pandas as pd\n",
    "import numpy as np\n",
    "import seaborn as sns\n",
    "import matplotlib.pyplot as plt\n",
    "from scipy import stats\n",
    "import plotly \n",
    "import plotly.graph_objs as go\n",
    "import plotly.express as px\n",
    "import pycountry \n",
    "import chart_studio.plotly as py\n",
    "import cufflinks as cf\n",
    "from lifelines import KaplanMeierFitter\n",
    "cf.go_offline()"
   ]
  },
  {
   "cell_type": "code",
   "execution_count": 2,
   "metadata": {},
   "outputs": [],
   "source": [
    "#https://ourworldindata.org/cancer#cancer-survival-rates-by-income"
   ]
  },
  {
   "cell_type": "code",
   "execution_count": 3,
   "metadata": {},
   "outputs": [],
   "source": [
    "df_continents = pd.read_csv('../data/continents_countries.csv')"
   ]
  },
  {
   "cell_type": "code",
   "execution_count": 4,
   "metadata": {},
   "outputs": [],
   "source": [
    "df_continents.rename(columns={'Three_Letter_Country_Code': 'Code'}, inplace=True)"
   ]
  },
  {
   "cell_type": "code",
   "execution_count": 5,
   "metadata": {},
   "outputs": [],
   "source": [
    "df_continents.drop('Unnamed: 0', axis=1, inplace=True)"
   ]
  },
  {
   "cell_type": "code",
   "execution_count": 6,
   "metadata": {},
   "outputs": [
    {
     "data": {
      "text/plain": [
       "Index(['Continent_Name', 'Code'], dtype='object')"
      ]
     },
     "execution_count": 6,
     "metadata": {},
     "output_type": "execute_result"
    }
   ],
   "source": [
    "df_continents.columns"
   ]
  },
  {
   "cell_type": "markdown",
   "metadata": {},
   "source": [
    "# Share of cancer deaths related to tobacco"
   ]
  },
  {
   "cell_type": "code",
   "execution_count": 7,
   "metadata": {},
   "outputs": [],
   "source": [
    "df_taba = pd.read_csv('../data/share-of-cancer-deaths-attributed-to-tobacco.csv')"
   ]
  },
  {
   "cell_type": "code",
   "execution_count": 8,
   "metadata": {},
   "outputs": [
    {
     "data": {
      "text/html": [
       "<div>\n",
       "<style scoped>\n",
       "    .dataframe tbody tr th:only-of-type {\n",
       "        vertical-align: middle;\n",
       "    }\n",
       "\n",
       "    .dataframe tbody tr th {\n",
       "        vertical-align: top;\n",
       "    }\n",
       "\n",
       "    .dataframe thead th {\n",
       "        text-align: right;\n",
       "    }\n",
       "</style>\n",
       "<table border=\"1\" class=\"dataframe\">\n",
       "  <thead>\n",
       "    <tr style=\"text-align: right;\">\n",
       "      <th></th>\n",
       "      <th>Entity</th>\n",
       "      <th>Code</th>\n",
       "      <th>Year</th>\n",
       "      <th>Age-standardized share of cancer deaths attributed to tobacco (%)</th>\n",
       "    </tr>\n",
       "  </thead>\n",
       "  <tbody>\n",
       "    <tr>\n",
       "      <th>0</th>\n",
       "      <td>Afghanistan</td>\n",
       "      <td>AFG</td>\n",
       "      <td>1990</td>\n",
       "      <td>19.3</td>\n",
       "    </tr>\n",
       "    <tr>\n",
       "      <th>1</th>\n",
       "      <td>Afghanistan</td>\n",
       "      <td>AFG</td>\n",
       "      <td>1995</td>\n",
       "      <td>19.1</td>\n",
       "    </tr>\n",
       "    <tr>\n",
       "      <th>2</th>\n",
       "      <td>Afghanistan</td>\n",
       "      <td>AFG</td>\n",
       "      <td>2000</td>\n",
       "      <td>18.6</td>\n",
       "    </tr>\n",
       "    <tr>\n",
       "      <th>3</th>\n",
       "      <td>Afghanistan</td>\n",
       "      <td>AFG</td>\n",
       "      <td>2005</td>\n",
       "      <td>18.9</td>\n",
       "    </tr>\n",
       "    <tr>\n",
       "      <th>4</th>\n",
       "      <td>Afghanistan</td>\n",
       "      <td>AFG</td>\n",
       "      <td>2006</td>\n",
       "      <td>19.0</td>\n",
       "    </tr>\n",
       "  </tbody>\n",
       "</table>\n",
       "</div>"
      ],
      "text/plain": [
       "        Entity Code  Year  \\\n",
       "0  Afghanistan  AFG  1990   \n",
       "1  Afghanistan  AFG  1995   \n",
       "2  Afghanistan  AFG  2000   \n",
       "3  Afghanistan  AFG  2005   \n",
       "4  Afghanistan  AFG  2006   \n",
       "\n",
       "   Age-standardized share of cancer deaths attributed to tobacco (%)  \n",
       "0                                               19.3                  \n",
       "1                                               19.1                  \n",
       "2                                               18.6                  \n",
       "3                                               18.9                  \n",
       "4                                               19.0                  "
      ]
     },
     "execution_count": 8,
     "metadata": {},
     "output_type": "execute_result"
    }
   ],
   "source": [
    "df_taba.head()"
   ]
  },
  {
   "cell_type": "code",
   "execution_count": 9,
   "metadata": {},
   "outputs": [
    {
     "data": {
      "text/html": [
       "<div>\n",
       "<style scoped>\n",
       "    .dataframe tbody tr th:only-of-type {\n",
       "        vertical-align: middle;\n",
       "    }\n",
       "\n",
       "    .dataframe tbody tr th {\n",
       "        vertical-align: top;\n",
       "    }\n",
       "\n",
       "    .dataframe thead th {\n",
       "        text-align: right;\n",
       "    }\n",
       "</style>\n",
       "<table border=\"1\" class=\"dataframe\">\n",
       "  <thead>\n",
       "    <tr style=\"text-align: right;\">\n",
       "      <th></th>\n",
       "      <th>Year</th>\n",
       "      <th>Age-standardized share of cancer deaths attributed to tobacco (%)</th>\n",
       "    </tr>\n",
       "  </thead>\n",
       "  <tbody>\n",
       "    <tr>\n",
       "      <th>count</th>\n",
       "      <td>1526.000000</td>\n",
       "      <td>1526.000000</td>\n",
       "    </tr>\n",
       "    <tr>\n",
       "      <th>mean</th>\n",
       "      <td>2003.142857</td>\n",
       "      <td>19.023722</td>\n",
       "    </tr>\n",
       "    <tr>\n",
       "      <th>std</th>\n",
       "      <td>8.221637</td>\n",
       "      <td>11.196638</td>\n",
       "    </tr>\n",
       "    <tr>\n",
       "      <th>min</th>\n",
       "      <td>1990.000000</td>\n",
       "      <td>1.500000</td>\n",
       "    </tr>\n",
       "    <tr>\n",
       "      <th>25%</th>\n",
       "      <td>1995.000000</td>\n",
       "      <td>8.800000</td>\n",
       "    </tr>\n",
       "    <tr>\n",
       "      <th>50%</th>\n",
       "      <td>2005.000000</td>\n",
       "      <td>19.000000</td>\n",
       "    </tr>\n",
       "    <tr>\n",
       "      <th>75%</th>\n",
       "      <td>2010.000000</td>\n",
       "      <td>27.700000</td>\n",
       "    </tr>\n",
       "    <tr>\n",
       "      <th>max</th>\n",
       "      <td>2016.000000</td>\n",
       "      <td>57.700000</td>\n",
       "    </tr>\n",
       "  </tbody>\n",
       "</table>\n",
       "</div>"
      ],
      "text/plain": [
       "              Year  \\\n",
       "count  1526.000000   \n",
       "mean   2003.142857   \n",
       "std       8.221637   \n",
       "min    1990.000000   \n",
       "25%    1995.000000   \n",
       "50%    2005.000000   \n",
       "75%    2010.000000   \n",
       "max    2016.000000   \n",
       "\n",
       "       Age-standardized share of cancer deaths attributed to tobacco (%)  \n",
       "count                                        1526.000000                  \n",
       "mean                                           19.023722                  \n",
       "std                                            11.196638                  \n",
       "min                                             1.500000                  \n",
       "25%                                             8.800000                  \n",
       "50%                                            19.000000                  \n",
       "75%                                            27.700000                  \n",
       "max                                            57.700000                  "
      ]
     },
     "execution_count": 9,
     "metadata": {},
     "output_type": "execute_result"
    }
   ],
   "source": [
    "df_taba.describe()"
   ]
  },
  {
   "cell_type": "code",
   "execution_count": 10,
   "metadata": {},
   "outputs": [
    {
     "name": "stdout",
     "output_type": "stream",
     "text": [
      "<class 'pandas.core.frame.DataFrame'>\n",
      "RangeIndex: 1526 entries, 0 to 1525\n",
      "Data columns (total 4 columns):\n",
      "Entity                                                               1526 non-null object\n",
      "Code                                                                 1344 non-null object\n",
      "Year                                                                 1526 non-null int64\n",
      "Age-standardized share of cancer deaths attributed to tobacco (%)    1526 non-null float64\n",
      "dtypes: float64(1), int64(1), object(2)\n",
      "memory usage: 47.8+ KB\n"
     ]
    }
   ],
   "source": [
    "df_taba.info()"
   ]
  },
  {
   "cell_type": "code",
   "execution_count": 11,
   "metadata": {},
   "outputs": [],
   "source": [
    "df_taba.dropna(inplace=True)"
   ]
  },
  {
   "cell_type": "code",
   "execution_count": 12,
   "metadata": {},
   "outputs": [
    {
     "data": {
      "text/plain": [
       "(1344, 4)"
      ]
     },
     "execution_count": 12,
     "metadata": {},
     "output_type": "execute_result"
    }
   ],
   "source": [
    "df_taba.shape"
   ]
  },
  {
   "cell_type": "code",
   "execution_count": 13,
   "metadata": {},
   "outputs": [
    {
     "data": {
      "text/html": [
       "<div>\n",
       "<style scoped>\n",
       "    .dataframe tbody tr th:only-of-type {\n",
       "        vertical-align: middle;\n",
       "    }\n",
       "\n",
       "    .dataframe tbody tr th {\n",
       "        vertical-align: top;\n",
       "    }\n",
       "\n",
       "    .dataframe thead th {\n",
       "        text-align: right;\n",
       "    }\n",
       "</style>\n",
       "<table border=\"1\" class=\"dataframe\">\n",
       "  <thead>\n",
       "    <tr style=\"text-align: right;\">\n",
       "      <th></th>\n",
       "      <th>Entity</th>\n",
       "      <th>Code</th>\n",
       "      <th>Year</th>\n",
       "      <th>Age-standardized share of cancer deaths attributed to tobacco (%)</th>\n",
       "    </tr>\n",
       "  </thead>\n",
       "  <tbody>\n",
       "    <tr>\n",
       "      <th>0</th>\n",
       "      <td>Afghanistan</td>\n",
       "      <td>AFG</td>\n",
       "      <td>1990</td>\n",
       "      <td>19.3</td>\n",
       "    </tr>\n",
       "    <tr>\n",
       "      <th>1</th>\n",
       "      <td>Afghanistan</td>\n",
       "      <td>AFG</td>\n",
       "      <td>1995</td>\n",
       "      <td>19.1</td>\n",
       "    </tr>\n",
       "    <tr>\n",
       "      <th>2</th>\n",
       "      <td>Afghanistan</td>\n",
       "      <td>AFG</td>\n",
       "      <td>2000</td>\n",
       "      <td>18.6</td>\n",
       "    </tr>\n",
       "    <tr>\n",
       "      <th>3</th>\n",
       "      <td>Afghanistan</td>\n",
       "      <td>AFG</td>\n",
       "      <td>2005</td>\n",
       "      <td>18.9</td>\n",
       "    </tr>\n",
       "    <tr>\n",
       "      <th>4</th>\n",
       "      <td>Afghanistan</td>\n",
       "      <td>AFG</td>\n",
       "      <td>2006</td>\n",
       "      <td>19.0</td>\n",
       "    </tr>\n",
       "  </tbody>\n",
       "</table>\n",
       "</div>"
      ],
      "text/plain": [
       "        Entity Code  Year  \\\n",
       "0  Afghanistan  AFG  1990   \n",
       "1  Afghanistan  AFG  1995   \n",
       "2  Afghanistan  AFG  2000   \n",
       "3  Afghanistan  AFG  2005   \n",
       "4  Afghanistan  AFG  2006   \n",
       "\n",
       "   Age-standardized share of cancer deaths attributed to tobacco (%)  \n",
       "0                                               19.3                  \n",
       "1                                               19.1                  \n",
       "2                                               18.6                  \n",
       "3                                               18.9                  \n",
       "4                                               19.0                  "
      ]
     },
     "execution_count": 13,
     "metadata": {},
     "output_type": "execute_result"
    }
   ],
   "source": [
    "df_taba.head()"
   ]
  },
  {
   "cell_type": "code",
   "execution_count": 14,
   "metadata": {},
   "outputs": [],
   "source": [
    "df1_taba = df_taba.rename(columns={\"Entity\": \"Country\",\"Age-standardized share of cancer deaths attributed to tobacco (%)\":\"Cancer deaths attributed to tobacco (%)\"})"
   ]
  },
  {
   "cell_type": "code",
   "execution_count": 15,
   "metadata": {},
   "outputs": [
    {
     "data": {
      "text/html": [
       "<div>\n",
       "<style scoped>\n",
       "    .dataframe tbody tr th:only-of-type {\n",
       "        vertical-align: middle;\n",
       "    }\n",
       "\n",
       "    .dataframe tbody tr th {\n",
       "        vertical-align: top;\n",
       "    }\n",
       "\n",
       "    .dataframe thead th {\n",
       "        text-align: right;\n",
       "    }\n",
       "</style>\n",
       "<table border=\"1\" class=\"dataframe\">\n",
       "  <thead>\n",
       "    <tr style=\"text-align: right;\">\n",
       "      <th></th>\n",
       "      <th>Country</th>\n",
       "      <th>Code</th>\n",
       "      <th>Year</th>\n",
       "      <th>Cancer deaths attributed to tobacco (%)</th>\n",
       "    </tr>\n",
       "  </thead>\n",
       "  <tbody>\n",
       "    <tr>\n",
       "      <th>0</th>\n",
       "      <td>Afghanistan</td>\n",
       "      <td>AFG</td>\n",
       "      <td>1990</td>\n",
       "      <td>19.3</td>\n",
       "    </tr>\n",
       "    <tr>\n",
       "      <th>1</th>\n",
       "      <td>Afghanistan</td>\n",
       "      <td>AFG</td>\n",
       "      <td>1995</td>\n",
       "      <td>19.1</td>\n",
       "    </tr>\n",
       "    <tr>\n",
       "      <th>2</th>\n",
       "      <td>Afghanistan</td>\n",
       "      <td>AFG</td>\n",
       "      <td>2000</td>\n",
       "      <td>18.6</td>\n",
       "    </tr>\n",
       "    <tr>\n",
       "      <th>3</th>\n",
       "      <td>Afghanistan</td>\n",
       "      <td>AFG</td>\n",
       "      <td>2005</td>\n",
       "      <td>18.9</td>\n",
       "    </tr>\n",
       "    <tr>\n",
       "      <th>4</th>\n",
       "      <td>Afghanistan</td>\n",
       "      <td>AFG</td>\n",
       "      <td>2006</td>\n",
       "      <td>19.0</td>\n",
       "    </tr>\n",
       "  </tbody>\n",
       "</table>\n",
       "</div>"
      ],
      "text/plain": [
       "       Country Code  Year  Cancer deaths attributed to tobacco (%)\n",
       "0  Afghanistan  AFG  1990                                     19.3\n",
       "1  Afghanistan  AFG  1995                                     19.1\n",
       "2  Afghanistan  AFG  2000                                     18.6\n",
       "3  Afghanistan  AFG  2005                                     18.9\n",
       "4  Afghanistan  AFG  2006                                     19.0"
      ]
     },
     "execution_count": 15,
     "metadata": {},
     "output_type": "execute_result"
    }
   ],
   "source": [
    "df1_taba.head()# renamed DataFrame"
   ]
  },
  {
   "cell_type": "code",
   "execution_count": 16,
   "metadata": {},
   "outputs": [],
   "source": [
    "df1_taba = df1_taba.merge(df_continents, on='Code')# merging datasets and use Code for ploting in Plotly"
   ]
  },
  {
   "cell_type": "code",
   "execution_count": 17,
   "metadata": {},
   "outputs": [
    {
     "data": {
      "text/html": [
       "<div>\n",
       "<style scoped>\n",
       "    .dataframe tbody tr th:only-of-type {\n",
       "        vertical-align: middle;\n",
       "    }\n",
       "\n",
       "    .dataframe tbody tr th {\n",
       "        vertical-align: top;\n",
       "    }\n",
       "\n",
       "    .dataframe thead th {\n",
       "        text-align: right;\n",
       "    }\n",
       "</style>\n",
       "<table border=\"1\" class=\"dataframe\">\n",
       "  <thead>\n",
       "    <tr style=\"text-align: right;\">\n",
       "      <th></th>\n",
       "      <th>Country</th>\n",
       "      <th>Code</th>\n",
       "      <th>Year</th>\n",
       "      <th>Cancer deaths attributed to tobacco (%)</th>\n",
       "      <th>Continent_Name</th>\n",
       "    </tr>\n",
       "  </thead>\n",
       "  <tbody>\n",
       "    <tr>\n",
       "      <th>0</th>\n",
       "      <td>Afghanistan</td>\n",
       "      <td>AFG</td>\n",
       "      <td>1990</td>\n",
       "      <td>19.3</td>\n",
       "      <td>Asia</td>\n",
       "    </tr>\n",
       "    <tr>\n",
       "      <th>1</th>\n",
       "      <td>Afghanistan</td>\n",
       "      <td>AFG</td>\n",
       "      <td>1995</td>\n",
       "      <td>19.1</td>\n",
       "      <td>Asia</td>\n",
       "    </tr>\n",
       "    <tr>\n",
       "      <th>2</th>\n",
       "      <td>Afghanistan</td>\n",
       "      <td>AFG</td>\n",
       "      <td>2000</td>\n",
       "      <td>18.6</td>\n",
       "      <td>Asia</td>\n",
       "    </tr>\n",
       "    <tr>\n",
       "      <th>3</th>\n",
       "      <td>Afghanistan</td>\n",
       "      <td>AFG</td>\n",
       "      <td>2005</td>\n",
       "      <td>18.9</td>\n",
       "      <td>Asia</td>\n",
       "    </tr>\n",
       "    <tr>\n",
       "      <th>4</th>\n",
       "      <td>Afghanistan</td>\n",
       "      <td>AFG</td>\n",
       "      <td>2006</td>\n",
       "      <td>19.0</td>\n",
       "      <td>Asia</td>\n",
       "    </tr>\n",
       "  </tbody>\n",
       "</table>\n",
       "</div>"
      ],
      "text/plain": [
       "       Country Code  Year  Cancer deaths attributed to tobacco (%)  \\\n",
       "0  Afghanistan  AFG  1990                                     19.3   \n",
       "1  Afghanistan  AFG  1995                                     19.1   \n",
       "2  Afghanistan  AFG  2000                                     18.6   \n",
       "3  Afghanistan  AFG  2005                                     18.9   \n",
       "4  Afghanistan  AFG  2006                                     19.0   \n",
       "\n",
       "  Continent_Name  \n",
       "0           Asia  \n",
       "1           Asia  \n",
       "2           Asia  \n",
       "3           Asia  \n",
       "4           Asia  "
      ]
     },
     "execution_count": 17,
     "metadata": {},
     "output_type": "execute_result"
    }
   ],
   "source": [
    "df1_taba.head()"
   ]
  },
  {
   "cell_type": "markdown",
   "metadata": {},
   "source": [
    "# Looking at different graphs from original data = df1_taba"
   ]
  },
  {
   "cell_type": "code",
   "execution_count": 18,
   "metadata": {},
   "outputs": [],
   "source": [
    "df2_taba = df1_taba.groupby('Year').mean()"
   ]
  },
  {
   "cell_type": "code",
   "execution_count": 19,
   "metadata": {},
   "outputs": [
    {
     "data": {
      "text/html": [
       "<div>\n",
       "<style scoped>\n",
       "    .dataframe tbody tr th:only-of-type {\n",
       "        vertical-align: middle;\n",
       "    }\n",
       "\n",
       "    .dataframe tbody tr th {\n",
       "        vertical-align: top;\n",
       "    }\n",
       "\n",
       "    .dataframe thead th {\n",
       "        text-align: right;\n",
       "    }\n",
       "</style>\n",
       "<table border=\"1\" class=\"dataframe\">\n",
       "  <thead>\n",
       "    <tr style=\"text-align: right;\">\n",
       "      <th></th>\n",
       "      <th>Cancer deaths attributed to tobacco (%)</th>\n",
       "    </tr>\n",
       "    <tr>\n",
       "      <th>Year</th>\n",
       "      <th></th>\n",
       "    </tr>\n",
       "  </thead>\n",
       "  <tbody>\n",
       "    <tr>\n",
       "      <th>1990</th>\n",
       "      <td>19.297980</td>\n",
       "    </tr>\n",
       "    <tr>\n",
       "      <th>1995</th>\n",
       "      <td>19.312121</td>\n",
       "    </tr>\n",
       "    <tr>\n",
       "      <th>2000</th>\n",
       "      <td>18.798990</td>\n",
       "    </tr>\n",
       "    <tr>\n",
       "      <th>2005</th>\n",
       "      <td>18.735859</td>\n",
       "    </tr>\n",
       "    <tr>\n",
       "      <th>2006</th>\n",
       "      <td>18.718182</td>\n",
       "    </tr>\n",
       "    <tr>\n",
       "      <th>2010</th>\n",
       "      <td>18.594444</td>\n",
       "    </tr>\n",
       "    <tr>\n",
       "      <th>2016</th>\n",
       "      <td>18.143434</td>\n",
       "    </tr>\n",
       "  </tbody>\n",
       "</table>\n",
       "</div>"
      ],
      "text/plain": [
       "      Cancer deaths attributed to tobacco (%)\n",
       "Year                                         \n",
       "1990                                19.297980\n",
       "1995                                19.312121\n",
       "2000                                18.798990\n",
       "2005                                18.735859\n",
       "2006                                18.718182\n",
       "2010                                18.594444\n",
       "2016                                18.143434"
      ]
     },
     "execution_count": 19,
     "metadata": {},
     "output_type": "execute_result"
    }
   ],
   "source": [
    "df2_taba"
   ]
  },
  {
   "cell_type": "code",
   "execution_count": 20,
   "metadata": {},
   "outputs": [],
   "source": [
    "df3_taba = df2_taba.reset_index()"
   ]
  },
  {
   "cell_type": "code",
   "execution_count": 21,
   "metadata": {},
   "outputs": [
    {
     "data": {
      "text/html": [
       "<div>\n",
       "<style scoped>\n",
       "    .dataframe tbody tr th:only-of-type {\n",
       "        vertical-align: middle;\n",
       "    }\n",
       "\n",
       "    .dataframe tbody tr th {\n",
       "        vertical-align: top;\n",
       "    }\n",
       "\n",
       "    .dataframe thead th {\n",
       "        text-align: right;\n",
       "    }\n",
       "</style>\n",
       "<table border=\"1\" class=\"dataframe\">\n",
       "  <thead>\n",
       "    <tr style=\"text-align: right;\">\n",
       "      <th></th>\n",
       "      <th>Year</th>\n",
       "      <th>Cancer deaths attributed to tobacco (%)</th>\n",
       "    </tr>\n",
       "  </thead>\n",
       "  <tbody>\n",
       "    <tr>\n",
       "      <th>0</th>\n",
       "      <td>1990</td>\n",
       "      <td>19.297980</td>\n",
       "    </tr>\n",
       "    <tr>\n",
       "      <th>1</th>\n",
       "      <td>1995</td>\n",
       "      <td>19.312121</td>\n",
       "    </tr>\n",
       "    <tr>\n",
       "      <th>2</th>\n",
       "      <td>2000</td>\n",
       "      <td>18.798990</td>\n",
       "    </tr>\n",
       "    <tr>\n",
       "      <th>3</th>\n",
       "      <td>2005</td>\n",
       "      <td>18.735859</td>\n",
       "    </tr>\n",
       "    <tr>\n",
       "      <th>4</th>\n",
       "      <td>2006</td>\n",
       "      <td>18.718182</td>\n",
       "    </tr>\n",
       "    <tr>\n",
       "      <th>5</th>\n",
       "      <td>2010</td>\n",
       "      <td>18.594444</td>\n",
       "    </tr>\n",
       "    <tr>\n",
       "      <th>6</th>\n",
       "      <td>2016</td>\n",
       "      <td>18.143434</td>\n",
       "    </tr>\n",
       "  </tbody>\n",
       "</table>\n",
       "</div>"
      ],
      "text/plain": [
       "   Year  Cancer deaths attributed to tobacco (%)\n",
       "0  1990                                19.297980\n",
       "1  1995                                19.312121\n",
       "2  2000                                18.798990\n",
       "3  2005                                18.735859\n",
       "4  2006                                18.718182\n",
       "5  2010                                18.594444\n",
       "6  2016                                18.143434"
      ]
     },
     "execution_count": 21,
     "metadata": {},
     "output_type": "execute_result"
    }
   ],
   "source": [
    "df3_taba"
   ]
  },
  {
   "cell_type": "code",
   "execution_count": 22,
   "metadata": {},
   "outputs": [
    {
     "data": {
      "text/html": [
       "<div>\n",
       "<style scoped>\n",
       "    .dataframe tbody tr th:only-of-type {\n",
       "        vertical-align: middle;\n",
       "    }\n",
       "\n",
       "    .dataframe tbody tr th {\n",
       "        vertical-align: top;\n",
       "    }\n",
       "\n",
       "    .dataframe thead th {\n",
       "        text-align: right;\n",
       "    }\n",
       "</style>\n",
       "<table border=\"1\" class=\"dataframe\">\n",
       "  <thead>\n",
       "    <tr style=\"text-align: right;\">\n",
       "      <th></th>\n",
       "      <th>Year</th>\n",
       "      <th>Cancer deaths attributed to tobacco (%)</th>\n",
       "    </tr>\n",
       "  </thead>\n",
       "  <tbody>\n",
       "    <tr>\n",
       "      <th>count</th>\n",
       "      <td>7.000000</td>\n",
       "      <td>7.000000</td>\n",
       "    </tr>\n",
       "    <tr>\n",
       "      <th>mean</th>\n",
       "      <td>2003.142857</td>\n",
       "      <td>18.800144</td>\n",
       "    </tr>\n",
       "    <tr>\n",
       "      <th>std</th>\n",
       "      <td>8.877473</td>\n",
       "      <td>0.407102</td>\n",
       "    </tr>\n",
       "    <tr>\n",
       "      <th>min</th>\n",
       "      <td>1990.000000</td>\n",
       "      <td>18.143434</td>\n",
       "    </tr>\n",
       "    <tr>\n",
       "      <th>25%</th>\n",
       "      <td>1997.500000</td>\n",
       "      <td>18.656313</td>\n",
       "    </tr>\n",
       "    <tr>\n",
       "      <th>50%</th>\n",
       "      <td>2005.000000</td>\n",
       "      <td>18.735859</td>\n",
       "    </tr>\n",
       "    <tr>\n",
       "      <th>75%</th>\n",
       "      <td>2008.000000</td>\n",
       "      <td>19.048485</td>\n",
       "    </tr>\n",
       "    <tr>\n",
       "      <th>max</th>\n",
       "      <td>2016.000000</td>\n",
       "      <td>19.312121</td>\n",
       "    </tr>\n",
       "  </tbody>\n",
       "</table>\n",
       "</div>"
      ],
      "text/plain": [
       "              Year  Cancer deaths attributed to tobacco (%)\n",
       "count     7.000000                                 7.000000\n",
       "mean   2003.142857                                18.800144\n",
       "std       8.877473                                 0.407102\n",
       "min    1990.000000                                18.143434\n",
       "25%    1997.500000                                18.656313\n",
       "50%    2005.000000                                18.735859\n",
       "75%    2008.000000                                19.048485\n",
       "max    2016.000000                                19.312121"
      ]
     },
     "execution_count": 22,
     "metadata": {},
     "output_type": "execute_result"
    }
   ],
   "source": [
    "df3_taba.describe()"
   ]
  },
  {
   "cell_type": "code",
   "execution_count": 23,
   "metadata": {
    "scrolled": true
   },
   "outputs": [
    {
     "data": {
      "text/plain": [
       "<matplotlib.axes._subplots.AxesSubplot at 0x1c1aeceac8>"
      ]
     },
     "execution_count": 23,
     "metadata": {},
     "output_type": "execute_result"
    },
    {
     "data": {
      "image/png": "[encoded data removed]",
      "text/plain": [
       "<Figure size 432x288 with 1 Axes>"
      ]
     },
     "metadata": {
      "needs_background": "light"
     },
     "output_type": "display_data"
    }
   ],
   "source": [
    "df3_taba.plot(x='Year', y=['Cancer deaths attributed to tobacco (%)'], kind=\"bar\")"
   ]
  },
  {
   "cell_type": "code",
   "execution_count": 24,
   "metadata": {},
   "outputs": [
    {
     "data": {
      "application/vnd.plotly.v1+json": {
       "config": {
        "plotlyServerURL": "https://plot.ly"
       },
       "data": [
        {
         "alignmentgroup": "True",
         "hoverlabel": {
          "namelength": 0
         },
         "hovertemplate": "Year=%{x}<br>Cancer deaths attributed to tobacco (%)=%{y}",
         "legendgroup": "",
         "marker": {
          "color": "#636efa"
         },
         "name": "",
         "offsetgroup": "",
         "orientation": "v",
         "showlegend": false,
         "textposition": "auto",
         "type": "bar",
         "x": [
          1990,
          1995,
          2000,
          2005,
          2006,
          2010,
          2016
         ],
         "xaxis": "x",
         "y": [
          19.297979797979806,
          19.312121212121223,
          18.798989898989902,
          18.735858585858573,
          18.718181818181826,
          18.594444444444434,
          18.143434343434343
         ],
         "yaxis": "y"
        }
       ],
       "layout": {
        "barmode": "group",
        "height": 600,
        "legend": {
         "tracegroupgap": 0
        },
        "template": {
         "data": {
          "bar": [
           {
            "error_x": {
             "color": "#2a3f5f"
            },
            "error_y": {
             "color": "#2a3f5f"
            },
            "marker": {
             "line": {
              "color": "#E5ECF6",
              "width": 0.5
             }
            },
            "type": "bar"
           }
          ],
          "barpolar": [
           {
            "marker": {
             "line": {
              "color": "#E5ECF6",
              "width": 0.5
             }
            },
            "type": "barpolar"
           }
          ],
          "carpet": [
           {
            "aaxis": {
             "endlinecolor": "#2a3f5f",
             "gridcolor": "white",
             "linecolor": "white",
             "minorgridcolor": "white",
             "startlinecolor": "#2a3f5f"
            },
            "baxis": {
             "endlinecolor": "#2a3f5f",
             "gridcolor": "white",
             "linecolor": "white",
             "minorgridcolor": "white",
             "startlinecolor": "#2a3f5f"
            },
            "type": "carpet"
           }
          ],
          "choropleth": [
           {
            "colorbar": {
             "outlinewidth": 0,
             "ticks": ""
            },
            "type": "choropleth"
           }
          ],
          "contour": [
           {
            "colorbar": {
             "outlinewidth": 0,
             "ticks": ""
            },
            "colorscale": [
             [
              0,
              "#0d0887"
             ],
             [
              0.1111111111111111,
              "#46039f"
             ],
             [
              0.2222222222222222,
              "#7201a8"
             ],
             [
              0.3333333333333333,
              "#9c179e"
             ],
             [
              0.4444444444444444,
              "#bd3786"
             ],
             [
              0.5555555555555556,
              "#d8576b"
             ],
             [
              0.6666666666666666,
              "#ed7953"
             ],
             [
              0.7777777777777778,
              "#fb9f3a"
             ],
             [
              0.8888888888888888,
              "#fdca26"
             ],
             [
              1,
              "#f0f921"
             ]
            ],
            "type": "contour"
           }
          ],
          "contourcarpet": [
           {
            "colorbar": {
             "outlinewidth": 0,
             "ticks": ""
            },
            "type": "contourcarpet"
           }
          ],
          "heatmap": [
           {
            "colorbar": {
             "outlinewidth": 0,
             "ticks": ""
            },
            "colorscale": [
             [
              0,
              "#0d0887"
             ],
             [
              0.1111111111111111,
              "#46039f"
             ],
             [
              0.2222222222222222,
              "#7201a8"
             ],
             [
              0.3333333333333333,
              "#9c179e"
             ],
             [
              0.4444444444444444,
              "#bd3786"
             ],
             [
              0.5555555555555556,
              "#d8576b"
             ],
             [
              0.6666666666666666,
              "#ed7953"
             ],
             [
              0.7777777777777778,
              "#fb9f3a"
             ],
             [
              0.8888888888888888,
              "#fdca26"
             ],
             [
              1,
              "#f0f921"
             ]
            ],
            "type": "heatmap"
           }
          ],
          "heatmapgl": [
           {
            "colorbar": {
             "outlinewidth": 0,
             "ticks": ""
            },
            "colorscale": [
             [
              0,
              "#0d0887"
             ],
             [
              0.1111111111111111,
              "#46039f"
             ],
             [
              0.2222222222222222,
              "#7201a8"
             ],
             [
              0.3333333333333333,
              "#9c179e"
             ],
             [
              0.4444444444444444,
              "#bd3786"
             ],
             [
              0.5555555555555556,
              "#d8576b"
             ],
             [
              0.6666666666666666,
              "#ed7953"
             ],
             [
              0.7777777777777778,
              "#fb9f3a"
             ],
             [
              0.8888888888888888,
              "#fdca26"
             ],
             [
              1,
              "#f0f921"
             ]
            ],
            "type": "heatmapgl"
           }
          ],
          "histogram": [
           {
            "marker": {
             "colorbar": {
              "outlinewidth": 0,
              "ticks": ""
             }
            },
            "type": "histogram"
           }
          ],
          "histogram2d": [
           {
            "colorbar": {
             "outlinewidth": 0,
             "ticks": ""
            },
            "colorscale": [
             [
              0,
              "#0d0887"
             ],
             [
              0.1111111111111111,
              "#46039f"
             ],
             [
              0.2222222222222222,
              "#7201a8"
             ],
             [
              0.3333333333333333,
              "#9c179e"
             ],
             [
              0.4444444444444444,
              "#bd3786"
             ],
             [
              0.5555555555555556,
              "#d8576b"
             ],
             [
              0.6666666666666666,
              "#ed7953"
             ],
             [
              0.7777777777777778,
              "#fb9f3a"
             ],
             [
              0.8888888888888888,
              "#fdca26"
             ],
             [
              1,
              "#f0f921"
             ]
            ],
            "type": "histogram2d"
           }
          ],
          "histogram2dcontour": [
           {
            "colorbar": {
             "outlinewidth": 0,
             "ticks": ""
            },
            "colorscale": [
             [
              0,
              "#0d0887"
             ],
             [
              0.1111111111111111,
              "#46039f"
             ],
             [
              0.2222222222222222,
              "#7201a8"
             ],
             [
              0.3333333333333333,
              "#9c179e"
             ],
             [
              0.4444444444444444,
              "#bd3786"
             ],
             [
              0.5555555555555556,
              "#d8576b"
             ],
             [
              0.6666666666666666,
              "#ed7953"
             ],
             [
              0.7777777777777778,
              "#fb9f3a"
             ],
             [
              0.8888888888888888,
              "#fdca26"
             ],
             [
              1,
              "#f0f921"
             ]
            ],
            "type": "histogram2dcontour"
           }
          ],
          "mesh3d": [
           {
            "colorbar": {
             "outlinewidth": 0,
             "ticks": ""
            },
            "type": "mesh3d"
           }
          ],
          "parcoords": [
           {
            "line": {
             "colorbar": {
              "outlinewidth": 0,
              "ticks": ""
             }
            },
            "type": "parcoords"
           }
          ],
          "pie": [
           {
            "automargin": true,
            "type": "pie"
           }
          ],
          "scatter": [
           {
            "marker": {
             "colorbar": {
              "outlinewidth": 0,
              "ticks": ""
             }
            },
            "type": "scatter"
           }
          ],
          "scatter3d": [
           {
            "line": {
             "colorbar": {
              "outlinewidth": 0,
              "ticks": ""
             }
            },
            "marker": {
             "colorbar": {
              "outlinewidth": 0,
              "ticks": ""
             }
            },
            "type": "scatter3d"
           }
          ],
          "scattercarpet": [
           {
            "marker": {
             "colorbar": {
              "outlinewidth": 0,
              "ticks": ""
             }
            },
            "type": "scattercarpet"
           }
          ],
          "scattergeo": [
           {
            "marker": {
             "colorbar": {
              "outlinewidth": 0,
              "ticks": ""
             }
            },
            "type": "scattergeo"
           }
          ],
          "scattergl": [
           {
            "marker": {
             "colorbar": {
              "outlinewidth": 0,
              "ticks": ""
             }
            },
            "type": "scattergl"
           }
          ],
          "scattermapbox": [
           {
            "marker": {
             "colorbar": {
              "outlinewidth": 0,
              "ticks": ""
             }
            },
            "type": "scattermapbox"
           }
          ],
          "scatterpolar": [
           {
            "marker": {
             "colorbar": {
              "outlinewidth": 0,
              "ticks": ""
             }
            },
            "type": "scatterpolar"
           }
          ],
          "scatterpolargl": [
           {
            "marker": {
             "colorbar": {
              "outlinewidth": 0,
              "ticks": ""
             }
            },
            "type": "scatterpolargl"
           }
          ],
          "scatterternary": [
           {
            "marker": {
             "colorbar": {
              "outlinewidth": 0,
              "ticks": ""
             }
            },
            "type": "scatterternary"
           }
          ],
          "surface": [
           {
            "colorbar": {
             "outlinewidth": 0,
             "ticks": ""
            },
            "colorscale": [
             [
              0,
              "#0d0887"
             ],
             [
              0.1111111111111111,
              "#46039f"
             ],
             [
              0.2222222222222222,
              "#7201a8"
             ],
             [
              0.3333333333333333,
              "#9c179e"
             ],
             [
              0.4444444444444444,
              "#bd3786"
             ],
             [
              0.5555555555555556,
              "#d8576b"
             ],
             [
              0.6666666666666666,
              "#ed7953"
             ],
             [
              0.7777777777777778,
              "#fb9f3a"
             ],
             [
              0.8888888888888888,
              "#fdca26"
             ],
             [
              1,
              "#f0f921"
             ]
            ],
            "type": "surface"
           }
          ],
          "table": [
           {
            "cells": {
             "fill": {
              "color": "#EBF0F8"
             },
             "line": {
              "color": "white"
             }
            },
            "header": {
             "fill": {
              "color": "#C8D4E3"
             },
             "line": {
              "color": "white"
             }
            },
            "type": "table"
           }
          ]
         },
         "layout": {
          "annotationdefaults": {
           "arrowcolor": "#2a3f5f",
           "arrowhead": 0,
           "arrowwidth": 1
          },
          "coloraxis": {
           "colorbar": {
            "outlinewidth": 0,
            "ticks": ""
           }
          },
          "colorscale": {
           "diverging": [
            [
             0,
             "#8e0152"
            ],
            [
             0.1,
             "#c51b7d"
            ],
            [
             0.2,
             "#de77ae"
            ],
            [
             0.3,
             "#f1b6da"
            ],
            [
             0.4,
             "#fde0ef"
            ],
            [
             0.5,
             "#f7f7f7"
            ],
            [
             0.6,
             "#e6f5d0"
            ],
            [
             0.7,
             "#b8e186"
            ],
            [
             0.8,
             "#7fbc41"
            ],
            [
             0.9,
             "#4d9221"
            ],
            [
             1,
             "#276419"
            ]
           ],
           "sequential": [
            [
             0,
             "#0d0887"
            ],
            [
             0.1111111111111111,
             "#46039f"
            ],
            [
             0.2222222222222222,
             "#7201a8"
            ],
            [
             0.3333333333333333,
             "#9c179e"
            ],
            [
             0.4444444444444444,
             "#bd3786"
            ],
            [
             0.5555555555555556,
             "#d8576b"
            ],
            [
             0.6666666666666666,
             "#ed7953"
            ],
            [
             0.7777777777777778,
             "#fb9f3a"
            ],
            [
             0.8888888888888888,
             "#fdca26"
            ],
            [
             1,
             "#f0f921"
            ]
           ],
           "sequentialminus": [
            [
             0,
             "#0d0887"
            ],
            [
             0.1111111111111111,
             "#46039f"
            ],
            [
             0.2222222222222222,
             "#7201a8"
            ],
            [
             0.3333333333333333,
             "#9c179e"
            ],
            [
             0.4444444444444444,
             "#bd3786"
            ],
            [
             0.5555555555555556,
             "#d8576b"
            ],
            [
             0.6666666666666666,
             "#ed7953"
            ],
            [
             0.7777777777777778,
             "#fb9f3a"
            ],
            [
             0.8888888888888888,
             "#fdca26"
            ],
            [
             1,
             "#f0f921"
            ]
           ]
          },
          "colorway": [
           "#636efa",
           "#EF553B",
           "#00cc96",
           "#ab63fa",
           "#FFA15A",
           "#19d3f3",
           "#FF6692",
           "#B6E880",
           "#FF97FF",
           "#FECB52"
          ],
          "font": {
           "color": "#2a3f5f"
          },
          "geo": {
           "bgcolor": "white",
           "lakecolor": "white",
           "landcolor": "#E5ECF6",
           "showlakes": true,
           "showland": true,
           "subunitcolor": "white"
          },
          "hoverlabel": {
           "align": "left"
          },
          "hovermode": "closest",
          "mapbox": {
           "style": "light"
          },
          "paper_bgcolor": "white",
          "plot_bgcolor": "#E5ECF6",
          "polar": {
           "angularaxis": {
            "gridcolor": "white",
            "linecolor": "white",
            "ticks": ""
           },
           "bgcolor": "#E5ECF6",
           "radialaxis": {
            "gridcolor": "white",
            "linecolor": "white",
            "ticks": ""
           }
          },
          "scene": {
           "xaxis": {
            "backgroundcolor": "#E5ECF6",
            "gridcolor": "white",
            "gridwidth": 2,
            "linecolor": "white",
            "showbackground": true,
            "ticks": "",
            "zerolinecolor": "white"
           },
           "yaxis": {
            "backgroundcolor": "#E5ECF6",
            "gridcolor": "white",
            "gridwidth": 2,
            "linecolor": "white",
            "showbackground": true,
            "ticks": "",
            "zerolinecolor": "white"
           },
           "zaxis": {
            "backgroundcolor": "#E5ECF6",
            "gridcolor": "white",
            "gridwidth": 2,
            "linecolor": "white",
            "showbackground": true,
            "ticks": "",
            "zerolinecolor": "white"
           }
          },
          "shapedefaults": {
           "line": {
            "color": "#2a3f5f"
           }
          },
          "ternary": {
           "aaxis": {
            "gridcolor": "white",
            "linecolor": "white",
            "ticks": ""
           },
           "baxis": {
            "gridcolor": "white",
            "linecolor": "white",
            "ticks": ""
           },
           "bgcolor": "#E5ECF6",
           "caxis": {
            "gridcolor": "white",
            "linecolor": "white",
            "ticks": ""
           }
          },
          "title": {
           "x": 0.05
          },
          "xaxis": {
           "automargin": true,
           "gridcolor": "white",
           "linecolor": "white",
           "ticks": "",
           "title": {
            "standoff": 15
           },
           "zerolinecolor": "white",
           "zerolinewidth": 2
          },
          "yaxis": {
           "automargin": true,
           "gridcolor": "white",
           "linecolor": "white",
           "ticks": "",
           "title": {
            "standoff": 15
           },
           "zerolinecolor": "white",
           "zerolinewidth": 2
          }
         }
        },
        "title": {
         "text": "Evolution of the proportion (%) of Lung Cancer"
        },
        "xaxis": {
         "anchor": "y",
         "domain": [
          0,
          1
         ],
         "title": {
          "text": "Year"
         }
        },
        "yaxis": {
         "anchor": "x",
         "domain": [
          0,
          1
         ],
         "title": {
          "text": "Cancer deaths attributed to tobacco (%)"
         }
        }
       }
      },
      "text/html": [
       "<div>\n",
       "        \n",
       "        \n",
       "            <div id=\"ee0a10d4-9943-481a-a85e-9ee751db4a5f\" class=\"plotly-graph-div\" style=\"height:600px; width:100%;\"></div>\n",
       "            <script type=\"text/javascript\">\n",
       "                require([\"plotly\"], function(Plotly) {\n",
       "                    window.PLOTLYENV=window.PLOTLYENV || {};\n",
       "                    \n",
       "                if (document.getElementById(\"ee0a10d4-9943-481a-a85e-9ee751db4a5f\")) {\n",
       "                    Plotly.newPlot(\n",
       "                        'ee0a10d4-9943-481a-a85e-9ee751db4a5f',\n",
       "                        [{\"alignmentgroup\": \"True\", \"hoverlabel\": {\"namelength\": 0}, \"hovertemplate\": \"Year=%{x}<br>Cancer deaths attributed to tobacco (%)=%{y}\", \"legendgroup\": \"\", \"marker\": {\"color\": \"#636efa\"}, \"name\": \"\", \"offsetgroup\": \"\", \"orientation\": \"v\", \"showlegend\": false, \"textposition\": \"auto\", \"type\": \"bar\", \"x\": [1990, 1995, 2000, 2005, 2006, 2010, 2016], \"xaxis\": \"x\", \"y\": [19.297979797979806, 19.312121212121223, 18.798989898989902, 18.735858585858573, 18.718181818181826, 18.594444444444434, 18.143434343434343], \"yaxis\": \"y\"}],\n",
       "                        {\"barmode\": \"group\", \"height\": 600, \"legend\": {\"tracegroupgap\": 0}, \"template\": {\"data\": {\"bar\": [{\"error_x\": {\"color\": \"#2a3f5f\"}, \"error_y\": {\"color\": \"#2a3f5f\"}, \"marker\": {\"line\": {\"color\": \"#E5ECF6\", \"width\": 0.5}}, \"type\": \"bar\"}], \"barpolar\": [{\"marker\": {\"line\": {\"color\": \"#E5ECF6\", \"width\": 0.5}}, \"type\": \"barpolar\"}], \"carpet\": [{\"aaxis\": {\"endlinecolor\": \"#2a3f5f\", \"gridcolor\": \"white\", \"linecolor\": \"white\", \"minorgridcolor\": \"white\", \"startlinecolor\": \"#2a3f5f\"}, \"baxis\": {\"endlinecolor\": \"#2a3f5f\", \"gridcolor\": \"white\", \"linecolor\": \"white\", \"minorgridcolor\": \"white\", \"startlinecolor\": \"#2a3f5f\"}, \"type\": \"carpet\"}], \"choropleth\": [{\"colorbar\": {\"outlinewidth\": 0, \"ticks\": \"\"}, \"type\": \"choropleth\"}], \"contour\": [{\"colorbar\": {\"outlinewidth\": 0, \"ticks\": \"\"}, \"colorscale\": [[0.0, \"#0d0887\"], [0.1111111111111111, \"#46039f\"], [0.2222222222222222, \"#7201a8\"], [0.3333333333333333, \"#9c179e\"], [0.4444444444444444, \"#bd3786\"], [0.5555555555555556, \"#d8576b\"], [0.6666666666666666, \"#ed7953\"], [0.7777777777777778, \"#fb9f3a\"], [0.8888888888888888, \"#fdca26\"], [1.0, \"#f0f921\"]], \"type\": \"contour\"}], \"contourcarpet\": [{\"colorbar\": {\"outlinewidth\": 0, \"ticks\": \"\"}, \"type\": \"contourcarpet\"}], \"heatmap\": [{\"colorbar\": {\"outlinewidth\": 0, \"ticks\": \"\"}, \"colorscale\": [[0.0, \"#0d0887\"], [0.1111111111111111, \"#46039f\"], [0.2222222222222222, \"#7201a8\"], [0.3333333333333333, \"#9c179e\"], [0.4444444444444444, \"#bd3786\"], [0.5555555555555556, \"#d8576b\"], [0.6666666666666666, \"#ed7953\"], [0.7777777777777778, \"#fb9f3a\"], [0.8888888888888888, \"#fdca26\"], [1.0, \"#f0f921\"]], \"type\": \"heatmap\"}], \"heatmapgl\": [{\"colorbar\": {\"outlinewidth\": 0, \"ticks\": \"\"}, \"colorscale\": [[0.0, \"#0d0887\"], [0.1111111111111111, \"#46039f\"], [0.2222222222222222, \"#7201a8\"], [0.3333333333333333, \"#9c179e\"], [0.4444444444444444, \"#bd3786\"], [0.5555555555555556, \"#d8576b\"], [0.6666666666666666, \"#ed7953\"], [0.7777777777777778, \"#fb9f3a\"], [0.8888888888888888, \"#fdca26\"], [1.0, \"#f0f921\"]], \"type\": \"heatmapgl\"}], \"histogram\": [{\"marker\": {\"colorbar\": {\"outlinewidth\": 0, \"ticks\": \"\"}}, \"type\": \"histogram\"}], \"histogram2d\": [{\"colorbar\": {\"outlinewidth\": 0, \"ticks\": \"\"}, \"colorscale\": [[0.0, \"#0d0887\"], [0.1111111111111111, \"#46039f\"], [0.2222222222222222, \"#7201a8\"], [0.3333333333333333, \"#9c179e\"], [0.4444444444444444, \"#bd3786\"], [0.5555555555555556, \"#d8576b\"], [0.6666666666666666, \"#ed7953\"], [0.7777777777777778, \"#fb9f3a\"], [0.8888888888888888, \"#fdca26\"], [1.0, \"#f0f921\"]], \"type\": \"histogram2d\"}], \"histogram2dcontour\": [{\"colorbar\": {\"outlinewidth\": 0, \"ticks\": \"\"}, \"colorscale\": [[0.0, \"#0d0887\"], [0.1111111111111111, \"#46039f\"], [0.2222222222222222, \"#7201a8\"], [0.3333333333333333, \"#9c179e\"], [0.4444444444444444, \"#bd3786\"], [0.5555555555555556, \"#d8576b\"], [0.6666666666666666, \"#ed7953\"], [0.7777777777777778, \"#fb9f3a\"], [0.8888888888888888, \"#fdca26\"], [1.0, \"#f0f921\"]], \"type\": \"histogram2dcontour\"}], \"mesh3d\": [{\"colorbar\": {\"outlinewidth\": 0, \"ticks\": \"\"}, \"type\": \"mesh3d\"}], \"parcoords\": [{\"line\": {\"colorbar\": {\"outlinewidth\": 0, \"ticks\": \"\"}}, \"type\": \"parcoords\"}], \"pie\": [{\"automargin\": true, \"type\": \"pie\"}], \"scatter\": [{\"marker\": {\"colorbar\": {\"outlinewidth\": 0, \"ticks\": \"\"}}, \"type\": \"scatter\"}], \"scatter3d\": [{\"line\": {\"colorbar\": {\"outlinewidth\": 0, \"ticks\": \"\"}}, \"marker\": {\"colorbar\": {\"outlinewidth\": 0, \"ticks\": \"\"}}, \"type\": \"scatter3d\"}], \"scattercarpet\": [{\"marker\": {\"colorbar\": {\"outlinewidth\": 0, \"ticks\": \"\"}}, \"type\": \"scattercarpet\"}], \"scattergeo\": [{\"marker\": {\"colorbar\": {\"outlinewidth\": 0, \"ticks\": \"\"}}, \"type\": \"scattergeo\"}], \"scattergl\": [{\"marker\": {\"colorbar\": {\"outlinewidth\": 0, \"ticks\": \"\"}}, \"type\": \"scattergl\"}], \"scattermapbox\": [{\"marker\": {\"colorbar\": {\"outlinewidth\": 0, \"ticks\": \"\"}}, \"type\": \"scattermapbox\"}], \"scatterpolar\": [{\"marker\": {\"colorbar\": {\"outlinewidth\": 0, \"ticks\": \"\"}}, \"type\": \"scatterpolar\"}], \"scatterpolargl\": [{\"marker\": {\"colorbar\": {\"outlinewidth\": 0, \"ticks\": \"\"}}, \"type\": \"scatterpolargl\"}], \"scatterternary\": [{\"marker\": {\"colorbar\": {\"outlinewidth\": 0, \"ticks\": \"\"}}, \"type\": \"scatterternary\"}], \"surface\": [{\"colorbar\": {\"outlinewidth\": 0, \"ticks\": \"\"}, \"colorscale\": [[0.0, \"#0d0887\"], [0.1111111111111111, \"#46039f\"], [0.2222222222222222, \"#7201a8\"], [0.3333333333333333, \"#9c179e\"], [0.4444444444444444, \"#bd3786\"], [0.5555555555555556, \"#d8576b\"], [0.6666666666666666, \"#ed7953\"], [0.7777777777777778, \"#fb9f3a\"], [0.8888888888888888, \"#fdca26\"], [1.0, \"#f0f921\"]], \"type\": \"surface\"}], \"table\": [{\"cells\": {\"fill\": {\"color\": \"#EBF0F8\"}, \"line\": {\"color\": \"white\"}}, \"header\": {\"fill\": {\"color\": \"#C8D4E3\"}, \"line\": {\"color\": \"white\"}}, \"type\": \"table\"}]}, \"layout\": {\"annotationdefaults\": {\"arrowcolor\": \"#2a3f5f\", \"arrowhead\": 0, \"arrowwidth\": 1}, \"coloraxis\": {\"colorbar\": {\"outlinewidth\": 0, \"ticks\": \"\"}}, \"colorscale\": {\"diverging\": [[0, \"#8e0152\"], [0.1, \"#c51b7d\"], [0.2, \"#de77ae\"], [0.3, \"#f1b6da\"], [0.4, \"#fde0ef\"], [0.5, \"#f7f7f7\"], [0.6, \"#e6f5d0\"], [0.7, \"#b8e186\"], [0.8, \"#7fbc41\"], [0.9, \"#4d9221\"], [1, \"#276419\"]], \"sequential\": [[0.0, \"#0d0887\"], [0.1111111111111111, \"#46039f\"], [0.2222222222222222, \"#7201a8\"], [0.3333333333333333, \"#9c179e\"], [0.4444444444444444, \"#bd3786\"], [0.5555555555555556, \"#d8576b\"], [0.6666666666666666, \"#ed7953\"], [0.7777777777777778, \"#fb9f3a\"], [0.8888888888888888, \"#fdca26\"], [1.0, \"#f0f921\"]], \"sequentialminus\": [[0.0, \"#0d0887\"], [0.1111111111111111, \"#46039f\"], [0.2222222222222222, \"#7201a8\"], [0.3333333333333333, \"#9c179e\"], [0.4444444444444444, \"#bd3786\"], [0.5555555555555556, \"#d8576b\"], [0.6666666666666666, \"#ed7953\"], [0.7777777777777778, \"#fb9f3a\"], [0.8888888888888888, \"#fdca26\"], [1.0, \"#f0f921\"]]}, \"colorway\": [\"#636efa\", \"#EF553B\", \"#00cc96\", \"#ab63fa\", \"#FFA15A\", \"#19d3f3\", \"#FF6692\", \"#B6E880\", \"#FF97FF\", \"#FECB52\"], \"font\": {\"color\": \"#2a3f5f\"}, \"geo\": {\"bgcolor\": \"white\", \"lakecolor\": \"white\", \"landcolor\": \"#E5ECF6\", \"showlakes\": true, \"showland\": true, \"subunitcolor\": \"white\"}, \"hoverlabel\": {\"align\": \"left\"}, \"hovermode\": \"closest\", \"mapbox\": {\"style\": \"light\"}, \"paper_bgcolor\": \"white\", \"plot_bgcolor\": \"#E5ECF6\", \"polar\": {\"angularaxis\": {\"gridcolor\": \"white\", \"linecolor\": \"white\", \"ticks\": \"\"}, \"bgcolor\": \"#E5ECF6\", \"radialaxis\": {\"gridcolor\": \"white\", \"linecolor\": \"white\", \"ticks\": \"\"}}, \"scene\": {\"xaxis\": {\"backgroundcolor\": \"#E5ECF6\", \"gridcolor\": \"white\", \"gridwidth\": 2, \"linecolor\": \"white\", \"showbackground\": true, \"ticks\": \"\", \"zerolinecolor\": \"white\"}, \"yaxis\": {\"backgroundcolor\": \"#E5ECF6\", \"gridcolor\": \"white\", \"gridwidth\": 2, \"linecolor\": \"white\", \"showbackground\": true, \"ticks\": \"\", \"zerolinecolor\": \"white\"}, \"zaxis\": {\"backgroundcolor\": \"#E5ECF6\", \"gridcolor\": \"white\", \"gridwidth\": 2, \"linecolor\": \"white\", \"showbackground\": true, \"ticks\": \"\", \"zerolinecolor\": \"white\"}}, \"shapedefaults\": {\"line\": {\"color\": \"#2a3f5f\"}}, \"ternary\": {\"aaxis\": {\"gridcolor\": \"white\", \"linecolor\": \"white\", \"ticks\": \"\"}, \"baxis\": {\"gridcolor\": \"white\", \"linecolor\": \"white\", \"ticks\": \"\"}, \"bgcolor\": \"#E5ECF6\", \"caxis\": {\"gridcolor\": \"white\", \"linecolor\": \"white\", \"ticks\": \"\"}}, \"title\": {\"x\": 0.05}, \"xaxis\": {\"automargin\": true, \"gridcolor\": \"white\", \"linecolor\": \"white\", \"ticks\": \"\", \"title\": {\"standoff\": 15}, \"zerolinecolor\": \"white\", \"zerolinewidth\": 2}, \"yaxis\": {\"automargin\": true, \"gridcolor\": \"white\", \"linecolor\": \"white\", \"ticks\": \"\", \"title\": {\"standoff\": 15}, \"zerolinecolor\": \"white\", \"zerolinewidth\": 2}}}, \"title\": {\"text\": \"Evolution of the proportion (%) of Lung Cancer\"}, \"xaxis\": {\"anchor\": \"y\", \"domain\": [0.0, 1.0], \"title\": {\"text\": \"Year\"}}, \"yaxis\": {\"anchor\": \"x\", \"domain\": [0.0, 1.0], \"title\": {\"text\": \"Cancer deaths attributed to tobacco (%)\"}}},\n",
       "                        {\"responsive\": true}\n",
       "                    ).then(function(){\n",
       "                            \n",
       "var gd = document.getElementById('ee0a10d4-9943-481a-a85e-9ee751db4a5f');\n",
       "var x = new MutationObserver(function (mutations, observer) {{\n",
       "        var display = window.getComputedStyle(gd).display;\n",
       "        if (!display || display === 'none') {{\n",
       "            console.log([gd, 'removed!']);\n",
       "            Plotly.purge(gd);\n",
       "            observer.disconnect();\n",
       "        }}\n",
       "}});\n",
       "\n",
       "// Listen for the removal of the full notebook cells\n",
       "var notebookContainer = gd.closest('#notebook-container');\n",
       "if (notebookContainer) {{\n",
       "    x.observe(notebookContainer, {childList: true});\n",
       "}}\n",
       "\n",
       "// Listen for the clearing of the current output cell\n",
       "var outputEl = gd.closest('.output');\n",
       "if (outputEl) {{\n",
       "    x.observe(outputEl, {childList: true});\n",
       "}}\n",
       "\n",
       "                        })\n",
       "                };\n",
       "                });\n",
       "            </script>\n",
       "        </div>"
      ]
     },
     "metadata": {},
     "output_type": "display_data"
    }
   ],
   "source": [
    "fig = px.bar(df3_taba, x=\"Year\", y=\"Cancer deaths attributed to tobacco (%)\",barmode=\"group\",title=\"Evolution of the proportion (%) of Lung Cancer\")\n",
    "fig.show()"
   ]
  },
  {
   "cell_type": "code",
   "execution_count": 25,
   "metadata": {},
   "outputs": [
    {
     "data": {
      "application/vnd.plotly.v1+json": {
       "config": {
        "plotlyServerURL": "https://plot.ly"
       },
       "data": [
        {
         "hoverlabel": {
          "namelength": 0
         },
         "hovertemplate": "Year=%{x}<br>Cancer deaths attributed to tobacco (%)=%{y}",
         "legendgroup": "",
         "line": {
          "color": "#636efa",
          "dash": "solid"
         },
         "mode": "lines",
         "name": "",
         "showlegend": false,
         "type": "scatter",
         "x": [
          1990,
          1995,
          2000,
          2005,
          2006,
          2010,
          2016
         ],
         "xaxis": "x",
         "y": [
          19.297979797979806,
          19.312121212121223,
          18.798989898989902,
          18.735858585858573,
          18.718181818181826,
          18.594444444444434,
          18.143434343434343
         ],
         "yaxis": "y"
        }
       ],
       "layout": {
        "height": 600,
        "legend": {
         "tracegroupgap": 0
        },
        "template": {
         "data": {
          "bar": [
           {
            "error_x": {
             "color": "#2a3f5f"
            },
            "error_y": {
             "color": "#2a3f5f"
            },
            "marker": {
             "line": {
              "color": "#E5ECF6",
              "width": 0.5
             }
            },
            "type": "bar"
           }
          ],
          "barpolar": [
           {
            "marker": {
             "line": {
              "color": "#E5ECF6",
              "width": 0.5
             }
            },
            "type": "barpolar"
           }
          ],
          "carpet": [
           {
            "aaxis": {
             "endlinecolor": "#2a3f5f",
             "gridcolor": "white",
             "linecolor": "white",
             "minorgridcolor": "white",
             "startlinecolor": "#2a3f5f"
            },
            "baxis": {
             "endlinecolor": "#2a3f5f",
             "gridcolor": "white",
             "linecolor": "white",
             "minorgridcolor": "white",
             "startlinecolor": "#2a3f5f"
            },
            "type": "carpet"
           }
          ],
          "choropleth": [
           {
            "colorbar": {
             "outlinewidth": 0,
             "ticks": ""
            },
            "type": "choropleth"
           }
          ],
          "contour": [
           {
            "colorbar": {
             "outlinewidth": 0,
             "ticks": ""
            },
            "colorscale": [
             [
              0,
              "#0d0887"
             ],
             [
              0.1111111111111111,
              "#46039f"
             ],
             [
              0.2222222222222222,
              "#7201a8"
             ],
             [
              0.3333333333333333,
              "#9c179e"
             ],
             [
              0.4444444444444444,
              "#bd3786"
             ],
             [
              0.5555555555555556,
              "#d8576b"
             ],
             [
              0.6666666666666666,
              "#ed7953"
             ],
             [
              0.7777777777777778,
              "#fb9f3a"
             ],
             [
              0.8888888888888888,
              "#fdca26"
             ],
             [
              1,
              "#f0f921"
             ]
            ],
            "type": "contour"
           }
          ],
          "contourcarpet": [
           {
            "colorbar": {
             "outlinewidth": 0,
             "ticks": ""
            },
            "type": "contourcarpet"
           }
          ],
          "heatmap": [
           {
            "colorbar": {
             "outlinewidth": 0,
             "ticks": ""
            },
            "colorscale": [
             [
              0,
              "#0d0887"
             ],
             [
              0.1111111111111111,
              "#46039f"
             ],
             [
              0.2222222222222222,
              "#7201a8"
             ],
             [
              0.3333333333333333,
              "#9c179e"
             ],
             [
              0.4444444444444444,
              "#bd3786"
             ],
             [
              0.5555555555555556,
              "#d8576b"
             ],
             [
              0.6666666666666666,
              "#ed7953"
             ],
             [
              0.7777777777777778,
              "#fb9f3a"
             ],
             [
              0.8888888888888888,
              "#fdca26"
             ],
             [
              1,
              "#f0f921"
             ]
            ],
            "type": "heatmap"
           }
          ],
          "heatmapgl": [
           {
            "colorbar": {
             "outlinewidth": 0,
             "ticks": ""
            },
            "colorscale": [
             [
              0,
              "#0d0887"
             ],
             [
              0.1111111111111111,
              "#46039f"
             ],
             [
              0.2222222222222222,
              "#7201a8"
             ],
             [
              0.3333333333333333,
              "#9c179e"
             ],
             [
              0.4444444444444444,
              "#bd3786"
             ],
             [
              0.5555555555555556,
              "#d8576b"
             ],
             [
              0.6666666666666666,
              "#ed7953"
             ],
             [
              0.7777777777777778,
              "#fb9f3a"
             ],
             [
              0.8888888888888888,
              "#fdca26"
             ],
             [
              1,
              "#f0f921"
             ]
            ],
            "type": "heatmapgl"
           }
          ],
          "histogram": [
           {
            "marker": {
             "colorbar": {
              "outlinewidth": 0,
              "ticks": ""
             }
            },
            "type": "histogram"
           }
          ],
          "histogram2d": [
           {
            "colorbar": {
             "outlinewidth": 0,
             "ticks": ""
            },
            "colorscale": [
             [
              0,
              "#0d0887"
             ],
             [
              0.1111111111111111,
              "#46039f"
             ],
             [
              0.2222222222222222,
              "#7201a8"
             ],
             [
              0.3333333333333333,
              "#9c179e"
             ],
             [
              0.4444444444444444,
              "#bd3786"
             ],
             [
              0.5555555555555556,
              "#d8576b"
             ],
             [
              0.6666666666666666,
              "#ed7953"
             ],
             [
              0.7777777777777778,
              "#fb9f3a"
             ],
             [
              0.8888888888888888,
              "#fdca26"
             ],
             [
              1,
              "#f0f921"
             ]
            ],
            "type": "histogram2d"
           }
          ],
          "histogram2dcontour": [
           {
            "colorbar": {
             "outlinewidth": 0,
             "ticks": ""
            },
            "colorscale": [
             [
              0,
              "#0d0887"
             ],
             [
              0.1111111111111111,
              "#46039f"
             ],
             [
              0.2222222222222222,
              "#7201a8"
             ],
             [
              0.3333333333333333,
              "#9c179e"
             ],
             [
              0.4444444444444444,
              "#bd3786"
             ],
             [
              0.5555555555555556,
              "#d8576b"
             ],
             [
              0.6666666666666666,
              "#ed7953"
             ],
             [
              0.7777777777777778,
              "#fb9f3a"
             ],
             [
              0.8888888888888888,
              "#fdca26"
             ],
             [
              1,
              "#f0f921"
             ]
            ],
            "type": "histogram2dcontour"
           }
          ],
          "mesh3d": [
           {
            "colorbar": {
             "outlinewidth": 0,
             "ticks": ""
            },
            "type": "mesh3d"
           }
          ],
          "parcoords": [
           {
            "line": {
             "colorbar": {
              "outlinewidth": 0,
              "ticks": ""
             }
            },
            "type": "parcoords"
           }
          ],
          "pie": [
           {
            "automargin": true,
            "type": "pie"
           }
          ],
          "scatter": [
           {
            "marker": {
             "colorbar": {
              "outlinewidth": 0,
              "ticks": ""
             }
            },
            "type": "scatter"
           }
          ],
          "scatter3d": [
           {
            "line": {
             "colorbar": {
              "outlinewidth": 0,
              "ticks": ""
             }
            },
            "marker": {
             "colorbar": {
              "outlinewidth": 0,
              "ticks": ""
             }
            },
            "type": "scatter3d"
           }
          ],
          "scattercarpet": [
           {
            "marker": {
             "colorbar": {
              "outlinewidth": 0,
              "ticks": ""
             }
            },
            "type": "scattercarpet"
           }
          ],
          "scattergeo": [
           {
            "marker": {
             "colorbar": {
              "outlinewidth": 0,
              "ticks": ""
             }
            },
            "type": "scattergeo"
           }
          ],
          "scattergl": [
           {
            "marker": {
             "colorbar": {
              "outlinewidth": 0,
              "ticks": ""
             }
            },
            "type": "scattergl"
           }
          ],
          "scattermapbox": [
           {
            "marker": {
             "colorbar": {
              "outlinewidth": 0,
              "ticks": ""
             }
            },
            "type": "scattermapbox"
           }
          ],
          "scatterpolar": [
           {
            "marker": {
             "colorbar": {
              "outlinewidth": 0,
              "ticks": ""
             }
            },
            "type": "scatterpolar"
           }
          ],
          "scatterpolargl": [
           {
            "marker": {
             "colorbar": {
              "outlinewidth": 0,
              "ticks": ""
             }
            },
            "type": "scatterpolargl"
           }
          ],
          "scatterternary": [
           {
            "marker": {
             "colorbar": {
              "outlinewidth": 0,
              "ticks": ""
             }
            },
            "type": "scatterternary"
           }
          ],
          "surface": [
           {
            "colorbar": {
             "outlinewidth": 0,
             "ticks": ""
            },
            "colorscale": [
             [
              0,
              "#0d0887"
             ],
             [
              0.1111111111111111,
              "#46039f"
             ],
             [
              0.2222222222222222,
              "#7201a8"
             ],
             [
              0.3333333333333333,
              "#9c179e"
             ],
             [
              0.4444444444444444,
              "#bd3786"
             ],
             [
              0.5555555555555556,
              "#d8576b"
             ],
             [
              0.6666666666666666,
              "#ed7953"
             ],
             [
              0.7777777777777778,
              "#fb9f3a"
             ],
             [
              0.8888888888888888,
              "#fdca26"
             ],
             [
              1,
              "#f0f921"
             ]
            ],
            "type": "surface"
           }
          ],
          "table": [
           {
            "cells": {
             "fill": {
              "color": "#EBF0F8"
             },
             "line": {
              "color": "white"
             }
            },
            "header": {
             "fill": {
              "color": "#C8D4E3"
             },
             "line": {
              "color": "white"
             }
            },
            "type": "table"
           }
          ]
         },
         "layout": {
          "annotationdefaults": {
           "arrowcolor": "#2a3f5f",
           "arrowhead": 0,
           "arrowwidth": 1
          },
          "coloraxis": {
           "colorbar": {
            "outlinewidth": 0,
            "ticks": ""
           }
          },
          "colorscale": {
           "diverging": [
            [
             0,
             "#8e0152"
            ],
            [
             0.1,
             "#c51b7d"
            ],
            [
             0.2,
             "#de77ae"
            ],
            [
             0.3,
             "#f1b6da"
            ],
            [
             0.4,
             "#fde0ef"
            ],
            [
             0.5,
             "#f7f7f7"
            ],
            [
             0.6,
             "#e6f5d0"
            ],
            [
             0.7,
             "#b8e186"
            ],
            [
             0.8,
             "#7fbc41"
            ],
            [
             0.9,
             "#4d9221"
            ],
            [
             1,
             "#276419"
            ]
           ],
           "sequential": [
            [
             0,
             "#0d0887"
            ],
            [
             0.1111111111111111,
             "#46039f"
            ],
            [
             0.2222222222222222,
             "#7201a8"
            ],
            [
             0.3333333333333333,
             "#9c179e"
            ],
            [
             0.4444444444444444,
             "#bd3786"
            ],
            [
             0.5555555555555556,
             "#d8576b"
            ],
            [
             0.6666666666666666,
             "#ed7953"
            ],
            [
             0.7777777777777778,
             "#fb9f3a"
            ],
            [
             0.8888888888888888,
             "#fdca26"
            ],
            [
             1,
             "#f0f921"
            ]
           ],
           "sequentialminus": [
            [
             0,
             "#0d0887"
            ],
            [
             0.1111111111111111,
             "#46039f"
            ],
            [
             0.2222222222222222,
             "#7201a8"
            ],
            [
             0.3333333333333333,
             "#9c179e"
            ],
            [
             0.4444444444444444,
             "#bd3786"
            ],
            [
             0.5555555555555556,
             "#d8576b"
            ],
            [
             0.6666666666666666,
             "#ed7953"
            ],
            [
             0.7777777777777778,
             "#fb9f3a"
            ],
            [
             0.8888888888888888,
             "#fdca26"
            ],
            [
             1,
             "#f0f921"
            ]
           ]
          },
          "colorway": [
           "#636efa",
           "#EF553B",
           "#00cc96",
           "#ab63fa",
           "#FFA15A",
           "#19d3f3",
           "#FF6692",
           "#B6E880",
           "#FF97FF",
           "#FECB52"
          ],
          "font": {
           "color": "#2a3f5f"
          },
          "geo": {
           "bgcolor": "white",
           "lakecolor": "white",
           "landcolor": "#E5ECF6",
           "showlakes": true,
           "showland": true,
           "subunitcolor": "white"
          },
          "hoverlabel": {
           "align": "left"
          },
          "hovermode": "closest",
          "mapbox": {
           "style": "light"
          },
          "paper_bgcolor": "white",
          "plot_bgcolor": "#E5ECF6",
          "polar": {
           "angularaxis": {
            "gridcolor": "white",
            "linecolor": "white",
            "ticks": ""
           },
           "bgcolor": "#E5ECF6",
           "radialaxis": {
            "gridcolor": "white",
            "linecolor": "white",
            "ticks": ""
           }
          },
          "scene": {
           "xaxis": {
            "backgroundcolor": "#E5ECF6",
            "gridcolor": "white",
            "gridwidth": 2,
            "linecolor": "white",
            "showbackground": true,
            "ticks": "",
            "zerolinecolor": "white"
           },
           "yaxis": {
            "backgroundcolor": "#E5ECF6",
            "gridcolor": "white",
            "gridwidth": 2,
            "linecolor": "white",
            "showbackground": true,
            "ticks": "",
            "zerolinecolor": "white"
           },
           "zaxis": {
            "backgroundcolor": "#E5ECF6",
            "gridcolor": "white",
            "gridwidth": 2,
            "linecolor": "white",
            "showbackground": true,
            "ticks": "",
            "zerolinecolor": "white"
           }
          },
          "shapedefaults": {
           "line": {
            "color": "#2a3f5f"
           }
          },
          "ternary": {
           "aaxis": {
            "gridcolor": "white",
            "linecolor": "white",
            "ticks": ""
           },
           "baxis": {
            "gridcolor": "white",
            "linecolor": "white",
            "ticks": ""
           },
           "bgcolor": "#E5ECF6",
           "caxis": {
            "gridcolor": "white",
            "linecolor": "white",
            "ticks": ""
           }
          },
          "title": {
           "x": 0.05
          },
          "xaxis": {
           "automargin": true,
           "gridcolor": "white",
           "linecolor": "white",
           "ticks": "",
           "title": {
            "standoff": 15
           },
           "zerolinecolor": "white",
           "zerolinewidth": 2
          },
          "yaxis": {
           "automargin": true,
           "gridcolor": "white",
           "linecolor": "white",
           "ticks": "",
           "title": {
            "standoff": 15
           },
           "zerolinecolor": "white",
           "zerolinewidth": 2
          }
         }
        },
        "title": {
         "text": "Trend of the proportion"
        },
        "xaxis": {
         "anchor": "y",
         "domain": [
          0,
          1
         ],
         "title": {
          "text": "Year"
         }
        },
        "yaxis": {
         "anchor": "x",
         "domain": [
          0,
          1
         ],
         "title": {
          "text": "Cancer deaths attributed to tobacco (%)"
         }
        }
       }
      },
      "text/html": [
       "<div>\n",
       "        \n",
       "        \n",
       "            <div id=\"afbc39d4-77a5-4381-913e-64d133bd6867\" class=\"plotly-graph-div\" style=\"height:600px; width:100%;\"></div>\n",
       "            <script type=\"text/javascript\">\n",
       "                require([\"plotly\"], function(Plotly) {\n",
       "                    window.PLOTLYENV=window.PLOTLYENV || {};\n",
       "                    \n",
       "                if (document.getElementById(\"afbc39d4-77a5-4381-913e-64d133bd6867\")) {\n",
       "                    Plotly.newPlot(\n",
       "                        'afbc39d4-77a5-4381-913e-64d133bd6867',\n",
       "                        [{\"hoverlabel\": {\"namelength\": 0}, \"hovertemplate\": \"Year=%{x}<br>Cancer deaths attributed to tobacco (%)=%{y}\", \"legendgroup\": \"\", \"line\": {\"color\": \"#636efa\", \"dash\": \"solid\"}, \"mode\": \"lines\", \"name\": \"\", \"showlegend\": false, \"type\": \"scatter\", \"x\": [1990, 1995, 2000, 2005, 2006, 2010, 2016], \"xaxis\": \"x\", \"y\": [19.297979797979806, 19.312121212121223, 18.798989898989902, 18.735858585858573, 18.718181818181826, 18.594444444444434, 18.143434343434343], \"yaxis\": \"y\"}],\n",
       "                        {\"height\": 600, \"legend\": {\"tracegroupgap\": 0}, \"template\": {\"data\": {\"bar\": [{\"error_x\": {\"color\": \"#2a3f5f\"}, \"error_y\": {\"color\": \"#2a3f5f\"}, \"marker\": {\"line\": {\"color\": \"#E5ECF6\", \"width\": 0.5}}, \"type\": \"bar\"}], \"barpolar\": [{\"marker\": {\"line\": {\"color\": \"#E5ECF6\", \"width\": 0.5}}, \"type\": \"barpolar\"}], \"carpet\": [{\"aaxis\": {\"endlinecolor\": \"#2a3f5f\", \"gridcolor\": \"white\", \"linecolor\": \"white\", \"minorgridcolor\": \"white\", \"startlinecolor\": \"#2a3f5f\"}, \"baxis\": {\"endlinecolor\": \"#2a3f5f\", \"gridcolor\": \"white\", \"linecolor\": \"white\", \"minorgridcolor\": \"white\", \"startlinecolor\": \"#2a3f5f\"}, \"type\": \"carpet\"}], \"choropleth\": [{\"colorbar\": {\"outlinewidth\": 0, \"ticks\": \"\"}, \"type\": \"choropleth\"}], \"contour\": [{\"colorbar\": {\"outlinewidth\": 0, \"ticks\": \"\"}, \"colorscale\": [[0.0, \"#0d0887\"], [0.1111111111111111, \"#46039f\"], [0.2222222222222222, \"#7201a8\"], [0.3333333333333333, \"#9c179e\"], [0.4444444444444444, \"#bd3786\"], [0.5555555555555556, \"#d8576b\"], [0.6666666666666666, \"#ed7953\"], [0.7777777777777778, \"#fb9f3a\"], [0.8888888888888888, \"#fdca26\"], [1.0, \"#f0f921\"]], \"type\": \"contour\"}], \"contourcarpet\": [{\"colorbar\": {\"outlinewidth\": 0, \"ticks\": \"\"}, \"type\": \"contourcarpet\"}], \"heatmap\": [{\"colorbar\": {\"outlinewidth\": 0, \"ticks\": \"\"}, \"colorscale\": [[0.0, \"#0d0887\"], [0.1111111111111111, \"#46039f\"], [0.2222222222222222, \"#7201a8\"], [0.3333333333333333, \"#9c179e\"], [0.4444444444444444, \"#bd3786\"], [0.5555555555555556, \"#d8576b\"], [0.6666666666666666, \"#ed7953\"], [0.7777777777777778, \"#fb9f3a\"], [0.8888888888888888, \"#fdca26\"], [1.0, \"#f0f921\"]], \"type\": \"heatmap\"}], \"heatmapgl\": [{\"colorbar\": {\"outlinewidth\": 0, \"ticks\": \"\"}, \"colorscale\": [[0.0, \"#0d0887\"], [0.1111111111111111, \"#46039f\"], [0.2222222222222222, \"#7201a8\"], [0.3333333333333333, \"#9c179e\"], [0.4444444444444444, \"#bd3786\"], [0.5555555555555556, \"#d8576b\"], [0.6666666666666666, \"#ed7953\"], [0.7777777777777778, \"#fb9f3a\"], [0.8888888888888888, \"#fdca26\"], [1.0, \"#f0f921\"]], \"type\": \"heatmapgl\"}], \"histogram\": [{\"marker\": {\"colorbar\": {\"outlinewidth\": 0, \"ticks\": \"\"}}, \"type\": \"histogram\"}], \"histogram2d\": [{\"colorbar\": {\"outlinewidth\": 0, \"ticks\": \"\"}, \"colorscale\": [[0.0, \"#0d0887\"], [0.1111111111111111, \"#46039f\"], [0.2222222222222222, \"#7201a8\"], [0.3333333333333333, \"#9c179e\"], [0.4444444444444444, \"#bd3786\"], [0.5555555555555556, \"#d8576b\"], [0.6666666666666666, \"#ed7953\"], [0.7777777777777778, \"#fb9f3a\"], [0.8888888888888888, \"#fdca26\"], [1.0, \"#f0f921\"]], \"type\": \"histogram2d\"}], \"histogram2dcontour\": [{\"colorbar\": {\"outlinewidth\": 0, \"ticks\": \"\"}, \"colorscale\": [[0.0, \"#0d0887\"], [0.1111111111111111, \"#46039f\"], [0.2222222222222222, \"#7201a8\"], [0.3333333333333333, \"#9c179e\"], [0.4444444444444444, \"#bd3786\"], [0.5555555555555556, \"#d8576b\"], [0.6666666666666666, \"#ed7953\"], [0.7777777777777778, \"#fb9f3a\"], [0.8888888888888888, \"#fdca26\"], [1.0, \"#f0f921\"]], \"type\": \"histogram2dcontour\"}], \"mesh3d\": [{\"colorbar\": {\"outlinewidth\": 0, \"ticks\": \"\"}, \"type\": \"mesh3d\"}], \"parcoords\": [{\"line\": {\"colorbar\": {\"outlinewidth\": 0, \"ticks\": \"\"}}, \"type\": \"parcoords\"}], \"pie\": [{\"automargin\": true, \"type\": \"pie\"}], \"scatter\": [{\"marker\": {\"colorbar\": {\"outlinewidth\": 0, \"ticks\": \"\"}}, \"type\": \"scatter\"}], \"scatter3d\": [{\"line\": {\"colorbar\": {\"outlinewidth\": 0, \"ticks\": \"\"}}, \"marker\": {\"colorbar\": {\"outlinewidth\": 0, \"ticks\": \"\"}}, \"type\": \"scatter3d\"}], \"scattercarpet\": [{\"marker\": {\"colorbar\": {\"outlinewidth\": 0, \"ticks\": \"\"}}, \"type\": \"scattercarpet\"}], \"scattergeo\": [{\"marker\": {\"colorbar\": {\"outlinewidth\": 0, \"ticks\": \"\"}}, \"type\": \"scattergeo\"}], \"scattergl\": [{\"marker\": {\"colorbar\": {\"outlinewidth\": 0, \"ticks\": \"\"}}, \"type\": \"scattergl\"}], \"scattermapbox\": [{\"marker\": {\"colorbar\": {\"outlinewidth\": 0, \"ticks\": \"\"}}, \"type\": \"scattermapbox\"}], \"scatterpolar\": [{\"marker\": {\"colorbar\": {\"outlinewidth\": 0, \"ticks\": \"\"}}, \"type\": \"scatterpolar\"}], \"scatterpolargl\": [{\"marker\": {\"colorbar\": {\"outlinewidth\": 0, \"ticks\": \"\"}}, \"type\": \"scatterpolargl\"}], \"scatterternary\": [{\"marker\": {\"colorbar\": {\"outlinewidth\": 0, \"ticks\": \"\"}}, \"type\": \"scatterternary\"}], \"surface\": [{\"colorbar\": {\"outlinewidth\": 0, \"ticks\": \"\"}, \"colorscale\": [[0.0, \"#0d0887\"], [0.1111111111111111, \"#46039f\"], [0.2222222222222222, \"#7201a8\"], [0.3333333333333333, \"#9c179e\"], [0.4444444444444444, \"#bd3786\"], [0.5555555555555556, \"#d8576b\"], [0.6666666666666666, \"#ed7953\"], [0.7777777777777778, \"#fb9f3a\"], [0.8888888888888888, \"#fdca26\"], [1.0, \"#f0f921\"]], \"type\": \"surface\"}], \"table\": [{\"cells\": {\"fill\": {\"color\": \"#EBF0F8\"}, \"line\": {\"color\": \"white\"}}, \"header\": {\"fill\": {\"color\": \"#C8D4E3\"}, \"line\": {\"color\": \"white\"}}, \"type\": \"table\"}]}, \"layout\": {\"annotationdefaults\": {\"arrowcolor\": \"#2a3f5f\", \"arrowhead\": 0, \"arrowwidth\": 1}, \"coloraxis\": {\"colorbar\": {\"outlinewidth\": 0, \"ticks\": \"\"}}, \"colorscale\": {\"diverging\": [[0, \"#8e0152\"], [0.1, \"#c51b7d\"], [0.2, \"#de77ae\"], [0.3, \"#f1b6da\"], [0.4, \"#fde0ef\"], [0.5, \"#f7f7f7\"], [0.6, \"#e6f5d0\"], [0.7, \"#b8e186\"], [0.8, \"#7fbc41\"], [0.9, \"#4d9221\"], [1, \"#276419\"]], \"sequential\": [[0.0, \"#0d0887\"], [0.1111111111111111, \"#46039f\"], [0.2222222222222222, \"#7201a8\"], [0.3333333333333333, \"#9c179e\"], [0.4444444444444444, \"#bd3786\"], [0.5555555555555556, \"#d8576b\"], [0.6666666666666666, \"#ed7953\"], [0.7777777777777778, \"#fb9f3a\"], [0.8888888888888888, \"#fdca26\"], [1.0, \"#f0f921\"]], \"sequentialminus\": [[0.0, \"#0d0887\"], [0.1111111111111111, \"#46039f\"], [0.2222222222222222, \"#7201a8\"], [0.3333333333333333, \"#9c179e\"], [0.4444444444444444, \"#bd3786\"], [0.5555555555555556, \"#d8576b\"], [0.6666666666666666, \"#ed7953\"], [0.7777777777777778, \"#fb9f3a\"], [0.8888888888888888, \"#fdca26\"], [1.0, \"#f0f921\"]]}, \"colorway\": [\"#636efa\", \"#EF553B\", \"#00cc96\", \"#ab63fa\", \"#FFA15A\", \"#19d3f3\", \"#FF6692\", \"#B6E880\", \"#FF97FF\", \"#FECB52\"], \"font\": {\"color\": \"#2a3f5f\"}, \"geo\": {\"bgcolor\": \"white\", \"lakecolor\": \"white\", \"landcolor\": \"#E5ECF6\", \"showlakes\": true, \"showland\": true, \"subunitcolor\": \"white\"}, \"hoverlabel\": {\"align\": \"left\"}, \"hovermode\": \"closest\", \"mapbox\": {\"style\": \"light\"}, \"paper_bgcolor\": \"white\", \"plot_bgcolor\": \"#E5ECF6\", \"polar\": {\"angularaxis\": {\"gridcolor\": \"white\", \"linecolor\": \"white\", \"ticks\": \"\"}, \"bgcolor\": \"#E5ECF6\", \"radialaxis\": {\"gridcolor\": \"white\", \"linecolor\": \"white\", \"ticks\": \"\"}}, \"scene\": {\"xaxis\": {\"backgroundcolor\": \"#E5ECF6\", \"gridcolor\": \"white\", \"gridwidth\": 2, \"linecolor\": \"white\", \"showbackground\": true, \"ticks\": \"\", \"zerolinecolor\": \"white\"}, \"yaxis\": {\"backgroundcolor\": \"#E5ECF6\", \"gridcolor\": \"white\", \"gridwidth\": 2, \"linecolor\": \"white\", \"showbackground\": true, \"ticks\": \"\", \"zerolinecolor\": \"white\"}, \"zaxis\": {\"backgroundcolor\": \"#E5ECF6\", \"gridcolor\": \"white\", \"gridwidth\": 2, \"linecolor\": \"white\", \"showbackground\": true, \"ticks\": \"\", \"zerolinecolor\": \"white\"}}, \"shapedefaults\": {\"line\": {\"color\": \"#2a3f5f\"}}, \"ternary\": {\"aaxis\": {\"gridcolor\": \"white\", \"linecolor\": \"white\", \"ticks\": \"\"}, \"baxis\": {\"gridcolor\": \"white\", \"linecolor\": \"white\", \"ticks\": \"\"}, \"bgcolor\": \"#E5ECF6\", \"caxis\": {\"gridcolor\": \"white\", \"linecolor\": \"white\", \"ticks\": \"\"}}, \"title\": {\"x\": 0.05}, \"xaxis\": {\"automargin\": true, \"gridcolor\": \"white\", \"linecolor\": \"white\", \"ticks\": \"\", \"title\": {\"standoff\": 15}, \"zerolinecolor\": \"white\", \"zerolinewidth\": 2}, \"yaxis\": {\"automargin\": true, \"gridcolor\": \"white\", \"linecolor\": \"white\", \"ticks\": \"\", \"title\": {\"standoff\": 15}, \"zerolinecolor\": \"white\", \"zerolinewidth\": 2}}}, \"title\": {\"text\": \"Trend of the proportion\"}, \"xaxis\": {\"anchor\": \"y\", \"domain\": [0.0, 1.0], \"title\": {\"text\": \"Year\"}}, \"yaxis\": {\"anchor\": \"x\", \"domain\": [0.0, 1.0], \"title\": {\"text\": \"Cancer deaths attributed to tobacco (%)\"}}},\n",
       "                        {\"responsive\": true}\n",
       "                    ).then(function(){\n",
       "                            \n",
       "var gd = document.getElementById('afbc39d4-77a5-4381-913e-64d133bd6867');\n",
       "var x = new MutationObserver(function (mutations, observer) {{\n",
       "        var display = window.getComputedStyle(gd).display;\n",
       "        if (!display || display === 'none') {{\n",
       "            console.log([gd, 'removed!']);\n",
       "            Plotly.purge(gd);\n",
       "            observer.disconnect();\n",
       "        }}\n",
       "}});\n",
       "\n",
       "// Listen for the removal of the full notebook cells\n",
       "var notebookContainer = gd.closest('#notebook-container');\n",
       "if (notebookContainer) {{\n",
       "    x.observe(notebookContainer, {childList: true});\n",
       "}}\n",
       "\n",
       "// Listen for the clearing of the current output cell\n",
       "var outputEl = gd.closest('.output');\n",
       "if (outputEl) {{\n",
       "    x.observe(outputEl, {childList: true});\n",
       "}}\n",
       "\n",
       "                        })\n",
       "                };\n",
       "                });\n",
       "            </script>\n",
       "        </div>"
      ]
     },
     "metadata": {},
     "output_type": "display_data"
    }
   ],
   "source": [
    "fig = px.line(df3_taba, x=\"Year\", y=\"Cancer deaths attributed to tobacco (%)\",title =\"Trend of the proportion\")\n",
    "fig.show()"
   ]
  },
  {
   "cell_type": "code",
   "execution_count": 26,
   "metadata": {},
   "outputs": [],
   "source": [
    "df4_taba = df1_taba.groupby('Continent_Name').mean()# unsing continent to have a clearer view "
   ]
  },
  {
   "cell_type": "code",
   "execution_count": 27,
   "metadata": {},
   "outputs": [
    {
     "data": {
      "text/html": [
       "<div>\n",
       "<style scoped>\n",
       "    .dataframe tbody tr th:only-of-type {\n",
       "        vertical-align: middle;\n",
       "    }\n",
       "\n",
       "    .dataframe tbody tr th {\n",
       "        vertical-align: top;\n",
       "    }\n",
       "\n",
       "    .dataframe thead th {\n",
       "        text-align: right;\n",
       "    }\n",
       "</style>\n",
       "<table border=\"1\" class=\"dataframe\">\n",
       "  <thead>\n",
       "    <tr style=\"text-align: right;\">\n",
       "      <th></th>\n",
       "      <th>Year</th>\n",
       "      <th>Cancer deaths attributed to tobacco (%)</th>\n",
       "    </tr>\n",
       "    <tr>\n",
       "      <th>Continent_Name</th>\n",
       "      <th></th>\n",
       "      <th></th>\n",
       "    </tr>\n",
       "  </thead>\n",
       "  <tbody>\n",
       "    <tr>\n",
       "      <th>Africa</th>\n",
       "      <td>2003.142857</td>\n",
       "      <td>9.545238</td>\n",
       "    </tr>\n",
       "    <tr>\n",
       "      <th>Asia</th>\n",
       "      <td>2003.142857</td>\n",
       "      <td>20.681548</td>\n",
       "    </tr>\n",
       "    <tr>\n",
       "      <th>Europe</th>\n",
       "      <td>2003.142857</td>\n",
       "      <td>29.336957</td>\n",
       "    </tr>\n",
       "    <tr>\n",
       "      <th>North America</th>\n",
       "      <td>2003.142857</td>\n",
       "      <td>15.613143</td>\n",
       "    </tr>\n",
       "    <tr>\n",
       "      <th>Oceania</th>\n",
       "      <td>2003.142857</td>\n",
       "      <td>23.024176</td>\n",
       "    </tr>\n",
       "    <tr>\n",
       "      <th>South America</th>\n",
       "      <td>2003.142857</td>\n",
       "      <td>14.594048</td>\n",
       "    </tr>\n",
       "  </tbody>\n",
       "</table>\n",
       "</div>"
      ],
      "text/plain": [
       "                       Year  Cancer deaths attributed to tobacco (%)\n",
       "Continent_Name                                                      \n",
       "Africa          2003.142857                                 9.545238\n",
       "Asia            2003.142857                                20.681548\n",
       "Europe          2003.142857                                29.336957\n",
       "North America   2003.142857                                15.613143\n",
       "Oceania         2003.142857                                23.024176\n",
       "South America   2003.142857                                14.594048"
      ]
     },
     "execution_count": 27,
     "metadata": {},
     "output_type": "execute_result"
    }
   ],
   "source": [
    "df4_taba"
   ]
  },
  {
   "cell_type": "code",
   "execution_count": 28,
   "metadata": {},
   "outputs": [],
   "source": [
    "df4_taba = df4_taba.drop(['Year'],axis=1).reset_index()"
   ]
  },
  {
   "cell_type": "code",
   "execution_count": 29,
   "metadata": {},
   "outputs": [
    {
     "data": {
      "text/html": [
       "<div>\n",
       "<style scoped>\n",
       "    .dataframe tbody tr th:only-of-type {\n",
       "        vertical-align: middle;\n",
       "    }\n",
       "\n",
       "    .dataframe tbody tr th {\n",
       "        vertical-align: top;\n",
       "    }\n",
       "\n",
       "    .dataframe thead th {\n",
       "        text-align: right;\n",
       "    }\n",
       "</style>\n",
       "<table border=\"1\" class=\"dataframe\">\n",
       "  <thead>\n",
       "    <tr style=\"text-align: right;\">\n",
       "      <th></th>\n",
       "      <th>Continent_Name</th>\n",
       "      <th>Cancer deaths attributed to tobacco (%)</th>\n",
       "    </tr>\n",
       "  </thead>\n",
       "  <tbody>\n",
       "    <tr>\n",
       "      <th>0</th>\n",
       "      <td>Africa</td>\n",
       "      <td>9.545238</td>\n",
       "    </tr>\n",
       "    <tr>\n",
       "      <th>1</th>\n",
       "      <td>Asia</td>\n",
       "      <td>20.681548</td>\n",
       "    </tr>\n",
       "    <tr>\n",
       "      <th>2</th>\n",
       "      <td>Europe</td>\n",
       "      <td>29.336957</td>\n",
       "    </tr>\n",
       "    <tr>\n",
       "      <th>3</th>\n",
       "      <td>North America</td>\n",
       "      <td>15.613143</td>\n",
       "    </tr>\n",
       "    <tr>\n",
       "      <th>4</th>\n",
       "      <td>Oceania</td>\n",
       "      <td>23.024176</td>\n",
       "    </tr>\n",
       "    <tr>\n",
       "      <th>5</th>\n",
       "      <td>South America</td>\n",
       "      <td>14.594048</td>\n",
       "    </tr>\n",
       "  </tbody>\n",
       "</table>\n",
       "</div>"
      ],
      "text/plain": [
       "  Continent_Name  Cancer deaths attributed to tobacco (%)\n",
       "0         Africa                                 9.545238\n",
       "1           Asia                                20.681548\n",
       "2         Europe                                29.336957\n",
       "3  North America                                15.613143\n",
       "4        Oceania                                23.024176\n",
       "5  South America                                14.594048"
      ]
     },
     "execution_count": 29,
     "metadata": {},
     "output_type": "execute_result"
    }
   ],
   "source": [
    "df4_taba"
   ]
  },
  {
   "cell_type": "code",
   "execution_count": 30,
   "metadata": {},
   "outputs": [],
   "source": [
    "def create_generator(continent_list):\n",
    "    for continent in continent_list:\n",
    "        yield continent\n",
    "        \n",
    "continents = create_generator(df4_taba.Continent_Name.tolist())"
   ]
  },
  {
   "cell_type": "code",
   "execution_count": 31,
   "metadata": {},
   "outputs": [
    {
     "data": {
      "application/vnd.plotly.v1+json": {
       "config": {
        "plotlyServerURL": "https://plot.ly"
       },
       "data": [
        {
         "alignmentgroup": "True",
         "hoverlabel": {
          "namelength": 0
         },
         "hovertemplate": "Continent_Name=%{x}<br>Cancer deaths attributed to tobacco (%)=%{y}",
         "legendgroup": "Continent_Name=Africa",
         "marker": {
          "color": "#636efa"
         },
         "name": "Africa",
         "offsetgroup": "Continent_Name=Africa",
         "orientation": "v",
         "showlegend": true,
         "textposition": "auto",
         "type": "bar",
         "x": [
          "Africa"
         ],
         "xaxis": "x",
         "y": [
          9.54523809523809
         ],
         "yaxis": "y"
        },
        {
         "alignmentgroup": "True",
         "hoverlabel": {
          "namelength": 0
         },
         "hovertemplate": "Continent_Name=%{x}<br>Cancer deaths attributed to tobacco (%)=%{y}",
         "legendgroup": "Continent_Name=Asia",
         "marker": {
          "color": "#EF553B"
         },
         "name": "Asia",
         "offsetgroup": "Continent_Name=Asia",
         "orientation": "v",
         "showlegend": true,
         "textposition": "auto",
         "type": "bar",
         "x": [
          "Asia"
         ],
         "xaxis": "x",
         "y": [
          20.68154761904761
         ],
         "yaxis": "y"
        },
        {
         "alignmentgroup": "True",
         "hoverlabel": {
          "namelength": 0
         },
         "hovertemplate": "Continent_Name=%{x}<br>Cancer deaths attributed to tobacco (%)=%{y}",
         "legendgroup": "Continent_Name=Europe",
         "marker": {
          "color": "#00cc96"
         },
         "name": "Europe",
         "offsetgroup": "Continent_Name=Europe",
         "orientation": "v",
         "showlegend": true,
         "textposition": "auto",
         "type": "bar",
         "x": [
          "Europe"
         ],
         "xaxis": "x",
         "y": [
          29.33695652173913
         ],
         "yaxis": "y"
        },
        {
         "alignmentgroup": "True",
         "hoverlabel": {
          "namelength": 0
         },
         "hovertemplate": "Continent_Name=%{x}<br>Cancer deaths attributed to tobacco (%)=%{y}",
         "legendgroup": "Continent_Name=North America",
         "marker": {
          "color": "#ab63fa"
         },
         "name": "North America",
         "offsetgroup": "Continent_Name=North America",
         "orientation": "v",
         "showlegend": true,
         "textposition": "auto",
         "type": "bar",
         "x": [
          "North America"
         ],
         "xaxis": "x",
         "y": [
          15.61314285714285
         ],
         "yaxis": "y"
        },
        {
         "alignmentgroup": "True",
         "hoverlabel": {
          "namelength": 0
         },
         "hovertemplate": "Continent_Name=%{x}<br>Cancer deaths attributed to tobacco (%)=%{y}",
         "legendgroup": "Continent_Name=Oceania",
         "marker": {
          "color": "#FFA15A"
         },
         "name": "Oceania",
         "offsetgroup": "Continent_Name=Oceania",
         "orientation": "v",
         "showlegend": true,
         "textposition": "auto",
         "type": "bar",
         "x": [
          "Oceania"
         ],
         "xaxis": "x",
         "y": [
          23.024175824175817
         ],
         "yaxis": "y"
        },
        {
         "alignmentgroup": "True",
         "hoverlabel": {
          "namelength": 0
         },
         "hovertemplate": "Continent_Name=%{x}<br>Cancer deaths attributed to tobacco (%)=%{y}",
         "legendgroup": "Continent_Name=South America",
         "marker": {
          "color": "#19d3f3"
         },
         "name": "South America",
         "offsetgroup": "Continent_Name=South America",
         "orientation": "v",
         "showlegend": true,
         "textposition": "auto",
         "type": "bar",
         "x": [
          "South America"
         ],
         "xaxis": "x",
         "y": [
          14.59404761904762
         ],
         "yaxis": "y"
        }
       ],
       "layout": {
        "barmode": "group",
        "height": 600,
        "legend": {
         "tracegroupgap": 0
        },
        "template": {
         "data": {
          "bar": [
           {
            "error_x": {
             "color": "#2a3f5f"
            },
            "error_y": {
             "color": "#2a3f5f"
            },
            "marker": {
             "line": {
              "color": "#E5ECF6",
              "width": 0.5
             }
            },
            "type": "bar"
           }
          ],
          "barpolar": [
           {
            "marker": {
             "line": {
              "color": "#E5ECF6",
              "width": 0.5
             }
            },
            "type": "barpolar"
           }
          ],
          "carpet": [
           {
            "aaxis": {
             "endlinecolor": "#2a3f5f",
             "gridcolor": "white",
             "linecolor": "white",
             "minorgridcolor": "white",
             "startlinecolor": "#2a3f5f"
            },
            "baxis": {
             "endlinecolor": "#2a3f5f",
             "gridcolor": "white",
             "linecolor": "white",
             "minorgridcolor": "white",
             "startlinecolor": "#2a3f5f"
            },
            "type": "carpet"
           }
          ],
          "choropleth": [
           {
            "colorbar": {
             "outlinewidth": 0,
             "ticks": ""
            },
            "type": "choropleth"
           }
          ],
          "contour": [
           {
            "colorbar": {
             "outlinewidth": 0,
             "ticks": ""
            },
            "colorscale": [
             [
              0,
              "#0d0887"
             ],
             [
              0.1111111111111111,
              "#46039f"
             ],
             [
              0.2222222222222222,
              "#7201a8"
             ],
             [
              0.3333333333333333,
              "#9c179e"
             ],
             [
              0.4444444444444444,
              "#bd3786"
             ],
             [
              0.5555555555555556,
              "#d8576b"
             ],
             [
              0.6666666666666666,
              "#ed7953"
             ],
             [
              0.7777777777777778,
              "#fb9f3a"
             ],
             [
              0.8888888888888888,
              "#fdca26"
             ],
             [
              1,
              "#f0f921"
             ]
            ],
            "type": "contour"
           }
          ],
          "contourcarpet": [
           {
            "colorbar": {
             "outlinewidth": 0,
             "ticks": ""
            },
            "type": "contourcarpet"
           }
          ],
          "heatmap": [
           {
            "colorbar": {
             "outlinewidth": 0,
             "ticks": ""
            },
            "colorscale": [
             [
              0,
              "#0d0887"
             ],
             [
              0.1111111111111111,
              "#46039f"
             ],
             [
              0.2222222222222222,
              "#7201a8"
             ],
             [
              0.3333333333333333,
              "#9c179e"
             ],
             [
              0.4444444444444444,
              "#bd3786"
             ],
             [
              0.5555555555555556,
              "#d8576b"
             ],
             [
              0.6666666666666666,
              "#ed7953"
             ],
             [
              0.7777777777777778,
              "#fb9f3a"
             ],
             [
              0.8888888888888888,
              "#fdca26"
             ],
             [
              1,
              "#f0f921"
             ]
            ],
            "type": "heatmap"
           }
          ],
          "heatmapgl": [
           {
            "colorbar": {
             "outlinewidth": 0,
             "ticks": ""
            },
            "colorscale": [
             [
              0,
              "#0d0887"
             ],
             [
              0.1111111111111111,
              "#46039f"
             ],
             [
              0.2222222222222222,
              "#7201a8"
             ],
             [
              0.3333333333333333,
              "#9c179e"
             ],
             [
              0.4444444444444444,
              "#bd3786"
             ],
             [
              0.5555555555555556,
              "#d8576b"
             ],
             [
              0.6666666666666666,
              "#ed7953"
             ],
             [
              0.7777777777777778,
              "#fb9f3a"
             ],
             [
              0.8888888888888888,
              "#fdca26"
             ],
             [
              1,
              "#f0f921"
             ]
            ],
            "type": "heatmapgl"
           }
          ],
          "histogram": [
           {
            "marker": {
             "colorbar": {
              "outlinewidth": 0,
              "ticks": ""
             }
            },
            "type": "histogram"
           }
          ],
          "histogram2d": [
           {
            "colorbar": {
             "outlinewidth": 0,
             "ticks": ""
            },
            "colorscale": [
             [
              0,
              "#0d0887"
             ],
             [
              0.1111111111111111,
              "#46039f"
             ],
             [
              0.2222222222222222,
              "#7201a8"
             ],
             [
              0.3333333333333333,
              "#9c179e"
             ],
             [
              0.4444444444444444,
              "#bd3786"
             ],
             [
              0.5555555555555556,
              "#d8576b"
             ],
             [
              0.6666666666666666,
              "#ed7953"
             ],
             [
              0.7777777777777778,
              "#fb9f3a"
             ],
             [
              0.8888888888888888,
              "#fdca26"
             ],
             [
              1,
              "#f0f921"
             ]
            ],
            "type": "histogram2d"
           }
          ],
          "histogram2dcontour": [
           {
            "colorbar": {
             "outlinewidth": 0,
             "ticks": ""
            },
            "colorscale": [
             [
              0,
              "#0d0887"
             ],
             [
              0.1111111111111111,
              "#46039f"
             ],
             [
              0.2222222222222222,
              "#7201a8"
             ],
             [
              0.3333333333333333,
              "#9c179e"
             ],
             [
              0.4444444444444444,
              "#bd3786"
             ],
             [
              0.5555555555555556,
              "#d8576b"
             ],
             [
              0.6666666666666666,
              "#ed7953"
             ],
             [
              0.7777777777777778,
              "#fb9f3a"
             ],
             [
              0.8888888888888888,
              "#fdca26"
             ],
             [
              1,
              "#f0f921"
             ]
            ],
            "type": "histogram2dcontour"
           }
          ],
          "mesh3d": [
           {
            "colorbar": {
             "outlinewidth": 0,
             "ticks": ""
            },
            "type": "mesh3d"
           }
          ],
          "parcoords": [
           {
            "line": {
             "colorbar": {
              "outlinewidth": 0,
              "ticks": ""
             }
            },
            "type": "parcoords"
           }
          ],
          "pie": [
           {
            "automargin": true,
            "type": "pie"
           }
          ],
          "scatter": [
           {
            "marker": {
             "colorbar": {
              "outlinewidth": 0,
              "ticks": ""
             }
            },
            "type": "scatter"
           }
          ],
          "scatter3d": [
           {
            "line": {
             "colorbar": {
              "outlinewidth": 0,
              "ticks": ""
             }
            },
            "marker": {
             "colorbar": {
              "outlinewidth": 0,
              "ticks": ""
             }
            },
            "type": "scatter3d"
           }
          ],
          "scattercarpet": [
           {
            "marker": {
             "colorbar": {
              "outlinewidth": 0,
              "ticks": ""
             }
            },
            "type": "scattercarpet"
           }
          ],
          "scattergeo": [
           {
            "marker": {
             "colorbar": {
              "outlinewidth": 0,
              "ticks": ""
             }
            },
            "type": "scattergeo"
           }
          ],
          "scattergl": [
           {
            "marker": {
             "colorbar": {
              "outlinewidth": 0,
              "ticks": ""
             }
            },
            "type": "scattergl"
           }
          ],
          "scattermapbox": [
           {
            "marker": {
             "colorbar": {
              "outlinewidth": 0,
              "ticks": ""
             }
            },
            "type": "scattermapbox"
           }
          ],
          "scatterpolar": [
           {
            "marker": {
             "colorbar": {
              "outlinewidth": 0,
              "ticks": ""
             }
            },
            "type": "scatterpolar"
           }
          ],
          "scatterpolargl": [
           {
            "marker": {
             "colorbar": {
              "outlinewidth": 0,
              "ticks": ""
             }
            },
            "type": "scatterpolargl"
           }
          ],
          "scatterternary": [
           {
            "marker": {
             "colorbar": {
              "outlinewidth": 0,
              "ticks": ""
             }
            },
            "type": "scatterternary"
           }
          ],
          "surface": [
           {
            "colorbar": {
             "outlinewidth": 0,
             "ticks": ""
            },
            "colorscale": [
             [
              0,
              "#0d0887"
             ],
             [
              0.1111111111111111,
              "#46039f"
             ],
             [
              0.2222222222222222,
              "#7201a8"
             ],
             [
              0.3333333333333333,
              "#9c179e"
             ],
             [
              0.4444444444444444,
              "#bd3786"
             ],
             [
              0.5555555555555556,
              "#d8576b"
             ],
             [
              0.6666666666666666,
              "#ed7953"
             ],
             [
              0.7777777777777778,
              "#fb9f3a"
             ],
             [
              0.8888888888888888,
              "#fdca26"
             ],
             [
              1,
              "#f0f921"
             ]
            ],
            "type": "surface"
           }
          ],
          "table": [
           {
            "cells": {
             "fill": {
              "color": "#EBF0F8"
             },
             "line": {
              "color": "white"
             }
            },
            "header": {
             "fill": {
              "color": "#C8D4E3"
             },
             "line": {
              "color": "white"
             }
            },
            "type": "table"
           }
          ]
         },
         "layout": {
          "annotationdefaults": {
           "arrowcolor": "#2a3f5f",
           "arrowhead": 0,
           "arrowwidth": 1
          },
          "coloraxis": {
           "colorbar": {
            "outlinewidth": 0,
            "ticks": ""
           }
          },
          "colorscale": {
           "diverging": [
            [
             0,
             "#8e0152"
            ],
            [
             0.1,
             "#c51b7d"
            ],
            [
             0.2,
             "#de77ae"
            ],
            [
             0.3,
             "#f1b6da"
            ],
            [
             0.4,
             "#fde0ef"
            ],
            [
             0.5,
             "#f7f7f7"
            ],
            [
             0.6,
             "#e6f5d0"
            ],
            [
             0.7,
             "#b8e186"
            ],
            [
             0.8,
             "#7fbc41"
            ],
            [
             0.9,
             "#4d9221"
            ],
            [
             1,
             "#276419"
            ]
           ],
           "sequential": [
            [
             0,
             "#0d0887"
            ],
            [
             0.1111111111111111,
             "#46039f"
            ],
            [
             0.2222222222222222,
             "#7201a8"
            ],
            [
             0.3333333333333333,
             "#9c179e"
            ],
            [
             0.4444444444444444,
             "#bd3786"
            ],
            [
             0.5555555555555556,
             "#d8576b"
            ],
            [
             0.6666666666666666,
             "#ed7953"
            ],
            [
             0.7777777777777778,
             "#fb9f3a"
            ],
            [
             0.8888888888888888,
             "#fdca26"
            ],
            [
             1,
             "#f0f921"
            ]
           ],
           "sequentialminus": [
            [
             0,
             "#0d0887"
            ],
            [
             0.1111111111111111,
             "#46039f"
            ],
            [
             0.2222222222222222,
             "#7201a8"
            ],
            [
             0.3333333333333333,
             "#9c179e"
            ],
            [
             0.4444444444444444,
             "#bd3786"
            ],
            [
             0.5555555555555556,
             "#d8576b"
            ],
            [
             0.6666666666666666,
             "#ed7953"
            ],
            [
             0.7777777777777778,
             "#fb9f3a"
            ],
            [
             0.8888888888888888,
             "#fdca26"
            ],
            [
             1,
             "#f0f921"
            ]
           ]
          },
          "colorway": [
           "#636efa",
           "#EF553B",
           "#00cc96",
           "#ab63fa",
           "#FFA15A",
           "#19d3f3",
           "#FF6692",
           "#B6E880",
           "#FF97FF",
           "#FECB52"
          ],
          "font": {
           "color": "#2a3f5f"
          },
          "geo": {
           "bgcolor": "white",
           "lakecolor": "white",
           "landcolor": "#E5ECF6",
           "showlakes": true,
           "showland": true,
           "subunitcolor": "white"
          },
          "hoverlabel": {
           "align": "left"
          },
          "hovermode": "closest",
          "mapbox": {
           "style": "light"
          },
          "paper_bgcolor": "white",
          "plot_bgcolor": "#E5ECF6",
          "polar": {
           "angularaxis": {
            "gridcolor": "white",
            "linecolor": "white",
            "ticks": ""
           },
           "bgcolor": "#E5ECF6",
           "radialaxis": {
            "gridcolor": "white",
            "linecolor": "white",
            "ticks": ""
           }
          },
          "scene": {
           "xaxis": {
            "backgroundcolor": "#E5ECF6",
            "gridcolor": "white",
            "gridwidth": 2,
            "linecolor": "white",
            "showbackground": true,
            "ticks": "",
            "zerolinecolor": "white"
           },
           "yaxis": {
            "backgroundcolor": "#E5ECF6",
            "gridcolor": "white",
            "gridwidth": 2,
            "linecolor": "white",
            "showbackground": true,
            "ticks": "",
            "zerolinecolor": "white"
           },
           "zaxis": {
            "backgroundcolor": "#E5ECF6",
            "gridcolor": "white",
            "gridwidth": 2,
            "linecolor": "white",
            "showbackground": true,
            "ticks": "",
            "zerolinecolor": "white"
           }
          },
          "shapedefaults": {
           "line": {
            "color": "#2a3f5f"
           }
          },
          "ternary": {
           "aaxis": {
            "gridcolor": "white",
            "linecolor": "white",
            "ticks": ""
           },
           "baxis": {
            "gridcolor": "white",
            "linecolor": "white",
            "ticks": ""
           },
           "bgcolor": "#E5ECF6",
           "caxis": {
            "gridcolor": "white",
            "linecolor": "white",
            "ticks": ""
           }
          },
          "title": {
           "x": 0.05
          },
          "xaxis": {
           "automargin": true,
           "gridcolor": "white",
           "linecolor": "white",
           "ticks": "",
           "title": {
            "standoff": 15
           },
           "zerolinecolor": "white",
           "zerolinewidth": 2
          },
          "yaxis": {
           "automargin": true,
           "gridcolor": "white",
           "linecolor": "white",
           "ticks": "",
           "title": {
            "standoff": 15
           },
           "zerolinecolor": "white",
           "zerolinewidth": 2
          }
         }
        },
        "title": {
         "text": "Average Cancer deaths caused by tobacco"
        },
        "xaxis": {
         "anchor": "y",
         "categoryarray": [
          "Africa",
          "Asia",
          "Europe",
          "North America",
          "Oceania",
          "South America"
         ],
         "categoryorder": "array",
         "domain": [
          0,
          1
         ],
         "title": {
          "text": "Continents"
         }
        },
        "yaxis": {
         "anchor": "x",
         "domain": [
          0,
          1
         ],
         "title": {
          "text": "Cancer deaths attributed to tobacco (%)"
         }
        }
       }
      },
      "text/html": [
       "<div>\n",
       "        \n",
       "        \n",
       "            <div id=\"18d3a9df-372b-48a1-9bad-895fc4a03572\" class=\"plotly-graph-div\" style=\"height:600px; width:100%;\"></div>\n",
       "            <script type=\"text/javascript\">\n",
       "                require([\"plotly\"], function(Plotly) {\n",
       "                    window.PLOTLYENV=window.PLOTLYENV || {};\n",
       "                    \n",
       "                if (document.getElementById(\"18d3a9df-372b-48a1-9bad-895fc4a03572\")) {\n",
       "                    Plotly.newPlot(\n",
       "                        '18d3a9df-372b-48a1-9bad-895fc4a03572',\n",
       "                        [{\"alignmentgroup\": \"True\", \"hoverlabel\": {\"namelength\": 0}, \"hovertemplate\": \"Continent_Name=%{x}<br>Cancer deaths attributed to tobacco (%)=%{y}\", \"legendgroup\": \"Continent_Name=Africa\", \"marker\": {\"color\": \"#636efa\"}, \"name\": \"Africa\", \"offsetgroup\": \"Continent_Name=Africa\", \"orientation\": \"v\", \"showlegend\": true, \"textposition\": \"auto\", \"type\": \"bar\", \"x\": [\"Africa\"], \"xaxis\": \"x\", \"y\": [9.54523809523809], \"yaxis\": \"y\"}, {\"alignmentgroup\": \"True\", \"hoverlabel\": {\"namelength\": 0}, \"hovertemplate\": \"Continent_Name=%{x}<br>Cancer deaths attributed to tobacco (%)=%{y}\", \"legendgroup\": \"Continent_Name=Asia\", \"marker\": {\"color\": \"#EF553B\"}, \"name\": \"Asia\", \"offsetgroup\": \"Continent_Name=Asia\", \"orientation\": \"v\", \"showlegend\": true, \"textposition\": \"auto\", \"type\": \"bar\", \"x\": [\"Asia\"], \"xaxis\": \"x\", \"y\": [20.68154761904761], \"yaxis\": \"y\"}, {\"alignmentgroup\": \"True\", \"hoverlabel\": {\"namelength\": 0}, \"hovertemplate\": \"Continent_Name=%{x}<br>Cancer deaths attributed to tobacco (%)=%{y}\", \"legendgroup\": \"Continent_Name=Europe\", \"marker\": {\"color\": \"#00cc96\"}, \"name\": \"Europe\", \"offsetgroup\": \"Continent_Name=Europe\", \"orientation\": \"v\", \"showlegend\": true, \"textposition\": \"auto\", \"type\": \"bar\", \"x\": [\"Europe\"], \"xaxis\": \"x\", \"y\": [29.33695652173913], \"yaxis\": \"y\"}, {\"alignmentgroup\": \"True\", \"hoverlabel\": {\"namelength\": 0}, \"hovertemplate\": \"Continent_Name=%{x}<br>Cancer deaths attributed to tobacco (%)=%{y}\", \"legendgroup\": \"Continent_Name=North America\", \"marker\": {\"color\": \"#ab63fa\"}, \"name\": \"North America\", \"offsetgroup\": \"Continent_Name=North America\", \"orientation\": \"v\", \"showlegend\": true, \"textposition\": \"auto\", \"type\": \"bar\", \"x\": [\"North America\"], \"xaxis\": \"x\", \"y\": [15.61314285714285], \"yaxis\": \"y\"}, {\"alignmentgroup\": \"True\", \"hoverlabel\": {\"namelength\": 0}, \"hovertemplate\": \"Continent_Name=%{x}<br>Cancer deaths attributed to tobacco (%)=%{y}\", \"legendgroup\": \"Continent_Name=Oceania\", \"marker\": {\"color\": \"#FFA15A\"}, \"name\": \"Oceania\", \"offsetgroup\": \"Continent_Name=Oceania\", \"orientation\": \"v\", \"showlegend\": true, \"textposition\": \"auto\", \"type\": \"bar\", \"x\": [\"Oceania\"], \"xaxis\": \"x\", \"y\": [23.024175824175817], \"yaxis\": \"y\"}, {\"alignmentgroup\": \"True\", \"hoverlabel\": {\"namelength\": 0}, \"hovertemplate\": \"Continent_Name=%{x}<br>Cancer deaths attributed to tobacco (%)=%{y}\", \"legendgroup\": \"Continent_Name=South America\", \"marker\": {\"color\": \"#19d3f3\"}, \"name\": \"South America\", \"offsetgroup\": \"Continent_Name=South America\", \"orientation\": \"v\", \"showlegend\": true, \"textposition\": \"auto\", \"type\": \"bar\", \"x\": [\"South America\"], \"xaxis\": \"x\", \"y\": [14.59404761904762], \"yaxis\": \"y\"}],\n",
       "                        {\"barmode\": \"group\", \"height\": 600, \"legend\": {\"tracegroupgap\": 0}, \"template\": {\"data\": {\"bar\": [{\"error_x\": {\"color\": \"#2a3f5f\"}, \"error_y\": {\"color\": \"#2a3f5f\"}, \"marker\": {\"line\": {\"color\": \"#E5ECF6\", \"width\": 0.5}}, \"type\": \"bar\"}], \"barpolar\": [{\"marker\": {\"line\": {\"color\": \"#E5ECF6\", \"width\": 0.5}}, \"type\": \"barpolar\"}], \"carpet\": [{\"aaxis\": {\"endlinecolor\": \"#2a3f5f\", \"gridcolor\": \"white\", \"linecolor\": \"white\", \"minorgridcolor\": \"white\", \"startlinecolor\": \"#2a3f5f\"}, \"baxis\": {\"endlinecolor\": \"#2a3f5f\", \"gridcolor\": \"white\", \"linecolor\": \"white\", \"minorgridcolor\": \"white\", \"startlinecolor\": \"#2a3f5f\"}, \"type\": \"carpet\"}], \"choropleth\": [{\"colorbar\": {\"outlinewidth\": 0, \"ticks\": \"\"}, \"type\": \"choropleth\"}], \"contour\": [{\"colorbar\": {\"outlinewidth\": 0, \"ticks\": \"\"}, \"colorscale\": [[0.0, \"#0d0887\"], [0.1111111111111111, \"#46039f\"], [0.2222222222222222, \"#7201a8\"], [0.3333333333333333, \"#9c179e\"], [0.4444444444444444, \"#bd3786\"], [0.5555555555555556, \"#d8576b\"], [0.6666666666666666, \"#ed7953\"], [0.7777777777777778, \"#fb9f3a\"], [0.8888888888888888, \"#fdca26\"], [1.0, \"#f0f921\"]], \"type\": \"contour\"}], \"contourcarpet\": [{\"colorbar\": {\"outlinewidth\": 0, \"ticks\": \"\"}, \"type\": \"contourcarpet\"}], \"heatmap\": [{\"colorbar\": {\"outlinewidth\": 0, \"ticks\": \"\"}, \"colorscale\": [[0.0, \"#0d0887\"], [0.1111111111111111, \"#46039f\"], [0.2222222222222222, \"#7201a8\"], [0.3333333333333333, \"#9c179e\"], [0.4444444444444444, \"#bd3786\"], [0.5555555555555556, \"#d8576b\"], [0.6666666666666666, \"#ed7953\"], [0.7777777777777778, \"#fb9f3a\"], [0.8888888888888888, \"#fdca26\"], [1.0, \"#f0f921\"]], \"type\": \"heatmap\"}], \"heatmapgl\": [{\"colorbar\": {\"outlinewidth\": 0, \"ticks\": \"\"}, \"colorscale\": [[0.0, \"#0d0887\"], [0.1111111111111111, \"#46039f\"], [0.2222222222222222, \"#7201a8\"], [0.3333333333333333, \"#9c179e\"], [0.4444444444444444, \"#bd3786\"], [0.5555555555555556, \"#d8576b\"], [0.6666666666666666, \"#ed7953\"], [0.7777777777777778, \"#fb9f3a\"], [0.8888888888888888, \"#fdca26\"], [1.0, \"#f0f921\"]], \"type\": \"heatmapgl\"}], \"histogram\": [{\"marker\": {\"colorbar\": {\"outlinewidth\": 0, \"ticks\": \"\"}}, \"type\": \"histogram\"}], \"histogram2d\": [{\"colorbar\": {\"outlinewidth\": 0, \"ticks\": \"\"}, \"colorscale\": [[0.0, \"#0d0887\"], [0.1111111111111111, \"#46039f\"], [0.2222222222222222, \"#7201a8\"], [0.3333333333333333, \"#9c179e\"], [0.4444444444444444, \"#bd3786\"], [0.5555555555555556, \"#d8576b\"], [0.6666666666666666, \"#ed7953\"], [0.7777777777777778, \"#fb9f3a\"], [0.8888888888888888, \"#fdca26\"], [1.0, \"#f0f921\"]], \"type\": \"histogram2d\"}], \"histogram2dcontour\": [{\"colorbar\": {\"outlinewidth\": 0, \"ticks\": \"\"}, \"colorscale\": [[0.0, \"#0d0887\"], [0.1111111111111111, \"#46039f\"], [0.2222222222222222, \"#7201a8\"], [0.3333333333333333, \"#9c179e\"], [0.4444444444444444, \"#bd3786\"], [0.5555555555555556, \"#d8576b\"], [0.6666666666666666, \"#ed7953\"], [0.7777777777777778, \"#fb9f3a\"], [0.8888888888888888, \"#fdca26\"], [1.0, \"#f0f921\"]], \"type\": \"histogram2dcontour\"}], \"mesh3d\": [{\"colorbar\": {\"outlinewidth\": 0, \"ticks\": \"\"}, \"type\": \"mesh3d\"}], \"parcoords\": [{\"line\": {\"colorbar\": {\"outlinewidth\": 0, \"ticks\": \"\"}}, \"type\": \"parcoords\"}], \"pie\": [{\"automargin\": true, \"type\": \"pie\"}], \"scatter\": [{\"marker\": {\"colorbar\": {\"outlinewidth\": 0, \"ticks\": \"\"}}, \"type\": \"scatter\"}], \"scatter3d\": [{\"line\": {\"colorbar\": {\"outlinewidth\": 0, \"ticks\": \"\"}}, \"marker\": {\"colorbar\": {\"outlinewidth\": 0, \"ticks\": \"\"}}, \"type\": \"scatter3d\"}], \"scattercarpet\": [{\"marker\": {\"colorbar\": {\"outlinewidth\": 0, \"ticks\": \"\"}}, \"type\": \"scattercarpet\"}], \"scattergeo\": [{\"marker\": {\"colorbar\": {\"outlinewidth\": 0, \"ticks\": \"\"}}, \"type\": \"scattergeo\"}], \"scattergl\": [{\"marker\": {\"colorbar\": {\"outlinewidth\": 0, \"ticks\": \"\"}}, \"type\": \"scattergl\"}], \"scattermapbox\": [{\"marker\": {\"colorbar\": {\"outlinewidth\": 0, \"ticks\": \"\"}}, \"type\": \"scattermapbox\"}], \"scatterpolar\": [{\"marker\": {\"colorbar\": {\"outlinewidth\": 0, \"ticks\": \"\"}}, \"type\": \"scatterpolar\"}], \"scatterpolargl\": [{\"marker\": {\"colorbar\": {\"outlinewidth\": 0, \"ticks\": \"\"}}, \"type\": \"scatterpolargl\"}], \"scatterternary\": [{\"marker\": {\"colorbar\": {\"outlinewidth\": 0, \"ticks\": \"\"}}, \"type\": \"scatterternary\"}], \"surface\": [{\"colorbar\": {\"outlinewidth\": 0, \"ticks\": \"\"}, \"colorscale\": [[0.0, \"#0d0887\"], [0.1111111111111111, \"#46039f\"], [0.2222222222222222, \"#7201a8\"], [0.3333333333333333, \"#9c179e\"], [0.4444444444444444, \"#bd3786\"], [0.5555555555555556, \"#d8576b\"], [0.6666666666666666, \"#ed7953\"], [0.7777777777777778, \"#fb9f3a\"], [0.8888888888888888, \"#fdca26\"], [1.0, \"#f0f921\"]], \"type\": \"surface\"}], \"table\": [{\"cells\": {\"fill\": {\"color\": \"#EBF0F8\"}, \"line\": {\"color\": \"white\"}}, \"header\": {\"fill\": {\"color\": \"#C8D4E3\"}, \"line\": {\"color\": \"white\"}}, \"type\": \"table\"}]}, \"layout\": {\"annotationdefaults\": {\"arrowcolor\": \"#2a3f5f\", \"arrowhead\": 0, \"arrowwidth\": 1}, \"coloraxis\": {\"colorbar\": {\"outlinewidth\": 0, \"ticks\": \"\"}}, \"colorscale\": {\"diverging\": [[0, \"#8e0152\"], [0.1, \"#c51b7d\"], [0.2, \"#de77ae\"], [0.3, \"#f1b6da\"], [0.4, \"#fde0ef\"], [0.5, \"#f7f7f7\"], [0.6, \"#e6f5d0\"], [0.7, \"#b8e186\"], [0.8, \"#7fbc41\"], [0.9, \"#4d9221\"], [1, \"#276419\"]], \"sequential\": [[0.0, \"#0d0887\"], [0.1111111111111111, \"#46039f\"], [0.2222222222222222, \"#7201a8\"], [0.3333333333333333, \"#9c179e\"], [0.4444444444444444, \"#bd3786\"], [0.5555555555555556, \"#d8576b\"], [0.6666666666666666, \"#ed7953\"], [0.7777777777777778, \"#fb9f3a\"], [0.8888888888888888, \"#fdca26\"], [1.0, \"#f0f921\"]], \"sequentialminus\": [[0.0, \"#0d0887\"], [0.1111111111111111, \"#46039f\"], [0.2222222222222222, \"#7201a8\"], [0.3333333333333333, \"#9c179e\"], [0.4444444444444444, \"#bd3786\"], [0.5555555555555556, \"#d8576b\"], [0.6666666666666666, \"#ed7953\"], [0.7777777777777778, \"#fb9f3a\"], [0.8888888888888888, \"#fdca26\"], [1.0, \"#f0f921\"]]}, \"colorway\": [\"#636efa\", \"#EF553B\", \"#00cc96\", \"#ab63fa\", \"#FFA15A\", \"#19d3f3\", \"#FF6692\", \"#B6E880\", \"#FF97FF\", \"#FECB52\"], \"font\": {\"color\": \"#2a3f5f\"}, \"geo\": {\"bgcolor\": \"white\", \"lakecolor\": \"white\", \"landcolor\": \"#E5ECF6\", \"showlakes\": true, \"showland\": true, \"subunitcolor\": \"white\"}, \"hoverlabel\": {\"align\": \"left\"}, \"hovermode\": \"closest\", \"mapbox\": {\"style\": \"light\"}, \"paper_bgcolor\": \"white\", \"plot_bgcolor\": \"#E5ECF6\", \"polar\": {\"angularaxis\": {\"gridcolor\": \"white\", \"linecolor\": \"white\", \"ticks\": \"\"}, \"bgcolor\": \"#E5ECF6\", \"radialaxis\": {\"gridcolor\": \"white\", \"linecolor\": \"white\", \"ticks\": \"\"}}, \"scene\": {\"xaxis\": {\"backgroundcolor\": \"#E5ECF6\", \"gridcolor\": \"white\", \"gridwidth\": 2, \"linecolor\": \"white\", \"showbackground\": true, \"ticks\": \"\", \"zerolinecolor\": \"white\"}, \"yaxis\": {\"backgroundcolor\": \"#E5ECF6\", \"gridcolor\": \"white\", \"gridwidth\": 2, \"linecolor\": \"white\", \"showbackground\": true, \"ticks\": \"\", \"zerolinecolor\": \"white\"}, \"zaxis\": {\"backgroundcolor\": \"#E5ECF6\", \"gridcolor\": \"white\", \"gridwidth\": 2, \"linecolor\": \"white\", \"showbackground\": true, \"ticks\": \"\", \"zerolinecolor\": \"white\"}}, \"shapedefaults\": {\"line\": {\"color\": \"#2a3f5f\"}}, \"ternary\": {\"aaxis\": {\"gridcolor\": \"white\", \"linecolor\": \"white\", \"ticks\": \"\"}, \"baxis\": {\"gridcolor\": \"white\", \"linecolor\": \"white\", \"ticks\": \"\"}, \"bgcolor\": \"#E5ECF6\", \"caxis\": {\"gridcolor\": \"white\", \"linecolor\": \"white\", \"ticks\": \"\"}}, \"title\": {\"x\": 0.05}, \"xaxis\": {\"automargin\": true, \"gridcolor\": \"white\", \"linecolor\": \"white\", \"ticks\": \"\", \"title\": {\"standoff\": 15}, \"zerolinecolor\": \"white\", \"zerolinewidth\": 2}, \"yaxis\": {\"automargin\": true, \"gridcolor\": \"white\", \"linecolor\": \"white\", \"ticks\": \"\", \"title\": {\"standoff\": 15}, \"zerolinecolor\": \"white\", \"zerolinewidth\": 2}}}, \"title\": {\"text\": \"Average Cancer deaths caused by tobacco\"}, \"xaxis\": {\"anchor\": \"y\", \"categoryarray\": [\"Africa\", \"Asia\", \"Europe\", \"North America\", \"Oceania\", \"South America\"], \"categoryorder\": \"array\", \"domain\": [0.0, 1.0], \"title\": {\"text\": \"Continents\"}}, \"yaxis\": {\"anchor\": \"x\", \"domain\": [0.0, 1.0], \"title\": {\"text\": \"Cancer deaths attributed to tobacco (%)\"}}},\n",
       "                        {\"responsive\": true}\n",
       "                    ).then(function(){\n",
       "                            \n",
       "var gd = document.getElementById('18d3a9df-372b-48a1-9bad-895fc4a03572');\n",
       "var x = new MutationObserver(function (mutations, observer) {{\n",
       "        var display = window.getComputedStyle(gd).display;\n",
       "        if (!display || display === 'none') {{\n",
       "            console.log([gd, 'removed!']);\n",
       "            Plotly.purge(gd);\n",
       "            observer.disconnect();\n",
       "        }}\n",
       "}});\n",
       "\n",
       "// Listen for the removal of the full notebook cells\n",
       "var notebookContainer = gd.closest('#notebook-container');\n",
       "if (notebookContainer) {{\n",
       "    x.observe(notebookContainer, {childList: true});\n",
       "}}\n",
       "\n",
       "// Listen for the clearing of the current output cell\n",
       "var outputEl = gd.closest('.output');\n",
       "if (outputEl) {{\n",
       "    x.observe(outputEl, {childList: true});\n",
       "}}\n",
       "\n",
       "                        })\n",
       "                };\n",
       "                });\n",
       "            </script>\n",
       "        </div>"
      ]
     },
     "metadata": {},
     "output_type": "display_data"
    }
   ],
   "source": [
    "fig = px.bar(df4_taba, x=\"Continent_Name\", y=\"Cancer deaths attributed to tobacco (%)\", color=\"Continent_Name\",barmode=\"group\",title=\"Average Cancer deaths caused by tobacco\")\n",
    "\n",
    "fig.update_xaxes(title='Continents')\n",
    "fig.update_yaxes(title='Cancer deaths attributed to tobacco (%)')\n",
    "\n",
    "\n",
    "fig.for_each_trace(\n",
    "    lambda trace: trace.update(name=next(continents)),\n",
    ")\n",
    "\n",
    "fig.show()"
   ]
  },
  {
   "cell_type": "code",
   "execution_count": 32,
   "metadata": {},
   "outputs": [
    {
     "data": {
      "application/vnd.plotly.v1+json": {
       "config": {
        "plotlyServerURL": "https://plot.ly"
       },
       "data": [
        {
         "coloraxis": "coloraxis",
         "geo": "geo",
         "hoverlabel": {
          "namelength": 0
         },
         "hovertemplate": "<b>%{hovertext}</b><br><br>Code=%{location}<br>Cancer deaths attributed to tobacco (%)=%{z}",
         "hovertext": [
          "Afghanistan",
          "Afghanistan",
          "Afghanistan",
          "Afghanistan",
          "Afghanistan",
          "Afghanistan",
          "Afghanistan",
          "Albania",
          "Albania",
          "Albania",
          "Albania",
          "Albania",
          "Albania",
          "Albania",
          "Algeria",
          "Algeria",
          "Algeria",
          "Algeria",
          "Algeria",
          "Algeria",
          "Algeria",
          "American Samoa",
          "American Samoa",
          "American Samoa",
          "American Samoa",
          "American Samoa",
          "American Samoa",
          "American Samoa",
          "Andorra",
          "Andorra",
          "Andorra",
          "Andorra",
          "Andorra",
          "Andorra",
          "Andorra",
          "Angola",
          "Angola",
          "Angola",
          "Angola",
          "Angola",
          "Angola",
          "Angola",
          "Antigua and Barbuda",
          "Antigua and Barbuda",
          "Antigua and Barbuda",
          "Antigua and Barbuda",
          "Antigua and Barbuda",
          "Antigua and Barbuda",
          "Antigua and Barbuda",
          "Argentina",
          "Argentina",
          "Argentina",
          "Argentina",
          "Argentina",
          "Argentina",
          "Argentina",
          "Armenia",
          "Armenia",
          "Armenia",
          "Armenia",
          "Armenia",
          "Armenia",
          "Armenia",
          "Armenia",
          "Armenia",
          "Armenia",
          "Armenia",
          "Armenia",
          "Armenia",
          "Armenia",
          "Australia",
          "Australia",
          "Australia",
          "Australia",
          "Australia",
          "Australia",
          "Australia",
          "Austria",
          "Austria",
          "Austria",
          "Austria",
          "Austria",
          "Austria",
          "Austria",
          "Azerbaijan",
          "Azerbaijan",
          "Azerbaijan",
          "Azerbaijan",
          "Azerbaijan",
          "Azerbaijan",
          "Azerbaijan",
          "Azerbaijan",
          "Azerbaijan",
          "Azerbaijan",
          "Azerbaijan",
          "Azerbaijan",
          "Azerbaijan",
          "Azerbaijan",
          "Bahamas",
          "Bahamas",
          "Bahamas",
          "Bahamas",
          "Bahamas",
          "Bahamas",
          "Bahamas",
          "Bahrain",
          "Bahrain",
          "Bahrain",
          "Bahrain",
          "Bahrain",
          "Bahrain",
          "Bahrain",
          "Bangladesh",
          "Bangladesh",
          "Bangladesh",
          "Bangladesh",
          "Bangladesh",
          "Bangladesh",
          "Bangladesh",
          "Barbados",
          "Barbados",
          "Barbados",
          "Barbados",
          "Barbados",
          "Barbados",
          "Barbados",
          "Belarus",
          "Belarus",
          "Belarus",
          "Belarus",
          "Belarus",
          "Belarus",
          "Belarus",
          "Belgium",
          "Belgium",
          "Belgium",
          "Belgium",
          "Belgium",
          "Belgium",
          "Belgium",
          "Belize",
          "Belize",
          "Belize",
          "Belize",
          "Belize",
          "Belize",
          "Belize",
          "Benin",
          "Benin",
          "Benin",
          "Benin",
          "Benin",
          "Benin",
          "Benin",
          "Bermuda",
          "Bermuda",
          "Bermuda",
          "Bermuda",
          "Bermuda",
          "Bermuda",
          "Bermuda",
          "Bhutan",
          "Bhutan",
          "Bhutan",
          "Bhutan",
          "Bhutan",
          "Bhutan",
          "Bhutan",
          "Bolivia",
          "Bolivia",
          "Bolivia",
          "Bolivia",
          "Bolivia",
          "Bolivia",
          "Bolivia",
          "Bosnia and Herzegovina",
          "Bosnia and Herzegovina",
          "Bosnia and Herzegovina",
          "Bosnia and Herzegovina",
          "Bosnia and Herzegovina",
          "Bosnia and Herzegovina",
          "Bosnia and Herzegovina",
          "Botswana",
          "Botswana",
          "Botswana",
          "Botswana",
          "Botswana",
          "Botswana",
          "Botswana",
          "Brazil",
          "Brazil",
          "Brazil",
          "Brazil",
          "Brazil",
          "Brazil",
          "Brazil",
          "Brunei",
          "Brunei",
          "Brunei",
          "Brunei",
          "Brunei",
          "Brunei",
          "Brunei",
          "Bulgaria",
          "Bulgaria",
          "Bulgaria",
          "Bulgaria",
          "Bulgaria",
          "Bulgaria",
          "Bulgaria",
          "Burkina Faso",
          "Burkina Faso",
          "Burkina Faso",
          "Burkina Faso",
          "Burkina Faso",
          "Burkina Faso",
          "Burkina Faso",
          "Burundi",
          "Burundi",
          "Burundi",
          "Burundi",
          "Burundi",
          "Burundi",
          "Burundi",
          "Cambodia",
          "Cambodia",
          "Cambodia",
          "Cambodia",
          "Cambodia",
          "Cambodia",
          "Cambodia",
          "Cameroon",
          "Cameroon",
          "Cameroon",
          "Cameroon",
          "Cameroon",
          "Cameroon",
          "Cameroon",
          "Canada",
          "Canada",
          "Canada",
          "Canada",
          "Canada",
          "Canada",
          "Canada",
          "Cape Verde",
          "Cape Verde",
          "Cape Verde",
          "Cape Verde",
          "Cape Verde",
          "Cape Verde",
          "Cape Verde",
          "Central African Republic",
          "Central African Republic",
          "Central African Republic",
          "Central African Republic",
          "Central African Republic",
          "Central African Republic",
          "Central African Republic",
          "Chad",
          "Chad",
          "Chad",
          "Chad",
          "Chad",
          "Chad",
          "Chad",
          "Chile",
          "Chile",
          "Chile",
          "Chile",
          "Chile",
          "Chile",
          "Chile",
          "China",
          "China",
          "China",
          "China",
          "China",
          "China",
          "China",
          "Colombia",
          "Colombia",
          "Colombia",
          "Colombia",
          "Colombia",
          "Colombia",
          "Colombia",
          "Comoros",
          "Comoros",
          "Comoros",
          "Comoros",
          "Comoros",
          "Comoros",
          "Comoros",
          "Congo",
          "Congo",
          "Congo",
          "Congo",
          "Congo",
          "Congo",
          "Congo",
          "Costa Rica",
          "Costa Rica",
          "Costa Rica",
          "Costa Rica",
          "Costa Rica",
          "Costa Rica",
          "Costa Rica",
          "Cote d'Ivoire",
          "Cote d'Ivoire",
          "Cote d'Ivoire",
          "Cote d'Ivoire",
          "Cote d'Ivoire",
          "Cote d'Ivoire",
          "Cote d'Ivoire",
          "Croatia",
          "Croatia",
          "Croatia",
          "Croatia",
          "Croatia",
          "Croatia",
          "Croatia",
          "Cuba",
          "Cuba",
          "Cuba",
          "Cuba",
          "Cuba",
          "Cuba",
          "Cuba",
          "Cyprus",
          "Cyprus",
          "Cyprus",
          "Cyprus",
          "Cyprus",
          "Cyprus",
          "Cyprus",
          "Cyprus",
          "Cyprus",
          "Cyprus",
          "Cyprus",
          "Cyprus",
          "Cyprus",
          "Cyprus",
          "Czech Republic",
          "Czech Republic",
          "Czech Republic",
          "Czech Republic",
          "Czech Republic",
          "Czech Republic",
          "Czech Republic",
          "Democratic Republic of Congo",
          "Democratic Republic of Congo",
          "Democratic Republic of Congo",
          "Democratic Republic of Congo",
          "Democratic Republic of Congo",
          "Democratic Republic of Congo",
          "Democratic Republic of Congo",
          "Denmark",
          "Denmark",
          "Denmark",
          "Denmark",
          "Denmark",
          "Denmark",
          "Denmark",
          "Djibouti",
          "Djibouti",
          "Djibouti",
          "Djibouti",
          "Djibouti",
          "Djibouti",
          "Djibouti",
          "Dominica",
          "Dominica",
          "Dominica",
          "Dominica",
          "Dominica",
          "Dominica",
          "Dominica",
          "Dominican Republic",
          "Dominican Republic",
          "Dominican Republic",
          "Dominican Republic",
          "Dominican Republic",
          "Dominican Republic",
          "Dominican Republic",
          "Ecuador",
          "Ecuador",
          "Ecuador",
          "Ecuador",
          "Ecuador",
          "Ecuador",
          "Ecuador",
          "Egypt",
          "Egypt",
          "Egypt",
          "Egypt",
          "Egypt",
          "Egypt",
          "Egypt",
          "El Salvador",
          "El Salvador",
          "El Salvador",
          "El Salvador",
          "El Salvador",
          "El Salvador",
          "El Salvador",
          "Equatorial Guinea",
          "Equatorial Guinea",
          "Equatorial Guinea",
          "Equatorial Guinea",
          "Equatorial Guinea",
          "Equatorial Guinea",
          "Equatorial Guinea",
          "Eritrea",
          "Eritrea",
          "Eritrea",
          "Eritrea",
          "Eritrea",
          "Eritrea",
          "Eritrea",
          "Estonia",
          "Estonia",
          "Estonia",
          "Estonia",
          "Estonia",
          "Estonia",
          "Estonia",
          "Ethiopia",
          "Ethiopia",
          "Ethiopia",
          "Ethiopia",
          "Ethiopia",
          "Ethiopia",
          "Ethiopia",
          "Fiji",
          "Fiji",
          "Fiji",
          "Fiji",
          "Fiji",
          "Fiji",
          "Fiji",
          "Finland",
          "Finland",
          "Finland",
          "Finland",
          "Finland",
          "Finland",
          "Finland",
          "France",
          "France",
          "France",
          "France",
          "France",
          "France",
          "France",
          "Gabon",
          "Gabon",
          "Gabon",
          "Gabon",
          "Gabon",
          "Gabon",
          "Gabon",
          "Gambia",
          "Gambia",
          "Gambia",
          "Gambia",
          "Gambia",
          "Gambia",
          "Gambia",
          "Georgia",
          "Georgia",
          "Georgia",
          "Georgia",
          "Georgia",
          "Georgia",
          "Georgia",
          "Georgia",
          "Georgia",
          "Georgia",
          "Georgia",
          "Georgia",
          "Georgia",
          "Georgia",
          "Germany",
          "Germany",
          "Germany",
          "Germany",
          "Germany",
          "Germany",
          "Germany",
          "Ghana",
          "Ghana",
          "Ghana",
          "Ghana",
          "Ghana",
          "Ghana",
          "Ghana",
          "Greece",
          "Greece",
          "Greece",
          "Greece",
          "Greece",
          "Greece",
          "Greece",
          "Greenland",
          "Greenland",
          "Greenland",
          "Greenland",
          "Greenland",
          "Greenland",
          "Greenland",
          "Grenada",
          "Grenada",
          "Grenada",
          "Grenada",
          "Grenada",
          "Grenada",
          "Grenada",
          "Guam",
          "Guam",
          "Guam",
          "Guam",
          "Guam",
          "Guam",
          "Guam",
          "Guatemala",
          "Guatemala",
          "Guatemala",
          "Guatemala",
          "Guatemala",
          "Guatemala",
          "Guatemala",
          "Guinea",
          "Guinea",
          "Guinea",
          "Guinea",
          "Guinea",
          "Guinea",
          "Guinea",
          "Guinea-Bissau",
          "Guinea-Bissau",
          "Guinea-Bissau",
          "Guinea-Bissau",
          "Guinea-Bissau",
          "Guinea-Bissau",
          "Guinea-Bissau",
          "Guyana",
          "Guyana",
          "Guyana",
          "Guyana",
          "Guyana",
          "Guyana",
          "Guyana",
          "Haiti",
          "Haiti",
          "Haiti",
          "Haiti",
          "Haiti",
          "Haiti",
          "Haiti",
          "Honduras",
          "Honduras",
          "Honduras",
          "Honduras",
          "Honduras",
          "Honduras",
          "Honduras",
          "Hungary",
          "Hungary",
          "Hungary",
          "Hungary",
          "Hungary",
          "Hungary",
          "Hungary",
          "Iceland",
          "Iceland",
          "Iceland",
          "Iceland",
          "Iceland",
          "Iceland",
          "Iceland",
          "India",
          "India",
          "India",
          "India",
          "India",
          "India",
          "India",
          "Indonesia",
          "Indonesia",
          "Indonesia",
          "Indonesia",
          "Indonesia",
          "Indonesia",
          "Indonesia",
          "Iran",
          "Iran",
          "Iran",
          "Iran",
          "Iran",
          "Iran",
          "Iran",
          "Iraq",
          "Iraq",
          "Iraq",
          "Iraq",
          "Iraq",
          "Iraq",
          "Iraq",
          "Ireland",
          "Ireland",
          "Ireland",
          "Ireland",
          "Ireland",
          "Ireland",
          "Ireland",
          "Israel",
          "Israel",
          "Israel",
          "Israel",
          "Israel",
          "Israel",
          "Israel",
          "Italy",
          "Italy",
          "Italy",
          "Italy",
          "Italy",
          "Italy",
          "Italy",
          "Jamaica",
          "Jamaica",
          "Jamaica",
          "Jamaica",
          "Jamaica",
          "Jamaica",
          "Jamaica",
          "Japan",
          "Japan",
          "Japan",
          "Japan",
          "Japan",
          "Japan",
          "Japan",
          "Jordan",
          "Jordan",
          "Jordan",
          "Jordan",
          "Jordan",
          "Jordan",
          "Jordan",
          "Kazakhstan",
          "Kazakhstan",
          "Kazakhstan",
          "Kazakhstan",
          "Kazakhstan",
          "Kazakhstan",
          "Kazakhstan",
          "Kazakhstan",
          "Kazakhstan",
          "Kazakhstan",
          "Kazakhstan",
          "Kazakhstan",
          "Kazakhstan",
          "Kazakhstan",
          "Kenya",
          "Kenya",
          "Kenya",
          "Kenya",
          "Kenya",
          "Kenya",
          "Kenya",
          "Kiribati",
          "Kiribati",
          "Kiribati",
          "Kiribati",
          "Kiribati",
          "Kiribati",
          "Kiribati",
          "Kuwait",
          "Kuwait",
          "Kuwait",
          "Kuwait",
          "Kuwait",
          "Kuwait",
          "Kuwait",
          "Kyrgyzstan",
          "Kyrgyzstan",
          "Kyrgyzstan",
          "Kyrgyzstan",
          "Kyrgyzstan",
          "Kyrgyzstan",
          "Kyrgyzstan",
          "Laos",
          "Laos",
          "Laos",
          "Laos",
          "Laos",
          "Laos",
          "Laos",
          "Latvia",
          "Latvia",
          "Latvia",
          "Latvia",
          "Latvia",
          "Latvia",
          "Latvia",
          "Lebanon",
          "Lebanon",
          "Lebanon",
          "Lebanon",
          "Lebanon",
          "Lebanon",
          "Lebanon",
          "Lesotho",
          "Lesotho",
          "Lesotho",
          "Lesotho",
          "Lesotho",
          "Lesotho",
          "Lesotho",
          "Liberia",
          "Liberia",
          "Liberia",
          "Liberia",
          "Liberia",
          "Liberia",
          "Liberia",
          "Libya",
          "Libya",
          "Libya",
          "Libya",
          "Libya",
          "Libya",
          "Libya",
          "Lithuania",
          "Lithuania",
          "Lithuania",
          "Lithuania",
          "Lithuania",
          "Lithuania",
          "Lithuania",
          "Luxembourg",
          "Luxembourg",
          "Luxembourg",
          "Luxembourg",
          "Luxembourg",
          "Luxembourg",
          "Luxembourg",
          "Macedonia",
          "Macedonia",
          "Macedonia",
          "Macedonia",
          "Macedonia",
          "Macedonia",
          "Macedonia",
          "Madagascar",
          "Madagascar",
          "Madagascar",
          "Madagascar",
          "Madagascar",
          "Madagascar",
          "Madagascar",
          "Malawi",
          "Malawi",
          "Malawi",
          "Malawi",
          "Malawi",
          "Malawi",
          "Malawi",
          "Malaysia",
          "Malaysia",
          "Malaysia",
          "Malaysia",
          "Malaysia",
          "Malaysia",
          "Malaysia",
          "Maldives",
          "Maldives",
          "Maldives",
          "Maldives",
          "Maldives",
          "Maldives",
          "Maldives",
          "Mali",
          "Mali",
          "Mali",
          "Mali",
          "Mali",
          "Mali",
          "Mali",
          "Malta",
          "Malta",
          "Malta",
          "Malta",
          "Malta",
          "Malta",
          "Malta",
          "Marshall Islands",
          "Marshall Islands",
          "Marshall Islands",
          "Marshall Islands",
          "Marshall Islands",
          "Marshall Islands",
          "Marshall Islands",
          "Mauritania",
          "Mauritania",
          "Mauritania",
          "Mauritania",
          "Mauritania",
          "Mauritania",
          "Mauritania",
          "Mauritius",
          "Mauritius",
          "Mauritius",
          "Mauritius",
          "Mauritius",
          "Mauritius",
          "Mauritius",
          "Mexico",
          "Mexico",
          "Mexico",
          "Mexico",
          "Mexico",
          "Mexico",
          "Mexico",
          "Moldova",
          "Moldova",
          "Moldova",
          "Moldova",
          "Moldova",
          "Moldova",
          "Moldova",
          "Mongolia",
          "Mongolia",
          "Mongolia",
          "Mongolia",
          "Mongolia",
          "Mongolia",
          "Mongolia",
          "Montenegro",
          "Montenegro",
          "Montenegro",
          "Montenegro",
          "Montenegro",
          "Montenegro",
          "Montenegro",
          "Morocco",
          "Morocco",
          "Morocco",
          "Morocco",
          "Morocco",
          "Morocco",
          "Morocco",
          "Mozambique",
          "Mozambique",
          "Mozambique",
          "Mozambique",
          "Mozambique",
          "Mozambique",
          "Mozambique",
          "Myanmar",
          "Myanmar",
          "Myanmar",
          "Myanmar",
          "Myanmar",
          "Myanmar",
          "Myanmar",
          "Namibia",
          "Namibia",
          "Namibia",
          "Namibia",
          "Namibia",
          "Namibia",
          "Namibia",
          "Nepal",
          "Nepal",
          "Nepal",
          "Nepal",
          "Nepal",
          "Nepal",
          "Nepal",
          "Netherlands",
          "Netherlands",
          "Netherlands",
          "Netherlands",
          "Netherlands",
          "Netherlands",
          "Netherlands",
          "New Zealand",
          "New Zealand",
          "New Zealand",
          "New Zealand",
          "New Zealand",
          "New Zealand",
          "New Zealand",
          "Nicaragua",
          "Nicaragua",
          "Nicaragua",
          "Nicaragua",
          "Nicaragua",
          "Nicaragua",
          "Nicaragua",
          "Niger",
          "Niger",
          "Niger",
          "Niger",
          "Niger",
          "Niger",
          "Niger",
          "Nigeria",
          "Nigeria",
          "Nigeria",
          "Nigeria",
          "Nigeria",
          "Nigeria",
          "Nigeria",
          "North Korea",
          "North Korea",
          "North Korea",
          "North Korea",
          "North Korea",
          "North Korea",
          "North Korea",
          "Northern Mariana Islands",
          "Northern Mariana Islands",
          "Northern Mariana Islands",
          "Northern Mariana Islands",
          "Northern Mariana Islands",
          "Northern Mariana Islands",
          "Northern Mariana Islands",
          "Norway",
          "Norway",
          "Norway",
          "Norway",
          "Norway",
          "Norway",
          "Norway",
          "Oman",
          "Oman",
          "Oman",
          "Oman",
          "Oman",
          "Oman",
          "Oman",
          "Pakistan",
          "Pakistan",
          "Pakistan",
          "Pakistan",
          "Pakistan",
          "Pakistan",
          "Pakistan",
          "Palestine",
          "Palestine",
          "Palestine",
          "Palestine",
          "Palestine",
          "Palestine",
          "Palestine",
          "Panama",
          "Panama",
          "Panama",
          "Panama",
          "Panama",
          "Panama",
          "Panama",
          "Papua New Guinea",
          "Papua New Guinea",
          "Papua New Guinea",
          "Papua New Guinea",
          "Papua New Guinea",
          "Papua New Guinea",
          "Papua New Guinea",
          "Paraguay",
          "Paraguay",
          "Paraguay",
          "Paraguay",
          "Paraguay",
          "Paraguay",
          "Paraguay",
          "Peru",
          "Peru",
          "Peru",
          "Peru",
          "Peru",
          "Peru",
          "Peru",
          "Philippines",
          "Philippines",
          "Philippines",
          "Philippines",
          "Philippines",
          "Philippines",
          "Philippines",
          "Poland",
          "Poland",
          "Poland",
          "Poland",
          "Poland",
          "Poland",
          "Poland",
          "Portugal",
          "Portugal",
          "Portugal",
          "Portugal",
          "Portugal",
          "Portugal",
          "Portugal",
          "Puerto Rico",
          "Puerto Rico",
          "Puerto Rico",
          "Puerto Rico",
          "Puerto Rico",
          "Puerto Rico",
          "Puerto Rico",
          "Qatar",
          "Qatar",
          "Qatar",
          "Qatar",
          "Qatar",
          "Qatar",
          "Qatar",
          "Romania",
          "Romania",
          "Romania",
          "Romania",
          "Romania",
          "Romania",
          "Romania",
          "Russia",
          "Russia",
          "Russia",
          "Russia",
          "Russia",
          "Russia",
          "Russia",
          "Russia",
          "Russia",
          "Russia",
          "Russia",
          "Russia",
          "Russia",
          "Russia",
          "Rwanda",
          "Rwanda",
          "Rwanda",
          "Rwanda",
          "Rwanda",
          "Rwanda",
          "Rwanda",
          "Saint Lucia",
          "Saint Lucia",
          "Saint Lucia",
          "Saint Lucia",
          "Saint Lucia",
          "Saint Lucia",
          "Saint Lucia",
          "Saint Vincent and the Grenadines",
          "Saint Vincent and the Grenadines",
          "Saint Vincent and the Grenadines",
          "Saint Vincent and the Grenadines",
          "Saint Vincent and the Grenadines",
          "Saint Vincent and the Grenadines",
          "Saint Vincent and the Grenadines",
          "Samoa",
          "Samoa",
          "Samoa",
          "Samoa",
          "Samoa",
          "Samoa",
          "Samoa",
          "Sao Tome and Principe",
          "Sao Tome and Principe",
          "Sao Tome and Principe",
          "Sao Tome and Principe",
          "Sao Tome and Principe",
          "Sao Tome and Principe",
          "Sao Tome and Principe",
          "Saudi Arabia",
          "Saudi Arabia",
          "Saudi Arabia",
          "Saudi Arabia",
          "Saudi Arabia",
          "Saudi Arabia",
          "Saudi Arabia",
          "Senegal",
          "Senegal",
          "Senegal",
          "Senegal",
          "Senegal",
          "Senegal",
          "Senegal",
          "Serbia",
          "Serbia",
          "Serbia",
          "Serbia",
          "Serbia",
          "Serbia",
          "Serbia",
          "Seychelles",
          "Seychelles",
          "Seychelles",
          "Seychelles",
          "Seychelles",
          "Seychelles",
          "Seychelles",
          "Sierra Leone",
          "Sierra Leone",
          "Sierra Leone",
          "Sierra Leone",
          "Sierra Leone",
          "Sierra Leone",
          "Sierra Leone",
          "Slovakia",
          "Slovakia",
          "Slovakia",
          "Slovakia",
          "Slovakia",
          "Slovakia",
          "Slovakia",
          "Slovenia",
          "Slovenia",
          "Slovenia",
          "Slovenia",
          "Slovenia",
          "Slovenia",
          "Slovenia",
          "Solomon Islands",
          "Solomon Islands",
          "Solomon Islands",
          "Solomon Islands",
          "Solomon Islands",
          "Solomon Islands",
          "Solomon Islands",
          "Somalia",
          "Somalia",
          "Somalia",
          "Somalia",
          "Somalia",
          "Somalia",
          "Somalia",
          "South Africa",
          "South Africa",
          "South Africa",
          "South Africa",
          "South Africa",
          "South Africa",
          "South Africa",
          "South Sudan",
          "South Sudan",
          "South Sudan",
          "South Sudan",
          "South Sudan",
          "South Sudan",
          "South Sudan",
          "Spain",
          "Spain",
          "Spain",
          "Spain",
          "Spain",
          "Spain",
          "Spain",
          "Sri Lanka",
          "Sri Lanka",
          "Sri Lanka",
          "Sri Lanka",
          "Sri Lanka",
          "Sri Lanka",
          "Sri Lanka",
          "Sudan",
          "Sudan",
          "Sudan",
          "Sudan",
          "Sudan",
          "Sudan",
          "Sudan",
          "Suriname",
          "Suriname",
          "Suriname",
          "Suriname",
          "Suriname",
          "Suriname",
          "Suriname",
          "Swaziland",
          "Swaziland",
          "Swaziland",
          "Swaziland",
          "Swaziland",
          "Swaziland",
          "Swaziland",
          "Sweden",
          "Sweden",
          "Sweden",
          "Sweden",
          "Sweden",
          "Sweden",
          "Sweden",
          "Switzerland",
          "Switzerland",
          "Switzerland",
          "Switzerland",
          "Switzerland",
          "Switzerland",
          "Switzerland",
          "Syria",
          "Syria",
          "Syria",
          "Syria",
          "Syria",
          "Syria",
          "Syria",
          "Taiwan",
          "Taiwan",
          "Taiwan",
          "Taiwan",
          "Taiwan",
          "Taiwan",
          "Taiwan",
          "Tajikistan",
          "Tajikistan",
          "Tajikistan",
          "Tajikistan",
          "Tajikistan",
          "Tajikistan",
          "Tajikistan",
          "Tanzania",
          "Tanzania",
          "Tanzania",
          "Tanzania",
          "Tanzania",
          "Tanzania",
          "Tanzania",
          "Thailand",
          "Thailand",
          "Thailand",
          "Thailand",
          "Thailand",
          "Thailand",
          "Thailand",
          "Timor",
          "Timor",
          "Timor",
          "Timor",
          "Timor",
          "Timor",
          "Timor",
          "Togo",
          "Togo",
          "Togo",
          "Togo",
          "Togo",
          "Togo",
          "Togo",
          "Tonga",
          "Tonga",
          "Tonga",
          "Tonga",
          "Tonga",
          "Tonga",
          "Tonga",
          "Trinidad and Tobago",
          "Trinidad and Tobago",
          "Trinidad and Tobago",
          "Trinidad and Tobago",
          "Trinidad and Tobago",
          "Trinidad and Tobago",
          "Trinidad and Tobago",
          "Tunisia",
          "Tunisia",
          "Tunisia",
          "Tunisia",
          "Tunisia",
          "Tunisia",
          "Tunisia",
          "Turkey",
          "Turkey",
          "Turkey",
          "Turkey",
          "Turkey",
          "Turkey",
          "Turkey",
          "Turkey",
          "Turkey",
          "Turkey",
          "Turkey",
          "Turkey",
          "Turkey",
          "Turkey",
          "Turkmenistan",
          "Turkmenistan",
          "Turkmenistan",
          "Turkmenistan",
          "Turkmenistan",
          "Turkmenistan",
          "Turkmenistan",
          "Uganda",
          "Uganda",
          "Uganda",
          "Uganda",
          "Uganda",
          "Uganda",
          "Uganda",
          "Ukraine",
          "Ukraine",
          "Ukraine",
          "Ukraine",
          "Ukraine",
          "Ukraine",
          "Ukraine",
          "United Arab Emirates",
          "United Arab Emirates",
          "United Arab Emirates",
          "United Arab Emirates",
          "United Arab Emirates",
          "United Arab Emirates",
          "United Arab Emirates",
          "United Kingdom",
          "United Kingdom",
          "United Kingdom",
          "United Kingdom",
          "United Kingdom",
          "United Kingdom",
          "United Kingdom",
          "United States",
          "United States",
          "United States",
          "United States",
          "United States",
          "United States",
          "United States",
          "Uruguay",
          "Uruguay",
          "Uruguay",
          "Uruguay",
          "Uruguay",
          "Uruguay",
          "Uruguay",
          "Uzbekistan",
          "Uzbekistan",
          "Uzbekistan",
          "Uzbekistan",
          "Uzbekistan",
          "Uzbekistan",
          "Uzbekistan",
          "Vanuatu",
          "Vanuatu",
          "Vanuatu",
          "Vanuatu",
          "Vanuatu",
          "Vanuatu",
          "Vanuatu",
          "Venezuela",
          "Venezuela",
          "Venezuela",
          "Venezuela",
          "Venezuela",
          "Venezuela",
          "Venezuela",
          "Vietnam",
          "Vietnam",
          "Vietnam",
          "Vietnam",
          "Vietnam",
          "Vietnam",
          "Vietnam",
          "Yemen",
          "Yemen",
          "Yemen",
          "Yemen",
          "Yemen",
          "Yemen",
          "Yemen",
          "Zambia",
          "Zambia",
          "Zambia",
          "Zambia",
          "Zambia",
          "Zambia",
          "Zambia",
          "Zimbabwe",
          "Zimbabwe",
          "Zimbabwe",
          "Zimbabwe",
          "Zimbabwe",
          "Zimbabwe",
          "Zimbabwe"
         ],
         "locations": [
          "AFG",
          "AFG",
          "AFG",
          "AFG",
          "AFG",
          "AFG",
          "AFG",
          "ALB",
          "ALB",
          "ALB",
          "ALB",
          "ALB",
          "ALB",
          "ALB",
          "DZA",
          "DZA",
          "DZA",
          "DZA",
          "DZA",
          "DZA",
          "DZA",
          "ASM",
          "ASM",
          "ASM",
          "ASM",
          "ASM",
          "ASM",
          "ASM",
          "AND",
          "AND",
          "AND",
          "AND",
          "AND",
          "AND",
          "AND",
          "AGO",
          "AGO",
          "AGO",
          "AGO",
          "AGO",
          "AGO",
          "AGO",
          "ATG",
          "ATG",
          "ATG",
          "ATG",
          "ATG",
          "ATG",
          "ATG",
          "ARG",
          "ARG",
          "ARG",
          "ARG",
          "ARG",
          "ARG",
          "ARG",
          "ARM",
          "ARM",
          "ARM",
          "ARM",
          "ARM",
          "ARM",
          "ARM",
          "ARM",
          "ARM",
          "ARM",
          "ARM",
          "ARM",
          "ARM",
          "ARM",
          "AUS",
          "AUS",
          "AUS",
          "AUS",
          "AUS",
          "AUS",
          "AUS",
          "AUT",
          "AUT",
          "AUT",
          "AUT",
          "AUT",
          "AUT",
          "AUT",
          "AZE",
          "AZE",
          "AZE",
          "AZE",
          "AZE",
          "AZE",
          "AZE",
          "AZE",
          "AZE",
          "AZE",
          "AZE",
          "AZE",
          "AZE",
          "AZE",
          "BHS",
          "BHS",
          "BHS",
          "BHS",
          "BHS",
          "BHS",
          "BHS",
          "BHR",
          "BHR",
          "BHR",
          "BHR",
          "BHR",
          "BHR",
          "BHR",
          "BGD",
          "BGD",
          "BGD",
          "BGD",
          "BGD",
          "BGD",
          "BGD",
          "BRB",
          "BRB",
          "BRB",
          "BRB",
          "BRB",
          "BRB",
          "BRB",
          "BLR",
          "BLR",
          "BLR",
          "BLR",
          "BLR",
          "BLR",
          "BLR",
          "BEL",
          "BEL",
          "BEL",
          "BEL",
          "BEL",
          "BEL",
          "BEL",
          "BLZ",
          "BLZ",
          "BLZ",
          "BLZ",
          "BLZ",
          "BLZ",
          "BLZ",
          "BEN",
          "BEN",
          "BEN",
          "BEN",
          "BEN",
          "BEN",
          "BEN",
          "BMU",
          "BMU",
          "BMU",
          "BMU",
          "BMU",
          "BMU",
          "BMU",
          "BTN",
          "BTN",
          "BTN",
          "BTN",
          "BTN",
          "BTN",
          "BTN",
          "BOL",
          "BOL",
          "BOL",
          "BOL",
          "BOL",
          "BOL",
          "BOL",
          "BIH",
          "BIH",
          "BIH",
          "BIH",
          "BIH",
          "BIH",
          "BIH",
          "BWA",
          "BWA",
          "BWA",
          "BWA",
          "BWA",
          "BWA",
          "BWA",
          "BRA",
          "BRA",
          "BRA",
          "BRA",
          "BRA",
          "BRA",
          "BRA",
          "BRN",
          "BRN",
          "BRN",
          "BRN",
          "BRN",
          "BRN",
          "BRN",
          "BGR",
          "BGR",
          "BGR",
          "BGR",
          "BGR",
          "BGR",
          "BGR",
          "BFA",
          "BFA",
          "BFA",
          "BFA",
          "BFA",
          "BFA",
          "BFA",
          "BDI",
          "BDI",
          "BDI",
          "BDI",
          "BDI",
          "BDI",
          "BDI",
          "KHM",
          "KHM",
          "KHM",
          "KHM",
          "KHM",
          "KHM",
          "KHM",
          "CMR",
          "CMR",
          "CMR",
          "CMR",
          "CMR",
          "CMR",
          "CMR",
          "CAN",
          "CAN",
          "CAN",
          "CAN",
          "CAN",
          "CAN",
          "CAN",
          "CPV",
          "CPV",
          "CPV",
          "CPV",
          "CPV",
          "CPV",
          "CPV",
          "CAF",
          "CAF",
          "CAF",
          "CAF",
          "CAF",
          "CAF",
          "CAF",
          "TCD",
          "TCD",
          "TCD",
          "TCD",
          "TCD",
          "TCD",
          "TCD",
          "CHL",
          "CHL",
          "CHL",
          "CHL",
          "CHL",
          "CHL",
          "CHL",
          "CHN",
          "CHN",
          "CHN",
          "CHN",
          "CHN",
          "CHN",
          "CHN",
          "COL",
          "COL",
          "COL",
          "COL",
          "COL",
          "COL",
          "COL",
          "COM",
          "COM",
          "COM",
          "COM",
          "COM",
          "COM",
          "COM",
          "COG",
          "COG",
          "COG",
          "COG",
          "COG",
          "COG",
          "COG",
          "CRI",
          "CRI",
          "CRI",
          "CRI",
          "CRI",
          "CRI",
          "CRI",
          "CIV",
          "CIV",
          "CIV",
          "CIV",
          "CIV",
          "CIV",
          "CIV",
          "HRV",
          "HRV",
          "HRV",
          "HRV",
          "HRV",
          "HRV",
          "HRV",
          "CUB",
          "CUB",
          "CUB",
          "CUB",
          "CUB",
          "CUB",
          "CUB",
          "CYP",
          "CYP",
          "CYP",
          "CYP",
          "CYP",
          "CYP",
          "CYP",
          "CYP",
          "CYP",
          "CYP",
          "CYP",
          "CYP",
          "CYP",
          "CYP",
          "CZE",
          "CZE",
          "CZE",
          "CZE",
          "CZE",
          "CZE",
          "CZE",
          "COD",
          "COD",
          "COD",
          "COD",
          "COD",
          "COD",
          "COD",
          "DNK",
          "DNK",
          "DNK",
          "DNK",
          "DNK",
          "DNK",
          "DNK",
          "DJI",
          "DJI",
          "DJI",
          "DJI",
          "DJI",
          "DJI",
          "DJI",
          "DMA",
          "DMA",
          "DMA",
          "DMA",
          "DMA",
          "DMA",
          "DMA",
          "DOM",
          "DOM",
          "DOM",
          "DOM",
          "DOM",
          "DOM",
          "DOM",
          "ECU",
          "ECU",
          "ECU",
          "ECU",
          "ECU",
          "ECU",
          "ECU",
          "EGY",
          "EGY",
          "EGY",
          "EGY",
          "EGY",
          "EGY",
          "EGY",
          "SLV",
          "SLV",
          "SLV",
          "SLV",
          "SLV",
          "SLV",
          "SLV",
          "GNQ",
          "GNQ",
          "GNQ",
          "GNQ",
          "GNQ",
          "GNQ",
          "GNQ",
          "ERI",
          "ERI",
          "ERI",
          "ERI",
          "ERI",
          "ERI",
          "ERI",
          "EST",
          "EST",
          "EST",
          "EST",
          "EST",
          "EST",
          "EST",
          "ETH",
          "ETH",
          "ETH",
          "ETH",
          "ETH",
          "ETH",
          "ETH",
          "FJI",
          "FJI",
          "FJI",
          "FJI",
          "FJI",
          "FJI",
          "FJI",
          "FIN",
          "FIN",
          "FIN",
          "FIN",
          "FIN",
          "FIN",
          "FIN",
          "FRA",
          "FRA",
          "FRA",
          "FRA",
          "FRA",
          "FRA",
          "FRA",
          "GAB",
          "GAB",
          "GAB",
          "GAB",
          "GAB",
          "GAB",
          "GAB",
          "GMB",
          "GMB",
          "GMB",
          "GMB",
          "GMB",
          "GMB",
          "GMB",
          "GEO",
          "GEO",
          "GEO",
          "GEO",
          "GEO",
          "GEO",
          "GEO",
          "GEO",
          "GEO",
          "GEO",
          "GEO",
          "GEO",
          "GEO",
          "GEO",
          "DEU",
          "DEU",
          "DEU",
          "DEU",
          "DEU",
          "DEU",
          "DEU",
          "GHA",
          "GHA",
          "GHA",
          "GHA",
          "GHA",
          "GHA",
          "GHA",
          "GRC",
          "GRC",
          "GRC",
          "GRC",
          "GRC",
          "GRC",
          "GRC",
          "GRL",
          "GRL",
          "GRL",
          "GRL",
          "GRL",
          "GRL",
          "GRL",
          "GRD",
          "GRD",
          "GRD",
          "GRD",
          "GRD",
          "GRD",
          "GRD",
          "GUM",
          "GUM",
          "GUM",
          "GUM",
          "GUM",
          "GUM",
          "GUM",
          "GTM",
          "GTM",
          "GTM",
          "GTM",
          "GTM",
          "GTM",
          "GTM",
          "GIN",
          "GIN",
          "GIN",
          "GIN",
          "GIN",
          "GIN",
          "GIN",
          "GNB",
          "GNB",
          "GNB",
          "GNB",
          "GNB",
          "GNB",
          "GNB",
          "GUY",
          "GUY",
          "GUY",
          "GUY",
          "GUY",
          "GUY",
          "GUY",
          "HTI",
          "HTI",
          "HTI",
          "HTI",
          "HTI",
          "HTI",
          "HTI",
          "HND",
          "HND",
          "HND",
          "HND",
          "HND",
          "HND",
          "HND",
          "HUN",
          "HUN",
          "HUN",
          "HUN",
          "HUN",
          "HUN",
          "HUN",
          "ISL",
          "ISL",
          "ISL",
          "ISL",
          "ISL",
          "ISL",
          "ISL",
          "IND",
          "IND",
          "IND",
          "IND",
          "IND",
          "IND",
          "IND",
          "IDN",
          "IDN",
          "IDN",
          "IDN",
          "IDN",
          "IDN",
          "IDN",
          "IRN",
          "IRN",
          "IRN",
          "IRN",
          "IRN",
          "IRN",
          "IRN",
          "IRQ",
          "IRQ",
          "IRQ",
          "IRQ",
          "IRQ",
          "IRQ",
          "IRQ",
          "IRL",
          "IRL",
          "IRL",
          "IRL",
          "IRL",
          "IRL",
          "IRL",
          "ISR",
          "ISR",
          "ISR",
          "ISR",
          "ISR",
          "ISR",
          "ISR",
          "ITA",
          "ITA",
          "ITA",
          "ITA",
          "ITA",
          "ITA",
          "ITA",
          "JAM",
          "JAM",
          "JAM",
          "JAM",
          "JAM",
          "JAM",
          "JAM",
          "JPN",
          "JPN",
          "JPN",
          "JPN",
          "JPN",
          "JPN",
          "JPN",
          "JOR",
          "JOR",
          "JOR",
          "JOR",
          "JOR",
          "JOR",
          "JOR",
          "KAZ",
          "KAZ",
          "KAZ",
          "KAZ",
          "KAZ",
          "KAZ",
          "KAZ",
          "KAZ",
          "KAZ",
          "KAZ",
          "KAZ",
          "KAZ",
          "KAZ",
          "KAZ",
          "KEN",
          "KEN",
          "KEN",
          "KEN",
          "KEN",
          "KEN",
          "KEN",
          "KIR",
          "KIR",
          "KIR",
          "KIR",
          "KIR",
          "KIR",
          "KIR",
          "KWT",
          "KWT",
          "KWT",
          "KWT",
          "KWT",
          "KWT",
          "KWT",
          "KGZ",
          "KGZ",
          "KGZ",
          "KGZ",
          "KGZ",
          "KGZ",
          "KGZ",
          "LAO",
          "LAO",
          "LAO",
          "LAO",
          "LAO",
          "LAO",
          "LAO",
          "LVA",
          "LVA",
          "LVA",
          "LVA",
          "LVA",
          "LVA",
          "LVA",
          "LBN",
          "LBN",
          "LBN",
          "LBN",
          "LBN",
          "LBN",
          "LBN",
          "LSO",
          "LSO",
          "LSO",
          "LSO",
          "LSO",
          "LSO",
          "LSO",
          "LBR",
          "LBR",
          "LBR",
          "LBR",
          "LBR",
          "LBR",
          "LBR",
          "LBY",
          "LBY",
          "LBY",
          "LBY",
          "LBY",
          "LBY",
          "LBY",
          "LTU",
          "LTU",
          "LTU",
          "LTU",
          "LTU",
          "LTU",
          "LTU",
          "LUX",
          "LUX",
          "LUX",
          "LUX",
          "LUX",
          "LUX",
          "LUX",
          "MKD",
          "MKD",
          "MKD",
          "MKD",
          "MKD",
          "MKD",
          "MKD",
          "MDG",
          "MDG",
          "MDG",
          "MDG",
          "MDG",
          "MDG",
          "MDG",
          "MWI",
          "MWI",
          "MWI",
          "MWI",
          "MWI",
          "MWI",
          "MWI",
          "MYS",
          "MYS",
          "MYS",
          "MYS",
          "MYS",
          "MYS",
          "MYS",
          "MDV",
          "MDV",
          "MDV",
          "MDV",
          "MDV",
          "MDV",
          "MDV",
          "MLI",
          "MLI",
          "MLI",
          "MLI",
          "MLI",
          "MLI",
          "MLI",
          "MLT",
          "MLT",
          "MLT",
          "MLT",
          "MLT",
          "MLT",
          "MLT",
          "MHL",
          "MHL",
          "MHL",
          "MHL",
          "MHL",
          "MHL",
          "MHL",
          "MRT",
          "MRT",
          "MRT",
          "MRT",
          "MRT",
          "MRT",
          "MRT",
          "MUS",
          "MUS",
          "MUS",
          "MUS",
          "MUS",
          "MUS",
          "MUS",
          "MEX",
          "MEX",
          "MEX",
          "MEX",
          "MEX",
          "MEX",
          "MEX",
          "MDA",
          "MDA",
          "MDA",
          "MDA",
          "MDA",
          "MDA",
          "MDA",
          "MNG",
          "MNG",
          "MNG",
          "MNG",
          "MNG",
          "MNG",
          "MNG",
          "MNE",
          "MNE",
          "MNE",
          "MNE",
          "MNE",
          "MNE",
          "MNE",
          "MAR",
          "MAR",
          "MAR",
          "MAR",
          "MAR",
          "MAR",
          "MAR",
          "MOZ",
          "MOZ",
          "MOZ",
          "MOZ",
          "MOZ",
          "MOZ",
          "MOZ",
          "MMR",
          "MMR",
          "MMR",
          "MMR",
          "MMR",
          "MMR",
          "MMR",
          "NAM",
          "NAM",
          "NAM",
          "NAM",
          "NAM",
          "NAM",
          "NAM",
          "NPL",
          "NPL",
          "NPL",
          "NPL",
          "NPL",
          "NPL",
          "NPL",
          "NLD",
          "NLD",
          "NLD",
          "NLD",
          "NLD",
          "NLD",
          "NLD",
          "NZL",
          "NZL",
          "NZL",
          "NZL",
          "NZL",
          "NZL",
          "NZL",
          "NIC",
          "NIC",
          "NIC",
          "NIC",
          "NIC",
          "NIC",
          "NIC",
          "NER",
          "NER",
          "NER",
          "NER",
          "NER",
          "NER",
          "NER",
          "NGA",
          "NGA",
          "NGA",
          "NGA",
          "NGA",
          "NGA",
          "NGA",
          "PRK",
          "PRK",
          "PRK",
          "PRK",
          "PRK",
          "PRK",
          "PRK",
          "MNP",
          "MNP",
          "MNP",
          "MNP",
          "MNP",
          "MNP",
          "MNP",
          "NOR",
          "NOR",
          "NOR",
          "NOR",
          "NOR",
          "NOR",
          "NOR",
          "OMN",
          "OMN",
          "OMN",
          "OMN",
          "OMN",
          "OMN",
          "OMN",
          "PAK",
          "PAK",
          "PAK",
          "PAK",
          "PAK",
          "PAK",
          "PAK",
          "PSE",
          "PSE",
          "PSE",
          "PSE",
          "PSE",
          "PSE",
          "PSE",
          "PAN",
          "PAN",
          "PAN",
          "PAN",
          "PAN",
          "PAN",
          "PAN",
          "PNG",
          "PNG",
          "PNG",
          "PNG",
          "PNG",
          "PNG",
          "PNG",
          "PRY",
          "PRY",
          "PRY",
          "PRY",
          "PRY",
          "PRY",
          "PRY",
          "PER",
          "PER",
          "PER",
          "PER",
          "PER",
          "PER",
          "PER",
          "PHL",
          "PHL",
          "PHL",
          "PHL",
          "PHL",
          "PHL",
          "PHL",
          "POL",
          "POL",
          "POL",
          "POL",
          "POL",
          "POL",
          "POL",
          "PRT",
          "PRT",
          "PRT",
          "PRT",
          "PRT",
          "PRT",
          "PRT",
          "PRI",
          "PRI",
          "PRI",
          "PRI",
          "PRI",
          "PRI",
          "PRI",
          "QAT",
          "QAT",
          "QAT",
          "QAT",
          "QAT",
          "QAT",
          "QAT",
          "ROU",
          "ROU",
          "ROU",
          "ROU",
          "ROU",
          "ROU",
          "ROU",
          "RUS",
          "RUS",
          "RUS",
          "RUS",
          "RUS",
          "RUS",
          "RUS",
          "RUS",
          "RUS",
          "RUS",
          "RUS",
          "RUS",
          "RUS",
          "RUS",
          "RWA",
          "RWA",
          "RWA",
          "RWA",
          "RWA",
          "RWA",
          "RWA",
          "LCA",
          "LCA",
          "LCA",
          "LCA",
          "LCA",
          "LCA",
          "LCA",
          "VCT",
          "VCT",
          "VCT",
          "VCT",
          "VCT",
          "VCT",
          "VCT",
          "WSM",
          "WSM",
          "WSM",
          "WSM",
          "WSM",
          "WSM",
          "WSM",
          "STP",
          "STP",
          "STP",
          "STP",
          "STP",
          "STP",
          "STP",
          "SAU",
          "SAU",
          "SAU",
          "SAU",
          "SAU",
          "SAU",
          "SAU",
          "SEN",
          "SEN",
          "SEN",
          "SEN",
          "SEN",
          "SEN",
          "SEN",
          "SRB",
          "SRB",
          "SRB",
          "SRB",
          "SRB",
          "SRB",
          "SRB",
          "SYC",
          "SYC",
          "SYC",
          "SYC",
          "SYC",
          "SYC",
          "SYC",
          "SLE",
          "SLE",
          "SLE",
          "SLE",
          "SLE",
          "SLE",
          "SLE",
          "SVK",
          "SVK",
          "SVK",
          "SVK",
          "SVK",
          "SVK",
          "SVK",
          "SVN",
          "SVN",
          "SVN",
          "SVN",
          "SVN",
          "SVN",
          "SVN",
          "SLB",
          "SLB",
          "SLB",
          "SLB",
          "SLB",
          "SLB",
          "SLB",
          "SOM",
          "SOM",
          "SOM",
          "SOM",
          "SOM",
          "SOM",
          "SOM",
          "ZAF",
          "ZAF",
          "ZAF",
          "ZAF",
          "ZAF",
          "ZAF",
          "ZAF",
          "SSD",
          "SSD",
          "SSD",
          "SSD",
          "SSD",
          "SSD",
          "SSD",
          "ESP",
          "ESP",
          "ESP",
          "ESP",
          "ESP",
          "ESP",
          "ESP",
          "LKA",
          "LKA",
          "LKA",
          "LKA",
          "LKA",
          "LKA",
          "LKA",
          "SDN",
          "SDN",
          "SDN",
          "SDN",
          "SDN",
          "SDN",
          "SDN",
          "SUR",
          "SUR",
          "SUR",
          "SUR",
          "SUR",
          "SUR",
          "SUR",
          "SWZ",
          "SWZ",
          "SWZ",
          "SWZ",
          "SWZ",
          "SWZ",
          "SWZ",
          "SWE",
          "SWE",
          "SWE",
          "SWE",
          "SWE",
          "SWE",
          "SWE",
          "CHE",
          "CHE",
          "CHE",
          "CHE",
          "CHE",
          "CHE",
          "CHE",
          "SYR",
          "SYR",
          "SYR",
          "SYR",
          "SYR",
          "SYR",
          "SYR",
          "TWN",
          "TWN",
          "TWN",
          "TWN",
          "TWN",
          "TWN",
          "TWN",
          "TJK",
          "TJK",
          "TJK",
          "TJK",
          "TJK",
          "TJK",
          "TJK",
          "TZA",
          "TZA",
          "TZA",
          "TZA",
          "TZA",
          "TZA",
          "TZA",
          "THA",
          "THA",
          "THA",
          "THA",
          "THA",
          "THA",
          "THA",
          "TLS",
          "TLS",
          "TLS",
          "TLS",
          "TLS",
          "TLS",
          "TLS",
          "TGO",
          "TGO",
          "TGO",
          "TGO",
          "TGO",
          "TGO",
          "TGO",
          "TON",
          "TON",
          "TON",
          "TON",
          "TON",
          "TON",
          "TON",
          "TTO",
          "TTO",
          "TTO",
          "TTO",
          "TTO",
          "TTO",
          "TTO",
          "TUN",
          "TUN",
          "TUN",
          "TUN",
          "TUN",
          "TUN",
          "TUN",
          "TUR",
          "TUR",
          "TUR",
          "TUR",
          "TUR",
          "TUR",
          "TUR",
          "TUR",
          "TUR",
          "TUR",
          "TUR",
          "TUR",
          "TUR",
          "TUR",
          "TKM",
          "TKM",
          "TKM",
          "TKM",
          "TKM",
          "TKM",
          "TKM",
          "UGA",
          "UGA",
          "UGA",
          "UGA",
          "UGA",
          "UGA",
          "UGA",
          "UKR",
          "UKR",
          "UKR",
          "UKR",
          "UKR",
          "UKR",
          "UKR",
          "ARE",
          "ARE",
          "ARE",
          "ARE",
          "ARE",
          "ARE",
          "ARE",
          "GBR",
          "GBR",
          "GBR",
          "GBR",
          "GBR",
          "GBR",
          "GBR",
          "USA",
          "USA",
          "USA",
          "USA",
          "USA",
          "USA",
          "USA",
          "URY",
          "URY",
          "URY",
          "URY",
          "URY",
          "URY",
          "URY",
          "UZB",
          "UZB",
          "UZB",
          "UZB",
          "UZB",
          "UZB",
          "UZB",
          "VUT",
          "VUT",
          "VUT",
          "VUT",
          "VUT",
          "VUT",
          "VUT",
          "VEN",
          "VEN",
          "VEN",
          "VEN",
          "VEN",
          "VEN",
          "VEN",
          "VNM",
          "VNM",
          "VNM",
          "VNM",
          "VNM",
          "VNM",
          "VNM",
          "YEM",
          "YEM",
          "YEM",
          "YEM",
          "YEM",
          "YEM",
          "YEM",
          "ZMB",
          "ZMB",
          "ZMB",
          "ZMB",
          "ZMB",
          "ZMB",
          "ZMB",
          "ZWE",
          "ZWE",
          "ZWE",
          "ZWE",
          "ZWE",
          "ZWE",
          "ZWE"
         ],
         "name": "",
         "type": "choropleth",
         "z": [
          19.3,
          19.1,
          18.6,
          18.9,
          19,
          19.4,
          20.3,
          29.3,
          29.4,
          31.8,
          29.7,
          29.3,
          28.1,
          28,
          15.9,
          14.5,
          10,
          9.3,
          8.8,
          7.5,
          7.4,
          24.2,
          23.6,
          22.6,
          22.8,
          22.4,
          21.6,
          22.4,
          23.2,
          22.4,
          22,
          22.3,
          22.2,
          21.8,
          22.4,
          10.1,
          9.5,
          8.6,
          8.2,
          8.3,
          8.8,
          10.2,
          8.1,
          7.5,
          7.1,
          6,
          6.1,
          5.7,
          5.2,
          24.7,
          24.4,
          23.5,
          22.7,
          22.7,
          22.4,
          22,
          28.7,
          28.7,
          29.8,
          29.8,
          29.4,
          29.4,
          31.5,
          31.5,
          32.5,
          32.5,
          32.4,
          32.4,
          29.2,
          29.2,
          27.3,
          26.6,
          25.6,
          25.1,
          25.1,
          24.4,
          23.5,
          25.2,
          25.2,
          25,
          25.6,
          25.8,
          26.1,
          24.7,
          25.7,
          25.7,
          22.9,
          22.9,
          20.5,
          20.5,
          20.1,
          20.1,
          20.5,
          20.5,
          22.5,
          22.5,
          22.2,
          22.2,
          16,
          15.5,
          13.7,
          12.4,
          12,
          11.2,
          11.1,
          33.9,
          29.6,
          26.6,
          25,
          24.5,
          21.6,
          19.3,
          29,
          28.9,
          28.6,
          26.9,
          27.7,
          30.7,
          38.3,
          8,
          8.1,
          6.7,
          6,
          6,
          5.5,
          5.7,
          30.3,
          33,
          31.1,
          29.7,
          29,
          27.7,
          25.5,
          35.4,
          35.1,
          34.4,
          33.9,
          33.8,
          34.3,
          33,
          10.2,
          14.3,
          15.9,
          16.8,
          16.5,
          14.8,
          16,
          7.4,
          7.6,
          8.2,
          8.9,
          9.1,
          9.7,
          10.4,
          33.2,
          33,
          32.9,
          29.1,
          29.3,
          27.4,
          24.9,
          9.4,
          8.7,
          7.4,
          7.4,
          7.3,
          7.3,
          7.8,
          9,
          8.9,
          8.2,
          8.8,
          8.7,
          8.6,
          9.2,
          35.9,
          35.4,
          35.4,
          34.3,
          34.3,
          34.3,
          33.6,
          23.6,
          25.7,
          27.2,
          24.9,
          24.8,
          24.2,
          22,
          19.5,
          20.1,
          19.8,
          19.1,
          18.8,
          17.8,
          17,
          20.3,
          19.6,
          20,
          20.4,
          20.5,
          21,
          21.4,
          25.7,
          27.2,
          26.1,
          27.7,
          27.8,
          27.7,
          26.3,
          4.5,
          4.6,
          4.7,
          4,
          4,
          4.2,
          4.6,
          7.7,
          7.5,
          5.6,
          4.5,
          4.5,
          4.4,
          4.8,
          24,
          24.7,
          24.6,
          25.4,
          25.4,
          26,
          26.8,
          9.9,
          10,
          11,
          11.6,
          11.7,
          11.7,
          12.1,
          36.3,
          37,
          36.2,
          36.4,
          36.4,
          34.4,
          33.4,
          16,
          18.5,
          19,
          19.8,
          19.9,
          20.5,
          19.8,
          11.5,
          11.9,
          12.3,
          12.4,
          12.4,
          12.4,
          12.3,
          5.1,
          5.4,
          6.8,
          7.1,
          7.3,
          8.3,
          9.1,
          16.1,
          15.7,
          14.1,
          14.3,
          14.4,
          14.6,
          14.3,
          18.3,
          18.6,
          20.8,
          23.4,
          23.2,
          23.9,
          22,
          14.8,
          15.3,
          14.7,
          14.7,
          14.8,
          13.6,
          11.5,
          5.5,
          5.5,
          4.5,
          4.2,
          4.2,
          4.4,
          4.5,
          15.7,
          15.7,
          14,
          11.4,
          11.2,
          10.7,
          11.1,
          9.7,
          8.9,
          8.4,
          6.9,
          6.4,
          5.4,
          5.3,
          4.4,
          5.7,
          5.3,
          4.7,
          4.7,
          4.5,
          4.5,
          32.8,
          33,
          34,
          33.2,
          33,
          31.8,
          30,
          31.2,
          31,
          32.4,
          33.6,
          33.7,
          33.4,
          33.2,
          19.2,
          19.2,
          19.2,
          19.2,
          19,
          19,
          21.7,
          21.7,
          21.6,
          21.6,
          23.2,
          23.2,
          21.8,
          21.8,
          32.9,
          31.9,
          31.2,
          30,
          29.8,
          29.3,
          25.9,
          6.1,
          5.9,
          5.7,
          4.9,
          5,
          5.4,
          7,
          35.3,
          36.3,
          35.5,
          35.8,
          35.6,
          34.6,
          32.3,
          4.8,
          4.5,
          4.4,
          4.4,
          4.4,
          4.7,
          4.9,
          13.1,
          13.9,
          12.5,
          11.9,
          11.9,
          12.3,
          12.7,
          12.5,
          12.9,
          12.9,
          11.7,
          11.6,
          11.5,
          11.7,
          5.3,
          6.5,
          6.2,
          6.6,
          6.4,
          6.2,
          5.3,
          5.6,
          6,
          6.5,
          7.4,
          7.6,
          8.3,
          8.1,
          4.6,
          4.2,
          4.5,
          5.2,
          5.1,
          4.9,
          5.3,
          11.2,
          10.4,
          12.3,
          12,
          12.3,
          12.5,
          12.8,
          4.8,
          3.4,
          3.2,
          3.6,
          3.6,
          3.6,
          3.8,
          33.8,
          34.7,
          31.2,
          30.3,
          30.4,
          26.8,
          25.1,
          5.8,
          4.3,
          3.2,
          2.9,
          3,
          3.3,
          4.1,
          6.8,
          6.4,
          6.1,
          6.3,
          6.4,
          5.9,
          5.6,
          26.5,
          24.3,
          23.3,
          22.9,
          23,
          22.7,
          20.3,
          28.6,
          28.9,
          29.3,
          29.4,
          29.7,
          30.5,
          28.6,
          13.3,
          13.1,
          10.6,
          8.7,
          8.4,
          7.3,
          7.5,
          4.7,
          4.8,
          5.4,
          5.7,
          5.8,
          5.8,
          5.5,
          25.3,
          25.3,
          20.2,
          20.2,
          20.3,
          20.3,
          22.3,
          22.3,
          22.4,
          22.4,
          25.1,
          25.1,
          25.5,
          25.5,
          27.8,
          28.5,
          27.9,
          27.6,
          27.7,
          27.8,
          26.7,
          2.9,
          2.9,
          2.9,
          3.5,
          3.5,
          3.6,
          3.9,
          34.7,
          34.9,
          34.5,
          34.1,
          33.9,
          33.6,
          32.5,
          57.6,
          57.7,
          57.7,
          57,
          56.8,
          57,
          57.1,
          10.1,
          10.1,
          10.3,
          11.1,
          11.3,
          10.9,
          11.6,
          40.9,
          38.7,
          37.8,
          39.5,
          39.8,
          41.1,
          40.5,
          4.1,
          4.8,
          5.7,
          5.2,
          4.6,
          3.2,
          3,
          6.4,
          7.8,
          9,
          9.1,
          9.3,
          10.1,
          10.3,
          8.4,
          8.4,
          8.4,
          9.1,
          9.2,
          10.1,
          10.8,
          5.6,
          4.5,
          5.8,
          5.1,
          4.9,
          4.7,
          4,
          14.5,
          13.7,
          12.7,
          12.4,
          12.4,
          12.4,
          13,
          5.5,
          6.4,
          6.3,
          7.1,
          7.1,
          7.1,
          7,
          34.6,
          36.9,
          38.1,
          39.8,
          40.1,
          41,
          38.4,
          29.7,
          30.9,
          30.9,
          31.2,
          31.2,
          30.6,
          29.5,
          10.2,
          10.1,
          9.9,
          10.4,
          10.3,
          10.4,
          10.8,
          8.3,
          8.8,
          7.6,
          7.8,
          7.9,
          7.7,
          7,
          13.3,
          14.6,
          14.4,
          13.2,
          13.6,
          15.6,
          15.8,
          12.5,
          13.5,
          15,
          16.2,
          16.5,
          17.7,
          16,
          31.7,
          32,
          32.1,
          31.2,
          31.1,
          30.2,
          28.2,
          22.3,
          22.2,
          21.5,
          22.2,
          22.3,
          21.5,
          21.5,
          33.2,
          32.6,
          31.4,
          29.1,
          29.1,
          28.7,
          27.4,
          14.1,
          16.5,
          17.4,
          15.1,
          15.7,
          16,
          16.5,
          16.4,
          17.7,
          17.8,
          17.7,
          17.7,
          17.2,
          15.4,
          12.2,
          12.1,
          11.8,
          14.1,
          14.5,
          15.8,
          15,
          37.7,
          37.7,
          37.5,
          37.5,
          33.6,
          33.6,
          31.8,
          31.8,
          31.1,
          31.1,
          27.1,
          27.1,
          24.2,
          24.2,
          2.9,
          3.4,
          3.7,
          3.4,
          3.3,
          3.4,
          3.8,
          21.4,
          21.4,
          22.9,
          23.2,
          23.2,
          23.1,
          22.6,
          17.8,
          18.7,
          14.5,
          13.2,
          13.5,
          12.5,
          10.1,
          27.2,
          25.8,
          19.5,
          19.3,
          19.1,
          17.5,
          15.4,
          22.1,
          23.2,
          23.3,
          23.5,
          23.6,
          23.8,
          25.2,
          32.4,
          33.1,
          28.9,
          30,
          29.7,
          27,
          25.5,
          24.6,
          19.2,
          18.9,
          22.3,
          22.7,
          22.7,
          22.6,
          19.7,
          21.1,
          22.8,
          25.2,
          25.5,
          25.3,
          26.4,
          3.4,
          2.2,
          2.2,
          2.8,
          3,
          3.8,
          4.6,
          24.7,
          23.6,
          23.8,
          25.1,
          25.4,
          26.5,
          27.1,
          31.9,
          32.8,
          28.9,
          29.6,
          29.6,
          27.4,
          25.5,
          31.6,
          31.8,
          31,
          30.4,
          30.2,
          29.5,
          27.5,
          26.8,
          27.8,
          28.9,
          30.3,
          30.6,
          31.6,
          29.7,
          4.4,
          3.8,
          3.4,
          3.3,
          3.2,
          3.2,
          3.4,
          3.8,
          4.5,
          5.3,
          4.9,
          5.1,
          5.4,
          5.5,
          30.5,
          30,
          29.4,
          29.2,
          29.1,
          28.3,
          27.9,
          17.2,
          17.7,
          16.5,
          14.5,
          14.1,
          13.6,
          15.3,
          4.5,
          3.2,
          2.6,
          2.7,
          2.8,
          3.2,
          3.3,
          25.2,
          25.1,
          24.9,
          21.8,
          22.2,
          22.9,
          22.1,
          18.9,
          19,
          18.3,
          18.5,
          18.5,
          18.1,
          17.5,
          10,
          8.8,
          6.8,
          5.5,
          5.6,
          5.9,
          7.4,
          19.4,
          18.3,
          15.9,
          16.3,
          16,
          14.7,
          13.9,
          13.6,
          13.4,
          11.6,
          10.4,
          9.8,
          8.2,
          7.1,
          29.1,
          29.4,
          24.1,
          24.9,
          24.4,
          25.1,
          22.2,
          33.7,
          37.5,
          33.9,
          32.1,
          31.8,
          30.5,
          30.2,
          40.8,
          41.4,
          41.8,
          41.2,
          41.1,
          39.7,
          38.9,
          22.4,
          20.4,
          19.4,
          18.9,
          18.9,
          18.9,
          19.1,
          3.2,
          3.1,
          4,
          4.6,
          4.9,
          5.6,
          5.6,
          22.5,
          22.4,
          23,
          24.5,
          24.7,
          25.8,
          27.8,
          3.9,
          4.2,
          5.7,
          4.8,
          4.6,
          3.6,
          3.1,
          13.2,
          12.9,
          12.4,
          12,
          11.9,
          11.8,
          12.2,
          36.2,
          35.9,
          35.7,
          35.1,
          34.8,
          34.7,
          33,
          29.1,
          27.5,
          25.4,
          24.5,
          24.4,
          23.6,
          22.4,
          2.9,
          3.5,
          3.3,
          3.4,
          3.3,
          3.2,
          3.4,
          5.8,
          4.3,
          4.1,
          4.8,
          5.1,
          6.1,
          6.1,
          2.8,
          2.2,
          2.1,
          2.1,
          2.1,
          2.1,
          2.2,
          56.8,
          56,
          54.2,
          53.7,
          53.4,
          52.6,
          51.8,
          40.8,
          40.3,
          39,
          40.3,
          40.4,
          40.4,
          43.1,
          20.7,
          22.8,
          25,
          26.1,
          26.3,
          26.9,
          24.1,
          3.8,
          5.7,
          4.5,
          4.9,
          5,
          7,
          11,
          14.4,
          16.1,
          19.2,
          18.7,
          18.6,
          17.8,
          18,
          16.8,
          17.3,
          19.1,
          20.1,
          20.4,
          22.2,
          23.7,
          14.3,
          14.3,
          11.7,
          11.2,
          10.9,
          9.5,
          8.6,
          19.4,
          19.8,
          19.5,
          19.4,
          19.3,
          19.1,
          19.5,
          11.1,
          12.4,
          15.5,
          16.5,
          16.5,
          16.9,
          16.9,
          12.8,
          14.2,
          10,
          8.4,
          8.4,
          8.5,
          7.7,
          21.3,
          25,
          25.9,
          25.1,
          24.5,
          22.4,
          22.3,
          35.6,
          36.1,
          36.2,
          36.2,
          36.2,
          36,
          33.3,
          19,
          20.5,
          21.1,
          22.9,
          23.1,
          23,
          21.2,
          17.5,
          17.7,
          15.2,
          13.9,
          14,
          14.1,
          13.1,
          14.6,
          17.4,
          13.1,
          15.5,
          15.5,
          16.7,
          15.9,
          25.8,
          28.8,
          27.9,
          29.2,
          29.4,
          31.2,
          29.4,
          32.6,
          32.6,
          34.3,
          34.3,
          30.5,
          30.5,
          29.1,
          29.1,
          28,
          28,
          26.4,
          26.4,
          24.4,
          24.4,
          4.6,
          6.9,
          4.7,
          3.2,
          3.3,
          3.6,
          3.9,
          10.6,
          9.7,
          9.4,
          9.9,
          9.6,
          8,
          8.8,
          8,
          8.5,
          8.6,
          8,
          8,
          7.7,
          8.5,
          7.7,
          7,
          6.3,
          5.9,
          5.8,
          5.5,
          5.1,
          12.8,
          12.5,
          13.6,
          15.2,
          15.4,
          15.4,
          17.3,
          6.2,
          6.5,
          7.4,
          8.5,
          8.7,
          9.9,
          9.5,
          10,
          8.7,
          7.9,
          8.4,
          8.7,
          9.6,
          11.4,
          30.5,
          31.4,
          32.3,
          34,
          34.1,
          34.6,
          33.1,
          19.3,
          21.6,
          19.5,
          19.5,
          19.1,
          17.5,
          15.7,
          6.5,
          6.3,
          6.2,
          7.2,
          7.4,
          8,
          8.6,
          33.4,
          31.6,
          30.5,
          28.7,
          28.3,
          27.5,
          25.3,
          31.1,
          31,
          30.6,
          30.3,
          30,
          28.1,
          25,
          21.6,
          22,
          21.9,
          21.6,
          21.7,
          22,
          22,
          3,
          3,
          2.6,
          2.5,
          2.5,
          2.5,
          2.8,
          27,
          26.5,
          26.5,
          21.9,
          21.7,
          21.6,
          22.1,
          2.1,
          2.4,
          2.3,
          2.2,
          2.3,
          2.3,
          2.5,
          28.3,
          29.3,
          29.3,
          29.6,
          29.5,
          29.1,
          26.4,
          7.3,
          8,
          8.4,
          9.8,
          10.1,
          10.2,
          8.4,
          11,
          10.7,
          11,
          11.6,
          11.6,
          11.2,
          11.1,
          11.4,
          11.8,
          13,
          13.2,
          13.3,
          13.4,
          13.7,
          21.4,
          21.7,
          26.2,
          26.5,
          26.3,
          26.1,
          24.3,
          18.4,
          17.9,
          18.8,
          20,
          19.9,
          19.5,
          18.9,
          28.4,
          27.7,
          27.3,
          27,
          26.8,
          26.5,
          24.1,
          7.8,
          7.5,
          8.2,
          8,
          8.4,
          11.5,
          9.8,
          30.1,
          33.9,
          36.3,
          36.2,
          35.9,
          34.7,
          33.4,
          17.9,
          10.5,
          7.3,
          7.6,
          7.3,
          7.1,
          6.2,
          3.8,
          3.6,
          3.5,
          3.8,
          3.9,
          4.2,
          5.1,
          32.9,
          32.8,
          33.7,
          31.9,
          31.9,
          31,
          30.4,
          15.1,
          15.6,
          12.7,
          14.6,
          14.7,
          14.4,
          14.9,
          8.5,
          8.9,
          9.5,
          10,
          10.2,
          10.9,
          11.1,
          28.5,
          28.5,
          28.2,
          28.3,
          28.2,
          27.8,
          27.3,
          9.9,
          9.5,
          9.9,
          9.1,
          9.1,
          9.3,
          8.4,
          27.6,
          27.8,
          26.2,
          24.1,
          24.2,
          24.2,
          25.8,
          36.5,
          36.5,
          35.6,
          35.6,
          34.6,
          34.6,
          34.6,
          34.6,
          34.5,
          34.5,
          34.5,
          34.5,
          32.3,
          32.3,
          21.3,
          18.9,
          15.1,
          11.4,
          11.2,
          10.9,
          10.2,
          4.6,
          4.9,
          4.9,
          5.4,
          5.5,
          5.3,
          5.9,
          32.9,
          34,
          30.1,
          28.2,
          27.3,
          24,
          23.4,
          12.1,
          13.1,
          14.3,
          14.4,
          15,
          21.8,
          18.1,
          36.2,
          35,
          33.6,
          33.1,
          32.9,
          32,
          31.4,
          39.7,
          40.5,
          40,
          39.1,
          38.6,
          36.6,
          36,
          30.3,
          29.6,
          27.5,
          27,
          27,
          27.3,
          27.2,
          23,
          20.4,
          16.5,
          14.2,
          13.8,
          11.3,
          11.2,
          22.9,
          23.6,
          23.6,
          23.2,
          22.9,
          22.2,
          21.1,
          18.3,
          18.3,
          18,
          18,
          18.5,
          18.5,
          18.9,
          39.7,
          41.1,
          43.6,
          45.2,
          45.3,
          45.3,
          45.8,
          11.1,
          11.7,
          12.4,
          13.8,
          13.9,
          15,
          15.5,
          1.5,
          1.7,
          2.3,
          3.7,
          3.9,
          4.6,
          5.3,
          18.7,
          13.1,
          12.4,
          14.1,
          14.1,
          13.6,
          11.8
         ]
        }
       ],
       "layout": {
        "coloraxis": {
         "colorbar": {
          "title": {
           "text": "Cancer deaths attributed to tobacco (%)"
          }
         },
         "colorscale": [
          [
           0,
           "#0d0887"
          ],
          [
           0.1111111111111111,
           "#46039f"
          ],
          [
           0.2222222222222222,
           "#7201a8"
          ],
          [
           0.3333333333333333,
           "#9c179e"
          ],
          [
           0.4444444444444444,
           "#bd3786"
          ],
          [
           0.5555555555555556,
           "#d8576b"
          ],
          [
           0.6666666666666666,
           "#ed7953"
          ],
          [
           0.7777777777777778,
           "#fb9f3a"
          ],
          [
           0.8888888888888888,
           "#fdca26"
          ],
          [
           1,
           "#f0f921"
          ]
         ]
        },
        "geo": {
         "center": {},
         "domain": {
          "x": [
           0,
           1
          ],
          "y": [
           0,
           1
          ]
         }
        },
        "height": 600,
        "legend": {
         "tracegroupgap": 0
        },
        "template": {
         "data": {
          "bar": [
           {
            "error_x": {
             "color": "#2a3f5f"
            },
            "error_y": {
             "color": "#2a3f5f"
            },
            "marker": {
             "line": {
              "color": "#E5ECF6",
              "width": 0.5
             }
            },
            "type": "bar"
           }
          ],
          "barpolar": [
           {
            "marker": {
             "line": {
              "color": "#E5ECF6",
              "width": 0.5
             }
            },
            "type": "barpolar"
           }
          ],
          "carpet": [
           {
            "aaxis": {
             "endlinecolor": "#2a3f5f",
             "gridcolor": "white",
             "linecolor": "white",
             "minorgridcolor": "white",
             "startlinecolor": "#2a3f5f"
            },
            "baxis": {
             "endlinecolor": "#2a3f5f",
             "gridcolor": "white",
             "linecolor": "white",
             "minorgridcolor": "white",
             "startlinecolor": "#2a3f5f"
            },
            "type": "carpet"
           }
          ],
          "choropleth": [
           {
            "colorbar": {
             "outlinewidth": 0,
             "ticks": ""
            },
            "type": "choropleth"
           }
          ],
          "contour": [
           {
            "colorbar": {
             "outlinewidth": 0,
             "ticks": ""
            },
            "colorscale": [
             [
              0,
              "#0d0887"
             ],
             [
              0.1111111111111111,
              "#46039f"
             ],
             [
              0.2222222222222222,
              "#7201a8"
             ],
             [
              0.3333333333333333,
              "#9c179e"
             ],
             [
              0.4444444444444444,
              "#bd3786"
             ],
             [
              0.5555555555555556,
              "#d8576b"
             ],
             [
              0.6666666666666666,
              "#ed7953"
             ],
             [
              0.7777777777777778,
              "#fb9f3a"
             ],
             [
              0.8888888888888888,
              "#fdca26"
             ],
             [
              1,
              "#f0f921"
             ]
            ],
            "type": "contour"
           }
          ],
          "contourcarpet": [
           {
            "colorbar": {
             "outlinewidth": 0,
             "ticks": ""
            },
            "type": "contourcarpet"
           }
          ],
          "heatmap": [
           {
            "colorbar": {
             "outlinewidth": 0,
             "ticks": ""
            },
            "colorscale": [
             [
              0,
              "#0d0887"
             ],
             [
              0.1111111111111111,
              "#46039f"
             ],
             [
              0.2222222222222222,
              "#7201a8"
             ],
             [
              0.3333333333333333,
              "#9c179e"
             ],
             [
              0.4444444444444444,
              "#bd3786"
             ],
             [
              0.5555555555555556,
              "#d8576b"
             ],
             [
              0.6666666666666666,
              "#ed7953"
             ],
             [
              0.7777777777777778,
              "#fb9f3a"
             ],
             [
              0.8888888888888888,
              "#fdca26"
             ],
             [
              1,
              "#f0f921"
             ]
            ],
            "type": "heatmap"
           }
          ],
          "heatmapgl": [
           {
            "colorbar": {
             "outlinewidth": 0,
             "ticks": ""
            },
            "colorscale": [
             [
              0,
              "#0d0887"
             ],
             [
              0.1111111111111111,
              "#46039f"
             ],
             [
              0.2222222222222222,
              "#7201a8"
             ],
             [
              0.3333333333333333,
              "#9c179e"
             ],
             [
              0.4444444444444444,
              "#bd3786"
             ],
             [
              0.5555555555555556,
              "#d8576b"
             ],
             [
              0.6666666666666666,
              "#ed7953"
             ],
             [
              0.7777777777777778,
              "#fb9f3a"
             ],
             [
              0.8888888888888888,
              "#fdca26"
             ],
             [
              1,
              "#f0f921"
             ]
            ],
            "type": "heatmapgl"
           }
          ],
          "histogram": [
           {
            "marker": {
             "colorbar": {
              "outlinewidth": 0,
              "ticks": ""
             }
            },
            "type": "histogram"
           }
          ],
          "histogram2d": [
           {
            "colorbar": {
             "outlinewidth": 0,
             "ticks": ""
            },
            "colorscale": [
             [
              0,
              "#0d0887"
             ],
             [
              0.1111111111111111,
              "#46039f"
             ],
             [
              0.2222222222222222,
              "#7201a8"
             ],
             [
              0.3333333333333333,
              "#9c179e"
             ],
             [
              0.4444444444444444,
              "#bd3786"
             ],
             [
              0.5555555555555556,
              "#d8576b"
             ],
             [
              0.6666666666666666,
              "#ed7953"
             ],
             [
              0.7777777777777778,
              "#fb9f3a"
             ],
             [
              0.8888888888888888,
              "#fdca26"
             ],
             [
              1,
              "#f0f921"
             ]
            ],
            "type": "histogram2d"
           }
          ],
          "histogram2dcontour": [
           {
            "colorbar": {
             "outlinewidth": 0,
             "ticks": ""
            },
            "colorscale": [
             [
              0,
              "#0d0887"
             ],
             [
              0.1111111111111111,
              "#46039f"
             ],
             [
              0.2222222222222222,
              "#7201a8"
             ],
             [
              0.3333333333333333,
              "#9c179e"
             ],
             [
              0.4444444444444444,
              "#bd3786"
             ],
             [
              0.5555555555555556,
              "#d8576b"
             ],
             [
              0.6666666666666666,
              "#ed7953"
             ],
             [
              0.7777777777777778,
              "#fb9f3a"
             ],
             [
              0.8888888888888888,
              "#fdca26"
             ],
             [
              1,
              "#f0f921"
             ]
            ],
            "type": "histogram2dcontour"
           }
          ],
          "mesh3d": [
           {
            "colorbar": {
             "outlinewidth": 0,
             "ticks": ""
            },
            "type": "mesh3d"
           }
          ],
          "parcoords": [
           {
            "line": {
             "colorbar": {
              "outlinewidth": 0,
              "ticks": ""
             }
            },
            "type": "parcoords"
           }
          ],
          "pie": [
           {
            "automargin": true,
            "type": "pie"
           }
          ],
          "scatter": [
           {
            "marker": {
             "colorbar": {
              "outlinewidth": 0,
              "ticks": ""
             }
            },
            "type": "scatter"
           }
          ],
          "scatter3d": [
           {
            "line": {
             "colorbar": {
              "outlinewidth": 0,
              "ticks": ""
             }
            },
            "marker": {
             "colorbar": {
              "outlinewidth": 0,
              "ticks": ""
             }
            },
            "type": "scatter3d"
           }
          ],
          "scattercarpet": [
           {
            "marker": {
             "colorbar": {
              "outlinewidth": 0,
              "ticks": ""
             }
            },
            "type": "scattercarpet"
           }
          ],
          "scattergeo": [
           {
            "marker": {
             "colorbar": {
              "outlinewidth": 0,
              "ticks": ""
             }
            },
            "type": "scattergeo"
           }
          ],
          "scattergl": [
           {
            "marker": {
             "colorbar": {
              "outlinewidth": 0,
              "ticks": ""
             }
            },
            "type": "scattergl"
           }
          ],
          "scattermapbox": [
           {
            "marker": {
             "colorbar": {
              "outlinewidth": 0,
              "ticks": ""
             }
            },
            "type": "scattermapbox"
           }
          ],
          "scatterpolar": [
           {
            "marker": {
             "colorbar": {
              "outlinewidth": 0,
              "ticks": ""
             }
            },
            "type": "scatterpolar"
           }
          ],
          "scatterpolargl": [
           {
            "marker": {
             "colorbar": {
              "outlinewidth": 0,
              "ticks": ""
             }
            },
            "type": "scatterpolargl"
           }
          ],
          "scatterternary": [
           {
            "marker": {
             "colorbar": {
              "outlinewidth": 0,
              "ticks": ""
             }
            },
            "type": "scatterternary"
           }
          ],
          "surface": [
           {
            "colorbar": {
             "outlinewidth": 0,
             "ticks": ""
            },
            "colorscale": [
             [
              0,
              "#0d0887"
             ],
             [
              0.1111111111111111,
              "#46039f"
             ],
             [
              0.2222222222222222,
              "#7201a8"
             ],
             [
              0.3333333333333333,
              "#9c179e"
             ],
             [
              0.4444444444444444,
              "#bd3786"
             ],
             [
              0.5555555555555556,
              "#d8576b"
             ],
             [
              0.6666666666666666,
              "#ed7953"
             ],
             [
              0.7777777777777778,
              "#fb9f3a"
             ],
             [
              0.8888888888888888,
              "#fdca26"
             ],
             [
              1,
              "#f0f921"
             ]
            ],
            "type": "surface"
           }
          ],
          "table": [
           {
            "cells": {
             "fill": {
              "color": "#EBF0F8"
             },
             "line": {
              "color": "white"
             }
            },
            "header": {
             "fill": {
              "color": "#C8D4E3"
             },
             "line": {
              "color": "white"
             }
            },
            "type": "table"
           }
          ]
         },
         "layout": {
          "annotationdefaults": {
           "arrowcolor": "#2a3f5f",
           "arrowhead": 0,
           "arrowwidth": 1
          },
          "coloraxis": {
           "colorbar": {
            "outlinewidth": 0,
            "ticks": ""
           }
          },
          "colorscale": {
           "diverging": [
            [
             0,
             "#8e0152"
            ],
            [
             0.1,
             "#c51b7d"
            ],
            [
             0.2,
             "#de77ae"
            ],
            [
             0.3,
             "#f1b6da"
            ],
            [
             0.4,
             "#fde0ef"
            ],
            [
             0.5,
             "#f7f7f7"
            ],
            [
             0.6,
             "#e6f5d0"
            ],
            [
             0.7,
             "#b8e186"
            ],
            [
             0.8,
             "#7fbc41"
            ],
            [
             0.9,
             "#4d9221"
            ],
            [
             1,
             "#276419"
            ]
           ],
           "sequential": [
            [
             0,
             "#0d0887"
            ],
            [
             0.1111111111111111,
             "#46039f"
            ],
            [
             0.2222222222222222,
             "#7201a8"
            ],
            [
             0.3333333333333333,
             "#9c179e"
            ],
            [
             0.4444444444444444,
             "#bd3786"
            ],
            [
             0.5555555555555556,
             "#d8576b"
            ],
            [
             0.6666666666666666,
             "#ed7953"
            ],
            [
             0.7777777777777778,
             "#fb9f3a"
            ],
            [
             0.8888888888888888,
             "#fdca26"
            ],
            [
             1,
             "#f0f921"
            ]
           ],
           "sequentialminus": [
            [
             0,
             "#0d0887"
            ],
            [
             0.1111111111111111,
             "#46039f"
            ],
            [
             0.2222222222222222,
             "#7201a8"
            ],
            [
             0.3333333333333333,
             "#9c179e"
            ],
            [
             0.4444444444444444,
             "#bd3786"
            ],
            [
             0.5555555555555556,
             "#d8576b"
            ],
            [
             0.6666666666666666,
             "#ed7953"
            ],
            [
             0.7777777777777778,
             "#fb9f3a"
            ],
            [
             0.8888888888888888,
             "#fdca26"
            ],
            [
             1,
             "#f0f921"
            ]
           ]
          },
          "colorway": [
           "#636efa",
           "#EF553B",
           "#00cc96",
           "#ab63fa",
           "#FFA15A",
           "#19d3f3",
           "#FF6692",
           "#B6E880",
           "#FF97FF",
           "#FECB52"
          ],
          "font": {
           "color": "#2a3f5f"
          },
          "geo": {
           "bgcolor": "white",
           "lakecolor": "white",
           "landcolor": "#E5ECF6",
           "showlakes": true,
           "showland": true,
           "subunitcolor": "white"
          },
          "hoverlabel": {
           "align": "left"
          },
          "hovermode": "closest",
          "mapbox": {
           "style": "light"
          },
          "paper_bgcolor": "white",
          "plot_bgcolor": "#E5ECF6",
          "polar": {
           "angularaxis": {
            "gridcolor": "white",
            "linecolor": "white",
            "ticks": ""
           },
           "bgcolor": "#E5ECF6",
           "radialaxis": {
            "gridcolor": "white",
            "linecolor": "white",
            "ticks": ""
           }
          },
          "scene": {
           "xaxis": {
            "backgroundcolor": "#E5ECF6",
            "gridcolor": "white",
            "gridwidth": 2,
            "linecolor": "white",
            "showbackground": true,
            "ticks": "",
            "zerolinecolor": "white"
           },
           "yaxis": {
            "backgroundcolor": "#E5ECF6",
            "gridcolor": "white",
            "gridwidth": 2,
            "linecolor": "white",
            "showbackground": true,
            "ticks": "",
            "zerolinecolor": "white"
           },
           "zaxis": {
            "backgroundcolor": "#E5ECF6",
            "gridcolor": "white",
            "gridwidth": 2,
            "linecolor": "white",
            "showbackground": true,
            "ticks": "",
            "zerolinecolor": "white"
           }
          },
          "shapedefaults": {
           "line": {
            "color": "#2a3f5f"
           }
          },
          "ternary": {
           "aaxis": {
            "gridcolor": "white",
            "linecolor": "white",
            "ticks": ""
           },
           "baxis": {
            "gridcolor": "white",
            "linecolor": "white",
            "ticks": ""
           },
           "bgcolor": "#E5ECF6",
           "caxis": {
            "gridcolor": "white",
            "linecolor": "white",
            "ticks": ""
           }
          },
          "title": {
           "x": 0.05
          },
          "xaxis": {
           "automargin": true,
           "gridcolor": "white",
           "linecolor": "white",
           "ticks": "",
           "title": {
            "standoff": 15
           },
           "zerolinecolor": "white",
           "zerolinewidth": 2
          },
          "yaxis": {
           "automargin": true,
           "gridcolor": "white",
           "linecolor": "white",
           "ticks": "",
           "title": {
            "standoff": 15
           },
           "zerolinecolor": "white",
           "zerolinewidth": 2
          }
         }
        },
        "title": {
         "text": "Heat Map of the World"
        }
       }
      },
      "text/html": [
       "<div>\n",
       "        \n",
       "        \n",
       "            <div id=\"2fb845ca-d34b-48e7-bf31-b830bc2b35a1\" class=\"plotly-graph-div\" style=\"height:600px; width:100%;\"></div>\n",
       "            <script type=\"text/javascript\">\n",
       "                require([\"plotly\"], function(Plotly) {\n",
       "                    window.PLOTLYENV=window.PLOTLYENV || {};\n",
       "                    \n",
       "                if (document.getElementById(\"2fb845ca-d34b-48e7-bf31-b830bc2b35a1\")) {\n",
       "                    Plotly.newPlot(\n",
       "                        '2fb845ca-d34b-48e7-bf31-b830bc2b35a1',\n",
       "                        [{\"coloraxis\": \"coloraxis\", \"geo\": \"geo\", \"hoverlabel\": {\"namelength\": 0}, \"hovertemplate\": \"<b>%{hovertext}</b><br><br>Code=%{location}<br>Cancer deaths attributed to tobacco (%)=%{z}\", \"hovertext\": [\"Afghanistan\", \"Afghanistan\", \"Afghanistan\", \"Afghanistan\", \"Afghanistan\", \"Afghanistan\", \"Afghanistan\", \"Albania\", \"Albania\", \"Albania\", \"Albania\", \"Albania\", \"Albania\", \"Albania\", \"Algeria\", \"Algeria\", \"Algeria\", \"Algeria\", \"Algeria\", \"Algeria\", \"Algeria\", \"American Samoa\", \"American Samoa\", \"American Samoa\", \"American Samoa\", \"American Samoa\", \"American Samoa\", \"American Samoa\", \"Andorra\", \"Andorra\", \"Andorra\", \"Andorra\", \"Andorra\", \"Andorra\", \"Andorra\", \"Angola\", \"Angola\", \"Angola\", \"Angola\", \"Angola\", \"Angola\", \"Angola\", \"Antigua and Barbuda\", \"Antigua and Barbuda\", \"Antigua and Barbuda\", \"Antigua and Barbuda\", \"Antigua and Barbuda\", \"Antigua and Barbuda\", \"Antigua and Barbuda\", \"Argentina\", \"Argentina\", \"Argentina\", \"Argentina\", \"Argentina\", \"Argentina\", \"Argentina\", \"Armenia\", \"Armenia\", \"Armenia\", \"Armenia\", \"Armenia\", \"Armenia\", \"Armenia\", \"Armenia\", \"Armenia\", \"Armenia\", \"Armenia\", \"Armenia\", \"Armenia\", \"Armenia\", \"Australia\", \"Australia\", \"Australia\", \"Australia\", \"Australia\", \"Australia\", \"Australia\", \"Austria\", \"Austria\", \"Austria\", \"Austria\", \"Austria\", \"Austria\", \"Austria\", \"Azerbaijan\", \"Azerbaijan\", \"Azerbaijan\", \"Azerbaijan\", \"Azerbaijan\", \"Azerbaijan\", \"Azerbaijan\", \"Azerbaijan\", \"Azerbaijan\", \"Azerbaijan\", \"Azerbaijan\", \"Azerbaijan\", \"Azerbaijan\", \"Azerbaijan\", \"Bahamas\", \"Bahamas\", \"Bahamas\", \"Bahamas\", \"Bahamas\", \"Bahamas\", \"Bahamas\", \"Bahrain\", \"Bahrain\", \"Bahrain\", \"Bahrain\", \"Bahrain\", \"Bahrain\", \"Bahrain\", \"Bangladesh\", \"Bangladesh\", \"Bangladesh\", \"Bangladesh\", \"Bangladesh\", \"Bangladesh\", \"Bangladesh\", \"Barbados\", \"Barbados\", \"Barbados\", \"Barbados\", \"Barbados\", \"Barbados\", \"Barbados\", \"Belarus\", \"Belarus\", \"Belarus\", \"Belarus\", \"Belarus\", \"Belarus\", \"Belarus\", \"Belgium\", \"Belgium\", \"Belgium\", \"Belgium\", \"Belgium\", \"Belgium\", \"Belgium\", \"Belize\", \"Belize\", \"Belize\", \"Belize\", \"Belize\", \"Belize\", \"Belize\", \"Benin\", \"Benin\", \"Benin\", \"Benin\", \"Benin\", \"Benin\", \"Benin\", \"Bermuda\", \"Bermuda\", \"Bermuda\", \"Bermuda\", \"Bermuda\", \"Bermuda\", \"Bermuda\", \"Bhutan\", \"Bhutan\", \"Bhutan\", \"Bhutan\", \"Bhutan\", \"Bhutan\", \"Bhutan\", \"Bolivia\", \"Bolivia\", \"Bolivia\", \"Bolivia\", \"Bolivia\", \"Bolivia\", \"Bolivia\", \"Bosnia and Herzegovina\", \"Bosnia and Herzegovina\", \"Bosnia and Herzegovina\", \"Bosnia and Herzegovina\", \"Bosnia and Herzegovina\", \"Bosnia and Herzegovina\", \"Bosnia and Herzegovina\", \"Botswana\", \"Botswana\", \"Botswana\", \"Botswana\", \"Botswana\", \"Botswana\", \"Botswana\", \"Brazil\", \"Brazil\", \"Brazil\", \"Brazil\", \"Brazil\", \"Brazil\", \"Brazil\", \"Brunei\", \"Brunei\", \"Brunei\", \"Brunei\", \"Brunei\", \"Brunei\", \"Brunei\", \"Bulgaria\", \"Bulgaria\", \"Bulgaria\", \"Bulgaria\", \"Bulgaria\", \"Bulgaria\", \"Bulgaria\", \"Burkina Faso\", \"Burkina Faso\", \"Burkina Faso\", \"Burkina Faso\", \"Burkina Faso\", \"Burkina Faso\", \"Burkina Faso\", \"Burundi\", \"Burundi\", \"Burundi\", \"Burundi\", \"Burundi\", \"Burundi\", \"Burundi\", \"Cambodia\", \"Cambodia\", \"Cambodia\", \"Cambodia\", \"Cambodia\", \"Cambodia\", \"Cambodia\", \"Cameroon\", \"Cameroon\", \"Cameroon\", \"Cameroon\", \"Cameroon\", \"Cameroon\", \"Cameroon\", \"Canada\", \"Canada\", \"Canada\", \"Canada\", \"Canada\", \"Canada\", \"Canada\", \"Cape Verde\", \"Cape Verde\", \"Cape Verde\", \"Cape Verde\", \"Cape Verde\", \"Cape Verde\", \"Cape Verde\", \"Central African Republic\", \"Central African Republic\", \"Central African Republic\", \"Central African Republic\", \"Central African Republic\", \"Central African Republic\", \"Central African Republic\", \"Chad\", \"Chad\", \"Chad\", \"Chad\", \"Chad\", \"Chad\", \"Chad\", \"Chile\", \"Chile\", \"Chile\", \"Chile\", \"Chile\", \"Chile\", \"Chile\", \"China\", \"China\", \"China\", \"China\", \"China\", \"China\", \"China\", \"Colombia\", \"Colombia\", \"Colombia\", \"Colombia\", \"Colombia\", \"Colombia\", \"Colombia\", \"Comoros\", \"Comoros\", \"Comoros\", \"Comoros\", \"Comoros\", \"Comoros\", \"Comoros\", \"Congo\", \"Congo\", \"Congo\", \"Congo\", \"Congo\", \"Congo\", \"Congo\", \"Costa Rica\", \"Costa Rica\", \"Costa Rica\", \"Costa Rica\", \"Costa Rica\", \"Costa Rica\", \"Costa Rica\", \"Cote d'Ivoire\", \"Cote d'Ivoire\", \"Cote d'Ivoire\", \"Cote d'Ivoire\", \"Cote d'Ivoire\", \"Cote d'Ivoire\", \"Cote d'Ivoire\", \"Croatia\", \"Croatia\", \"Croatia\", \"Croatia\", \"Croatia\", \"Croatia\", \"Croatia\", \"Cuba\", \"Cuba\", \"Cuba\", \"Cuba\", \"Cuba\", \"Cuba\", \"Cuba\", \"Cyprus\", \"Cyprus\", \"Cyprus\", \"Cyprus\", \"Cyprus\", \"Cyprus\", \"Cyprus\", \"Cyprus\", \"Cyprus\", \"Cyprus\", \"Cyprus\", \"Cyprus\", \"Cyprus\", \"Cyprus\", \"Czech Republic\", \"Czech Republic\", \"Czech Republic\", \"Czech Republic\", \"Czech Republic\", \"Czech Republic\", \"Czech Republic\", \"Democratic Republic of Congo\", \"Democratic Republic of Congo\", \"Democratic Republic of Congo\", \"Democratic Republic of Congo\", \"Democratic Republic of Congo\", \"Democratic Republic of Congo\", \"Democratic Republic of Congo\", \"Denmark\", \"Denmark\", \"Denmark\", \"Denmark\", \"Denmark\", \"Denmark\", \"Denmark\", \"Djibouti\", \"Djibouti\", \"Djibouti\", \"Djibouti\", \"Djibouti\", \"Djibouti\", \"Djibouti\", \"Dominica\", \"Dominica\", \"Dominica\", \"Dominica\", \"Dominica\", \"Dominica\", \"Dominica\", \"Dominican Republic\", \"Dominican Republic\", \"Dominican Republic\", \"Dominican Republic\", \"Dominican Republic\", \"Dominican Republic\", \"Dominican Republic\", \"Ecuador\", \"Ecuador\", \"Ecuador\", \"Ecuador\", \"Ecuador\", \"Ecuador\", \"Ecuador\", \"Egypt\", \"Egypt\", \"Egypt\", \"Egypt\", \"Egypt\", \"Egypt\", \"Egypt\", \"El Salvador\", \"El Salvador\", \"El Salvador\", \"El Salvador\", \"El Salvador\", \"El Salvador\", \"El Salvador\", \"Equatorial Guinea\", \"Equatorial Guinea\", \"Equatorial Guinea\", \"Equatorial Guinea\", \"Equatorial Guinea\", \"Equatorial Guinea\", \"Equatorial Guinea\", \"Eritrea\", \"Eritrea\", \"Eritrea\", \"Eritrea\", \"Eritrea\", \"Eritrea\", \"Eritrea\", \"Estonia\", \"Estonia\", \"Estonia\", \"Estonia\", \"Estonia\", \"Estonia\", \"Estonia\", \"Ethiopia\", \"Ethiopia\", \"Ethiopia\", \"Ethiopia\", \"Ethiopia\", \"Ethiopia\", \"Ethiopia\", \"Fiji\", \"Fiji\", \"Fiji\", \"Fiji\", \"Fiji\", \"Fiji\", \"Fiji\", \"Finland\", \"Finland\", \"Finland\", \"Finland\", \"Finland\", \"Finland\", \"Finland\", \"France\", \"France\", \"France\", \"France\", \"France\", \"France\", \"France\", \"Gabon\", \"Gabon\", \"Gabon\", \"Gabon\", \"Gabon\", \"Gabon\", \"Gabon\", \"Gambia\", \"Gambia\", \"Gambia\", \"Gambia\", \"Gambia\", \"Gambia\", \"Gambia\", \"Georgia\", \"Georgia\", \"Georgia\", \"Georgia\", \"Georgia\", \"Georgia\", \"Georgia\", \"Georgia\", \"Georgia\", \"Georgia\", \"Georgia\", \"Georgia\", \"Georgia\", \"Georgia\", \"Germany\", \"Germany\", \"Germany\", \"Germany\", \"Germany\", \"Germany\", \"Germany\", \"Ghana\", \"Ghana\", \"Ghana\", \"Ghana\", \"Ghana\", \"Ghana\", \"Ghana\", \"Greece\", \"Greece\", \"Greece\", \"Greece\", \"Greece\", \"Greece\", \"Greece\", \"Greenland\", \"Greenland\", \"Greenland\", \"Greenland\", \"Greenland\", \"Greenland\", \"Greenland\", \"Grenada\", \"Grenada\", \"Grenada\", \"Grenada\", \"Grenada\", \"Grenada\", \"Grenada\", \"Guam\", \"Guam\", \"Guam\", \"Guam\", \"Guam\", \"Guam\", \"Guam\", \"Guatemala\", \"Guatemala\", \"Guatemala\", \"Guatemala\", \"Guatemala\", \"Guatemala\", \"Guatemala\", \"Guinea\", \"Guinea\", \"Guinea\", \"Guinea\", \"Guinea\", \"Guinea\", \"Guinea\", \"Guinea-Bissau\", \"Guinea-Bissau\", \"Guinea-Bissau\", \"Guinea-Bissau\", \"Guinea-Bissau\", \"Guinea-Bissau\", \"Guinea-Bissau\", \"Guyana\", \"Guyana\", \"Guyana\", \"Guyana\", \"Guyana\", \"Guyana\", \"Guyana\", \"Haiti\", \"Haiti\", \"Haiti\", \"Haiti\", \"Haiti\", \"Haiti\", \"Haiti\", \"Honduras\", \"Honduras\", \"Honduras\", \"Honduras\", \"Honduras\", \"Honduras\", \"Honduras\", \"Hungary\", \"Hungary\", \"Hungary\", \"Hungary\", \"Hungary\", \"Hungary\", \"Hungary\", \"Iceland\", \"Iceland\", \"Iceland\", \"Iceland\", \"Iceland\", \"Iceland\", \"Iceland\", \"India\", \"India\", \"India\", \"India\", \"India\", \"India\", \"India\", \"Indonesia\", \"Indonesia\", \"Indonesia\", \"Indonesia\", \"Indonesia\", \"Indonesia\", \"Indonesia\", \"Iran\", \"Iran\", \"Iran\", \"Iran\", \"Iran\", \"Iran\", \"Iran\", \"Iraq\", \"Iraq\", \"Iraq\", \"Iraq\", \"Iraq\", \"Iraq\", \"Iraq\", \"Ireland\", \"Ireland\", \"Ireland\", \"Ireland\", \"Ireland\", \"Ireland\", \"Ireland\", \"Israel\", \"Israel\", \"Israel\", \"Israel\", \"Israel\", \"Israel\", \"Israel\", \"Italy\", \"Italy\", \"Italy\", \"Italy\", \"Italy\", \"Italy\", \"Italy\", \"Jamaica\", \"Jamaica\", \"Jamaica\", \"Jamaica\", \"Jamaica\", \"Jamaica\", \"Jamaica\", \"Japan\", \"Japan\", \"Japan\", \"Japan\", \"Japan\", \"Japan\", \"Japan\", \"Jordan\", \"Jordan\", \"Jordan\", \"Jordan\", \"Jordan\", \"Jordan\", \"Jordan\", \"Kazakhstan\", \"Kazakhstan\", \"Kazakhstan\", \"Kazakhstan\", \"Kazakhstan\", \"Kazakhstan\", \"Kazakhstan\", \"Kazakhstan\", \"Kazakhstan\", \"Kazakhstan\", \"Kazakhstan\", \"Kazakhstan\", \"Kazakhstan\", \"Kazakhstan\", \"Kenya\", \"Kenya\", \"Kenya\", \"Kenya\", \"Kenya\", \"Kenya\", \"Kenya\", \"Kiribati\", \"Kiribati\", \"Kiribati\", \"Kiribati\", \"Kiribati\", \"Kiribati\", \"Kiribati\", \"Kuwait\", \"Kuwait\", \"Kuwait\", \"Kuwait\", \"Kuwait\", \"Kuwait\", \"Kuwait\", \"Kyrgyzstan\", \"Kyrgyzstan\", \"Kyrgyzstan\", \"Kyrgyzstan\", \"Kyrgyzstan\", \"Kyrgyzstan\", \"Kyrgyzstan\", \"Laos\", \"Laos\", \"Laos\", \"Laos\", \"Laos\", \"Laos\", \"Laos\", \"Latvia\", \"Latvia\", \"Latvia\", \"Latvia\", \"Latvia\", \"Latvia\", \"Latvia\", \"Lebanon\", \"Lebanon\", \"Lebanon\", \"Lebanon\", \"Lebanon\", \"Lebanon\", \"Lebanon\", \"Lesotho\", \"Lesotho\", \"Lesotho\", \"Lesotho\", \"Lesotho\", \"Lesotho\", \"Lesotho\", \"Liberia\", \"Liberia\", \"Liberia\", \"Liberia\", \"Liberia\", \"Liberia\", \"Liberia\", \"Libya\", \"Libya\", \"Libya\", \"Libya\", \"Libya\", \"Libya\", \"Libya\", \"Lithuania\", \"Lithuania\", \"Lithuania\", \"Lithuania\", \"Lithuania\", \"Lithuania\", \"Lithuania\", \"Luxembourg\", \"Luxembourg\", \"Luxembourg\", \"Luxembourg\", \"Luxembourg\", \"Luxembourg\", \"Luxembourg\", \"Macedonia\", \"Macedonia\", \"Macedonia\", \"Macedonia\", \"Macedonia\", \"Macedonia\", \"Macedonia\", \"Madagascar\", \"Madagascar\", \"Madagascar\", \"Madagascar\", \"Madagascar\", \"Madagascar\", \"Madagascar\", \"Malawi\", \"Malawi\", \"Malawi\", \"Malawi\", \"Malawi\", \"Malawi\", \"Malawi\", \"Malaysia\", \"Malaysia\", \"Malaysia\", \"Malaysia\", \"Malaysia\", \"Malaysia\", \"Malaysia\", \"Maldives\", \"Maldives\", \"Maldives\", \"Maldives\", \"Maldives\", \"Maldives\", \"Maldives\", \"Mali\", \"Mali\", \"Mali\", \"Mali\", \"Mali\", \"Mali\", \"Mali\", \"Malta\", \"Malta\", \"Malta\", \"Malta\", \"Malta\", \"Malta\", \"Malta\", \"Marshall Islands\", \"Marshall Islands\", \"Marshall Islands\", \"Marshall Islands\", \"Marshall Islands\", \"Marshall Islands\", \"Marshall Islands\", \"Mauritania\", \"Mauritania\", \"Mauritania\", \"Mauritania\", \"Mauritania\", \"Mauritania\", \"Mauritania\", \"Mauritius\", \"Mauritius\", \"Mauritius\", \"Mauritius\", \"Mauritius\", \"Mauritius\", \"Mauritius\", \"Mexico\", \"Mexico\", \"Mexico\", \"Mexico\", \"Mexico\", \"Mexico\", \"Mexico\", \"Moldova\", \"Moldova\", \"Moldova\", \"Moldova\", \"Moldova\", \"Moldova\", \"Moldova\", \"Mongolia\", \"Mongolia\", \"Mongolia\", \"Mongolia\", \"Mongolia\", \"Mongolia\", \"Mongolia\", \"Montenegro\", \"Montenegro\", \"Montenegro\", \"Montenegro\", \"Montenegro\", \"Montenegro\", \"Montenegro\", \"Morocco\", \"Morocco\", \"Morocco\", \"Morocco\", \"Morocco\", \"Morocco\", \"Morocco\", \"Mozambique\", \"Mozambique\", \"Mozambique\", \"Mozambique\", \"Mozambique\", \"Mozambique\", \"Mozambique\", \"Myanmar\", \"Myanmar\", \"Myanmar\", \"Myanmar\", \"Myanmar\", \"Myanmar\", \"Myanmar\", \"Namibia\", \"Namibia\", \"Namibia\", \"Namibia\", \"Namibia\", \"Namibia\", \"Namibia\", \"Nepal\", \"Nepal\", \"Nepal\", \"Nepal\", \"Nepal\", \"Nepal\", \"Nepal\", \"Netherlands\", \"Netherlands\", \"Netherlands\", \"Netherlands\", \"Netherlands\", \"Netherlands\", \"Netherlands\", \"New Zealand\", \"New Zealand\", \"New Zealand\", \"New Zealand\", \"New Zealand\", \"New Zealand\", \"New Zealand\", \"Nicaragua\", \"Nicaragua\", \"Nicaragua\", \"Nicaragua\", \"Nicaragua\", \"Nicaragua\", \"Nicaragua\", \"Niger\", \"Niger\", \"Niger\", \"Niger\", \"Niger\", \"Niger\", \"Niger\", \"Nigeria\", \"Nigeria\", \"Nigeria\", \"Nigeria\", \"Nigeria\", \"Nigeria\", \"Nigeria\", \"North Korea\", \"North Korea\", \"North Korea\", \"North Korea\", \"North Korea\", \"North Korea\", \"North Korea\", \"Northern Mariana Islands\", \"Northern Mariana Islands\", \"Northern Mariana Islands\", \"Northern Mariana Islands\", \"Northern Mariana Islands\", \"Northern Mariana Islands\", \"Northern Mariana Islands\", \"Norway\", \"Norway\", \"Norway\", \"Norway\", \"Norway\", \"Norway\", \"Norway\", \"Oman\", \"Oman\", \"Oman\", \"Oman\", \"Oman\", \"Oman\", \"Oman\", \"Pakistan\", \"Pakistan\", \"Pakistan\", \"Pakistan\", \"Pakistan\", \"Pakistan\", \"Pakistan\", \"Palestine\", \"Palestine\", \"Palestine\", \"Palestine\", \"Palestine\", \"Palestine\", \"Palestine\", \"Panama\", \"Panama\", \"Panama\", \"Panama\", \"Panama\", \"Panama\", \"Panama\", \"Papua New Guinea\", \"Papua New Guinea\", \"Papua New Guinea\", \"Papua New Guinea\", \"Papua New Guinea\", \"Papua New Guinea\", \"Papua New Guinea\", \"Paraguay\", \"Paraguay\", \"Paraguay\", \"Paraguay\", \"Paraguay\", \"Paraguay\", \"Paraguay\", \"Peru\", \"Peru\", \"Peru\", \"Peru\", \"Peru\", \"Peru\", \"Peru\", \"Philippines\", \"Philippines\", \"Philippines\", \"Philippines\", \"Philippines\", \"Philippines\", \"Philippines\", \"Poland\", \"Poland\", \"Poland\", \"Poland\", \"Poland\", \"Poland\", \"Poland\", \"Portugal\", \"Portugal\", \"Portugal\", \"Portugal\", \"Portugal\", \"Portugal\", \"Portugal\", \"Puerto Rico\", \"Puerto Rico\", \"Puerto Rico\", \"Puerto Rico\", \"Puerto Rico\", \"Puerto Rico\", \"Puerto Rico\", \"Qatar\", \"Qatar\", \"Qatar\", \"Qatar\", \"Qatar\", \"Qatar\", \"Qatar\", \"Romania\", \"Romania\", \"Romania\", \"Romania\", \"Romania\", \"Romania\", \"Romania\", \"Russia\", \"Russia\", \"Russia\", \"Russia\", \"Russia\", \"Russia\", \"Russia\", \"Russia\", \"Russia\", \"Russia\", \"Russia\", \"Russia\", \"Russia\", \"Russia\", \"Rwanda\", \"Rwanda\", \"Rwanda\", \"Rwanda\", \"Rwanda\", \"Rwanda\", \"Rwanda\", \"Saint Lucia\", \"Saint Lucia\", \"Saint Lucia\", \"Saint Lucia\", \"Saint Lucia\", \"Saint Lucia\", \"Saint Lucia\", \"Saint Vincent and the Grenadines\", \"Saint Vincent and the Grenadines\", \"Saint Vincent and the Grenadines\", \"Saint Vincent and the Grenadines\", \"Saint Vincent and the Grenadines\", \"Saint Vincent and the Grenadines\", \"Saint Vincent and the Grenadines\", \"Samoa\", \"Samoa\", \"Samoa\", \"Samoa\", \"Samoa\", \"Samoa\", \"Samoa\", \"Sao Tome and Principe\", \"Sao Tome and Principe\", \"Sao Tome and Principe\", \"Sao Tome and Principe\", \"Sao Tome and Principe\", \"Sao Tome and Principe\", \"Sao Tome and Principe\", \"Saudi Arabia\", \"Saudi Arabia\", \"Saudi Arabia\", \"Saudi Arabia\", \"Saudi Arabia\", \"Saudi Arabia\", \"Saudi Arabia\", \"Senegal\", \"Senegal\", \"Senegal\", \"Senegal\", \"Senegal\", \"Senegal\", \"Senegal\", \"Serbia\", \"Serbia\", \"Serbia\", \"Serbia\", \"Serbia\", \"Serbia\", \"Serbia\", \"Seychelles\", \"Seychelles\", \"Seychelles\", \"Seychelles\", \"Seychelles\", \"Seychelles\", \"Seychelles\", \"Sierra Leone\", \"Sierra Leone\", \"Sierra Leone\", \"Sierra Leone\", \"Sierra Leone\", \"Sierra Leone\", \"Sierra Leone\", \"Slovakia\", \"Slovakia\", \"Slovakia\", \"Slovakia\", \"Slovakia\", \"Slovakia\", \"Slovakia\", \"Slovenia\", \"Slovenia\", \"Slovenia\", \"Slovenia\", \"Slovenia\", \"Slovenia\", \"Slovenia\", \"Solomon Islands\", \"Solomon Islands\", \"Solomon Islands\", \"Solomon Islands\", \"Solomon Islands\", \"Solomon Islands\", \"Solomon Islands\", \"Somalia\", \"Somalia\", \"Somalia\", \"Somalia\", \"Somalia\", \"Somalia\", \"Somalia\", \"South Africa\", \"South Africa\", \"South Africa\", \"South Africa\", \"South Africa\", \"South Africa\", \"South Africa\", \"South Sudan\", \"South Sudan\", \"South Sudan\", \"South Sudan\", \"South Sudan\", \"South Sudan\", \"South Sudan\", \"Spain\", \"Spain\", \"Spain\", \"Spain\", \"Spain\", \"Spain\", \"Spain\", \"Sri Lanka\", \"Sri Lanka\", \"Sri Lanka\", \"Sri Lanka\", \"Sri Lanka\", \"Sri Lanka\", \"Sri Lanka\", \"Sudan\", \"Sudan\", \"Sudan\", \"Sudan\", \"Sudan\", \"Sudan\", \"Sudan\", \"Suriname\", \"Suriname\", \"Suriname\", \"Suriname\", \"Suriname\", \"Suriname\", \"Suriname\", \"Swaziland\", \"Swaziland\", \"Swaziland\", \"Swaziland\", \"Swaziland\", \"Swaziland\", \"Swaziland\", \"Sweden\", \"Sweden\", \"Sweden\", \"Sweden\", \"Sweden\", \"Sweden\", \"Sweden\", \"Switzerland\", \"Switzerland\", \"Switzerland\", \"Switzerland\", \"Switzerland\", \"Switzerland\", \"Switzerland\", \"Syria\", \"Syria\", \"Syria\", \"Syria\", \"Syria\", \"Syria\", \"Syria\", \"Taiwan\", \"Taiwan\", \"Taiwan\", \"Taiwan\", \"Taiwan\", \"Taiwan\", \"Taiwan\", \"Tajikistan\", \"Tajikistan\", \"Tajikistan\", \"Tajikistan\", \"Tajikistan\", \"Tajikistan\", \"Tajikistan\", \"Tanzania\", \"Tanzania\", \"Tanzania\", \"Tanzania\", \"Tanzania\", \"Tanzania\", \"Tanzania\", \"Thailand\", \"Thailand\", \"Thailand\", \"Thailand\", \"Thailand\", \"Thailand\", \"Thailand\", \"Timor\", \"Timor\", \"Timor\", \"Timor\", \"Timor\", \"Timor\", \"Timor\", \"Togo\", \"Togo\", \"Togo\", \"Togo\", \"Togo\", \"Togo\", \"Togo\", \"Tonga\", \"Tonga\", \"Tonga\", \"Tonga\", \"Tonga\", \"Tonga\", \"Tonga\", \"Trinidad and Tobago\", \"Trinidad and Tobago\", \"Trinidad and Tobago\", \"Trinidad and Tobago\", \"Trinidad and Tobago\", \"Trinidad and Tobago\", \"Trinidad and Tobago\", \"Tunisia\", \"Tunisia\", \"Tunisia\", \"Tunisia\", \"Tunisia\", \"Tunisia\", \"Tunisia\", \"Turkey\", \"Turkey\", \"Turkey\", \"Turkey\", \"Turkey\", \"Turkey\", \"Turkey\", \"Turkey\", \"Turkey\", \"Turkey\", \"Turkey\", \"Turkey\", \"Turkey\", \"Turkey\", \"Turkmenistan\", \"Turkmenistan\", \"Turkmenistan\", \"Turkmenistan\", \"Turkmenistan\", \"Turkmenistan\", \"Turkmenistan\", \"Uganda\", \"Uganda\", \"Uganda\", \"Uganda\", \"Uganda\", \"Uganda\", \"Uganda\", \"Ukraine\", \"Ukraine\", \"Ukraine\", \"Ukraine\", \"Ukraine\", \"Ukraine\", \"Ukraine\", \"United Arab Emirates\", \"United Arab Emirates\", \"United Arab Emirates\", \"United Arab Emirates\", \"United Arab Emirates\", \"United Arab Emirates\", \"United Arab Emirates\", \"United Kingdom\", \"United Kingdom\", \"United Kingdom\", \"United Kingdom\", \"United Kingdom\", \"United Kingdom\", \"United Kingdom\", \"United States\", \"United States\", \"United States\", \"United States\", \"United States\", \"United States\", \"United States\", \"Uruguay\", \"Uruguay\", \"Uruguay\", \"Uruguay\", \"Uruguay\", \"Uruguay\", \"Uruguay\", \"Uzbekistan\", \"Uzbekistan\", \"Uzbekistan\", \"Uzbekistan\", \"Uzbekistan\", \"Uzbekistan\", \"Uzbekistan\", \"Vanuatu\", \"Vanuatu\", \"Vanuatu\", \"Vanuatu\", \"Vanuatu\", \"Vanuatu\", \"Vanuatu\", \"Venezuela\", \"Venezuela\", \"Venezuela\", \"Venezuela\", \"Venezuela\", \"Venezuela\", \"Venezuela\", \"Vietnam\", \"Vietnam\", \"Vietnam\", \"Vietnam\", \"Vietnam\", \"Vietnam\", \"Vietnam\", \"Yemen\", \"Yemen\", \"Yemen\", \"Yemen\", \"Yemen\", \"Yemen\", \"Yemen\", \"Zambia\", \"Zambia\", \"Zambia\", \"Zambia\", \"Zambia\", \"Zambia\", \"Zambia\", \"Zimbabwe\", \"Zimbabwe\", \"Zimbabwe\", \"Zimbabwe\", \"Zimbabwe\", \"Zimbabwe\", \"Zimbabwe\"], \"locations\": [\"AFG\", \"AFG\", \"AFG\", \"AFG\", \"AFG\", \"AFG\", \"AFG\", \"ALB\", \"ALB\", \"ALB\", \"ALB\", \"ALB\", \"ALB\", \"ALB\", \"DZA\", \"DZA\", \"DZA\", \"DZA\", \"DZA\", \"DZA\", \"DZA\", \"ASM\", \"ASM\", \"ASM\", \"ASM\", \"ASM\", \"ASM\", \"ASM\", \"AND\", \"AND\", \"AND\", \"AND\", \"AND\", \"AND\", \"AND\", \"AGO\", \"AGO\", \"AGO\", \"AGO\", \"AGO\", \"AGO\", \"AGO\", \"ATG\", \"ATG\", \"ATG\", \"ATG\", \"ATG\", \"ATG\", \"ATG\", \"ARG\", \"ARG\", \"ARG\", \"ARG\", \"ARG\", \"ARG\", \"ARG\", \"ARM\", \"ARM\", \"ARM\", \"ARM\", \"ARM\", \"ARM\", \"ARM\", \"ARM\", \"ARM\", \"ARM\", \"ARM\", \"ARM\", \"ARM\", \"ARM\", \"AUS\", \"AUS\", \"AUS\", \"AUS\", \"AUS\", \"AUS\", \"AUS\", \"AUT\", \"AUT\", \"AUT\", \"AUT\", \"AUT\", \"AUT\", \"AUT\", \"AZE\", \"AZE\", \"AZE\", \"AZE\", \"AZE\", \"AZE\", \"AZE\", \"AZE\", \"AZE\", \"AZE\", \"AZE\", \"AZE\", \"AZE\", \"AZE\", \"BHS\", \"BHS\", \"BHS\", \"BHS\", \"BHS\", \"BHS\", \"BHS\", \"BHR\", \"BHR\", \"BHR\", \"BHR\", \"BHR\", \"BHR\", \"BHR\", \"BGD\", \"BGD\", \"BGD\", \"BGD\", \"BGD\", \"BGD\", \"BGD\", \"BRB\", \"BRB\", \"BRB\", \"BRB\", \"BRB\", \"BRB\", \"BRB\", \"BLR\", \"BLR\", \"BLR\", \"BLR\", \"BLR\", \"BLR\", \"BLR\", \"BEL\", \"BEL\", \"BEL\", \"BEL\", \"BEL\", \"BEL\", \"BEL\", \"BLZ\", \"BLZ\", \"BLZ\", \"BLZ\", \"BLZ\", \"BLZ\", \"BLZ\", \"BEN\", \"BEN\", \"BEN\", \"BEN\", \"BEN\", \"BEN\", \"BEN\", \"BMU\", \"BMU\", \"BMU\", \"BMU\", \"BMU\", \"BMU\", \"BMU\", \"BTN\", \"BTN\", \"BTN\", \"BTN\", \"BTN\", \"BTN\", \"BTN\", \"BOL\", \"BOL\", \"BOL\", \"BOL\", \"BOL\", \"BOL\", \"BOL\", \"BIH\", \"BIH\", \"BIH\", \"BIH\", \"BIH\", \"BIH\", \"BIH\", \"BWA\", \"BWA\", \"BWA\", \"BWA\", \"BWA\", \"BWA\", \"BWA\", \"BRA\", \"BRA\", \"BRA\", \"BRA\", \"BRA\", \"BRA\", \"BRA\", \"BRN\", \"BRN\", \"BRN\", \"BRN\", \"BRN\", \"BRN\", \"BRN\", \"BGR\", \"BGR\", \"BGR\", \"BGR\", \"BGR\", \"BGR\", \"BGR\", \"BFA\", \"BFA\", \"BFA\", \"BFA\", \"BFA\", \"BFA\", \"BFA\", \"BDI\", \"BDI\", \"BDI\", \"BDI\", \"BDI\", \"BDI\", \"BDI\", \"KHM\", \"KHM\", \"KHM\", \"KHM\", \"KHM\", \"KHM\", \"KHM\", \"CMR\", \"CMR\", \"CMR\", \"CMR\", \"CMR\", \"CMR\", \"CMR\", \"CAN\", \"CAN\", \"CAN\", \"CAN\", \"CAN\", \"CAN\", \"CAN\", \"CPV\", \"CPV\", \"CPV\", \"CPV\", \"CPV\", \"CPV\", \"CPV\", \"CAF\", \"CAF\", \"CAF\", \"CAF\", \"CAF\", \"CAF\", \"CAF\", \"TCD\", \"TCD\", \"TCD\", \"TCD\", \"TCD\", \"TCD\", \"TCD\", \"CHL\", \"CHL\", \"CHL\", \"CHL\", \"CHL\", \"CHL\", \"CHL\", \"CHN\", \"CHN\", \"CHN\", \"CHN\", \"CHN\", \"CHN\", \"CHN\", \"COL\", \"COL\", \"COL\", \"COL\", \"COL\", \"COL\", \"COL\", \"COM\", \"COM\", \"COM\", \"COM\", \"COM\", \"COM\", \"COM\", \"COG\", \"COG\", \"COG\", \"COG\", \"COG\", \"COG\", \"COG\", \"CRI\", \"CRI\", \"CRI\", \"CRI\", \"CRI\", \"CRI\", \"CRI\", \"CIV\", \"CIV\", \"CIV\", \"CIV\", \"CIV\", \"CIV\", \"CIV\", \"HRV\", \"HRV\", \"HRV\", \"HRV\", \"HRV\", \"HRV\", \"HRV\", \"CUB\", \"CUB\", \"CUB\", \"CUB\", \"CUB\", \"CUB\", \"CUB\", \"CYP\", \"CYP\", \"CYP\", \"CYP\", \"CYP\", \"CYP\", \"CYP\", \"CYP\", \"CYP\", \"CYP\", \"CYP\", \"CYP\", \"CYP\", \"CYP\", \"CZE\", \"CZE\", \"CZE\", \"CZE\", \"CZE\", \"CZE\", \"CZE\", \"COD\", \"COD\", \"COD\", \"COD\", \"COD\", \"COD\", \"COD\", \"DNK\", \"DNK\", \"DNK\", \"DNK\", \"DNK\", \"DNK\", \"DNK\", \"DJI\", \"DJI\", \"DJI\", \"DJI\", \"DJI\", \"DJI\", \"DJI\", \"DMA\", \"DMA\", \"DMA\", \"DMA\", \"DMA\", \"DMA\", \"DMA\", \"DOM\", \"DOM\", \"DOM\", \"DOM\", \"DOM\", \"DOM\", \"DOM\", \"ECU\", \"ECU\", \"ECU\", \"ECU\", \"ECU\", \"ECU\", \"ECU\", \"EGY\", \"EGY\", \"EGY\", \"EGY\", \"EGY\", \"EGY\", \"EGY\", \"SLV\", \"SLV\", \"SLV\", \"SLV\", \"SLV\", \"SLV\", \"SLV\", \"GNQ\", \"GNQ\", \"GNQ\", \"GNQ\", \"GNQ\", \"GNQ\", \"GNQ\", \"ERI\", \"ERI\", \"ERI\", \"ERI\", \"ERI\", \"ERI\", \"ERI\", \"EST\", \"EST\", \"EST\", \"EST\", \"EST\", \"EST\", \"EST\", \"ETH\", \"ETH\", \"ETH\", \"ETH\", \"ETH\", \"ETH\", \"ETH\", \"FJI\", \"FJI\", \"FJI\", \"FJI\", \"FJI\", \"FJI\", \"FJI\", \"FIN\", \"FIN\", \"FIN\", \"FIN\", \"FIN\", \"FIN\", \"FIN\", \"FRA\", \"FRA\", \"FRA\", \"FRA\", \"FRA\", \"FRA\", \"FRA\", \"GAB\", \"GAB\", \"GAB\", \"GAB\", \"GAB\", \"GAB\", \"GAB\", \"GMB\", \"GMB\", \"GMB\", \"GMB\", \"GMB\", \"GMB\", \"GMB\", \"GEO\", \"GEO\", \"GEO\", \"GEO\", \"GEO\", \"GEO\", \"GEO\", \"GEO\", \"GEO\", \"GEO\", \"GEO\", \"GEO\", \"GEO\", \"GEO\", \"DEU\", \"DEU\", \"DEU\", \"DEU\", \"DEU\", \"DEU\", \"DEU\", \"GHA\", \"GHA\", \"GHA\", \"GHA\", \"GHA\", \"GHA\", \"GHA\", \"GRC\", \"GRC\", \"GRC\", \"GRC\", \"GRC\", \"GRC\", \"GRC\", \"GRL\", \"GRL\", \"GRL\", \"GRL\", \"GRL\", \"GRL\", \"GRL\", \"GRD\", \"GRD\", \"GRD\", \"GRD\", \"GRD\", \"GRD\", \"GRD\", \"GUM\", \"GUM\", \"GUM\", \"GUM\", \"GUM\", \"GUM\", \"GUM\", \"GTM\", \"GTM\", \"GTM\", \"GTM\", \"GTM\", \"GTM\", \"GTM\", \"GIN\", \"GIN\", \"GIN\", \"GIN\", \"GIN\", \"GIN\", \"GIN\", \"GNB\", \"GNB\", \"GNB\", \"GNB\", \"GNB\", \"GNB\", \"GNB\", \"GUY\", \"GUY\", \"GUY\", \"GUY\", \"GUY\", \"GUY\", \"GUY\", \"HTI\", \"HTI\", \"HTI\", \"HTI\", \"HTI\", \"HTI\", \"HTI\", \"HND\", \"HND\", \"HND\", \"HND\", \"HND\", \"HND\", \"HND\", \"HUN\", \"HUN\", \"HUN\", \"HUN\", \"HUN\", \"HUN\", \"HUN\", \"ISL\", \"ISL\", \"ISL\", \"ISL\", \"ISL\", \"ISL\", \"ISL\", \"IND\", \"IND\", \"IND\", \"IND\", \"IND\", \"IND\", \"IND\", \"IDN\", \"IDN\", \"IDN\", \"IDN\", \"IDN\", \"IDN\", \"IDN\", \"IRN\", \"IRN\", \"IRN\", \"IRN\", \"IRN\", \"IRN\", \"IRN\", \"IRQ\", \"IRQ\", \"IRQ\", \"IRQ\", \"IRQ\", \"IRQ\", \"IRQ\", \"IRL\", \"IRL\", \"IRL\", \"IRL\", \"IRL\", \"IRL\", \"IRL\", \"ISR\", \"ISR\", \"ISR\", \"ISR\", \"ISR\", \"ISR\", \"ISR\", \"ITA\", \"ITA\", \"ITA\", \"ITA\", \"ITA\", \"ITA\", \"ITA\", \"JAM\", \"JAM\", \"JAM\", \"JAM\", \"JAM\", \"JAM\", \"JAM\", \"JPN\", \"JPN\", \"JPN\", \"JPN\", \"JPN\", \"JPN\", \"JPN\", \"JOR\", \"JOR\", \"JOR\", \"JOR\", \"JOR\", \"JOR\", \"JOR\", \"KAZ\", \"KAZ\", \"KAZ\", \"KAZ\", \"KAZ\", \"KAZ\", \"KAZ\", \"KAZ\", \"KAZ\", \"KAZ\", \"KAZ\", \"KAZ\", \"KAZ\", \"KAZ\", \"KEN\", \"KEN\", \"KEN\", \"KEN\", \"KEN\", \"KEN\", \"KEN\", \"KIR\", \"KIR\", \"KIR\", \"KIR\", \"KIR\", \"KIR\", \"KIR\", \"KWT\", \"KWT\", \"KWT\", \"KWT\", \"KWT\", \"KWT\", \"KWT\", \"KGZ\", \"KGZ\", \"KGZ\", \"KGZ\", \"KGZ\", \"KGZ\", \"KGZ\", \"LAO\", \"LAO\", \"LAO\", \"LAO\", \"LAO\", \"LAO\", \"LAO\", \"LVA\", \"LVA\", \"LVA\", \"LVA\", \"LVA\", \"LVA\", \"LVA\", \"LBN\", \"LBN\", \"LBN\", \"LBN\", \"LBN\", \"LBN\", \"LBN\", \"LSO\", \"LSO\", \"LSO\", \"LSO\", \"LSO\", \"LSO\", \"LSO\", \"LBR\", \"LBR\", \"LBR\", \"LBR\", \"LBR\", \"LBR\", \"LBR\", \"LBY\", \"LBY\", \"LBY\", \"LBY\", \"LBY\", \"LBY\", \"LBY\", \"LTU\", \"LTU\", \"LTU\", \"LTU\", \"LTU\", \"LTU\", \"LTU\", \"LUX\", \"LUX\", \"LUX\", \"LUX\", \"LUX\", \"LUX\", \"LUX\", \"MKD\", \"MKD\", \"MKD\", \"MKD\", \"MKD\", \"MKD\", \"MKD\", \"MDG\", \"MDG\", \"MDG\", \"MDG\", \"MDG\", \"MDG\", \"MDG\", \"MWI\", \"MWI\", \"MWI\", \"MWI\", \"MWI\", \"MWI\", \"MWI\", \"MYS\", \"MYS\", \"MYS\", \"MYS\", \"MYS\", \"MYS\", \"MYS\", \"MDV\", \"MDV\", \"MDV\", \"MDV\", \"MDV\", \"MDV\", \"MDV\", \"MLI\", \"MLI\", \"MLI\", \"MLI\", \"MLI\", \"MLI\", \"MLI\", \"MLT\", \"MLT\", \"MLT\", \"MLT\", \"MLT\", \"MLT\", \"MLT\", \"MHL\", \"MHL\", \"MHL\", \"MHL\", \"MHL\", \"MHL\", \"MHL\", \"MRT\", \"MRT\", \"MRT\", \"MRT\", \"MRT\", \"MRT\", \"MRT\", \"MUS\", \"MUS\", \"MUS\", \"MUS\", \"MUS\", \"MUS\", \"MUS\", \"MEX\", \"MEX\", \"MEX\", \"MEX\", \"MEX\", \"MEX\", \"MEX\", \"MDA\", \"MDA\", \"MDA\", \"MDA\", \"MDA\", \"MDA\", \"MDA\", \"MNG\", \"MNG\", \"MNG\", \"MNG\", \"MNG\", \"MNG\", \"MNG\", \"MNE\", \"MNE\", \"MNE\", \"MNE\", \"MNE\", \"MNE\", \"MNE\", \"MAR\", \"MAR\", \"MAR\", \"MAR\", \"MAR\", \"MAR\", \"MAR\", \"MOZ\", \"MOZ\", \"MOZ\", \"MOZ\", \"MOZ\", \"MOZ\", \"MOZ\", \"MMR\", \"MMR\", \"MMR\", \"MMR\", \"MMR\", \"MMR\", \"MMR\", \"NAM\", \"NAM\", \"NAM\", \"NAM\", \"NAM\", \"NAM\", \"NAM\", \"NPL\", \"NPL\", \"NPL\", \"NPL\", \"NPL\", \"NPL\", \"NPL\", \"NLD\", \"NLD\", \"NLD\", \"NLD\", \"NLD\", \"NLD\", \"NLD\", \"NZL\", \"NZL\", \"NZL\", \"NZL\", \"NZL\", \"NZL\", \"NZL\", \"NIC\", \"NIC\", \"NIC\", \"NIC\", \"NIC\", \"NIC\", \"NIC\", \"NER\", \"NER\", \"NER\", \"NER\", \"NER\", \"NER\", \"NER\", \"NGA\", \"NGA\", \"NGA\", \"NGA\", \"NGA\", \"NGA\", \"NGA\", \"PRK\", \"PRK\", \"PRK\", \"PRK\", \"PRK\", \"PRK\", \"PRK\", \"MNP\", \"MNP\", \"MNP\", \"MNP\", \"MNP\", \"MNP\", \"MNP\", \"NOR\", \"NOR\", \"NOR\", \"NOR\", \"NOR\", \"NOR\", \"NOR\", \"OMN\", \"OMN\", \"OMN\", \"OMN\", \"OMN\", \"OMN\", \"OMN\", \"PAK\", \"PAK\", \"PAK\", \"PAK\", \"PAK\", \"PAK\", \"PAK\", \"PSE\", \"PSE\", \"PSE\", \"PSE\", \"PSE\", \"PSE\", \"PSE\", \"PAN\", \"PAN\", \"PAN\", \"PAN\", \"PAN\", \"PAN\", \"PAN\", \"PNG\", \"PNG\", \"PNG\", \"PNG\", \"PNG\", \"PNG\", \"PNG\", \"PRY\", \"PRY\", \"PRY\", \"PRY\", \"PRY\", \"PRY\", \"PRY\", \"PER\", \"PER\", \"PER\", \"PER\", \"PER\", \"PER\", \"PER\", \"PHL\", \"PHL\", \"PHL\", \"PHL\", \"PHL\", \"PHL\", \"PHL\", \"POL\", \"POL\", \"POL\", \"POL\", \"POL\", \"POL\", \"POL\", \"PRT\", \"PRT\", \"PRT\", \"PRT\", \"PRT\", \"PRT\", \"PRT\", \"PRI\", \"PRI\", \"PRI\", \"PRI\", \"PRI\", \"PRI\", \"PRI\", \"QAT\", \"QAT\", \"QAT\", \"QAT\", \"QAT\", \"QAT\", \"QAT\", \"ROU\", \"ROU\", \"ROU\", \"ROU\", \"ROU\", \"ROU\", \"ROU\", \"RUS\", \"RUS\", \"RUS\", \"RUS\", \"RUS\", \"RUS\", \"RUS\", \"RUS\", \"RUS\", \"RUS\", \"RUS\", \"RUS\", \"RUS\", \"RUS\", \"RWA\", \"RWA\", \"RWA\", \"RWA\", \"RWA\", \"RWA\", \"RWA\", \"LCA\", \"LCA\", \"LCA\", \"LCA\", \"LCA\", \"LCA\", \"LCA\", \"VCT\", \"VCT\", \"VCT\", \"VCT\", \"VCT\", \"VCT\", \"VCT\", \"WSM\", \"WSM\", \"WSM\", \"WSM\", \"WSM\", \"WSM\", \"WSM\", \"STP\", \"STP\", \"STP\", \"STP\", \"STP\", \"STP\", \"STP\", \"SAU\", \"SAU\", \"SAU\", \"SAU\", \"SAU\", \"SAU\", \"SAU\", \"SEN\", \"SEN\", \"SEN\", \"SEN\", \"SEN\", \"SEN\", \"SEN\", \"SRB\", \"SRB\", \"SRB\", \"SRB\", \"SRB\", \"SRB\", \"SRB\", \"SYC\", \"SYC\", \"SYC\", \"SYC\", \"SYC\", \"SYC\", \"SYC\", \"SLE\", \"SLE\", \"SLE\", \"SLE\", \"SLE\", \"SLE\", \"SLE\", \"SVK\", \"SVK\", \"SVK\", \"SVK\", \"SVK\", \"SVK\", \"SVK\", \"SVN\", \"SVN\", \"SVN\", \"SVN\", \"SVN\", \"SVN\", \"SVN\", \"SLB\", \"SLB\", \"SLB\", \"SLB\", \"SLB\", \"SLB\", \"SLB\", \"SOM\", \"SOM\", \"SOM\", \"SOM\", \"SOM\", \"SOM\", \"SOM\", \"ZAF\", \"ZAF\", \"ZAF\", \"ZAF\", \"ZAF\", \"ZAF\", \"ZAF\", \"SSD\", \"SSD\", \"SSD\", \"SSD\", \"SSD\", \"SSD\", \"SSD\", \"ESP\", \"ESP\", \"ESP\", \"ESP\", \"ESP\", \"ESP\", \"ESP\", \"LKA\", \"LKA\", \"LKA\", \"LKA\", \"LKA\", \"LKA\", \"LKA\", \"SDN\", \"SDN\", \"SDN\", \"SDN\", \"SDN\", \"SDN\", \"SDN\", \"SUR\", \"SUR\", \"SUR\", \"SUR\", \"SUR\", \"SUR\", \"SUR\", \"SWZ\", \"SWZ\", \"SWZ\", \"SWZ\", \"SWZ\", \"SWZ\", \"SWZ\", \"SWE\", \"SWE\", \"SWE\", \"SWE\", \"SWE\", \"SWE\", \"SWE\", \"CHE\", \"CHE\", \"CHE\", \"CHE\", \"CHE\", \"CHE\", \"CHE\", \"SYR\", \"SYR\", \"SYR\", \"SYR\", \"SYR\", \"SYR\", \"SYR\", \"TWN\", \"TWN\", \"TWN\", \"TWN\", \"TWN\", \"TWN\", \"TWN\", \"TJK\", \"TJK\", \"TJK\", \"TJK\", \"TJK\", \"TJK\", \"TJK\", \"TZA\", \"TZA\", \"TZA\", \"TZA\", \"TZA\", \"TZA\", \"TZA\", \"THA\", \"THA\", \"THA\", \"THA\", \"THA\", \"THA\", \"THA\", \"TLS\", \"TLS\", \"TLS\", \"TLS\", \"TLS\", \"TLS\", \"TLS\", \"TGO\", \"TGO\", \"TGO\", \"TGO\", \"TGO\", \"TGO\", \"TGO\", \"TON\", \"TON\", \"TON\", \"TON\", \"TON\", \"TON\", \"TON\", \"TTO\", \"TTO\", \"TTO\", \"TTO\", \"TTO\", \"TTO\", \"TTO\", \"TUN\", \"TUN\", \"TUN\", \"TUN\", \"TUN\", \"TUN\", \"TUN\", \"TUR\", \"TUR\", \"TUR\", \"TUR\", \"TUR\", \"TUR\", \"TUR\", \"TUR\", \"TUR\", \"TUR\", \"TUR\", \"TUR\", \"TUR\", \"TUR\", \"TKM\", \"TKM\", \"TKM\", \"TKM\", \"TKM\", \"TKM\", \"TKM\", \"UGA\", \"UGA\", \"UGA\", \"UGA\", \"UGA\", \"UGA\", \"UGA\", \"UKR\", \"UKR\", \"UKR\", \"UKR\", \"UKR\", \"UKR\", \"UKR\", \"ARE\", \"ARE\", \"ARE\", \"ARE\", \"ARE\", \"ARE\", \"ARE\", \"GBR\", \"GBR\", \"GBR\", \"GBR\", \"GBR\", \"GBR\", \"GBR\", \"USA\", \"USA\", \"USA\", \"USA\", \"USA\", \"USA\", \"USA\", \"URY\", \"URY\", \"URY\", \"URY\", \"URY\", \"URY\", \"URY\", \"UZB\", \"UZB\", \"UZB\", \"UZB\", \"UZB\", \"UZB\", \"UZB\", \"VUT\", \"VUT\", \"VUT\", \"VUT\", \"VUT\", \"VUT\", \"VUT\", \"VEN\", \"VEN\", \"VEN\", \"VEN\", \"VEN\", \"VEN\", \"VEN\", \"VNM\", \"VNM\", \"VNM\", \"VNM\", \"VNM\", \"VNM\", \"VNM\", \"YEM\", \"YEM\", \"YEM\", \"YEM\", \"YEM\", \"YEM\", \"YEM\", \"ZMB\", \"ZMB\", \"ZMB\", \"ZMB\", \"ZMB\", \"ZMB\", \"ZMB\", \"ZWE\", \"ZWE\", \"ZWE\", \"ZWE\", \"ZWE\", \"ZWE\", \"ZWE\"], \"name\": \"\", \"type\": \"choropleth\", \"z\": [19.3, 19.1, 18.6, 18.9, 19.0, 19.4, 20.3, 29.3, 29.4, 31.8, 29.7, 29.3, 28.1, 28.0, 15.9, 14.5, 10.0, 9.3, 8.8, 7.5, 7.4, 24.2, 23.6, 22.6, 22.8, 22.4, 21.6, 22.4, 23.2, 22.4, 22.0, 22.3, 22.2, 21.8, 22.4, 10.1, 9.5, 8.6, 8.2, 8.3, 8.8, 10.2, 8.1, 7.5, 7.1, 6.0, 6.1, 5.7, 5.2, 24.7, 24.4, 23.5, 22.7, 22.7, 22.4, 22.0, 28.7, 28.7, 29.8, 29.8, 29.4, 29.4, 31.5, 31.5, 32.5, 32.5, 32.4, 32.4, 29.2, 29.2, 27.3, 26.6, 25.6, 25.1, 25.1, 24.4, 23.5, 25.2, 25.2, 25.0, 25.6, 25.8, 26.1, 24.7, 25.7, 25.7, 22.9, 22.9, 20.5, 20.5, 20.1, 20.1, 20.5, 20.5, 22.5, 22.5, 22.2, 22.2, 16.0, 15.5, 13.7, 12.4, 12.0, 11.2, 11.1, 33.9, 29.6, 26.6, 25.0, 24.5, 21.6, 19.3, 29.0, 28.9, 28.6, 26.9, 27.7, 30.7, 38.3, 8.0, 8.1, 6.7, 6.0, 6.0, 5.5, 5.7, 30.3, 33.0, 31.1, 29.7, 29.0, 27.7, 25.5, 35.4, 35.1, 34.4, 33.9, 33.8, 34.3, 33.0, 10.2, 14.3, 15.9, 16.8, 16.5, 14.8, 16.0, 7.4, 7.6, 8.2, 8.9, 9.1, 9.7, 10.4, 33.2, 33.0, 32.9, 29.1, 29.3, 27.4, 24.9, 9.4, 8.7, 7.4, 7.4, 7.3, 7.3, 7.8, 9.0, 8.9, 8.2, 8.8, 8.7, 8.6, 9.2, 35.9, 35.4, 35.4, 34.3, 34.3, 34.3, 33.6, 23.6, 25.7, 27.2, 24.9, 24.8, 24.2, 22.0, 19.5, 20.1, 19.8, 19.1, 18.8, 17.8, 17.0, 20.3, 19.6, 20.0, 20.4, 20.5, 21.0, 21.4, 25.7, 27.2, 26.1, 27.7, 27.8, 27.7, 26.3, 4.5, 4.6, 4.7, 4.0, 4.0, 4.2, 4.6, 7.7, 7.5, 5.6, 4.5, 4.5, 4.4, 4.8, 24.0, 24.7, 24.6, 25.4, 25.4, 26.0, 26.8, 9.9, 10.0, 11.0, 11.6, 11.7, 11.7, 12.1, 36.3, 37.0, 36.2, 36.4, 36.4, 34.4, 33.4, 16.0, 18.5, 19.0, 19.8, 19.9, 20.5, 19.8, 11.5, 11.9, 12.3, 12.4, 12.4, 12.4, 12.3, 5.1, 5.4, 6.8, 7.1, 7.3, 8.3, 9.1, 16.1, 15.7, 14.1, 14.3, 14.4, 14.6, 14.3, 18.3, 18.6, 20.8, 23.4, 23.2, 23.9, 22.0, 14.8, 15.3, 14.7, 14.7, 14.8, 13.6, 11.5, 5.5, 5.5, 4.5, 4.2, 4.2, 4.4, 4.5, 15.7, 15.7, 14.0, 11.4, 11.2, 10.7, 11.1, 9.7, 8.9, 8.4, 6.9, 6.4, 5.4, 5.3, 4.4, 5.7, 5.3, 4.7, 4.7, 4.5, 4.5, 32.8, 33.0, 34.0, 33.2, 33.0, 31.8, 30.0, 31.2, 31.0, 32.4, 33.6, 33.7, 33.4, 33.2, 19.2, 19.2, 19.2, 19.2, 19.0, 19.0, 21.7, 21.7, 21.6, 21.6, 23.2, 23.2, 21.8, 21.8, 32.9, 31.9, 31.2, 30.0, 29.8, 29.3, 25.9, 6.1, 5.9, 5.7, 4.9, 5.0, 5.4, 7.0, 35.3, 36.3, 35.5, 35.8, 35.6, 34.6, 32.3, 4.8, 4.5, 4.4, 4.4, 4.4, 4.7, 4.9, 13.1, 13.9, 12.5, 11.9, 11.9, 12.3, 12.7, 12.5, 12.9, 12.9, 11.7, 11.6, 11.5, 11.7, 5.3, 6.5, 6.2, 6.6, 6.4, 6.2, 5.3, 5.6, 6.0, 6.5, 7.4, 7.6, 8.3, 8.1, 4.6, 4.2, 4.5, 5.2, 5.1, 4.9, 5.3, 11.2, 10.4, 12.3, 12.0, 12.3, 12.5, 12.8, 4.8, 3.4, 3.2, 3.6, 3.6, 3.6, 3.8, 33.8, 34.7, 31.2, 30.3, 30.4, 26.8, 25.1, 5.8, 4.3, 3.2, 2.9, 3.0, 3.3, 4.1, 6.8, 6.4, 6.1, 6.3, 6.4, 5.9, 5.6, 26.5, 24.3, 23.3, 22.9, 23.0, 22.7, 20.3, 28.6, 28.9, 29.3, 29.4, 29.7, 30.5, 28.6, 13.3, 13.1, 10.6, 8.7, 8.4, 7.3, 7.5, 4.7, 4.8, 5.4, 5.7, 5.8, 5.8, 5.5, 25.3, 25.3, 20.2, 20.2, 20.3, 20.3, 22.3, 22.3, 22.4, 22.4, 25.1, 25.1, 25.5, 25.5, 27.8, 28.5, 27.9, 27.6, 27.7, 27.8, 26.7, 2.9, 2.9, 2.9, 3.5, 3.5, 3.6, 3.9, 34.7, 34.9, 34.5, 34.1, 33.9, 33.6, 32.5, 57.6, 57.7, 57.7, 57.0, 56.8, 57.0, 57.1, 10.1, 10.1, 10.3, 11.1, 11.3, 10.9, 11.6, 40.9, 38.7, 37.8, 39.5, 39.8, 41.1, 40.5, 4.1, 4.8, 5.7, 5.2, 4.6, 3.2, 3.0, 6.4, 7.8, 9.0, 9.1, 9.3, 10.1, 10.3, 8.4, 8.4, 8.4, 9.1, 9.2, 10.1, 10.8, 5.6, 4.5, 5.8, 5.1, 4.9, 4.7, 4.0, 14.5, 13.7, 12.7, 12.4, 12.4, 12.4, 13.0, 5.5, 6.4, 6.3, 7.1, 7.1, 7.1, 7.0, 34.6, 36.9, 38.1, 39.8, 40.1, 41.0, 38.4, 29.7, 30.9, 30.9, 31.2, 31.2, 30.6, 29.5, 10.2, 10.1, 9.9, 10.4, 10.3, 10.4, 10.8, 8.3, 8.8, 7.6, 7.8, 7.9, 7.7, 7.0, 13.3, 14.6, 14.4, 13.2, 13.6, 15.6, 15.8, 12.5, 13.5, 15.0, 16.2, 16.5, 17.7, 16.0, 31.7, 32.0, 32.1, 31.2, 31.1, 30.2, 28.2, 22.3, 22.2, 21.5, 22.2, 22.3, 21.5, 21.5, 33.2, 32.6, 31.4, 29.1, 29.1, 28.7, 27.4, 14.1, 16.5, 17.4, 15.1, 15.7, 16.0, 16.5, 16.4, 17.7, 17.8, 17.7, 17.7, 17.2, 15.4, 12.2, 12.1, 11.8, 14.1, 14.5, 15.8, 15.0, 37.7, 37.7, 37.5, 37.5, 33.6, 33.6, 31.8, 31.8, 31.1, 31.1, 27.1, 27.1, 24.2, 24.2, 2.9, 3.4, 3.7, 3.4, 3.3, 3.4, 3.8, 21.4, 21.4, 22.9, 23.2, 23.2, 23.1, 22.6, 17.8, 18.7, 14.5, 13.2, 13.5, 12.5, 10.1, 27.2, 25.8, 19.5, 19.3, 19.1, 17.5, 15.4, 22.1, 23.2, 23.3, 23.5, 23.6, 23.8, 25.2, 32.4, 33.1, 28.9, 30.0, 29.7, 27.0, 25.5, 24.6, 19.2, 18.9, 22.3, 22.7, 22.7, 22.6, 19.7, 21.1, 22.8, 25.2, 25.5, 25.3, 26.4, 3.4, 2.2, 2.2, 2.8, 3.0, 3.8, 4.6, 24.7, 23.6, 23.8, 25.1, 25.4, 26.5, 27.1, 31.9, 32.8, 28.9, 29.6, 29.6, 27.4, 25.5, 31.6, 31.8, 31.0, 30.4, 30.2, 29.5, 27.5, 26.8, 27.8, 28.9, 30.3, 30.6, 31.6, 29.7, 4.4, 3.8, 3.4, 3.3, 3.2, 3.2, 3.4, 3.8, 4.5, 5.3, 4.9, 5.1, 5.4, 5.5, 30.5, 30.0, 29.4, 29.2, 29.1, 28.3, 27.9, 17.2, 17.7, 16.5, 14.5, 14.1, 13.6, 15.3, 4.5, 3.2, 2.6, 2.7, 2.8, 3.2, 3.3, 25.2, 25.1, 24.9, 21.8, 22.2, 22.9, 22.1, 18.9, 19.0, 18.3, 18.5, 18.5, 18.1, 17.5, 10.0, 8.8, 6.8, 5.5, 5.6, 5.9, 7.4, 19.4, 18.3, 15.9, 16.3, 16.0, 14.7, 13.9, 13.6, 13.4, 11.6, 10.4, 9.8, 8.2, 7.1, 29.1, 29.4, 24.1, 24.9, 24.4, 25.1, 22.2, 33.7, 37.5, 33.9, 32.1, 31.8, 30.5, 30.2, 40.8, 41.4, 41.8, 41.2, 41.1, 39.7, 38.9, 22.4, 20.4, 19.4, 18.9, 18.9, 18.9, 19.1, 3.2, 3.1, 4.0, 4.6, 4.9, 5.6, 5.6, 22.5, 22.4, 23.0, 24.5, 24.7, 25.8, 27.8, 3.9, 4.2, 5.7, 4.8, 4.6, 3.6, 3.1, 13.2, 12.9, 12.4, 12.0, 11.9, 11.8, 12.2, 36.2, 35.9, 35.7, 35.1, 34.8, 34.7, 33.0, 29.1, 27.5, 25.4, 24.5, 24.4, 23.6, 22.4, 2.9, 3.5, 3.3, 3.4, 3.3, 3.2, 3.4, 5.8, 4.3, 4.1, 4.8, 5.1, 6.1, 6.1, 2.8, 2.2, 2.1, 2.1, 2.1, 2.1, 2.2, 56.8, 56.0, 54.2, 53.7, 53.4, 52.6, 51.8, 40.8, 40.3, 39.0, 40.3, 40.4, 40.4, 43.1, 20.7, 22.8, 25.0, 26.1, 26.3, 26.9, 24.1, 3.8, 5.7, 4.5, 4.9, 5.0, 7.0, 11.0, 14.4, 16.1, 19.2, 18.7, 18.6, 17.8, 18.0, 16.8, 17.3, 19.1, 20.1, 20.4, 22.2, 23.7, 14.3, 14.3, 11.7, 11.2, 10.9, 9.5, 8.6, 19.4, 19.8, 19.5, 19.4, 19.3, 19.1, 19.5, 11.1, 12.4, 15.5, 16.5, 16.5, 16.9, 16.9, 12.8, 14.2, 10.0, 8.4, 8.4, 8.5, 7.7, 21.3, 25.0, 25.9, 25.1, 24.5, 22.4, 22.3, 35.6, 36.1, 36.2, 36.2, 36.2, 36.0, 33.3, 19.0, 20.5, 21.1, 22.9, 23.1, 23.0, 21.2, 17.5, 17.7, 15.2, 13.9, 14.0, 14.1, 13.1, 14.6, 17.4, 13.1, 15.5, 15.5, 16.7, 15.9, 25.8, 28.8, 27.9, 29.2, 29.4, 31.2, 29.4, 32.6, 32.6, 34.3, 34.3, 30.5, 30.5, 29.1, 29.1, 28.0, 28.0, 26.4, 26.4, 24.4, 24.4, 4.6, 6.9, 4.7, 3.2, 3.3, 3.6, 3.9, 10.6, 9.7, 9.4, 9.9, 9.6, 8.0, 8.8, 8.0, 8.5, 8.6, 8.0, 8.0, 7.7, 8.5, 7.7, 7.0, 6.3, 5.9, 5.8, 5.5, 5.1, 12.8, 12.5, 13.6, 15.2, 15.4, 15.4, 17.3, 6.2, 6.5, 7.4, 8.5, 8.7, 9.9, 9.5, 10.0, 8.7, 7.9, 8.4, 8.7, 9.6, 11.4, 30.5, 31.4, 32.3, 34.0, 34.1, 34.6, 33.1, 19.3, 21.6, 19.5, 19.5, 19.1, 17.5, 15.7, 6.5, 6.3, 6.2, 7.2, 7.4, 8.0, 8.6, 33.4, 31.6, 30.5, 28.7, 28.3, 27.5, 25.3, 31.1, 31.0, 30.6, 30.3, 30.0, 28.1, 25.0, 21.6, 22.0, 21.9, 21.6, 21.7, 22.0, 22.0, 3.0, 3.0, 2.6, 2.5, 2.5, 2.5, 2.8, 27.0, 26.5, 26.5, 21.9, 21.7, 21.6, 22.1, 2.1, 2.4, 2.3, 2.2, 2.3, 2.3, 2.5, 28.3, 29.3, 29.3, 29.6, 29.5, 29.1, 26.4, 7.3, 8.0, 8.4, 9.8, 10.1, 10.2, 8.4, 11.0, 10.7, 11.0, 11.6, 11.6, 11.2, 11.1, 11.4, 11.8, 13.0, 13.2, 13.3, 13.4, 13.7, 21.4, 21.7, 26.2, 26.5, 26.3, 26.1, 24.3, 18.4, 17.9, 18.8, 20.0, 19.9, 19.5, 18.9, 28.4, 27.7, 27.3, 27.0, 26.8, 26.5, 24.1, 7.8, 7.5, 8.2, 8.0, 8.4, 11.5, 9.8, 30.1, 33.9, 36.3, 36.2, 35.9, 34.7, 33.4, 17.9, 10.5, 7.3, 7.6, 7.3, 7.1, 6.2, 3.8, 3.6, 3.5, 3.8, 3.9, 4.2, 5.1, 32.9, 32.8, 33.7, 31.9, 31.9, 31.0, 30.4, 15.1, 15.6, 12.7, 14.6, 14.7, 14.4, 14.9, 8.5, 8.9, 9.5, 10.0, 10.2, 10.9, 11.1, 28.5, 28.5, 28.2, 28.3, 28.2, 27.8, 27.3, 9.9, 9.5, 9.9, 9.1, 9.1, 9.3, 8.4, 27.6, 27.8, 26.2, 24.1, 24.2, 24.2, 25.8, 36.5, 36.5, 35.6, 35.6, 34.6, 34.6, 34.6, 34.6, 34.5, 34.5, 34.5, 34.5, 32.3, 32.3, 21.3, 18.9, 15.1, 11.4, 11.2, 10.9, 10.2, 4.6, 4.9, 4.9, 5.4, 5.5, 5.3, 5.9, 32.9, 34.0, 30.1, 28.2, 27.3, 24.0, 23.4, 12.1, 13.1, 14.3, 14.4, 15.0, 21.8, 18.1, 36.2, 35.0, 33.6, 33.1, 32.9, 32.0, 31.4, 39.7, 40.5, 40.0, 39.1, 38.6, 36.6, 36.0, 30.3, 29.6, 27.5, 27.0, 27.0, 27.3, 27.2, 23.0, 20.4, 16.5, 14.2, 13.8, 11.3, 11.2, 22.9, 23.6, 23.6, 23.2, 22.9, 22.2, 21.1, 18.3, 18.3, 18.0, 18.0, 18.5, 18.5, 18.9, 39.7, 41.1, 43.6, 45.2, 45.3, 45.3, 45.8, 11.1, 11.7, 12.4, 13.8, 13.9, 15.0, 15.5, 1.5, 1.7, 2.3, 3.7, 3.9, 4.6, 5.3, 18.7, 13.1, 12.4, 14.1, 14.1, 13.6, 11.8]}],\n",
       "                        {\"coloraxis\": {\"colorbar\": {\"title\": {\"text\": \"Cancer deaths attributed to tobacco (%)\"}}, \"colorscale\": [[0.0, \"#0d0887\"], [0.1111111111111111, \"#46039f\"], [0.2222222222222222, \"#7201a8\"], [0.3333333333333333, \"#9c179e\"], [0.4444444444444444, \"#bd3786\"], [0.5555555555555556, \"#d8576b\"], [0.6666666666666666, \"#ed7953\"], [0.7777777777777778, \"#fb9f3a\"], [0.8888888888888888, \"#fdca26\"], [1.0, \"#f0f921\"]]}, \"geo\": {\"center\": {}, \"domain\": {\"x\": [0.0, 1.0], \"y\": [0.0, 1.0]}}, \"height\": 600, \"legend\": {\"tracegroupgap\": 0}, \"template\": {\"data\": {\"bar\": [{\"error_x\": {\"color\": \"#2a3f5f\"}, \"error_y\": {\"color\": \"#2a3f5f\"}, \"marker\": {\"line\": {\"color\": \"#E5ECF6\", \"width\": 0.5}}, \"type\": \"bar\"}], \"barpolar\": [{\"marker\": {\"line\": {\"color\": \"#E5ECF6\", \"width\": 0.5}}, \"type\": \"barpolar\"}], \"carpet\": [{\"aaxis\": {\"endlinecolor\": \"#2a3f5f\", \"gridcolor\": \"white\", \"linecolor\": \"white\", \"minorgridcolor\": \"white\", \"startlinecolor\": \"#2a3f5f\"}, \"baxis\": {\"endlinecolor\": \"#2a3f5f\", \"gridcolor\": \"white\", \"linecolor\": \"white\", \"minorgridcolor\": \"white\", \"startlinecolor\": \"#2a3f5f\"}, \"type\": \"carpet\"}], \"choropleth\": [{\"colorbar\": {\"outlinewidth\": 0, \"ticks\": \"\"}, \"type\": \"choropleth\"}], \"contour\": [{\"colorbar\": {\"outlinewidth\": 0, \"ticks\": \"\"}, \"colorscale\": [[0.0, \"#0d0887\"], [0.1111111111111111, \"#46039f\"], [0.2222222222222222, \"#7201a8\"], [0.3333333333333333, \"#9c179e\"], [0.4444444444444444, \"#bd3786\"], [0.5555555555555556, \"#d8576b\"], [0.6666666666666666, \"#ed7953\"], [0.7777777777777778, \"#fb9f3a\"], [0.8888888888888888, \"#fdca26\"], [1.0, \"#f0f921\"]], \"type\": \"contour\"}], \"contourcarpet\": [{\"colorbar\": {\"outlinewidth\": 0, \"ticks\": \"\"}, \"type\": \"contourcarpet\"}], \"heatmap\": [{\"colorbar\": {\"outlinewidth\": 0, \"ticks\": \"\"}, \"colorscale\": [[0.0, \"#0d0887\"], [0.1111111111111111, \"#46039f\"], [0.2222222222222222, \"#7201a8\"], [0.3333333333333333, \"#9c179e\"], [0.4444444444444444, \"#bd3786\"], [0.5555555555555556, \"#d8576b\"], [0.6666666666666666, \"#ed7953\"], [0.7777777777777778, \"#fb9f3a\"], [0.8888888888888888, \"#fdca26\"], [1.0, \"#f0f921\"]], \"type\": \"heatmap\"}], \"heatmapgl\": [{\"colorbar\": {\"outlinewidth\": 0, \"ticks\": \"\"}, \"colorscale\": [[0.0, \"#0d0887\"], [0.1111111111111111, \"#46039f\"], [0.2222222222222222, \"#7201a8\"], [0.3333333333333333, \"#9c179e\"], [0.4444444444444444, \"#bd3786\"], [0.5555555555555556, \"#d8576b\"], [0.6666666666666666, \"#ed7953\"], [0.7777777777777778, \"#fb9f3a\"], [0.8888888888888888, \"#fdca26\"], [1.0, \"#f0f921\"]], \"type\": \"heatmapgl\"}], \"histogram\": [{\"marker\": {\"colorbar\": {\"outlinewidth\": 0, \"ticks\": \"\"}}, \"type\": \"histogram\"}], \"histogram2d\": [{\"colorbar\": {\"outlinewidth\": 0, \"ticks\": \"\"}, \"colorscale\": [[0.0, \"#0d0887\"], [0.1111111111111111, \"#46039f\"], [0.2222222222222222, \"#7201a8\"], [0.3333333333333333, \"#9c179e\"], [0.4444444444444444, \"#bd3786\"], [0.5555555555555556, \"#d8576b\"], [0.6666666666666666, \"#ed7953\"], [0.7777777777777778, \"#fb9f3a\"], [0.8888888888888888, \"#fdca26\"], [1.0, \"#f0f921\"]], \"type\": \"histogram2d\"}], \"histogram2dcontour\": [{\"colorbar\": {\"outlinewidth\": 0, \"ticks\": \"\"}, \"colorscale\": [[0.0, \"#0d0887\"], [0.1111111111111111, \"#46039f\"], [0.2222222222222222, \"#7201a8\"], [0.3333333333333333, \"#9c179e\"], [0.4444444444444444, \"#bd3786\"], [0.5555555555555556, \"#d8576b\"], [0.6666666666666666, \"#ed7953\"], [0.7777777777777778, \"#fb9f3a\"], [0.8888888888888888, \"#fdca26\"], [1.0, \"#f0f921\"]], \"type\": \"histogram2dcontour\"}], \"mesh3d\": [{\"colorbar\": {\"outlinewidth\": 0, \"ticks\": \"\"}, \"type\": \"mesh3d\"}], \"parcoords\": [{\"line\": {\"colorbar\": {\"outlinewidth\": 0, \"ticks\": \"\"}}, \"type\": \"parcoords\"}], \"pie\": [{\"automargin\": true, \"type\": \"pie\"}], \"scatter\": [{\"marker\": {\"colorbar\": {\"outlinewidth\": 0, \"ticks\": \"\"}}, \"type\": \"scatter\"}], \"scatter3d\": [{\"line\": {\"colorbar\": {\"outlinewidth\": 0, \"ticks\": \"\"}}, \"marker\": {\"colorbar\": {\"outlinewidth\": 0, \"ticks\": \"\"}}, \"type\": \"scatter3d\"}], \"scattercarpet\": [{\"marker\": {\"colorbar\": {\"outlinewidth\": 0, \"ticks\": \"\"}}, \"type\": \"scattercarpet\"}], \"scattergeo\": [{\"marker\": {\"colorbar\": {\"outlinewidth\": 0, \"ticks\": \"\"}}, \"type\": \"scattergeo\"}], \"scattergl\": [{\"marker\": {\"colorbar\": {\"outlinewidth\": 0, \"ticks\": \"\"}}, \"type\": \"scattergl\"}], \"scattermapbox\": [{\"marker\": {\"colorbar\": {\"outlinewidth\": 0, \"ticks\": \"\"}}, \"type\": \"scattermapbox\"}], \"scatterpolar\": [{\"marker\": {\"colorbar\": {\"outlinewidth\": 0, \"ticks\": \"\"}}, \"type\": \"scatterpolar\"}], \"scatterpolargl\": [{\"marker\": {\"colorbar\": {\"outlinewidth\": 0, \"ticks\": \"\"}}, \"type\": \"scatterpolargl\"}], \"scatterternary\": [{\"marker\": {\"colorbar\": {\"outlinewidth\": 0, \"ticks\": \"\"}}, \"type\": \"scatterternary\"}], \"surface\": [{\"colorbar\": {\"outlinewidth\": 0, \"ticks\": \"\"}, \"colorscale\": [[0.0, \"#0d0887\"], [0.1111111111111111, \"#46039f\"], [0.2222222222222222, \"#7201a8\"], [0.3333333333333333, \"#9c179e\"], [0.4444444444444444, \"#bd3786\"], [0.5555555555555556, \"#d8576b\"], [0.6666666666666666, \"#ed7953\"], [0.7777777777777778, \"#fb9f3a\"], [0.8888888888888888, \"#fdca26\"], [1.0, \"#f0f921\"]], \"type\": \"surface\"}], \"table\": [{\"cells\": {\"fill\": {\"color\": \"#EBF0F8\"}, \"line\": {\"color\": \"white\"}}, \"header\": {\"fill\": {\"color\": \"#C8D4E3\"}, \"line\": {\"color\": \"white\"}}, \"type\": \"table\"}]}, \"layout\": {\"annotationdefaults\": {\"arrowcolor\": \"#2a3f5f\", \"arrowhead\": 0, \"arrowwidth\": 1}, \"coloraxis\": {\"colorbar\": {\"outlinewidth\": 0, \"ticks\": \"\"}}, \"colorscale\": {\"diverging\": [[0, \"#8e0152\"], [0.1, \"#c51b7d\"], [0.2, \"#de77ae\"], [0.3, \"#f1b6da\"], [0.4, \"#fde0ef\"], [0.5, \"#f7f7f7\"], [0.6, \"#e6f5d0\"], [0.7, \"#b8e186\"], [0.8, \"#7fbc41\"], [0.9, \"#4d9221\"], [1, \"#276419\"]], \"sequential\": [[0.0, \"#0d0887\"], [0.1111111111111111, \"#46039f\"], [0.2222222222222222, \"#7201a8\"], [0.3333333333333333, \"#9c179e\"], [0.4444444444444444, \"#bd3786\"], [0.5555555555555556, \"#d8576b\"], [0.6666666666666666, \"#ed7953\"], [0.7777777777777778, \"#fb9f3a\"], [0.8888888888888888, \"#fdca26\"], [1.0, \"#f0f921\"]], \"sequentialminus\": [[0.0, \"#0d0887\"], [0.1111111111111111, \"#46039f\"], [0.2222222222222222, \"#7201a8\"], [0.3333333333333333, \"#9c179e\"], [0.4444444444444444, \"#bd3786\"], [0.5555555555555556, \"#d8576b\"], [0.6666666666666666, \"#ed7953\"], [0.7777777777777778, \"#fb9f3a\"], [0.8888888888888888, \"#fdca26\"], [1.0, \"#f0f921\"]]}, \"colorway\": [\"#636efa\", \"#EF553B\", \"#00cc96\", \"#ab63fa\", \"#FFA15A\", \"#19d3f3\", \"#FF6692\", \"#B6E880\", \"#FF97FF\", \"#FECB52\"], \"font\": {\"color\": \"#2a3f5f\"}, \"geo\": {\"bgcolor\": \"white\", \"lakecolor\": \"white\", \"landcolor\": \"#E5ECF6\", \"showlakes\": true, \"showland\": true, \"subunitcolor\": \"white\"}, \"hoverlabel\": {\"align\": \"left\"}, \"hovermode\": \"closest\", \"mapbox\": {\"style\": \"light\"}, \"paper_bgcolor\": \"white\", \"plot_bgcolor\": \"#E5ECF6\", \"polar\": {\"angularaxis\": {\"gridcolor\": \"white\", \"linecolor\": \"white\", \"ticks\": \"\"}, \"bgcolor\": \"#E5ECF6\", \"radialaxis\": {\"gridcolor\": \"white\", \"linecolor\": \"white\", \"ticks\": \"\"}}, \"scene\": {\"xaxis\": {\"backgroundcolor\": \"#E5ECF6\", \"gridcolor\": \"white\", \"gridwidth\": 2, \"linecolor\": \"white\", \"showbackground\": true, \"ticks\": \"\", \"zerolinecolor\": \"white\"}, \"yaxis\": {\"backgroundcolor\": \"#E5ECF6\", \"gridcolor\": \"white\", \"gridwidth\": 2, \"linecolor\": \"white\", \"showbackground\": true, \"ticks\": \"\", \"zerolinecolor\": \"white\"}, \"zaxis\": {\"backgroundcolor\": \"#E5ECF6\", \"gridcolor\": \"white\", \"gridwidth\": 2, \"linecolor\": \"white\", \"showbackground\": true, \"ticks\": \"\", \"zerolinecolor\": \"white\"}}, \"shapedefaults\": {\"line\": {\"color\": \"#2a3f5f\"}}, \"ternary\": {\"aaxis\": {\"gridcolor\": \"white\", \"linecolor\": \"white\", \"ticks\": \"\"}, \"baxis\": {\"gridcolor\": \"white\", \"linecolor\": \"white\", \"ticks\": \"\"}, \"bgcolor\": \"#E5ECF6\", \"caxis\": {\"gridcolor\": \"white\", \"linecolor\": \"white\", \"ticks\": \"\"}}, \"title\": {\"x\": 0.05}, \"xaxis\": {\"automargin\": true, \"gridcolor\": \"white\", \"linecolor\": \"white\", \"ticks\": \"\", \"title\": {\"standoff\": 15}, \"zerolinecolor\": \"white\", \"zerolinewidth\": 2}, \"yaxis\": {\"automargin\": true, \"gridcolor\": \"white\", \"linecolor\": \"white\", \"ticks\": \"\", \"title\": {\"standoff\": 15}, \"zerolinecolor\": \"white\", \"zerolinewidth\": 2}}}, \"title\": {\"text\": \"Heat Map of the World\"}},\n",
       "                        {\"responsive\": true}\n",
       "                    ).then(function(){\n",
       "                            \n",
       "var gd = document.getElementById('2fb845ca-d34b-48e7-bf31-b830bc2b35a1');\n",
       "var x = new MutationObserver(function (mutations, observer) {{\n",
       "        var display = window.getComputedStyle(gd).display;\n",
       "        if (!display || display === 'none') {{\n",
       "            console.log([gd, 'removed!']);\n",
       "            Plotly.purge(gd);\n",
       "            observer.disconnect();\n",
       "        }}\n",
       "}});\n",
       "\n",
       "// Listen for the removal of the full notebook cells\n",
       "var notebookContainer = gd.closest('#notebook-container');\n",
       "if (notebookContainer) {{\n",
       "    x.observe(notebookContainer, {childList: true});\n",
       "}}\n",
       "\n",
       "// Listen for the clearing of the current output cell\n",
       "var outputEl = gd.closest('.output');\n",
       "if (outputEl) {{\n",
       "    x.observe(outputEl, {childList: true});\n",
       "}}\n",
       "\n",
       "                        })\n",
       "                };\n",
       "                });\n",
       "            </script>\n",
       "        </div>"
      ]
     },
     "metadata": {},
     "output_type": "display_data"
    }
   ],
   "source": [
    "fig = px.choropleth(df1_taba, locations=\"Code\",\n",
    "                    color=\"Cancer deaths attributed to tobacco (%)\", \n",
    "                    hover_name=\"Country\", \n",
    "                    color_continuous_scale=px.colors.sequential.Plasma,\n",
    "                    title=\"Heat Map of the World\")\n",
    "fig.show()"
   ]
  },
  {
   "cell_type": "markdown",
   "metadata": {},
   "source": [
    "# Does wealth has an impact on recovery?"
   ]
  },
  {
   "cell_type": "code",
   "execution_count": 33,
   "metadata": {},
   "outputs": [],
   "source": [
    "df_gdp = pd.read_csv('../data/lung-cancer-survival-rate-vs-gdp.csv')"
   ]
  },
  {
   "cell_type": "code",
   "execution_count": 34,
   "metadata": {},
   "outputs": [
    {
     "data": {
      "text/html": [
       "<div>\n",
       "<style scoped>\n",
       "    .dataframe tbody tr th:only-of-type {\n",
       "        vertical-align: middle;\n",
       "    }\n",
       "\n",
       "    .dataframe tbody tr th {\n",
       "        vertical-align: top;\n",
       "    }\n",
       "\n",
       "    .dataframe thead th {\n",
       "        text-align: right;\n",
       "    }\n",
       "</style>\n",
       "<table border=\"1\" class=\"dataframe\">\n",
       "  <thead>\n",
       "    <tr style=\"text-align: right;\">\n",
       "      <th></th>\n",
       "      <th>Entity</th>\n",
       "      <th>Code</th>\n",
       "      <th>Year</th>\n",
       "      <th>Five-year lung cancer survival rate (%)</th>\n",
       "      <th>GDP per capita, PPP (constant 2011 international $) (constant 2011 international $)</th>\n",
       "      <th>Total population (Gapminder)</th>\n",
       "    </tr>\n",
       "  </thead>\n",
       "  <tbody>\n",
       "    <tr>\n",
       "      <th>0</th>\n",
       "      <td>Afghanistan</td>\n",
       "      <td>AFG</td>\n",
       "      <td>1800</td>\n",
       "      <td>NaN</td>\n",
       "      <td>NaN</td>\n",
       "      <td>3280000.0</td>\n",
       "    </tr>\n",
       "    <tr>\n",
       "      <th>1</th>\n",
       "      <td>Afghanistan</td>\n",
       "      <td>AFG</td>\n",
       "      <td>1820</td>\n",
       "      <td>NaN</td>\n",
       "      <td>NaN</td>\n",
       "      <td>3280000.0</td>\n",
       "    </tr>\n",
       "    <tr>\n",
       "      <th>2</th>\n",
       "      <td>Afghanistan</td>\n",
       "      <td>AFG</td>\n",
       "      <td>1870</td>\n",
       "      <td>NaN</td>\n",
       "      <td>NaN</td>\n",
       "      <td>4207000.0</td>\n",
       "    </tr>\n",
       "    <tr>\n",
       "      <th>3</th>\n",
       "      <td>Afghanistan</td>\n",
       "      <td>AFG</td>\n",
       "      <td>1913</td>\n",
       "      <td>NaN</td>\n",
       "      <td>NaN</td>\n",
       "      <td>5730000.0</td>\n",
       "    </tr>\n",
       "    <tr>\n",
       "      <th>4</th>\n",
       "      <td>Afghanistan</td>\n",
       "      <td>AFG</td>\n",
       "      <td>1950</td>\n",
       "      <td>NaN</td>\n",
       "      <td>NaN</td>\n",
       "      <td>8151455.0</td>\n",
       "    </tr>\n",
       "  </tbody>\n",
       "</table>\n",
       "</div>"
      ],
      "text/plain": [
       "        Entity Code  Year  Five-year lung cancer survival rate (%)  \\\n",
       "0  Afghanistan  AFG  1800                                      NaN   \n",
       "1  Afghanistan  AFG  1820                                      NaN   \n",
       "2  Afghanistan  AFG  1870                                      NaN   \n",
       "3  Afghanistan  AFG  1913                                      NaN   \n",
       "4  Afghanistan  AFG  1950                                      NaN   \n",
       "\n",
       "   GDP per capita, PPP (constant 2011 international $) (constant 2011 international $)  \\\n",
       "0                                                NaN                                     \n",
       "1                                                NaN                                     \n",
       "2                                                NaN                                     \n",
       "3                                                NaN                                     \n",
       "4                                                NaN                                     \n",
       "\n",
       "   Total population (Gapminder)  \n",
       "0                     3280000.0  \n",
       "1                     3280000.0  \n",
       "2                     4207000.0  \n",
       "3                     5730000.0  \n",
       "4                     8151455.0  "
      ]
     },
     "execution_count": 34,
     "metadata": {},
     "output_type": "execute_result"
    }
   ],
   "source": [
    "df_gdp.head()"
   ]
  },
  {
   "cell_type": "code",
   "execution_count": 35,
   "metadata": {
    "scrolled": true
   },
   "outputs": [
    {
     "name": "stdout",
     "output_type": "stream",
     "text": [
      "<class 'pandas.core.frame.DataFrame'>\n",
      "RangeIndex: 22196 entries, 0 to 22195\n",
      "Data columns (total 6 columns):\n",
      "Entity                                                                                 22196 non-null object\n",
      "Code                                                                                   20956 non-null object\n",
      "Year                                                                                   22196 non-null int64\n",
      "Five-year lung cancer survival rate (%)                                                153 non-null float64\n",
      "GDP per capita, PPP (constant 2011 international $) (constant 2011 international $)    6407 non-null float64\n",
      "Total population (Gapminder)                                                           20081 non-null float64\n",
      "dtypes: float64(3), int64(1), object(2)\n",
      "memory usage: 1.0+ MB\n"
     ]
    }
   ],
   "source": [
    "df_gdp.info()"
   ]
  },
  {
   "cell_type": "code",
   "execution_count": 36,
   "metadata": {},
   "outputs": [],
   "source": [
    "df1_gdp = df_gdp.dropna()# droping unavailable values"
   ]
  },
  {
   "cell_type": "code",
   "execution_count": 37,
   "metadata": {},
   "outputs": [
    {
     "data": {
      "text/html": [
       "<div>\n",
       "<style scoped>\n",
       "    .dataframe tbody tr th:only-of-type {\n",
       "        vertical-align: middle;\n",
       "    }\n",
       "\n",
       "    .dataframe tbody tr th {\n",
       "        vertical-align: top;\n",
       "    }\n",
       "\n",
       "    .dataframe thead th {\n",
       "        text-align: right;\n",
       "    }\n",
       "</style>\n",
       "<table border=\"1\" class=\"dataframe\">\n",
       "  <thead>\n",
       "    <tr style=\"text-align: right;\">\n",
       "      <th></th>\n",
       "      <th>Entity</th>\n",
       "      <th>Code</th>\n",
       "      <th>Year</th>\n",
       "      <th>Five-year lung cancer survival rate (%)</th>\n",
       "      <th>GDP per capita, PPP (constant 2011 international $) (constant 2011 international $)</th>\n",
       "      <th>Total population (Gapminder)</th>\n",
       "    </tr>\n",
       "  </thead>\n",
       "  <tbody>\n",
       "    <tr>\n",
       "      <th>233</th>\n",
       "      <td>Algeria</td>\n",
       "      <td>DZA</td>\n",
       "      <td>1999</td>\n",
       "      <td>6.0</td>\n",
       "      <td>9968.967712</td>\n",
       "      <td>30099010.0</td>\n",
       "    </tr>\n",
       "    <tr>\n",
       "      <th>238</th>\n",
       "      <td>Algeria</td>\n",
       "      <td>DZA</td>\n",
       "      <td>2004</td>\n",
       "      <td>8.2</td>\n",
       "      <td>11797.184849</td>\n",
       "      <td>32396048.0</td>\n",
       "    </tr>\n",
       "    <tr>\n",
       "      <th>243</th>\n",
       "      <td>Algeria</td>\n",
       "      <td>DZA</td>\n",
       "      <td>2009</td>\n",
       "      <td>14.8</td>\n",
       "      <td>12647.540304</td>\n",
       "      <td>34950168.0</td>\n",
       "    </tr>\n",
       "    <tr>\n",
       "      <th>742</th>\n",
       "      <td>Argentina</td>\n",
       "      <td>ARG</td>\n",
       "      <td>2004</td>\n",
       "      <td>20.8</td>\n",
       "      <td>14410.150515</td>\n",
       "      <td>38340778.0</td>\n",
       "    </tr>\n",
       "    <tr>\n",
       "      <th>747</th>\n",
       "      <td>Argentina</td>\n",
       "      <td>ARG</td>\n",
       "      <td>2009</td>\n",
       "      <td>11.9</td>\n",
       "      <td>17168.378937</td>\n",
       "      <td>40062470.0</td>\n",
       "    </tr>\n",
       "  </tbody>\n",
       "</table>\n",
       "</div>"
      ],
      "text/plain": [
       "        Entity Code  Year  Five-year lung cancer survival rate (%)  \\\n",
       "233    Algeria  DZA  1999                                      6.0   \n",
       "238    Algeria  DZA  2004                                      8.2   \n",
       "243    Algeria  DZA  2009                                     14.8   \n",
       "742  Argentina  ARG  2004                                     20.8   \n",
       "747  Argentina  ARG  2009                                     11.9   \n",
       "\n",
       "     GDP per capita, PPP (constant 2011 international $) (constant 2011 international $)  \\\n",
       "233                                        9968.967712                                     \n",
       "238                                       11797.184849                                     \n",
       "243                                       12647.540304                                     \n",
       "742                                       14410.150515                                     \n",
       "747                                       17168.378937                                     \n",
       "\n",
       "     Total population (Gapminder)  \n",
       "233                    30099010.0  \n",
       "238                    32396048.0  \n",
       "243                    34950168.0  \n",
       "742                    38340778.0  \n",
       "747                    40062470.0  "
      ]
     },
     "execution_count": 37,
     "metadata": {},
     "output_type": "execute_result"
    }
   ],
   "source": [
    "df1_gdp.head()"
   ]
  },
  {
   "cell_type": "code",
   "execution_count": 38,
   "metadata": {},
   "outputs": [
    {
     "data": {
      "text/html": [
       "<div>\n",
       "<style scoped>\n",
       "    .dataframe tbody tr th:only-of-type {\n",
       "        vertical-align: middle;\n",
       "    }\n",
       "\n",
       "    .dataframe tbody tr th {\n",
       "        vertical-align: top;\n",
       "    }\n",
       "\n",
       "    .dataframe thead th {\n",
       "        text-align: right;\n",
       "    }\n",
       "</style>\n",
       "<table border=\"1\" class=\"dataframe\">\n",
       "  <thead>\n",
       "    <tr style=\"text-align: right;\">\n",
       "      <th></th>\n",
       "      <th>Entity</th>\n",
       "      <th>Code</th>\n",
       "      <th>Year</th>\n",
       "      <th>Five-year lung cancer survival rate (%)</th>\n",
       "      <th>GDP per capita, PPP (constant 2011 international $) (constant 2011 international $)</th>\n",
       "      <th>Total population (Gapminder)</th>\n",
       "    </tr>\n",
       "  </thead>\n",
       "  <tbody>\n",
       "    <tr>\n",
       "      <th>0</th>\n",
       "      <td>Algeria</td>\n",
       "      <td>DZA</td>\n",
       "      <td>1999</td>\n",
       "      <td>6.0</td>\n",
       "      <td>9968.967712</td>\n",
       "      <td>30099010.0</td>\n",
       "    </tr>\n",
       "    <tr>\n",
       "      <th>1</th>\n",
       "      <td>Algeria</td>\n",
       "      <td>DZA</td>\n",
       "      <td>2004</td>\n",
       "      <td>8.2</td>\n",
       "      <td>11797.184849</td>\n",
       "      <td>32396048.0</td>\n",
       "    </tr>\n",
       "    <tr>\n",
       "      <th>2</th>\n",
       "      <td>Algeria</td>\n",
       "      <td>DZA</td>\n",
       "      <td>2009</td>\n",
       "      <td>14.8</td>\n",
       "      <td>12647.540304</td>\n",
       "      <td>34950168.0</td>\n",
       "    </tr>\n",
       "    <tr>\n",
       "      <th>3</th>\n",
       "      <td>Argentina</td>\n",
       "      <td>ARG</td>\n",
       "      <td>2004</td>\n",
       "      <td>20.8</td>\n",
       "      <td>14410.150515</td>\n",
       "      <td>38340778.0</td>\n",
       "    </tr>\n",
       "    <tr>\n",
       "      <th>4</th>\n",
       "      <td>Argentina</td>\n",
       "      <td>ARG</td>\n",
       "      <td>2009</td>\n",
       "      <td>11.9</td>\n",
       "      <td>17168.378937</td>\n",
       "      <td>40062470.0</td>\n",
       "    </tr>\n",
       "  </tbody>\n",
       "</table>\n",
       "</div>"
      ],
      "text/plain": [
       "      Entity Code  Year  Five-year lung cancer survival rate (%)  \\\n",
       "0    Algeria  DZA  1999                                      6.0   \n",
       "1    Algeria  DZA  2004                                      8.2   \n",
       "2    Algeria  DZA  2009                                     14.8   \n",
       "3  Argentina  ARG  2004                                     20.8   \n",
       "4  Argentina  ARG  2009                                     11.9   \n",
       "\n",
       "   GDP per capita, PPP (constant 2011 international $) (constant 2011 international $)  \\\n",
       "0                                        9968.967712                                     \n",
       "1                                       11797.184849                                     \n",
       "2                                       12647.540304                                     \n",
       "3                                       14410.150515                                     \n",
       "4                                       17168.378937                                     \n",
       "\n",
       "   Total population (Gapminder)  \n",
       "0                    30099010.0  \n",
       "1                    32396048.0  \n",
       "2                    34950168.0  \n",
       "3                    38340778.0  \n",
       "4                    40062470.0  "
      ]
     },
     "execution_count": 38,
     "metadata": {},
     "output_type": "execute_result"
    }
   ],
   "source": [
    "df1_gdp.reset_index(drop=True).head()"
   ]
  },
  {
   "cell_type": "code",
   "execution_count": 39,
   "metadata": {},
   "outputs": [],
   "source": [
    "pd.options.display.float_format = '{:,.2f}'.format"
   ]
  },
  {
   "cell_type": "code",
   "execution_count": 40,
   "metadata": {},
   "outputs": [],
   "source": [
    "#df_gdp.columns.unique()"
   ]
  },
  {
   "cell_type": "code",
   "execution_count": 41,
   "metadata": {},
   "outputs": [],
   "source": [
    "df1_gdp = df1_gdp.rename(columns={\"Entity\": \"Country\",\"GDP per capita, PPP (constant 2011 international $) (constant 2011 international $)\":\"GDP_per_capita\",\"Total population (Gapminder)\":\"Total_pop\"})"
   ]
  },
  {
   "cell_type": "code",
   "execution_count": 42,
   "metadata": {},
   "outputs": [],
   "source": [
    "df2_gdp = df1_gdp.reset_index()# renamed DataFrame"
   ]
  },
  {
   "cell_type": "code",
   "execution_count": 43,
   "metadata": {},
   "outputs": [],
   "source": [
    "df2_gdp.drop(['index'],axis=1,inplace=True)"
   ]
  },
  {
   "cell_type": "code",
   "execution_count": 44,
   "metadata": {},
   "outputs": [
    {
     "data": {
      "text/html": [
       "<div>\n",
       "<style scoped>\n",
       "    .dataframe tbody tr th:only-of-type {\n",
       "        vertical-align: middle;\n",
       "    }\n",
       "\n",
       "    .dataframe tbody tr th {\n",
       "        vertical-align: top;\n",
       "    }\n",
       "\n",
       "    .dataframe thead th {\n",
       "        text-align: right;\n",
       "    }\n",
       "</style>\n",
       "<table border=\"1\" class=\"dataframe\">\n",
       "  <thead>\n",
       "    <tr style=\"text-align: right;\">\n",
       "      <th></th>\n",
       "      <th>Country</th>\n",
       "      <th>Code</th>\n",
       "      <th>Year</th>\n",
       "      <th>Five-year lung cancer survival rate (%)</th>\n",
       "      <th>GDP_per_capita</th>\n",
       "      <th>Total_pop</th>\n",
       "    </tr>\n",
       "  </thead>\n",
       "  <tbody>\n",
       "    <tr>\n",
       "      <th>0</th>\n",
       "      <td>Algeria</td>\n",
       "      <td>DZA</td>\n",
       "      <td>1999</td>\n",
       "      <td>6.00</td>\n",
       "      <td>9,968.97</td>\n",
       "      <td>30,099,010.00</td>\n",
       "    </tr>\n",
       "    <tr>\n",
       "      <th>1</th>\n",
       "      <td>Algeria</td>\n",
       "      <td>DZA</td>\n",
       "      <td>2004</td>\n",
       "      <td>8.20</td>\n",
       "      <td>11,797.18</td>\n",
       "      <td>32,396,048.00</td>\n",
       "    </tr>\n",
       "    <tr>\n",
       "      <th>2</th>\n",
       "      <td>Algeria</td>\n",
       "      <td>DZA</td>\n",
       "      <td>2009</td>\n",
       "      <td>14.80</td>\n",
       "      <td>12,647.54</td>\n",
       "      <td>34,950,168.00</td>\n",
       "    </tr>\n",
       "    <tr>\n",
       "      <th>3</th>\n",
       "      <td>Argentina</td>\n",
       "      <td>ARG</td>\n",
       "      <td>2004</td>\n",
       "      <td>20.80</td>\n",
       "      <td>14,410.15</td>\n",
       "      <td>38,340,778.00</td>\n",
       "    </tr>\n",
       "    <tr>\n",
       "      <th>4</th>\n",
       "      <td>Argentina</td>\n",
       "      <td>ARG</td>\n",
       "      <td>2009</td>\n",
       "      <td>11.90</td>\n",
       "      <td>17,168.38</td>\n",
       "      <td>40,062,470.00</td>\n",
       "    </tr>\n",
       "  </tbody>\n",
       "</table>\n",
       "</div>"
      ],
      "text/plain": [
       "     Country Code  Year  Five-year lung cancer survival rate (%)  \\\n",
       "0    Algeria  DZA  1999                                     6.00   \n",
       "1    Algeria  DZA  2004                                     8.20   \n",
       "2    Algeria  DZA  2009                                    14.80   \n",
       "3  Argentina  ARG  2004                                    20.80   \n",
       "4  Argentina  ARG  2009                                    11.90   \n",
       "\n",
       "   GDP_per_capita     Total_pop  \n",
       "0        9,968.97 30,099,010.00  \n",
       "1       11,797.18 32,396,048.00  \n",
       "2       12,647.54 34,950,168.00  \n",
       "3       14,410.15 38,340,778.00  \n",
       "4       17,168.38 40,062,470.00  "
      ]
     },
     "execution_count": 44,
     "metadata": {},
     "output_type": "execute_result"
    }
   ],
   "source": [
    "df2_gdp.head()"
   ]
  },
  {
   "cell_type": "code",
   "execution_count": 45,
   "metadata": {},
   "outputs": [],
   "source": [
    "#df2_gdp.columns = df2_gdp.columns.droplevel(1)"
   ]
  },
  {
   "cell_type": "code",
   "execution_count": 46,
   "metadata": {},
   "outputs": [
    {
     "data": {
      "text/html": [
       "<div>\n",
       "<style scoped>\n",
       "    .dataframe tbody tr th:only-of-type {\n",
       "        vertical-align: middle;\n",
       "    }\n",
       "\n",
       "    .dataframe tbody tr th {\n",
       "        vertical-align: top;\n",
       "    }\n",
       "\n",
       "    .dataframe thead th {\n",
       "        text-align: right;\n",
       "    }\n",
       "</style>\n",
       "<table border=\"1\" class=\"dataframe\">\n",
       "  <thead>\n",
       "    <tr style=\"text-align: right;\">\n",
       "      <th></th>\n",
       "      <th>Country</th>\n",
       "      <th>Code</th>\n",
       "      <th>Year</th>\n",
       "      <th>Five-year lung cancer survival rate (%)</th>\n",
       "      <th>GDP_per_capita</th>\n",
       "      <th>Total_pop</th>\n",
       "    </tr>\n",
       "  </thead>\n",
       "  <tbody>\n",
       "    <tr>\n",
       "      <th>26</th>\n",
       "      <td>China</td>\n",
       "      <td>CHN</td>\n",
       "      <td>2009</td>\n",
       "      <td>17.50</td>\n",
       "      <td>8,651.73</td>\n",
       "      <td>1,334,908,820.00</td>\n",
       "    </tr>\n",
       "  </tbody>\n",
       "</table>\n",
       "</div>"
      ],
      "text/plain": [
       "   Country Code  Year  Five-year lung cancer survival rate (%)  \\\n",
       "26   China  CHN  2009                                    17.50   \n",
       "\n",
       "    GDP_per_capita        Total_pop  \n",
       "26        8,651.73 1,334,908,820.00  "
      ]
     },
     "execution_count": 46,
     "metadata": {},
     "output_type": "execute_result"
    }
   ],
   "source": [
    "df2_gdp[df2_gdp['Total_pop']==df2_gdp['Total_pop'].max()]#outliers?"
   ]
  },
  {
   "cell_type": "code",
   "execution_count": 47,
   "metadata": {},
   "outputs": [
    {
     "data": {
      "text/plain": [
       "<matplotlib.axes._subplots.AxesSubplot at 0x1c1c613d30>"
      ]
     },
     "execution_count": 47,
     "metadata": {},
     "output_type": "execute_result"
    },
    {
     "data": {
      "image/png": "[encoded data removed]",
      "text/plain": [
       "<Figure size 432x288 with 1 Axes>"
      ]
     },
     "metadata": {
      "needs_background": "light"
     },
     "output_type": "display_data"
    }
   ],
   "source": [
    "sns.regplot(x=\"GDP_per_capita\", y=\"Five-year lung cancer survival rate (%)\", data=df2_gdp)"
   ]
  },
  {
   "cell_type": "code",
   "execution_count": 48,
   "metadata": {},
   "outputs": [
    {
     "data": {
      "text/html": [
       "<div>\n",
       "<style scoped>\n",
       "    .dataframe tbody tr th:only-of-type {\n",
       "        vertical-align: middle;\n",
       "    }\n",
       "\n",
       "    .dataframe tbody tr th {\n",
       "        vertical-align: top;\n",
       "    }\n",
       "\n",
       "    .dataframe thead th {\n",
       "        text-align: right;\n",
       "    }\n",
       "</style>\n",
       "<table border=\"1\" class=\"dataframe\">\n",
       "  <thead>\n",
       "    <tr style=\"text-align: right;\">\n",
       "      <th></th>\n",
       "      <th>Year</th>\n",
       "      <th>Five-year lung cancer survival rate (%)</th>\n",
       "      <th>GDP_per_capita</th>\n",
       "      <th>Total_pop</th>\n",
       "    </tr>\n",
       "  </thead>\n",
       "  <tbody>\n",
       "    <tr>\n",
       "      <th>Year</th>\n",
       "      <td>1.00</td>\n",
       "      <td>0.10</td>\n",
       "      <td>0.08</td>\n",
       "      <td>-0.01</td>\n",
       "    </tr>\n",
       "    <tr>\n",
       "      <th>Five-year lung cancer survival rate (%)</th>\n",
       "      <td>0.10</td>\n",
       "      <td>1.00</td>\n",
       "      <td>0.06</td>\n",
       "      <td>-0.03</td>\n",
       "    </tr>\n",
       "    <tr>\n",
       "      <th>GDP_per_capita</th>\n",
       "      <td>0.08</td>\n",
       "      <td>0.06</td>\n",
       "      <td>1.00</td>\n",
       "      <td>-0.29</td>\n",
       "    </tr>\n",
       "    <tr>\n",
       "      <th>Total_pop</th>\n",
       "      <td>-0.01</td>\n",
       "      <td>-0.03</td>\n",
       "      <td>-0.29</td>\n",
       "      <td>1.00</td>\n",
       "    </tr>\n",
       "  </tbody>\n",
       "</table>\n",
       "</div>"
      ],
      "text/plain": [
       "                                         Year  \\\n",
       "Year                                     1.00   \n",
       "Five-year lung cancer survival rate (%)  0.10   \n",
       "GDP_per_capita                           0.08   \n",
       "Total_pop                               -0.01   \n",
       "\n",
       "                                         Five-year lung cancer survival rate (%)  \\\n",
       "Year                                                                        0.10   \n",
       "Five-year lung cancer survival rate (%)                                     1.00   \n",
       "GDP_per_capita                                                              0.06   \n",
       "Total_pop                                                                  -0.03   \n",
       "\n",
       "                                         GDP_per_capita  Total_pop  \n",
       "Year                                               0.08      -0.01  \n",
       "Five-year lung cancer survival rate (%)            0.06      -0.03  \n",
       "GDP_per_capita                                     1.00      -0.29  \n",
       "Total_pop                                         -0.29       1.00  "
      ]
     },
     "execution_count": 48,
     "metadata": {},
     "output_type": "execute_result"
    }
   ],
   "source": [
    "df2_gdp.corr( method='pearson', min_periods=1)"
   ]
  },
  {
   "cell_type": "code",
   "execution_count": 49,
   "metadata": {},
   "outputs": [
    {
     "data": {
      "text/html": [
       "<div>\n",
       "<style scoped>\n",
       "    .dataframe tbody tr th:only-of-type {\n",
       "        vertical-align: middle;\n",
       "    }\n",
       "\n",
       "    .dataframe tbody tr th {\n",
       "        vertical-align: top;\n",
       "    }\n",
       "\n",
       "    .dataframe thead th {\n",
       "        text-align: right;\n",
       "    }\n",
       "</style>\n",
       "<table border=\"1\" class=\"dataframe\">\n",
       "  <thead>\n",
       "    <tr style=\"text-align: right;\">\n",
       "      <th></th>\n",
       "      <th>Country</th>\n",
       "      <th>Code</th>\n",
       "      <th>Year</th>\n",
       "      <th>Five-year lung cancer survival rate (%)</th>\n",
       "      <th>GDP_per_capita</th>\n",
       "      <th>Total_pop</th>\n",
       "    </tr>\n",
       "  </thead>\n",
       "  <tbody>\n",
       "    <tr>\n",
       "      <th>0</th>\n",
       "      <td>Algeria</td>\n",
       "      <td>DZA</td>\n",
       "      <td>1999</td>\n",
       "      <td>6.00</td>\n",
       "      <td>9,968.97</td>\n",
       "      <td>30,099,010.00</td>\n",
       "    </tr>\n",
       "    <tr>\n",
       "      <th>1</th>\n",
       "      <td>Algeria</td>\n",
       "      <td>DZA</td>\n",
       "      <td>2004</td>\n",
       "      <td>8.20</td>\n",
       "      <td>11,797.18</td>\n",
       "      <td>32,396,048.00</td>\n",
       "    </tr>\n",
       "    <tr>\n",
       "      <th>2</th>\n",
       "      <td>Algeria</td>\n",
       "      <td>DZA</td>\n",
       "      <td>2009</td>\n",
       "      <td>14.80</td>\n",
       "      <td>12,647.54</td>\n",
       "      <td>34,950,168.00</td>\n",
       "    </tr>\n",
       "    <tr>\n",
       "      <th>3</th>\n",
       "      <td>Argentina</td>\n",
       "      <td>ARG</td>\n",
       "      <td>2004</td>\n",
       "      <td>20.80</td>\n",
       "      <td>14,410.15</td>\n",
       "      <td>38,340,778.00</td>\n",
       "    </tr>\n",
       "    <tr>\n",
       "      <th>4</th>\n",
       "      <td>Argentina</td>\n",
       "      <td>ARG</td>\n",
       "      <td>2009</td>\n",
       "      <td>11.90</td>\n",
       "      <td>17,168.38</td>\n",
       "      <td>40,062,470.00</td>\n",
       "    </tr>\n",
       "  </tbody>\n",
       "</table>\n",
       "</div>"
      ],
      "text/plain": [
       "     Country Code  Year  Five-year lung cancer survival rate (%)  \\\n",
       "0    Algeria  DZA  1999                                     6.00   \n",
       "1    Algeria  DZA  2004                                     8.20   \n",
       "2    Algeria  DZA  2009                                    14.80   \n",
       "3  Argentina  ARG  2004                                    20.80   \n",
       "4  Argentina  ARG  2009                                    11.90   \n",
       "\n",
       "   GDP_per_capita     Total_pop  \n",
       "0        9,968.97 30,099,010.00  \n",
       "1       11,797.18 32,396,048.00  \n",
       "2       12,647.54 34,950,168.00  \n",
       "3       14,410.15 38,340,778.00  \n",
       "4       17,168.38 40,062,470.00  "
      ]
     },
     "execution_count": 49,
     "metadata": {},
     "output_type": "execute_result"
    }
   ],
   "source": [
    "df2_gdp.head()"
   ]
  },
  {
   "cell_type": "code",
   "execution_count": 50,
   "metadata": {},
   "outputs": [],
   "source": [
    "df2_gdp = df2_gdp.merge(df_continents, on='Code')"
   ]
  },
  {
   "cell_type": "code",
   "execution_count": 51,
   "metadata": {},
   "outputs": [],
   "source": [
    "pd.set_option('display.max_rows', None)"
   ]
  },
  {
   "cell_type": "code",
   "execution_count": 52,
   "metadata": {},
   "outputs": [
    {
     "data": {
      "text/html": [
       "<div>\n",
       "<style scoped>\n",
       "    .dataframe tbody tr th:only-of-type {\n",
       "        vertical-align: middle;\n",
       "    }\n",
       "\n",
       "    .dataframe tbody tr th {\n",
       "        vertical-align: top;\n",
       "    }\n",
       "\n",
       "    .dataframe thead th {\n",
       "        text-align: right;\n",
       "    }\n",
       "</style>\n",
       "<table border=\"1\" class=\"dataframe\">\n",
       "  <thead>\n",
       "    <tr style=\"text-align: right;\">\n",
       "      <th></th>\n",
       "      <th>Country</th>\n",
       "      <th>Code</th>\n",
       "      <th>Year</th>\n",
       "      <th>Five-year lung cancer survival rate (%)</th>\n",
       "      <th>GDP_per_capita</th>\n",
       "      <th>Total_pop</th>\n",
       "      <th>Continent_Name</th>\n",
       "    </tr>\n",
       "  </thead>\n",
       "  <tbody>\n",
       "    <tr>\n",
       "      <th>0</th>\n",
       "      <td>Algeria</td>\n",
       "      <td>DZA</td>\n",
       "      <td>1999</td>\n",
       "      <td>6.00</td>\n",
       "      <td>9,968.97</td>\n",
       "      <td>30,099,010.00</td>\n",
       "      <td>Africa</td>\n",
       "    </tr>\n",
       "    <tr>\n",
       "      <th>1</th>\n",
       "      <td>Algeria</td>\n",
       "      <td>DZA</td>\n",
       "      <td>2004</td>\n",
       "      <td>8.20</td>\n",
       "      <td>11,797.18</td>\n",
       "      <td>32,396,048.00</td>\n",
       "      <td>Africa</td>\n",
       "    </tr>\n",
       "    <tr>\n",
       "      <th>2</th>\n",
       "      <td>Algeria</td>\n",
       "      <td>DZA</td>\n",
       "      <td>2009</td>\n",
       "      <td>14.80</td>\n",
       "      <td>12,647.54</td>\n",
       "      <td>34,950,168.00</td>\n",
       "      <td>Africa</td>\n",
       "    </tr>\n",
       "    <tr>\n",
       "      <th>3</th>\n",
       "      <td>Argentina</td>\n",
       "      <td>ARG</td>\n",
       "      <td>2004</td>\n",
       "      <td>20.80</td>\n",
       "      <td>14,410.15</td>\n",
       "      <td>38,340,778.00</td>\n",
       "      <td>South America</td>\n",
       "    </tr>\n",
       "    <tr>\n",
       "      <th>4</th>\n",
       "      <td>Argentina</td>\n",
       "      <td>ARG</td>\n",
       "      <td>2009</td>\n",
       "      <td>11.90</td>\n",
       "      <td>17,168.38</td>\n",
       "      <td>40,062,470.00</td>\n",
       "      <td>South America</td>\n",
       "    </tr>\n",
       "  </tbody>\n",
       "</table>\n",
       "</div>"
      ],
      "text/plain": [
       "     Country Code  Year  Five-year lung cancer survival rate (%)  \\\n",
       "0    Algeria  DZA  1999                                     6.00   \n",
       "1    Algeria  DZA  2004                                     8.20   \n",
       "2    Algeria  DZA  2009                                    14.80   \n",
       "3  Argentina  ARG  2004                                    20.80   \n",
       "4  Argentina  ARG  2009                                    11.90   \n",
       "\n",
       "   GDP_per_capita     Total_pop Continent_Name  \n",
       "0        9,968.97 30,099,010.00         Africa  \n",
       "1       11,797.18 32,396,048.00         Africa  \n",
       "2       12,647.54 34,950,168.00         Africa  \n",
       "3       14,410.15 38,340,778.00  South America  \n",
       "4       17,168.38 40,062,470.00  South America  "
      ]
     },
     "execution_count": 52,
     "metadata": {},
     "output_type": "execute_result"
    }
   ],
   "source": [
    "df2_gdp.head()"
   ]
  },
  {
   "cell_type": "code",
   "execution_count": 53,
   "metadata": {},
   "outputs": [
    {
     "data": {
      "text/html": [
       "<div>\n",
       "<style scoped>\n",
       "    .dataframe tbody tr th:only-of-type {\n",
       "        vertical-align: middle;\n",
       "    }\n",
       "\n",
       "    .dataframe tbody tr th {\n",
       "        vertical-align: top;\n",
       "    }\n",
       "\n",
       "    .dataframe thead th {\n",
       "        text-align: right;\n",
       "    }\n",
       "</style>\n",
       "<table border=\"1\" class=\"dataframe\">\n",
       "  <thead>\n",
       "    <tr style=\"text-align: right;\">\n",
       "      <th></th>\n",
       "      <th>Year</th>\n",
       "      <th>Five-year lung cancer survival rate (%)</th>\n",
       "      <th>GDP_per_capita</th>\n",
       "      <th>Total_pop</th>\n",
       "    </tr>\n",
       "  </thead>\n",
       "  <tbody>\n",
       "    <tr>\n",
       "      <th>count</th>\n",
       "      <td>154.00</td>\n",
       "      <td>154.00</td>\n",
       "      <td>154.00</td>\n",
       "      <td>154.00</td>\n",
       "    </tr>\n",
       "    <tr>\n",
       "      <th>mean</th>\n",
       "      <td>2,004.55</td>\n",
       "      <td>13.72</td>\n",
       "      <td>26,828.32</td>\n",
       "      <td>83,072,619.96</td>\n",
       "    </tr>\n",
       "    <tr>\n",
       "      <th>std</th>\n",
       "      <td>4.02</td>\n",
       "      <td>5.61</td>\n",
       "      <td>15,272.31</td>\n",
       "      <td>235,320,001.94</td>\n",
       "    </tr>\n",
       "    <tr>\n",
       "      <th>min</th>\n",
       "      <td>1,999.00</td>\n",
       "      <td>4.40</td>\n",
       "      <td>2,445.75</td>\n",
       "      <td>278,403.00</td>\n",
       "    </tr>\n",
       "    <tr>\n",
       "      <th>25%</th>\n",
       "      <td>1,999.00</td>\n",
       "      <td>10.33</td>\n",
       "      <td>15,028.86</td>\n",
       "      <td>4,551,793.00</td>\n",
       "    </tr>\n",
       "    <tr>\n",
       "      <th>50%</th>\n",
       "      <td>2,004.00</td>\n",
       "      <td>12.90</td>\n",
       "      <td>25,754.20</td>\n",
       "      <td>13,735,217.50</td>\n",
       "    </tr>\n",
       "    <tr>\n",
       "      <th>75%</th>\n",
       "      <td>2,009.00</td>\n",
       "      <td>15.55</td>\n",
       "      <td>36,316.32</td>\n",
       "      <td>58,569,505.25</td>\n",
       "    </tr>\n",
       "    <tr>\n",
       "      <th>max</th>\n",
       "      <td>2,009.00</td>\n",
       "      <td>37.80</td>\n",
       "      <td>117,064.86</td>\n",
       "      <td>1,334,908,820.00</td>\n",
       "    </tr>\n",
       "  </tbody>\n",
       "</table>\n",
       "</div>"
      ],
      "text/plain": [
       "          Year  Five-year lung cancer survival rate (%)  GDP_per_capita  \\\n",
       "count   154.00                                   154.00          154.00   \n",
       "mean  2,004.55                                    13.72       26,828.32   \n",
       "std       4.02                                     5.61       15,272.31   \n",
       "min   1,999.00                                     4.40        2,445.75   \n",
       "25%   1,999.00                                    10.33       15,028.86   \n",
       "50%   2,004.00                                    12.90       25,754.20   \n",
       "75%   2,009.00                                    15.55       36,316.32   \n",
       "max   2,009.00                                    37.80      117,064.86   \n",
       "\n",
       "             Total_pop  \n",
       "count           154.00  \n",
       "mean     83,072,619.96  \n",
       "std     235,320,001.94  \n",
       "min         278,403.00  \n",
       "25%       4,551,793.00  \n",
       "50%      13,735,217.50  \n",
       "75%      58,569,505.25  \n",
       "max   1,334,908,820.00  "
      ]
     },
     "execution_count": 53,
     "metadata": {},
     "output_type": "execute_result"
    }
   ],
   "source": [
    "df2_gdp.describe()"
   ]
  },
  {
   "cell_type": "code",
   "execution_count": 54,
   "metadata": {},
   "outputs": [],
   "source": [
    "def create_generator(continent_list):\n",
    "    for continent in continent_list:\n",
    "        yield continent\n",
    "        \n",
    "continents = create_generator(df2_gdp.Continent_Name.tolist())"
   ]
  },
  {
   "cell_type": "code",
   "execution_count": 55,
   "metadata": {},
   "outputs": [
    {
     "data": {
      "application/vnd.plotly.v1+json": {
       "config": {
        "plotlyServerURL": "https://plot.ly"
       },
       "data": [
        {
         "hoverlabel": {
          "namelength": 0
         },
         "hovertemplate": "<b>%{hovertext}</b><br><br>Continent_Name=Africa<br>GDP_per_capita=%{x}<br>Five-year lung cancer survival rate (%)=%{y}<br>Total_pop=%{marker.size}",
         "hovertext": [
          "Africa",
          "Africa",
          "Africa",
          "Africa"
         ],
         "legendgroup": "Continent_Name=Africa",
         "marker": {
          "color": "#636efa",
          "size": [
           34950168,
           1291609,
           49751503,
           10365089
          ],
          "sizemode": "area",
          "sizeref": 370808.0055555556,
          "symbol": "circle"
         },
         "mode": "markers",
         "name": "Africa",
         "showlegend": true,
         "type": "scatter",
         "x": [
          12647.5403044562,
          15306.3880091552,
          11676.0449366292,
          10195.576513237
         ],
         "xaxis": "x",
         "y": [
          14.8,
          37.2,
          19,
          10.3
         ],
         "yaxis": "y"
        },
        {
         "hoverlabel": {
          "namelength": 0
         },
         "hovertemplate": "<b>%{hovertext}</b><br><br>Continent_Name=South America<br>GDP_per_capita=%{x}<br>Five-year lung cancer survival rate (%)=%{y}<br>Total_pop=%{marker.size}",
         "hovertext": [
          "South America",
          "South America",
          "South America",
          "South America",
          "South America",
          "South America"
         ],
         "legendgroup": "Continent_Name=South America",
         "marker": {
          "color": "#EF553B",
          "size": [
           40062470,
           193246610,
           16955737,
           45654044,
           14261566,
           3357391
          ],
          "sizemode": "area",
          "sizeref": 370808.0055555556,
          "symbol": "circle"
         },
         "mode": "markers",
         "name": "Africa",
         "showlegend": true,
         "type": "scatter",
         "x": [
          17168.3789365496,
          13649.8658402957,
          18547.4615343093,
          10599.9626049907,
          9183.552557828922,
          15900.8292562752
         ],
         "xaxis": "x",
         "y": [
          11.9,
          18,
          6.3,
          9,
          28.7,
          9.1
         ],
         "yaxis": "y"
        },
        {
         "hoverlabel": {
          "namelength": 0
         },
         "hovertemplate": "<b>%{hovertext}</b><br><br>Continent_Name=Oceania<br>GDP_per_capita=%{x}<br>Five-year lung cancer survival rate (%)=%{y}<br>Total_pop=%{marker.size}",
         "hovertext": [
          "Oceania",
          "Oceania"
         ],
         "legendgroup": "Continent_Name=Oceania",
         "marker": {
          "color": "#00cc96",
          "size": [
           21902300,
           4322628
          ],
          "sizemode": "area",
          "sizeref": 370808.0055555556,
          "symbol": "circle"
         },
         "mode": "markers",
         "name": "Africa",
         "showlegend": true,
         "type": "scatter",
         "x": [
          41266.866384223504,
          32168.7713241048
         ],
         "xaxis": "x",
         "y": [
          15,
          12.4
         ],
         "yaxis": "y"
        },
        {
         "hoverlabel": {
          "namelength": 0
         },
         "hovertemplate": "<b>%{hovertext}</b><br><br>Continent_Name=Europe<br>GDP_per_capita=%{x}<br>Five-year lung cancer survival rate (%)=%{y}<br>Total_pop=%{marker.size}",
         "hovertext": [
          "Europe",
          "Europe",
          "Europe",
          "Europe",
          "Europe",
          "Europe",
          "Europe",
          "Europe",
          "Europe",
          "Europe",
          "Europe",
          "Europe",
          "Europe",
          "Europe",
          "Europe",
          "Europe",
          "Europe",
          "Europe",
          "Europe",
          "Europe",
          "Europe",
          "Europe",
          "Europe",
          "Europe",
          "Europe",
          "Europe",
          "Europe",
          "Europe",
          "Europe",
          "Europe"
         ],
         "legendgroup": "Continent_Name=Europe",
         "marker": {
          "color": "#ab63fa",
          "size": [
           8369639,
           10660938,
           7542674,
           4410864,
           1090473,
           10439735,
           5524874,
           1341629,
           5341546,
           62444770,
           82405365,
           315543,
           4412181,
           60248654,
           2261380,
           3341097,
           415220,
           16559268,
           4834002,
           38249228,
           10657175,
           21537219,
           143064078,
           5451968,
           2024040,
           45638113,
           9311110,
           7621211,
           71846212,
           61652315
          ],
          "sizemode": "area",
          "sizeref": 370808.0055555556,
          "symbol": "circle"
         },
         "mode": "markers",
         "name": "South America",
         "showlegend": true,
         "type": "scatter",
         "x": [
          42656.8541604126,
          40355.5731175835,
          14984.606382236101,
          20410.4241516193,
          34387.348365287995,
          27803.5871622193,
          43382.6254590015,
          22187.9264018728,
          38867.7994464569,
          36324.3615384237,
          38784.452482490604,
          40377.8335126344,
          43487.479025975495,
          35710.4200015019,
          18609.3328365261,
          20300.5037488854,
          27529.1929675627,
          45125.805918975195,
          62698.285355183,
          20952.8016743906,
          26743.1979904258,
          17954.1312356988,
          22121.852491653703,
          23973.8413853129,
          28451.5455225073,
          32652.5121822546,
          40862.9701317373,
          54805.5792896896,
          16783.4414679524,
          36042.424228706004
         ],
         "xaxis": "x",
         "y": [
          17.9,
          16.6,
          6.3,
          13.6,
          15.4,
          12.3,
          11.3,
          11.9,
          12.3,
          13.6,
          16.2,
          15,
          12.9,
          14.7,
          16.2,
          7.7,
          10.8,
          14.8,
          15,
          13.4,
          12.8,
          16.2,
          15.7,
          10.7,
          11.4,
          12.6,
          15.6,
          16.5,
          10.1,
          9.6
         ],
         "yaxis": "y"
        },
        {
         "hoverlabel": {
          "namelength": 0
         },
         "hovertemplate": "<b>%{hovertext}</b><br><br>Continent_Name=North America<br>GDP_per_capita=%{x}<br>Five-year lung cancer survival rate (%)=%{y}<br>Total_pop=%{marker.size}",
         "hovertext": [
          "North America",
          "North America",
          "North America"
         ],
         "legendgroup": "Continent_Name=North America",
         "marker": {
          "color": "#FFA15A",
          "size": [
           33675448,
           3753576,
           307686729
          ],
          "sizemode": "area",
          "sizeref": 370808.0055555556,
          "symbol": "circle"
         },
         "mode": "markers",
         "name": "South America",
         "showlegend": true,
         "type": "scatter",
         "x": [
          39924.195901306404,
          33892.8380041531,
          48557.8676445276
         ],
         "xaxis": "x",
         "y": [
          17.3,
          15.8,
          18.7
         ],
         "yaxis": "y"
        },
        {
         "hoverlabel": {
          "namelength": 0
         },
         "hovertemplate": "<b>%{hovertext}</b><br><br>Continent_Name=Asia<br>GDP_per_capita=%{x}<br>Five-year lung cancer survival rate (%)=%{y}<br>Total_pop=%{marker.size}",
         "hovertext": [
          "Asia",
          "Asia",
          "Asia",
          "Asia",
          "Asia",
          "Asia",
          "Asia",
          "Asia",
          "Asia",
          "Asia",
          "Asia",
          "Asia",
          "Asia",
          "Asia"
         ],
         "legendgroup": "Continent_Name=Asia",
         "marker": {
          "color": "#19d3f3",
          "size": [
           1334908820,
           1090473,
           1207740408,
           237414495,
           7260949,
           126551705,
           6025592,
           27949395,
           2711659,
           1597765,
           143064078,
           47963923,
           68706122,
           71846212
          ],
          "sizemode": "area",
          "sizeref": 370808.0055555556,
          "symbol": "circle"
         },
         "mode": "markers",
         "name": "Oceania",
         "showlegend": true,
         "type": "scatter",
         "x": [
          8651.72590128034,
          34387.348365287995,
          4049.8051147134797,
          8044.97033037879,
          28787.498688133903,
          34317.670824811,
          9749.143628223821,
          20009.1992810828,
          7367.78598727015,
          117064.859658008,
          22121.852491653703,
          28642.837902206298,
          12605.373118766001,
          16783.4414679524
         ],
         "xaxis": "x",
         "y": [
          17.5,
          15.4,
          9.6,
          12.2,
          23.8,
          30.1,
          4.4,
          10.7,
          6.6,
          13.2,
          15.7,
          18.5,
          13.5,
          10.1
         ],
         "yaxis": "y"
        }
       ],
       "layout": {
        "height": 600,
        "legend": {
         "itemsizing": "constant",
         "tracegroupgap": 0
        },
        "template": {
         "data": {
          "bar": [
           {
            "error_x": {
             "color": "#2a3f5f"
            },
            "error_y": {
             "color": "#2a3f5f"
            },
            "marker": {
             "line": {
              "color": "#E5ECF6",
              "width": 0.5
             }
            },
            "type": "bar"
           }
          ],
          "barpolar": [
           {
            "marker": {
             "line": {
              "color": "#E5ECF6",
              "width": 0.5
             }
            },
            "type": "barpolar"
           }
          ],
          "carpet": [
           {
            "aaxis": {
             "endlinecolor": "#2a3f5f",
             "gridcolor": "white",
             "linecolor": "white",
             "minorgridcolor": "white",
             "startlinecolor": "#2a3f5f"
            },
            "baxis": {
             "endlinecolor": "#2a3f5f",
             "gridcolor": "white",
             "linecolor": "white",
             "minorgridcolor": "white",
             "startlinecolor": "#2a3f5f"
            },
            "type": "carpet"
           }
          ],
          "choropleth": [
           {
            "colorbar": {
             "outlinewidth": 0,
             "ticks": ""
            },
            "type": "choropleth"
           }
          ],
          "contour": [
           {
            "colorbar": {
             "outlinewidth": 0,
             "ticks": ""
            },
            "colorscale": [
             [
              0,
              "#0d0887"
             ],
             [
              0.1111111111111111,
              "#46039f"
             ],
             [
              0.2222222222222222,
              "#7201a8"
             ],
             [
              0.3333333333333333,
              "#9c179e"
             ],
             [
              0.4444444444444444,
              "#bd3786"
             ],
             [
              0.5555555555555556,
              "#d8576b"
             ],
             [
              0.6666666666666666,
              "#ed7953"
             ],
             [
              0.7777777777777778,
              "#fb9f3a"
             ],
             [
              0.8888888888888888,
              "#fdca26"
             ],
             [
              1,
              "#f0f921"
             ]
            ],
            "type": "contour"
           }
          ],
          "contourcarpet": [
           {
            "colorbar": {
             "outlinewidth": 0,
             "ticks": ""
            },
            "type": "contourcarpet"
           }
          ],
          "heatmap": [
           {
            "colorbar": {
             "outlinewidth": 0,
             "ticks": ""
            },
            "colorscale": [
             [
              0,
              "#0d0887"
             ],
             [
              0.1111111111111111,
              "#46039f"
             ],
             [
              0.2222222222222222,
              "#7201a8"
             ],
             [
              0.3333333333333333,
              "#9c179e"
             ],
             [
              0.4444444444444444,
              "#bd3786"
             ],
             [
              0.5555555555555556,
              "#d8576b"
             ],
             [
              0.6666666666666666,
              "#ed7953"
             ],
             [
              0.7777777777777778,
              "#fb9f3a"
             ],
             [
              0.8888888888888888,
              "#fdca26"
             ],
             [
              1,
              "#f0f921"
             ]
            ],
            "type": "heatmap"
           }
          ],
          "heatmapgl": [
           {
            "colorbar": {
             "outlinewidth": 0,
             "ticks": ""
            },
            "colorscale": [
             [
              0,
              "#0d0887"
             ],
             [
              0.1111111111111111,
              "#46039f"
             ],
             [
              0.2222222222222222,
              "#7201a8"
             ],
             [
              0.3333333333333333,
              "#9c179e"
             ],
             [
              0.4444444444444444,
              "#bd3786"
             ],
             [
              0.5555555555555556,
              "#d8576b"
             ],
             [
              0.6666666666666666,
              "#ed7953"
             ],
             [
              0.7777777777777778,
              "#fb9f3a"
             ],
             [
              0.8888888888888888,
              "#fdca26"
             ],
             [
              1,
              "#f0f921"
             ]
            ],
            "type": "heatmapgl"
           }
          ],
          "histogram": [
           {
            "marker": {
             "colorbar": {
              "outlinewidth": 0,
              "ticks": ""
             }
            },
            "type": "histogram"
           }
          ],
          "histogram2d": [
           {
            "colorbar": {
             "outlinewidth": 0,
             "ticks": ""
            },
            "colorscale": [
             [
              0,
              "#0d0887"
             ],
             [
              0.1111111111111111,
              "#46039f"
             ],
             [
              0.2222222222222222,
              "#7201a8"
             ],
             [
              0.3333333333333333,
              "#9c179e"
             ],
             [
              0.4444444444444444,
              "#bd3786"
             ],
             [
              0.5555555555555556,
              "#d8576b"
             ],
             [
              0.6666666666666666,
              "#ed7953"
             ],
             [
              0.7777777777777778,
              "#fb9f3a"
             ],
             [
              0.8888888888888888,
              "#fdca26"
             ],
             [
              1,
              "#f0f921"
             ]
            ],
            "type": "histogram2d"
           }
          ],
          "histogram2dcontour": [
           {
            "colorbar": {
             "outlinewidth": 0,
             "ticks": ""
            },
            "colorscale": [
             [
              0,
              "#0d0887"
             ],
             [
              0.1111111111111111,
              "#46039f"
             ],
             [
              0.2222222222222222,
              "#7201a8"
             ],
             [
              0.3333333333333333,
              "#9c179e"
             ],
             [
              0.4444444444444444,
              "#bd3786"
             ],
             [
              0.5555555555555556,
              "#d8576b"
             ],
             [
              0.6666666666666666,
              "#ed7953"
             ],
             [
              0.7777777777777778,
              "#fb9f3a"
             ],
             [
              0.8888888888888888,
              "#fdca26"
             ],
             [
              1,
              "#f0f921"
             ]
            ],
            "type": "histogram2dcontour"
           }
          ],
          "mesh3d": [
           {
            "colorbar": {
             "outlinewidth": 0,
             "ticks": ""
            },
            "type": "mesh3d"
           }
          ],
          "parcoords": [
           {
            "line": {
             "colorbar": {
              "outlinewidth": 0,
              "ticks": ""
             }
            },
            "type": "parcoords"
           }
          ],
          "pie": [
           {
            "automargin": true,
            "type": "pie"
           }
          ],
          "scatter": [
           {
            "marker": {
             "colorbar": {
              "outlinewidth": 0,
              "ticks": ""
             }
            },
            "type": "scatter"
           }
          ],
          "scatter3d": [
           {
            "line": {
             "colorbar": {
              "outlinewidth": 0,
              "ticks": ""
             }
            },
            "marker": {
             "colorbar": {
              "outlinewidth": 0,
              "ticks": ""
             }
            },
            "type": "scatter3d"
           }
          ],
          "scattercarpet": [
           {
            "marker": {
             "colorbar": {
              "outlinewidth": 0,
              "ticks": ""
             }
            },
            "type": "scattercarpet"
           }
          ],
          "scattergeo": [
           {
            "marker": {
             "colorbar": {
              "outlinewidth": 0,
              "ticks": ""
             }
            },
            "type": "scattergeo"
           }
          ],
          "scattergl": [
           {
            "marker": {
             "colorbar": {
              "outlinewidth": 0,
              "ticks": ""
             }
            },
            "type": "scattergl"
           }
          ],
          "scattermapbox": [
           {
            "marker": {
             "colorbar": {
              "outlinewidth": 0,
              "ticks": ""
             }
            },
            "type": "scattermapbox"
           }
          ],
          "scatterpolar": [
           {
            "marker": {
             "colorbar": {
              "outlinewidth": 0,
              "ticks": ""
             }
            },
            "type": "scatterpolar"
           }
          ],
          "scatterpolargl": [
           {
            "marker": {
             "colorbar": {
              "outlinewidth": 0,
              "ticks": ""
             }
            },
            "type": "scatterpolargl"
           }
          ],
          "scatterternary": [
           {
            "marker": {
             "colorbar": {
              "outlinewidth": 0,
              "ticks": ""
             }
            },
            "type": "scatterternary"
           }
          ],
          "surface": [
           {
            "colorbar": {
             "outlinewidth": 0,
             "ticks": ""
            },
            "colorscale": [
             [
              0,
              "#0d0887"
             ],
             [
              0.1111111111111111,
              "#46039f"
             ],
             [
              0.2222222222222222,
              "#7201a8"
             ],
             [
              0.3333333333333333,
              "#9c179e"
             ],
             [
              0.4444444444444444,
              "#bd3786"
             ],
             [
              0.5555555555555556,
              "#d8576b"
             ],
             [
              0.6666666666666666,
              "#ed7953"
             ],
             [
              0.7777777777777778,
              "#fb9f3a"
             ],
             [
              0.8888888888888888,
              "#fdca26"
             ],
             [
              1,
              "#f0f921"
             ]
            ],
            "type": "surface"
           }
          ],
          "table": [
           {
            "cells": {
             "fill": {
              "color": "#EBF0F8"
             },
             "line": {
              "color": "white"
             }
            },
            "header": {
             "fill": {
              "color": "#C8D4E3"
             },
             "line": {
              "color": "white"
             }
            },
            "type": "table"
           }
          ]
         },
         "layout": {
          "annotationdefaults": {
           "arrowcolor": "#2a3f5f",
           "arrowhead": 0,
           "arrowwidth": 1
          },
          "coloraxis": {
           "colorbar": {
            "outlinewidth": 0,
            "ticks": ""
           }
          },
          "colorscale": {
           "diverging": [
            [
             0,
             "#8e0152"
            ],
            [
             0.1,
             "#c51b7d"
            ],
            [
             0.2,
             "#de77ae"
            ],
            [
             0.3,
             "#f1b6da"
            ],
            [
             0.4,
             "#fde0ef"
            ],
            [
             0.5,
             "#f7f7f7"
            ],
            [
             0.6,
             "#e6f5d0"
            ],
            [
             0.7,
             "#b8e186"
            ],
            [
             0.8,
             "#7fbc41"
            ],
            [
             0.9,
             "#4d9221"
            ],
            [
             1,
             "#276419"
            ]
           ],
           "sequential": [
            [
             0,
             "#0d0887"
            ],
            [
             0.1111111111111111,
             "#46039f"
            ],
            [
             0.2222222222222222,
             "#7201a8"
            ],
            [
             0.3333333333333333,
             "#9c179e"
            ],
            [
             0.4444444444444444,
             "#bd3786"
            ],
            [
             0.5555555555555556,
             "#d8576b"
            ],
            [
             0.6666666666666666,
             "#ed7953"
            ],
            [
             0.7777777777777778,
             "#fb9f3a"
            ],
            [
             0.8888888888888888,
             "#fdca26"
            ],
            [
             1,
             "#f0f921"
            ]
           ],
           "sequentialminus": [
            [
             0,
             "#0d0887"
            ],
            [
             0.1111111111111111,
             "#46039f"
            ],
            [
             0.2222222222222222,
             "#7201a8"
            ],
            [
             0.3333333333333333,
             "#9c179e"
            ],
            [
             0.4444444444444444,
             "#bd3786"
            ],
            [
             0.5555555555555556,
             "#d8576b"
            ],
            [
             0.6666666666666666,
             "#ed7953"
            ],
            [
             0.7777777777777778,
             "#fb9f3a"
            ],
            [
             0.8888888888888888,
             "#fdca26"
            ],
            [
             1,
             "#f0f921"
            ]
           ]
          },
          "colorway": [
           "#636efa",
           "#EF553B",
           "#00cc96",
           "#ab63fa",
           "#FFA15A",
           "#19d3f3",
           "#FF6692",
           "#B6E880",
           "#FF97FF",
           "#FECB52"
          ],
          "font": {
           "color": "#2a3f5f"
          },
          "geo": {
           "bgcolor": "white",
           "lakecolor": "white",
           "landcolor": "#E5ECF6",
           "showlakes": true,
           "showland": true,
           "subunitcolor": "white"
          },
          "hoverlabel": {
           "align": "left"
          },
          "hovermode": "closest",
          "mapbox": {
           "style": "light"
          },
          "paper_bgcolor": "white",
          "plot_bgcolor": "#E5ECF6",
          "polar": {
           "angularaxis": {
            "gridcolor": "white",
            "linecolor": "white",
            "ticks": ""
           },
           "bgcolor": "#E5ECF6",
           "radialaxis": {
            "gridcolor": "white",
            "linecolor": "white",
            "ticks": ""
           }
          },
          "scene": {
           "xaxis": {
            "backgroundcolor": "#E5ECF6",
            "gridcolor": "white",
            "gridwidth": 2,
            "linecolor": "white",
            "showbackground": true,
            "ticks": "",
            "zerolinecolor": "white"
           },
           "yaxis": {
            "backgroundcolor": "#E5ECF6",
            "gridcolor": "white",
            "gridwidth": 2,
            "linecolor": "white",
            "showbackground": true,
            "ticks": "",
            "zerolinecolor": "white"
           },
           "zaxis": {
            "backgroundcolor": "#E5ECF6",
            "gridcolor": "white",
            "gridwidth": 2,
            "linecolor": "white",
            "showbackground": true,
            "ticks": "",
            "zerolinecolor": "white"
           }
          },
          "shapedefaults": {
           "line": {
            "color": "#2a3f5f"
           }
          },
          "ternary": {
           "aaxis": {
            "gridcolor": "white",
            "linecolor": "white",
            "ticks": ""
           },
           "baxis": {
            "gridcolor": "white",
            "linecolor": "white",
            "ticks": ""
           },
           "bgcolor": "#E5ECF6",
           "caxis": {
            "gridcolor": "white",
            "linecolor": "white",
            "ticks": ""
           }
          },
          "title": {
           "x": 0.05
          },
          "xaxis": {
           "automargin": true,
           "gridcolor": "white",
           "linecolor": "white",
           "ticks": "",
           "title": {
            "standoff": 15
           },
           "zerolinecolor": "white",
           "zerolinewidth": 2
          },
          "yaxis": {
           "automargin": true,
           "gridcolor": "white",
           "linecolor": "white",
           "ticks": "",
           "title": {
            "standoff": 15
           },
           "zerolinecolor": "white",
           "zerolinewidth": 2
          }
         }
        },
        "title": {
         "text": "Countries related to wealth in 2009"
        },
        "xaxis": {
         "anchor": "y",
         "domain": [
          0,
          1
         ],
         "title": {
          "text": "GDP Per Capita"
         }
        },
        "yaxis": {
         "anchor": "x",
         "domain": [
          0,
          1
         ],
         "title": {
          "text": "Five year lung cancer survival rate"
         }
        }
       }
      },
      "text/html": [
       "<div>\n",
       "        \n",
       "        \n",
       "            <div id=\"9c23e332-5da3-4b59-83a5-1d66f63cf640\" class=\"plotly-graph-div\" style=\"height:600px; width:100%;\"></div>\n",
       "            <script type=\"text/javascript\">\n",
       "                require([\"plotly\"], function(Plotly) {\n",
       "                    window.PLOTLYENV=window.PLOTLYENV || {};\n",
       "                    \n",
       "                if (document.getElementById(\"9c23e332-5da3-4b59-83a5-1d66f63cf640\")) {\n",
       "                    Plotly.newPlot(\n",
       "                        '9c23e332-5da3-4b59-83a5-1d66f63cf640',\n",
       "                        [{\"hoverlabel\": {\"namelength\": 0}, \"hovertemplate\": \"<b>%{hovertext}</b><br><br>Continent_Name=Africa<br>GDP_per_capita=%{x}<br>Five-year lung cancer survival rate (%)=%{y}<br>Total_pop=%{marker.size}\", \"hovertext\": [\"Africa\", \"Africa\", \"Africa\", \"Africa\"], \"legendgroup\": \"Continent_Name=Africa\", \"marker\": {\"color\": \"#636efa\", \"size\": [34950168.0, 1291609.0, 49751503.0, 10365089.0], \"sizemode\": \"area\", \"sizeref\": 370808.0055555556, \"symbol\": \"circle\"}, \"mode\": \"markers\", \"name\": \"Africa\", \"showlegend\": true, \"type\": \"scatter\", \"x\": [12647.5403044562, 15306.3880091552, 11676.0449366292, 10195.576513237], \"xaxis\": \"x\", \"y\": [14.8, 37.2, 19.0, 10.3], \"yaxis\": \"y\"}, {\"hoverlabel\": {\"namelength\": 0}, \"hovertemplate\": \"<b>%{hovertext}</b><br><br>Continent_Name=South America<br>GDP_per_capita=%{x}<br>Five-year lung cancer survival rate (%)=%{y}<br>Total_pop=%{marker.size}\", \"hovertext\": [\"South America\", \"South America\", \"South America\", \"South America\", \"South America\", \"South America\"], \"legendgroup\": \"Continent_Name=South America\", \"marker\": {\"color\": \"#EF553B\", \"size\": [40062470.0, 193246610.0, 16955737.0, 45654044.0, 14261566.0, 3357391.0], \"sizemode\": \"area\", \"sizeref\": 370808.0055555556, \"symbol\": \"circle\"}, \"mode\": \"markers\", \"name\": \"Africa\", \"showlegend\": true, \"type\": \"scatter\", \"x\": [17168.3789365496, 13649.8658402957, 18547.4615343093, 10599.9626049907, 9183.552557828922, 15900.8292562752], \"xaxis\": \"x\", \"y\": [11.9, 18.0, 6.3, 9.0, 28.7, 9.1], \"yaxis\": \"y\"}, {\"hoverlabel\": {\"namelength\": 0}, \"hovertemplate\": \"<b>%{hovertext}</b><br><br>Continent_Name=Oceania<br>GDP_per_capita=%{x}<br>Five-year lung cancer survival rate (%)=%{y}<br>Total_pop=%{marker.size}\", \"hovertext\": [\"Oceania\", \"Oceania\"], \"legendgroup\": \"Continent_Name=Oceania\", \"marker\": {\"color\": \"#00cc96\", \"size\": [21902300.0, 4322628.0], \"sizemode\": \"area\", \"sizeref\": 370808.0055555556, \"symbol\": \"circle\"}, \"mode\": \"markers\", \"name\": \"Africa\", \"showlegend\": true, \"type\": \"scatter\", \"x\": [41266.866384223504, 32168.7713241048], \"xaxis\": \"x\", \"y\": [15.0, 12.4], \"yaxis\": \"y\"}, {\"hoverlabel\": {\"namelength\": 0}, \"hovertemplate\": \"<b>%{hovertext}</b><br><br>Continent_Name=Europe<br>GDP_per_capita=%{x}<br>Five-year lung cancer survival rate (%)=%{y}<br>Total_pop=%{marker.size}\", \"hovertext\": [\"Europe\", \"Europe\", \"Europe\", \"Europe\", \"Europe\", \"Europe\", \"Europe\", \"Europe\", \"Europe\", \"Europe\", \"Europe\", \"Europe\", \"Europe\", \"Europe\", \"Europe\", \"Europe\", \"Europe\", \"Europe\", \"Europe\", \"Europe\", \"Europe\", \"Europe\", \"Europe\", \"Europe\", \"Europe\", \"Europe\", \"Europe\", \"Europe\", \"Europe\", \"Europe\"], \"legendgroup\": \"Continent_Name=Europe\", \"marker\": {\"color\": \"#ab63fa\", \"size\": [8369639.0, 10660938.0, 7542674.0, 4410864.0, 1090473.0, 10439735.0, 5524874.0, 1341629.0, 5341546.0, 62444770.0, 82405365.0, 315543.0, 4412181.0, 60248654.0, 2261380.0, 3341097.0, 415220.0, 16559268.0, 4834002.0, 38249228.0, 10657175.0, 21537219.0, 143064078.0, 5451968.0, 2024040.0, 45638113.0, 9311110.0, 7621211.0, 71846212.0, 61652315.0], \"sizemode\": \"area\", \"sizeref\": 370808.0055555556, \"symbol\": \"circle\"}, \"mode\": \"markers\", \"name\": \"South America\", \"showlegend\": true, \"type\": \"scatter\", \"x\": [42656.8541604126, 40355.5731175835, 14984.606382236101, 20410.4241516193, 34387.348365287995, 27803.5871622193, 43382.6254590015, 22187.9264018728, 38867.7994464569, 36324.3615384237, 38784.452482490604, 40377.8335126344, 43487.479025975495, 35710.4200015019, 18609.3328365261, 20300.5037488854, 27529.1929675627, 45125.805918975195, 62698.285355183, 20952.8016743906, 26743.1979904258, 17954.1312356988, 22121.852491653703, 23973.8413853129, 28451.5455225073, 32652.5121822546, 40862.9701317373, 54805.5792896896, 16783.4414679524, 36042.424228706004], \"xaxis\": \"x\", \"y\": [17.9, 16.6, 6.3, 13.6, 15.4, 12.3, 11.3, 11.9, 12.3, 13.6, 16.2, 15.0, 12.9, 14.7, 16.2, 7.7, 10.8, 14.8, 15.0, 13.4, 12.8, 16.2, 15.7, 10.7, 11.4, 12.6, 15.6, 16.5, 10.1, 9.6], \"yaxis\": \"y\"}, {\"hoverlabel\": {\"namelength\": 0}, \"hovertemplate\": \"<b>%{hovertext}</b><br><br>Continent_Name=North America<br>GDP_per_capita=%{x}<br>Five-year lung cancer survival rate (%)=%{y}<br>Total_pop=%{marker.size}\", \"hovertext\": [\"North America\", \"North America\", \"North America\"], \"legendgroup\": \"Continent_Name=North America\", \"marker\": {\"color\": \"#FFA15A\", \"size\": [33675448.0, 3753576.0, 307686729.0], \"sizemode\": \"area\", \"sizeref\": 370808.0055555556, \"symbol\": \"circle\"}, \"mode\": \"markers\", \"name\": \"South America\", \"showlegend\": true, \"type\": \"scatter\", \"x\": [39924.195901306404, 33892.8380041531, 48557.8676445276], \"xaxis\": \"x\", \"y\": [17.3, 15.8, 18.7], \"yaxis\": \"y\"}, {\"hoverlabel\": {\"namelength\": 0}, \"hovertemplate\": \"<b>%{hovertext}</b><br><br>Continent_Name=Asia<br>GDP_per_capita=%{x}<br>Five-year lung cancer survival rate (%)=%{y}<br>Total_pop=%{marker.size}\", \"hovertext\": [\"Asia\", \"Asia\", \"Asia\", \"Asia\", \"Asia\", \"Asia\", \"Asia\", \"Asia\", \"Asia\", \"Asia\", \"Asia\", \"Asia\", \"Asia\", \"Asia\"], \"legendgroup\": \"Continent_Name=Asia\", \"marker\": {\"color\": \"#19d3f3\", \"size\": [1334908820.0, 1090473.0, 1207740408.0, 237414495.0, 7260949.0, 126551705.0, 6025592.0, 27949395.0, 2711659.0, 1597765.0, 143064078.0, 47963923.0, 68706122.0, 71846212.0], \"sizemode\": \"area\", \"sizeref\": 370808.0055555556, \"symbol\": \"circle\"}, \"mode\": \"markers\", \"name\": \"Oceania\", \"showlegend\": true, \"type\": \"scatter\", \"x\": [8651.72590128034, 34387.348365287995, 4049.8051147134797, 8044.97033037879, 28787.498688133903, 34317.670824811, 9749.143628223821, 20009.1992810828, 7367.78598727015, 117064.859658008, 22121.852491653703, 28642.837902206298, 12605.373118766001, 16783.4414679524], \"xaxis\": \"x\", \"y\": [17.5, 15.4, 9.6, 12.2, 23.8, 30.1, 4.4, 10.7, 6.6, 13.2, 15.7, 18.5, 13.5, 10.1], \"yaxis\": \"y\"}],\n",
       "                        {\"height\": 600, \"legend\": {\"itemsizing\": \"constant\", \"tracegroupgap\": 0}, \"template\": {\"data\": {\"bar\": [{\"error_x\": {\"color\": \"#2a3f5f\"}, \"error_y\": {\"color\": \"#2a3f5f\"}, \"marker\": {\"line\": {\"color\": \"#E5ECF6\", \"width\": 0.5}}, \"type\": \"bar\"}], \"barpolar\": [{\"marker\": {\"line\": {\"color\": \"#E5ECF6\", \"width\": 0.5}}, \"type\": \"barpolar\"}], \"carpet\": [{\"aaxis\": {\"endlinecolor\": \"#2a3f5f\", \"gridcolor\": \"white\", \"linecolor\": \"white\", \"minorgridcolor\": \"white\", \"startlinecolor\": \"#2a3f5f\"}, \"baxis\": {\"endlinecolor\": \"#2a3f5f\", \"gridcolor\": \"white\", \"linecolor\": \"white\", \"minorgridcolor\": \"white\", \"startlinecolor\": \"#2a3f5f\"}, \"type\": \"carpet\"}], \"choropleth\": [{\"colorbar\": {\"outlinewidth\": 0, \"ticks\": \"\"}, \"type\": \"choropleth\"}], \"contour\": [{\"colorbar\": {\"outlinewidth\": 0, \"ticks\": \"\"}, \"colorscale\": [[0.0, \"#0d0887\"], [0.1111111111111111, \"#46039f\"], [0.2222222222222222, \"#7201a8\"], [0.3333333333333333, \"#9c179e\"], [0.4444444444444444, \"#bd3786\"], [0.5555555555555556, \"#d8576b\"], [0.6666666666666666, \"#ed7953\"], [0.7777777777777778, \"#fb9f3a\"], [0.8888888888888888, \"#fdca26\"], [1.0, \"#f0f921\"]], \"type\": \"contour\"}], \"contourcarpet\": [{\"colorbar\": {\"outlinewidth\": 0, \"ticks\": \"\"}, \"type\": \"contourcarpet\"}], \"heatmap\": [{\"colorbar\": {\"outlinewidth\": 0, \"ticks\": \"\"}, \"colorscale\": [[0.0, \"#0d0887\"], [0.1111111111111111, \"#46039f\"], [0.2222222222222222, \"#7201a8\"], [0.3333333333333333, \"#9c179e\"], [0.4444444444444444, \"#bd3786\"], [0.5555555555555556, \"#d8576b\"], [0.6666666666666666, \"#ed7953\"], [0.7777777777777778, \"#fb9f3a\"], [0.8888888888888888, \"#fdca26\"], [1.0, \"#f0f921\"]], \"type\": \"heatmap\"}], \"heatmapgl\": [{\"colorbar\": {\"outlinewidth\": 0, \"ticks\": \"\"}, \"colorscale\": [[0.0, \"#0d0887\"], [0.1111111111111111, \"#46039f\"], [0.2222222222222222, \"#7201a8\"], [0.3333333333333333, \"#9c179e\"], [0.4444444444444444, \"#bd3786\"], [0.5555555555555556, \"#d8576b\"], [0.6666666666666666, \"#ed7953\"], [0.7777777777777778, \"#fb9f3a\"], [0.8888888888888888, \"#fdca26\"], [1.0, \"#f0f921\"]], \"type\": \"heatmapgl\"}], \"histogram\": [{\"marker\": {\"colorbar\": {\"outlinewidth\": 0, \"ticks\": \"\"}}, \"type\": \"histogram\"}], \"histogram2d\": [{\"colorbar\": {\"outlinewidth\": 0, \"ticks\": \"\"}, \"colorscale\": [[0.0, \"#0d0887\"], [0.1111111111111111, \"#46039f\"], [0.2222222222222222, \"#7201a8\"], [0.3333333333333333, \"#9c179e\"], [0.4444444444444444, \"#bd3786\"], [0.5555555555555556, \"#d8576b\"], [0.6666666666666666, \"#ed7953\"], [0.7777777777777778, \"#fb9f3a\"], [0.8888888888888888, \"#fdca26\"], [1.0, \"#f0f921\"]], \"type\": \"histogram2d\"}], \"histogram2dcontour\": [{\"colorbar\": {\"outlinewidth\": 0, \"ticks\": \"\"}, \"colorscale\": [[0.0, \"#0d0887\"], [0.1111111111111111, \"#46039f\"], [0.2222222222222222, \"#7201a8\"], [0.3333333333333333, \"#9c179e\"], [0.4444444444444444, \"#bd3786\"], [0.5555555555555556, \"#d8576b\"], [0.6666666666666666, \"#ed7953\"], [0.7777777777777778, \"#fb9f3a\"], [0.8888888888888888, \"#fdca26\"], [1.0, \"#f0f921\"]], \"type\": \"histogram2dcontour\"}], \"mesh3d\": [{\"colorbar\": {\"outlinewidth\": 0, \"ticks\": \"\"}, \"type\": \"mesh3d\"}], \"parcoords\": [{\"line\": {\"colorbar\": {\"outlinewidth\": 0, \"ticks\": \"\"}}, \"type\": \"parcoords\"}], \"pie\": [{\"automargin\": true, \"type\": \"pie\"}], \"scatter\": [{\"marker\": {\"colorbar\": {\"outlinewidth\": 0, \"ticks\": \"\"}}, \"type\": \"scatter\"}], \"scatter3d\": [{\"line\": {\"colorbar\": {\"outlinewidth\": 0, \"ticks\": \"\"}}, \"marker\": {\"colorbar\": {\"outlinewidth\": 0, \"ticks\": \"\"}}, \"type\": \"scatter3d\"}], \"scattercarpet\": [{\"marker\": {\"colorbar\": {\"outlinewidth\": 0, \"ticks\": \"\"}}, \"type\": \"scattercarpet\"}], \"scattergeo\": [{\"marker\": {\"colorbar\": {\"outlinewidth\": 0, \"ticks\": \"\"}}, \"type\": \"scattergeo\"}], \"scattergl\": [{\"marker\": {\"colorbar\": {\"outlinewidth\": 0, \"ticks\": \"\"}}, \"type\": \"scattergl\"}], \"scattermapbox\": [{\"marker\": {\"colorbar\": {\"outlinewidth\": 0, \"ticks\": \"\"}}, \"type\": \"scattermapbox\"}], \"scatterpolar\": [{\"marker\": {\"colorbar\": {\"outlinewidth\": 0, \"ticks\": \"\"}}, \"type\": \"scatterpolar\"}], \"scatterpolargl\": [{\"marker\": {\"colorbar\": {\"outlinewidth\": 0, \"ticks\": \"\"}}, \"type\": \"scatterpolargl\"}], \"scatterternary\": [{\"marker\": {\"colorbar\": {\"outlinewidth\": 0, \"ticks\": \"\"}}, \"type\": \"scatterternary\"}], \"surface\": [{\"colorbar\": {\"outlinewidth\": 0, \"ticks\": \"\"}, \"colorscale\": [[0.0, \"#0d0887\"], [0.1111111111111111, \"#46039f\"], [0.2222222222222222, \"#7201a8\"], [0.3333333333333333, \"#9c179e\"], [0.4444444444444444, \"#bd3786\"], [0.5555555555555556, \"#d8576b\"], [0.6666666666666666, \"#ed7953\"], [0.7777777777777778, \"#fb9f3a\"], [0.8888888888888888, \"#fdca26\"], [1.0, \"#f0f921\"]], \"type\": \"surface\"}], \"table\": [{\"cells\": {\"fill\": {\"color\": \"#EBF0F8\"}, \"line\": {\"color\": \"white\"}}, \"header\": {\"fill\": {\"color\": \"#C8D4E3\"}, \"line\": {\"color\": \"white\"}}, \"type\": \"table\"}]}, \"layout\": {\"annotationdefaults\": {\"arrowcolor\": \"#2a3f5f\", \"arrowhead\": 0, \"arrowwidth\": 1}, \"coloraxis\": {\"colorbar\": {\"outlinewidth\": 0, \"ticks\": \"\"}}, \"colorscale\": {\"diverging\": [[0, \"#8e0152\"], [0.1, \"#c51b7d\"], [0.2, \"#de77ae\"], [0.3, \"#f1b6da\"], [0.4, \"#fde0ef\"], [0.5, \"#f7f7f7\"], [0.6, \"#e6f5d0\"], [0.7, \"#b8e186\"], [0.8, \"#7fbc41\"], [0.9, \"#4d9221\"], [1, \"#276419\"]], \"sequential\": [[0.0, \"#0d0887\"], [0.1111111111111111, \"#46039f\"], [0.2222222222222222, \"#7201a8\"], [0.3333333333333333, \"#9c179e\"], [0.4444444444444444, \"#bd3786\"], [0.5555555555555556, \"#d8576b\"], [0.6666666666666666, \"#ed7953\"], [0.7777777777777778, \"#fb9f3a\"], [0.8888888888888888, \"#fdca26\"], [1.0, \"#f0f921\"]], \"sequentialminus\": [[0.0, \"#0d0887\"], [0.1111111111111111, \"#46039f\"], [0.2222222222222222, \"#7201a8\"], [0.3333333333333333, \"#9c179e\"], [0.4444444444444444, \"#bd3786\"], [0.5555555555555556, \"#d8576b\"], [0.6666666666666666, \"#ed7953\"], [0.7777777777777778, \"#fb9f3a\"], [0.8888888888888888, \"#fdca26\"], [1.0, \"#f0f921\"]]}, \"colorway\": [\"#636efa\", \"#EF553B\", \"#00cc96\", \"#ab63fa\", \"#FFA15A\", \"#19d3f3\", \"#FF6692\", \"#B6E880\", \"#FF97FF\", \"#FECB52\"], \"font\": {\"color\": \"#2a3f5f\"}, \"geo\": {\"bgcolor\": \"white\", \"lakecolor\": \"white\", \"landcolor\": \"#E5ECF6\", \"showlakes\": true, \"showland\": true, \"subunitcolor\": \"white\"}, \"hoverlabel\": {\"align\": \"left\"}, \"hovermode\": \"closest\", \"mapbox\": {\"style\": \"light\"}, \"paper_bgcolor\": \"white\", \"plot_bgcolor\": \"#E5ECF6\", \"polar\": {\"angularaxis\": {\"gridcolor\": \"white\", \"linecolor\": \"white\", \"ticks\": \"\"}, \"bgcolor\": \"#E5ECF6\", \"radialaxis\": {\"gridcolor\": \"white\", \"linecolor\": \"white\", \"ticks\": \"\"}}, \"scene\": {\"xaxis\": {\"backgroundcolor\": \"#E5ECF6\", \"gridcolor\": \"white\", \"gridwidth\": 2, \"linecolor\": \"white\", \"showbackground\": true, \"ticks\": \"\", \"zerolinecolor\": \"white\"}, \"yaxis\": {\"backgroundcolor\": \"#E5ECF6\", \"gridcolor\": \"white\", \"gridwidth\": 2, \"linecolor\": \"white\", \"showbackground\": true, \"ticks\": \"\", \"zerolinecolor\": \"white\"}, \"zaxis\": {\"backgroundcolor\": \"#E5ECF6\", \"gridcolor\": \"white\", \"gridwidth\": 2, \"linecolor\": \"white\", \"showbackground\": true, \"ticks\": \"\", \"zerolinecolor\": \"white\"}}, \"shapedefaults\": {\"line\": {\"color\": \"#2a3f5f\"}}, \"ternary\": {\"aaxis\": {\"gridcolor\": \"white\", \"linecolor\": \"white\", \"ticks\": \"\"}, \"baxis\": {\"gridcolor\": \"white\", \"linecolor\": \"white\", \"ticks\": \"\"}, \"bgcolor\": \"#E5ECF6\", \"caxis\": {\"gridcolor\": \"white\", \"linecolor\": \"white\", \"ticks\": \"\"}}, \"title\": {\"x\": 0.05}, \"xaxis\": {\"automargin\": true, \"gridcolor\": \"white\", \"linecolor\": \"white\", \"ticks\": \"\", \"title\": {\"standoff\": 15}, \"zerolinecolor\": \"white\", \"zerolinewidth\": 2}, \"yaxis\": {\"automargin\": true, \"gridcolor\": \"white\", \"linecolor\": \"white\", \"ticks\": \"\", \"title\": {\"standoff\": 15}, \"zerolinecolor\": \"white\", \"zerolinewidth\": 2}}}, \"title\": {\"text\": \"Countries related to wealth in 2009\"}, \"xaxis\": {\"anchor\": \"y\", \"domain\": [0.0, 1.0], \"title\": {\"text\": \"GDP Per Capita\"}}, \"yaxis\": {\"anchor\": \"x\", \"domain\": [0.0, 1.0], \"title\": {\"text\": \"Five year lung cancer survival rate\"}}},\n",
       "                        {\"responsive\": true}\n",
       "                    ).then(function(){\n",
       "                            \n",
       "var gd = document.getElementById('9c23e332-5da3-4b59-83a5-1d66f63cf640');\n",
       "var x = new MutationObserver(function (mutations, observer) {{\n",
       "        var display = window.getComputedStyle(gd).display;\n",
       "        if (!display || display === 'none') {{\n",
       "            console.log([gd, 'removed!']);\n",
       "            Plotly.purge(gd);\n",
       "            observer.disconnect();\n",
       "        }}\n",
       "}});\n",
       "\n",
       "// Listen for the removal of the full notebook cells\n",
       "var notebookContainer = gd.closest('#notebook-container');\n",
       "if (notebookContainer) {{\n",
       "    x.observe(notebookContainer, {childList: true});\n",
       "}}\n",
       "\n",
       "// Listen for the clearing of the current output cell\n",
       "var outputEl = gd.closest('.output');\n",
       "if (outputEl) {{\n",
       "    x.observe(outputEl, {childList: true});\n",
       "}}\n",
       "\n",
       "                        })\n",
       "                };\n",
       "                });\n",
       "            </script>\n",
       "        </div>"
      ]
     },
     "metadata": {},
     "output_type": "display_data"
    }
   ],
   "source": [
    "fig = px.scatter(df2_gdp.query('Year == 2009'), x=\"GDP_per_capita\", y=\"Five-year lung cancer survival rate (%)\", size=\"Total_pop\", color=\"Continent_Name\",\n",
    "           hover_name=\"Continent_Name\", size_max=60,title=\"Countries related to wealth in 2009\")\n",
    "\n",
    "fig.update_xaxes(title='GDP Per Capita')\n",
    "fig.update_yaxes(title='Five year lung cancer survival rate')\n",
    "\n",
    "\n",
    "fig.for_each_trace(\n",
    "    lambda trace: trace.update(name=next(continents)),\n",
    ")\n",
    "\n",
    "\n",
    "fig.show()"
   ]
  },
  {
   "cell_type": "code",
   "execution_count": 56,
   "metadata": {},
   "outputs": [],
   "source": [
    "df3_gdp = df2_gdp.groupby(['Continent_Name']).mean()"
   ]
  },
  {
   "cell_type": "code",
   "execution_count": 57,
   "metadata": {},
   "outputs": [
    {
     "data": {
      "text/html": [
       "<div>\n",
       "<style scoped>\n",
       "    .dataframe tbody tr th:only-of-type {\n",
       "        vertical-align: middle;\n",
       "    }\n",
       "\n",
       "    .dataframe tbody tr th {\n",
       "        vertical-align: top;\n",
       "    }\n",
       "\n",
       "    .dataframe thead th {\n",
       "        text-align: right;\n",
       "    }\n",
       "</style>\n",
       "<table border=\"1\" class=\"dataframe\">\n",
       "  <thead>\n",
       "    <tr style=\"text-align: right;\">\n",
       "      <th></th>\n",
       "      <th>Year</th>\n",
       "      <th>Five-year lung cancer survival rate (%)</th>\n",
       "      <th>GDP_per_capita</th>\n",
       "      <th>Total_pop</th>\n",
       "    </tr>\n",
       "    <tr>\n",
       "      <th>Continent_Name</th>\n",
       "      <th></th>\n",
       "      <th></th>\n",
       "      <th></th>\n",
       "      <th></th>\n",
       "    </tr>\n",
       "  </thead>\n",
       "  <tbody>\n",
       "    <tr>\n",
       "      <th>Africa</th>\n",
       "      <td>2,006.50</td>\n",
       "      <td>15.92</td>\n",
       "      <td>11,931.95</td>\n",
       "      <td>26,475,571.17</td>\n",
       "    </tr>\n",
       "    <tr>\n",
       "      <th>Asia</th>\n",
       "      <td>2,004.71</td>\n",
       "      <td>15.28</td>\n",
       "      <td>21,638.41</td>\n",
       "      <td>253,173,327.77</td>\n",
       "    </tr>\n",
       "    <tr>\n",
       "      <th>Europe</th>\n",
       "      <td>2,004.30</td>\n",
       "      <td>12.29</td>\n",
       "      <td>30,806.50</td>\n",
       "      <td>22,398,862.95</td>\n",
       "    </tr>\n",
       "    <tr>\n",
       "      <th>North America</th>\n",
       "      <td>2,004.62</td>\n",
       "      <td>16.14</td>\n",
       "      <td>40,899.09</td>\n",
       "      <td>123,074,838.00</td>\n",
       "    </tr>\n",
       "    <tr>\n",
       "      <th>Oceania</th>\n",
       "      <td>2,004.00</td>\n",
       "      <td>13.25</td>\n",
       "      <td>33,992.63</td>\n",
       "      <td>12,195,523.50</td>\n",
       "    </tr>\n",
       "    <tr>\n",
       "      <th>South America</th>\n",
       "      <td>2,005.00</td>\n",
       "      <td>16.15</td>\n",
       "      <td>12,248.73</td>\n",
       "      <td>55,599,149.47</td>\n",
       "    </tr>\n",
       "  </tbody>\n",
       "</table>\n",
       "</div>"
      ],
      "text/plain": [
       "                   Year  Five-year lung cancer survival rate (%)  \\\n",
       "Continent_Name                                                     \n",
       "Africa         2,006.50                                    15.92   \n",
       "Asia           2,004.71                                    15.28   \n",
       "Europe         2,004.30                                    12.29   \n",
       "North America  2,004.62                                    16.14   \n",
       "Oceania        2,004.00                                    13.25   \n",
       "South America  2,005.00                                    16.15   \n",
       "\n",
       "                GDP_per_capita      Total_pop  \n",
       "Continent_Name                                 \n",
       "Africa               11,931.95  26,475,571.17  \n",
       "Asia                 21,638.41 253,173,327.77  \n",
       "Europe               30,806.50  22,398,862.95  \n",
       "North America        40,899.09 123,074,838.00  \n",
       "Oceania              33,992.63  12,195,523.50  \n",
       "South America        12,248.73  55,599,149.47  "
      ]
     },
     "execution_count": 57,
     "metadata": {},
     "output_type": "execute_result"
    }
   ],
   "source": [
    "df3_gdp"
   ]
  },
  {
   "cell_type": "code",
   "execution_count": 58,
   "metadata": {},
   "outputs": [],
   "source": [
    "df3_gdp = df3_gdp.reset_index()"
   ]
  },
  {
   "cell_type": "code",
   "execution_count": 59,
   "metadata": {},
   "outputs": [],
   "source": [
    "def create_generator(continent_list):\n",
    "    for continent in continent_list:\n",
    "        yield continent\n",
    "        \n",
    "continents = create_generator(df3_gdp.Continent_Name.tolist())"
   ]
  },
  {
   "cell_type": "code",
   "execution_count": 60,
   "metadata": {},
   "outputs": [
    {
     "data": {
      "application/vnd.plotly.v1+json": {
       "config": {
        "plotlyServerURL": "https://plot.ly"
       },
       "data": [
        {
         "hoverlabel": {
          "namelength": 0
         },
         "hovertemplate": "<b>%{hovertext}</b><br><br>Continent_Name=Africa<br>GDP_per_capita=%{x}<br>Five-year lung cancer survival rate (%)=%{y}<br>Total_pop=%{marker.size}",
         "hovertext": [
          "Africa"
         ],
         "legendgroup": "Continent_Name=Africa",
         "marker": {
          "color": "#636efa",
          "size": [
           26475571.166666668
          ],
          "sizemode": "area",
          "sizeref": 70325.92438095239,
          "symbol": "circle"
         },
         "mode": "markers",
         "name": "Africa",
         "showlegend": true,
         "type": "scatter",
         "x": [
          11931.950387346586
         ],
         "xaxis": "x",
         "y": [
          15.916666666666666
         ],
         "yaxis": "y"
        },
        {
         "hoverlabel": {
          "namelength": 0
         },
         "hovertemplate": "<b>%{hovertext}</b><br><br>Continent_Name=Asia<br>GDP_per_capita=%{x}<br>Five-year lung cancer survival rate (%)=%{y}<br>Total_pop=%{marker.size}",
         "hovertext": [
          "Asia"
         ],
         "legendgroup": "Continent_Name=Asia",
         "marker": {
          "color": "#EF553B",
          "size": [
           253173327.77142859
          ],
          "sizemode": "area",
          "sizeref": 70325.92438095239,
          "symbol": "circle"
         },
         "mode": "markers",
         "name": "Asia",
         "showlegend": true,
         "type": "scatter",
         "x": [
          21638.405650033885
         ],
         "xaxis": "x",
         "y": [
          15.280000000000001
         ],
         "yaxis": "y"
        },
        {
         "hoverlabel": {
          "namelength": 0
         },
         "hovertemplate": "<b>%{hovertext}</b><br><br>Continent_Name=Europe<br>GDP_per_capita=%{x}<br>Five-year lung cancer survival rate (%)=%{y}<br>Total_pop=%{marker.size}",
         "hovertext": [
          "Europe"
         ],
         "legendgroup": "Continent_Name=Europe",
         "marker": {
          "color": "#00cc96",
          "size": [
           22398862.95238095
          ],
          "sizemode": "area",
          "sizeref": 70325.92438095239,
          "symbol": "circle"
         },
         "mode": "markers",
         "name": "Europe",
         "showlegend": true,
         "type": "scatter",
         "x": [
          30806.50214507123
         ],
         "xaxis": "x",
         "y": [
          12.286904761904763
         ],
         "yaxis": "y"
        },
        {
         "hoverlabel": {
          "namelength": 0
         },
         "hovertemplate": "<b>%{hovertext}</b><br><br>Continent_Name=North America<br>GDP_per_capita=%{x}<br>Five-year lung cancer survival rate (%)=%{y}<br>Total_pop=%{marker.size}",
         "hovertext": [
          "North America"
         ],
         "legendgroup": "Continent_Name=North America",
         "marker": {
          "color": "#ab63fa",
          "size": [
           123074838
          ],
          "sizemode": "area",
          "sizeref": 70325.92438095239,
          "symbol": "circle"
         },
         "mode": "markers",
         "name": "North America",
         "showlegend": true,
         "type": "scatter",
         "x": [
          40899.087273161436
         ],
         "xaxis": "x",
         "y": [
          16.1375
         ],
         "yaxis": "y"
        },
        {
         "hoverlabel": {
          "namelength": 0
         },
         "hovertemplate": "<b>%{hovertext}</b><br><br>Continent_Name=Oceania<br>GDP_per_capita=%{x}<br>Five-year lung cancer survival rate (%)=%{y}<br>Total_pop=%{marker.size}",
         "hovertext": [
          "Oceania"
         ],
         "legendgroup": "Continent_Name=Oceania",
         "marker": {
          "color": "#FFA15A",
          "size": [
           12195523.5
          ],
          "sizemode": "area",
          "sizeref": 70325.92438095239,
          "symbol": "circle"
         },
         "mode": "markers",
         "name": "Oceania",
         "showlegend": true,
         "type": "scatter",
         "x": [
          33992.62987000761
         ],
         "xaxis": "x",
         "y": [
          13.250000000000002
         ],
         "yaxis": "y"
        },
        {
         "hoverlabel": {
          "namelength": 0
         },
         "hovertemplate": "<b>%{hovertext}</b><br><br>Continent_Name=South America<br>GDP_per_capita=%{x}<br>Five-year lung cancer survival rate (%)=%{y}<br>Total_pop=%{marker.size}",
         "hovertext": [
          "South America"
         ],
         "legendgroup": "Continent_Name=South America",
         "marker": {
          "color": "#19d3f3",
          "size": [
           55599149.46666667
          ],
          "sizemode": "area",
          "sizeref": 70325.92438095239,
          "symbol": "circle"
         },
         "mode": "markers",
         "name": "South America",
         "showlegend": true,
         "type": "scatter",
         "x": [
          12248.727586774465
         ],
         "xaxis": "x",
         "y": [
          16.146666666666665
         ],
         "yaxis": "y"
        }
       ],
       "layout": {
        "height": 600,
        "legend": {
         "itemsizing": "constant",
         "tracegroupgap": 0
        },
        "template": {
         "data": {
          "bar": [
           {
            "error_x": {
             "color": "#2a3f5f"
            },
            "error_y": {
             "color": "#2a3f5f"
            },
            "marker": {
             "line": {
              "color": "#E5ECF6",
              "width": 0.5
             }
            },
            "type": "bar"
           }
          ],
          "barpolar": [
           {
            "marker": {
             "line": {
              "color": "#E5ECF6",
              "width": 0.5
             }
            },
            "type": "barpolar"
           }
          ],
          "carpet": [
           {
            "aaxis": {
             "endlinecolor": "#2a3f5f",
             "gridcolor": "white",
             "linecolor": "white",
             "minorgridcolor": "white",
             "startlinecolor": "#2a3f5f"
            },
            "baxis": {
             "endlinecolor": "#2a3f5f",
             "gridcolor": "white",
             "linecolor": "white",
             "minorgridcolor": "white",
             "startlinecolor": "#2a3f5f"
            },
            "type": "carpet"
           }
          ],
          "choropleth": [
           {
            "colorbar": {
             "outlinewidth": 0,
             "ticks": ""
            },
            "type": "choropleth"
           }
          ],
          "contour": [
           {
            "colorbar": {
             "outlinewidth": 0,
             "ticks": ""
            },
            "colorscale": [
             [
              0,
              "#0d0887"
             ],
             [
              0.1111111111111111,
              "#46039f"
             ],
             [
              0.2222222222222222,
              "#7201a8"
             ],
             [
              0.3333333333333333,
              "#9c179e"
             ],
             [
              0.4444444444444444,
              "#bd3786"
             ],
             [
              0.5555555555555556,
              "#d8576b"
             ],
             [
              0.6666666666666666,
              "#ed7953"
             ],
             [
              0.7777777777777778,
              "#fb9f3a"
             ],
             [
              0.8888888888888888,
              "#fdca26"
             ],
             [
              1,
              "#f0f921"
             ]
            ],
            "type": "contour"
           }
          ],
          "contourcarpet": [
           {
            "colorbar": {
             "outlinewidth": 0,
             "ticks": ""
            },
            "type": "contourcarpet"
           }
          ],
          "heatmap": [
           {
            "colorbar": {
             "outlinewidth": 0,
             "ticks": ""
            },
            "colorscale": [
             [
              0,
              "#0d0887"
             ],
             [
              0.1111111111111111,
              "#46039f"
             ],
             [
              0.2222222222222222,
              "#7201a8"
             ],
             [
              0.3333333333333333,
              "#9c179e"
             ],
             [
              0.4444444444444444,
              "#bd3786"
             ],
             [
              0.5555555555555556,
              "#d8576b"
             ],
             [
              0.6666666666666666,
              "#ed7953"
             ],
             [
              0.7777777777777778,
              "#fb9f3a"
             ],
             [
              0.8888888888888888,
              "#fdca26"
             ],
             [
              1,
              "#f0f921"
             ]
            ],
            "type": "heatmap"
           }
          ],
          "heatmapgl": [
           {
            "colorbar": {
             "outlinewidth": 0,
             "ticks": ""
            },
            "colorscale": [
             [
              0,
              "#0d0887"
             ],
             [
              0.1111111111111111,
              "#46039f"
             ],
             [
              0.2222222222222222,
              "#7201a8"
             ],
             [
              0.3333333333333333,
              "#9c179e"
             ],
             [
              0.4444444444444444,
              "#bd3786"
             ],
             [
              0.5555555555555556,
              "#d8576b"
             ],
             [
              0.6666666666666666,
              "#ed7953"
             ],
             [
              0.7777777777777778,
              "#fb9f3a"
             ],
             [
              0.8888888888888888,
              "#fdca26"
             ],
             [
              1,
              "#f0f921"
             ]
            ],
            "type": "heatmapgl"
           }
          ],
          "histogram": [
           {
            "marker": {
             "colorbar": {
              "outlinewidth": 0,
              "ticks": ""
             }
            },
            "type": "histogram"
           }
          ],
          "histogram2d": [
           {
            "colorbar": {
             "outlinewidth": 0,
             "ticks": ""
            },
            "colorscale": [
             [
              0,
              "#0d0887"
             ],
             [
              0.1111111111111111,
              "#46039f"
             ],
             [
              0.2222222222222222,
              "#7201a8"
             ],
             [
              0.3333333333333333,
              "#9c179e"
             ],
             [
              0.4444444444444444,
              "#bd3786"
             ],
             [
              0.5555555555555556,
              "#d8576b"
             ],
             [
              0.6666666666666666,
              "#ed7953"
             ],
             [
              0.7777777777777778,
              "#fb9f3a"
             ],
             [
              0.8888888888888888,
              "#fdca26"
             ],
             [
              1,
              "#f0f921"
             ]
            ],
            "type": "histogram2d"
           }
          ],
          "histogram2dcontour": [
           {
            "colorbar": {
             "outlinewidth": 0,
             "ticks": ""
            },
            "colorscale": [
             [
              0,
              "#0d0887"
             ],
             [
              0.1111111111111111,
              "#46039f"
             ],
             [
              0.2222222222222222,
              "#7201a8"
             ],
             [
              0.3333333333333333,
              "#9c179e"
             ],
             [
              0.4444444444444444,
              "#bd3786"
             ],
             [
              0.5555555555555556,
              "#d8576b"
             ],
             [
              0.6666666666666666,
              "#ed7953"
             ],
             [
              0.7777777777777778,
              "#fb9f3a"
             ],
             [
              0.8888888888888888,
              "#fdca26"
             ],
             [
              1,
              "#f0f921"
             ]
            ],
            "type": "histogram2dcontour"
           }
          ],
          "mesh3d": [
           {
            "colorbar": {
             "outlinewidth": 0,
             "ticks": ""
            },
            "type": "mesh3d"
           }
          ],
          "parcoords": [
           {
            "line": {
             "colorbar": {
              "outlinewidth": 0,
              "ticks": ""
             }
            },
            "type": "parcoords"
           }
          ],
          "pie": [
           {
            "automargin": true,
            "type": "pie"
           }
          ],
          "scatter": [
           {
            "marker": {
             "colorbar": {
              "outlinewidth": 0,
              "ticks": ""
             }
            },
            "type": "scatter"
           }
          ],
          "scatter3d": [
           {
            "line": {
             "colorbar": {
              "outlinewidth": 0,
              "ticks": ""
             }
            },
            "marker": {
             "colorbar": {
              "outlinewidth": 0,
              "ticks": ""
             }
            },
            "type": "scatter3d"
           }
          ],
          "scattercarpet": [
           {
            "marker": {
             "colorbar": {
              "outlinewidth": 0,
              "ticks": ""
             }
            },
            "type": "scattercarpet"
           }
          ],
          "scattergeo": [
           {
            "marker": {
             "colorbar": {
              "outlinewidth": 0,
              "ticks": ""
             }
            },
            "type": "scattergeo"
           }
          ],
          "scattergl": [
           {
            "marker": {
             "colorbar": {
              "outlinewidth": 0,
              "ticks": ""
             }
            },
            "type": "scattergl"
           }
          ],
          "scattermapbox": [
           {
            "marker": {
             "colorbar": {
              "outlinewidth": 0,
              "ticks": ""
             }
            },
            "type": "scattermapbox"
           }
          ],
          "scatterpolar": [
           {
            "marker": {
             "colorbar": {
              "outlinewidth": 0,
              "ticks": ""
             }
            },
            "type": "scatterpolar"
           }
          ],
          "scatterpolargl": [
           {
            "marker": {
             "colorbar": {
              "outlinewidth": 0,
              "ticks": ""
             }
            },
            "type": "scatterpolargl"
           }
          ],
          "scatterternary": [
           {
            "marker": {
             "colorbar": {
              "outlinewidth": 0,
              "ticks": ""
             }
            },
            "type": "scatterternary"
           }
          ],
          "surface": [
           {
            "colorbar": {
             "outlinewidth": 0,
             "ticks": ""
            },
            "colorscale": [
             [
              0,
              "#0d0887"
             ],
             [
              0.1111111111111111,
              "#46039f"
             ],
             [
              0.2222222222222222,
              "#7201a8"
             ],
             [
              0.3333333333333333,
              "#9c179e"
             ],
             [
              0.4444444444444444,
              "#bd3786"
             ],
             [
              0.5555555555555556,
              "#d8576b"
             ],
             [
              0.6666666666666666,
              "#ed7953"
             ],
             [
              0.7777777777777778,
              "#fb9f3a"
             ],
             [
              0.8888888888888888,
              "#fdca26"
             ],
             [
              1,
              "#f0f921"
             ]
            ],
            "type": "surface"
           }
          ],
          "table": [
           {
            "cells": {
             "fill": {
              "color": "#EBF0F8"
             },
             "line": {
              "color": "white"
             }
            },
            "header": {
             "fill": {
              "color": "#C8D4E3"
             },
             "line": {
              "color": "white"
             }
            },
            "type": "table"
           }
          ]
         },
         "layout": {
          "annotationdefaults": {
           "arrowcolor": "#2a3f5f",
           "arrowhead": 0,
           "arrowwidth": 1
          },
          "coloraxis": {
           "colorbar": {
            "outlinewidth": 0,
            "ticks": ""
           }
          },
          "colorscale": {
           "diverging": [
            [
             0,
             "#8e0152"
            ],
            [
             0.1,
             "#c51b7d"
            ],
            [
             0.2,
             "#de77ae"
            ],
            [
             0.3,
             "#f1b6da"
            ],
            [
             0.4,
             "#fde0ef"
            ],
            [
             0.5,
             "#f7f7f7"
            ],
            [
             0.6,
             "#e6f5d0"
            ],
            [
             0.7,
             "#b8e186"
            ],
            [
             0.8,
             "#7fbc41"
            ],
            [
             0.9,
             "#4d9221"
            ],
            [
             1,
             "#276419"
            ]
           ],
           "sequential": [
            [
             0,
             "#0d0887"
            ],
            [
             0.1111111111111111,
             "#46039f"
            ],
            [
             0.2222222222222222,
             "#7201a8"
            ],
            [
             0.3333333333333333,
             "#9c179e"
            ],
            [
             0.4444444444444444,
             "#bd3786"
            ],
            [
             0.5555555555555556,
             "#d8576b"
            ],
            [
             0.6666666666666666,
             "#ed7953"
            ],
            [
             0.7777777777777778,
             "#fb9f3a"
            ],
            [
             0.8888888888888888,
             "#fdca26"
            ],
            [
             1,
             "#f0f921"
            ]
           ],
           "sequentialminus": [
            [
             0,
             "#0d0887"
            ],
            [
             0.1111111111111111,
             "#46039f"
            ],
            [
             0.2222222222222222,
             "#7201a8"
            ],
            [
             0.3333333333333333,
             "#9c179e"
            ],
            [
             0.4444444444444444,
             "#bd3786"
            ],
            [
             0.5555555555555556,
             "#d8576b"
            ],
            [
             0.6666666666666666,
             "#ed7953"
            ],
            [
             0.7777777777777778,
             "#fb9f3a"
            ],
            [
             0.8888888888888888,
             "#fdca26"
            ],
            [
             1,
             "#f0f921"
            ]
           ]
          },
          "colorway": [
           "#636efa",
           "#EF553B",
           "#00cc96",
           "#ab63fa",
           "#FFA15A",
           "#19d3f3",
           "#FF6692",
           "#B6E880",
           "#FF97FF",
           "#FECB52"
          ],
          "font": {
           "color": "#2a3f5f"
          },
          "geo": {
           "bgcolor": "white",
           "lakecolor": "white",
           "landcolor": "#E5ECF6",
           "showlakes": true,
           "showland": true,
           "subunitcolor": "white"
          },
          "hoverlabel": {
           "align": "left"
          },
          "hovermode": "closest",
          "mapbox": {
           "style": "light"
          },
          "paper_bgcolor": "white",
          "plot_bgcolor": "#E5ECF6",
          "polar": {
           "angularaxis": {
            "gridcolor": "white",
            "linecolor": "white",
            "ticks": ""
           },
           "bgcolor": "#E5ECF6",
           "radialaxis": {
            "gridcolor": "white",
            "linecolor": "white",
            "ticks": ""
           }
          },
          "scene": {
           "xaxis": {
            "backgroundcolor": "#E5ECF6",
            "gridcolor": "white",
            "gridwidth": 2,
            "linecolor": "white",
            "showbackground": true,
            "ticks": "",
            "zerolinecolor": "white"
           },
           "yaxis": {
            "backgroundcolor": "#E5ECF6",
            "gridcolor": "white",
            "gridwidth": 2,
            "linecolor": "white",
            "showbackground": true,
            "ticks": "",
            "zerolinecolor": "white"
           },
           "zaxis": {
            "backgroundcolor": "#E5ECF6",
            "gridcolor": "white",
            "gridwidth": 2,
            "linecolor": "white",
            "showbackground": true,
            "ticks": "",
            "zerolinecolor": "white"
           }
          },
          "shapedefaults": {
           "line": {
            "color": "#2a3f5f"
           }
          },
          "ternary": {
           "aaxis": {
            "gridcolor": "white",
            "linecolor": "white",
            "ticks": ""
           },
           "baxis": {
            "gridcolor": "white",
            "linecolor": "white",
            "ticks": ""
           },
           "bgcolor": "#E5ECF6",
           "caxis": {
            "gridcolor": "white",
            "linecolor": "white",
            "ticks": ""
           }
          },
          "title": {
           "x": 0.05
          },
          "xaxis": {
           "automargin": true,
           "gridcolor": "white",
           "linecolor": "white",
           "ticks": "",
           "title": {
            "standoff": 15
           },
           "zerolinecolor": "white",
           "zerolinewidth": 2
          },
          "yaxis": {
           "automargin": true,
           "gridcolor": "white",
           "linecolor": "white",
           "ticks": "",
           "title": {
            "standoff": 15
           },
           "zerolinecolor": "white",
           "zerolinewidth": 2
          }
         }
        },
        "title": {
         "text": "Average Survival rate by Continent "
        },
        "xaxis": {
         "anchor": "y",
         "domain": [
          0,
          1
         ],
         "title": {
          "text": "GDP Per Capita"
         }
        },
        "yaxis": {
         "anchor": "x",
         "domain": [
          0,
          1
         ],
         "title": {
          "text": "Five year lung cancer survival rate(%)"
         }
        }
       }
      },
      "text/html": [
       "<div>\n",
       "        \n",
       "        \n",
       "            <div id=\"645ac492-2ed9-4332-82be-c9b6891b6072\" class=\"plotly-graph-div\" style=\"height:600px; width:100%;\"></div>\n",
       "            <script type=\"text/javascript\">\n",
       "                require([\"plotly\"], function(Plotly) {\n",
       "                    window.PLOTLYENV=window.PLOTLYENV || {};\n",
       "                    \n",
       "                if (document.getElementById(\"645ac492-2ed9-4332-82be-c9b6891b6072\")) {\n",
       "                    Plotly.newPlot(\n",
       "                        '645ac492-2ed9-4332-82be-c9b6891b6072',\n",
       "                        [{\"hoverlabel\": {\"namelength\": 0}, \"hovertemplate\": \"<b>%{hovertext}</b><br><br>Continent_Name=Africa<br>GDP_per_capita=%{x}<br>Five-year lung cancer survival rate (%)=%{y}<br>Total_pop=%{marker.size}\", \"hovertext\": [\"Africa\"], \"legendgroup\": \"Continent_Name=Africa\", \"marker\": {\"color\": \"#636efa\", \"size\": [26475571.166666668], \"sizemode\": \"area\", \"sizeref\": 70325.92438095239, \"symbol\": \"circle\"}, \"mode\": \"markers\", \"name\": \"Africa\", \"showlegend\": true, \"type\": \"scatter\", \"x\": [11931.950387346586], \"xaxis\": \"x\", \"y\": [15.916666666666666], \"yaxis\": \"y\"}, {\"hoverlabel\": {\"namelength\": 0}, \"hovertemplate\": \"<b>%{hovertext}</b><br><br>Continent_Name=Asia<br>GDP_per_capita=%{x}<br>Five-year lung cancer survival rate (%)=%{y}<br>Total_pop=%{marker.size}\", \"hovertext\": [\"Asia\"], \"legendgroup\": \"Continent_Name=Asia\", \"marker\": {\"color\": \"#EF553B\", \"size\": [253173327.77142859], \"sizemode\": \"area\", \"sizeref\": 70325.92438095239, \"symbol\": \"circle\"}, \"mode\": \"markers\", \"name\": \"Asia\", \"showlegend\": true, \"type\": \"scatter\", \"x\": [21638.405650033885], \"xaxis\": \"x\", \"y\": [15.280000000000001], \"yaxis\": \"y\"}, {\"hoverlabel\": {\"namelength\": 0}, \"hovertemplate\": \"<b>%{hovertext}</b><br><br>Continent_Name=Europe<br>GDP_per_capita=%{x}<br>Five-year lung cancer survival rate (%)=%{y}<br>Total_pop=%{marker.size}\", \"hovertext\": [\"Europe\"], \"legendgroup\": \"Continent_Name=Europe\", \"marker\": {\"color\": \"#00cc96\", \"size\": [22398862.95238095], \"sizemode\": \"area\", \"sizeref\": 70325.92438095239, \"symbol\": \"circle\"}, \"mode\": \"markers\", \"name\": \"Europe\", \"showlegend\": true, \"type\": \"scatter\", \"x\": [30806.50214507123], \"xaxis\": \"x\", \"y\": [12.286904761904763], \"yaxis\": \"y\"}, {\"hoverlabel\": {\"namelength\": 0}, \"hovertemplate\": \"<b>%{hovertext}</b><br><br>Continent_Name=North America<br>GDP_per_capita=%{x}<br>Five-year lung cancer survival rate (%)=%{y}<br>Total_pop=%{marker.size}\", \"hovertext\": [\"North America\"], \"legendgroup\": \"Continent_Name=North America\", \"marker\": {\"color\": \"#ab63fa\", \"size\": [123074838.0], \"sizemode\": \"area\", \"sizeref\": 70325.92438095239, \"symbol\": \"circle\"}, \"mode\": \"markers\", \"name\": \"North America\", \"showlegend\": true, \"type\": \"scatter\", \"x\": [40899.087273161436], \"xaxis\": \"x\", \"y\": [16.1375], \"yaxis\": \"y\"}, {\"hoverlabel\": {\"namelength\": 0}, \"hovertemplate\": \"<b>%{hovertext}</b><br><br>Continent_Name=Oceania<br>GDP_per_capita=%{x}<br>Five-year lung cancer survival rate (%)=%{y}<br>Total_pop=%{marker.size}\", \"hovertext\": [\"Oceania\"], \"legendgroup\": \"Continent_Name=Oceania\", \"marker\": {\"color\": \"#FFA15A\", \"size\": [12195523.5], \"sizemode\": \"area\", \"sizeref\": 70325.92438095239, \"symbol\": \"circle\"}, \"mode\": \"markers\", \"name\": \"Oceania\", \"showlegend\": true, \"type\": \"scatter\", \"x\": [33992.62987000761], \"xaxis\": \"x\", \"y\": [13.250000000000002], \"yaxis\": \"y\"}, {\"hoverlabel\": {\"namelength\": 0}, \"hovertemplate\": \"<b>%{hovertext}</b><br><br>Continent_Name=South America<br>GDP_per_capita=%{x}<br>Five-year lung cancer survival rate (%)=%{y}<br>Total_pop=%{marker.size}\", \"hovertext\": [\"South America\"], \"legendgroup\": \"Continent_Name=South America\", \"marker\": {\"color\": \"#19d3f3\", \"size\": [55599149.46666667], \"sizemode\": \"area\", \"sizeref\": 70325.92438095239, \"symbol\": \"circle\"}, \"mode\": \"markers\", \"name\": \"South America\", \"showlegend\": true, \"type\": \"scatter\", \"x\": [12248.727586774465], \"xaxis\": \"x\", \"y\": [16.146666666666665], \"yaxis\": \"y\"}],\n",
       "                        {\"height\": 600, \"legend\": {\"itemsizing\": \"constant\", \"tracegroupgap\": 0}, \"template\": {\"data\": {\"bar\": [{\"error_x\": {\"color\": \"#2a3f5f\"}, \"error_y\": {\"color\": \"#2a3f5f\"}, \"marker\": {\"line\": {\"color\": \"#E5ECF6\", \"width\": 0.5}}, \"type\": \"bar\"}], \"barpolar\": [{\"marker\": {\"line\": {\"color\": \"#E5ECF6\", \"width\": 0.5}}, \"type\": \"barpolar\"}], \"carpet\": [{\"aaxis\": {\"endlinecolor\": \"#2a3f5f\", \"gridcolor\": \"white\", \"linecolor\": \"white\", \"minorgridcolor\": \"white\", \"startlinecolor\": \"#2a3f5f\"}, \"baxis\": {\"endlinecolor\": \"#2a3f5f\", \"gridcolor\": \"white\", \"linecolor\": \"white\", \"minorgridcolor\": \"white\", \"startlinecolor\": \"#2a3f5f\"}, \"type\": \"carpet\"}], \"choropleth\": [{\"colorbar\": {\"outlinewidth\": 0, \"ticks\": \"\"}, \"type\": \"choropleth\"}], \"contour\": [{\"colorbar\": {\"outlinewidth\": 0, \"ticks\": \"\"}, \"colorscale\": [[0.0, \"#0d0887\"], [0.1111111111111111, \"#46039f\"], [0.2222222222222222, \"#7201a8\"], [0.3333333333333333, \"#9c179e\"], [0.4444444444444444, \"#bd3786\"], [0.5555555555555556, \"#d8576b\"], [0.6666666666666666, \"#ed7953\"], [0.7777777777777778, \"#fb9f3a\"], [0.8888888888888888, \"#fdca26\"], [1.0, \"#f0f921\"]], \"type\": \"contour\"}], \"contourcarpet\": [{\"colorbar\": {\"outlinewidth\": 0, \"ticks\": \"\"}, \"type\": \"contourcarpet\"}], \"heatmap\": [{\"colorbar\": {\"outlinewidth\": 0, \"ticks\": \"\"}, \"colorscale\": [[0.0, \"#0d0887\"], [0.1111111111111111, \"#46039f\"], [0.2222222222222222, \"#7201a8\"], [0.3333333333333333, \"#9c179e\"], [0.4444444444444444, \"#bd3786\"], [0.5555555555555556, \"#d8576b\"], [0.6666666666666666, \"#ed7953\"], [0.7777777777777778, \"#fb9f3a\"], [0.8888888888888888, \"#fdca26\"], [1.0, \"#f0f921\"]], \"type\": \"heatmap\"}], \"heatmapgl\": [{\"colorbar\": {\"outlinewidth\": 0, \"ticks\": \"\"}, \"colorscale\": [[0.0, \"#0d0887\"], [0.1111111111111111, \"#46039f\"], [0.2222222222222222, \"#7201a8\"], [0.3333333333333333, \"#9c179e\"], [0.4444444444444444, \"#bd3786\"], [0.5555555555555556, \"#d8576b\"], [0.6666666666666666, \"#ed7953\"], [0.7777777777777778, \"#fb9f3a\"], [0.8888888888888888, \"#fdca26\"], [1.0, \"#f0f921\"]], \"type\": \"heatmapgl\"}], \"histogram\": [{\"marker\": {\"colorbar\": {\"outlinewidth\": 0, \"ticks\": \"\"}}, \"type\": \"histogram\"}], \"histogram2d\": [{\"colorbar\": {\"outlinewidth\": 0, \"ticks\": \"\"}, \"colorscale\": [[0.0, \"#0d0887\"], [0.1111111111111111, \"#46039f\"], [0.2222222222222222, \"#7201a8\"], [0.3333333333333333, \"#9c179e\"], [0.4444444444444444, \"#bd3786\"], [0.5555555555555556, \"#d8576b\"], [0.6666666666666666, \"#ed7953\"], [0.7777777777777778, \"#fb9f3a\"], [0.8888888888888888, \"#fdca26\"], [1.0, \"#f0f921\"]], \"type\": \"histogram2d\"}], \"histogram2dcontour\": [{\"colorbar\": {\"outlinewidth\": 0, \"ticks\": \"\"}, \"colorscale\": [[0.0, \"#0d0887\"], [0.1111111111111111, \"#46039f\"], [0.2222222222222222, \"#7201a8\"], [0.3333333333333333, \"#9c179e\"], [0.4444444444444444, \"#bd3786\"], [0.5555555555555556, \"#d8576b\"], [0.6666666666666666, \"#ed7953\"], [0.7777777777777778, \"#fb9f3a\"], [0.8888888888888888, \"#fdca26\"], [1.0, \"#f0f921\"]], \"type\": \"histogram2dcontour\"}], \"mesh3d\": [{\"colorbar\": {\"outlinewidth\": 0, \"ticks\": \"\"}, \"type\": \"mesh3d\"}], \"parcoords\": [{\"line\": {\"colorbar\": {\"outlinewidth\": 0, \"ticks\": \"\"}}, \"type\": \"parcoords\"}], \"pie\": [{\"automargin\": true, \"type\": \"pie\"}], \"scatter\": [{\"marker\": {\"colorbar\": {\"outlinewidth\": 0, \"ticks\": \"\"}}, \"type\": \"scatter\"}], \"scatter3d\": [{\"line\": {\"colorbar\": {\"outlinewidth\": 0, \"ticks\": \"\"}}, \"marker\": {\"colorbar\": {\"outlinewidth\": 0, \"ticks\": \"\"}}, \"type\": \"scatter3d\"}], \"scattercarpet\": [{\"marker\": {\"colorbar\": {\"outlinewidth\": 0, \"ticks\": \"\"}}, \"type\": \"scattercarpet\"}], \"scattergeo\": [{\"marker\": {\"colorbar\": {\"outlinewidth\": 0, \"ticks\": \"\"}}, \"type\": \"scattergeo\"}], \"scattergl\": [{\"marker\": {\"colorbar\": {\"outlinewidth\": 0, \"ticks\": \"\"}}, \"type\": \"scattergl\"}], \"scattermapbox\": [{\"marker\": {\"colorbar\": {\"outlinewidth\": 0, \"ticks\": \"\"}}, \"type\": \"scattermapbox\"}], \"scatterpolar\": [{\"marker\": {\"colorbar\": {\"outlinewidth\": 0, \"ticks\": \"\"}}, \"type\": \"scatterpolar\"}], \"scatterpolargl\": [{\"marker\": {\"colorbar\": {\"outlinewidth\": 0, \"ticks\": \"\"}}, \"type\": \"scatterpolargl\"}], \"scatterternary\": [{\"marker\": {\"colorbar\": {\"outlinewidth\": 0, \"ticks\": \"\"}}, \"type\": \"scatterternary\"}], \"surface\": [{\"colorbar\": {\"outlinewidth\": 0, \"ticks\": \"\"}, \"colorscale\": [[0.0, \"#0d0887\"], [0.1111111111111111, \"#46039f\"], [0.2222222222222222, \"#7201a8\"], [0.3333333333333333, \"#9c179e\"], [0.4444444444444444, \"#bd3786\"], [0.5555555555555556, \"#d8576b\"], [0.6666666666666666, \"#ed7953\"], [0.7777777777777778, \"#fb9f3a\"], [0.8888888888888888, \"#fdca26\"], [1.0, \"#f0f921\"]], \"type\": \"surface\"}], \"table\": [{\"cells\": {\"fill\": {\"color\": \"#EBF0F8\"}, \"line\": {\"color\": \"white\"}}, \"header\": {\"fill\": {\"color\": \"#C8D4E3\"}, \"line\": {\"color\": \"white\"}}, \"type\": \"table\"}]}, \"layout\": {\"annotationdefaults\": {\"arrowcolor\": \"#2a3f5f\", \"arrowhead\": 0, \"arrowwidth\": 1}, \"coloraxis\": {\"colorbar\": {\"outlinewidth\": 0, \"ticks\": \"\"}}, \"colorscale\": {\"diverging\": [[0, \"#8e0152\"], [0.1, \"#c51b7d\"], [0.2, \"#de77ae\"], [0.3, \"#f1b6da\"], [0.4, \"#fde0ef\"], [0.5, \"#f7f7f7\"], [0.6, \"#e6f5d0\"], [0.7, \"#b8e186\"], [0.8, \"#7fbc41\"], [0.9, \"#4d9221\"], [1, \"#276419\"]], \"sequential\": [[0.0, \"#0d0887\"], [0.1111111111111111, \"#46039f\"], [0.2222222222222222, \"#7201a8\"], [0.3333333333333333, \"#9c179e\"], [0.4444444444444444, \"#bd3786\"], [0.5555555555555556, \"#d8576b\"], [0.6666666666666666, \"#ed7953\"], [0.7777777777777778, \"#fb9f3a\"], [0.8888888888888888, \"#fdca26\"], [1.0, \"#f0f921\"]], \"sequentialminus\": [[0.0, \"#0d0887\"], [0.1111111111111111, \"#46039f\"], [0.2222222222222222, \"#7201a8\"], [0.3333333333333333, \"#9c179e\"], [0.4444444444444444, \"#bd3786\"], [0.5555555555555556, \"#d8576b\"], [0.6666666666666666, \"#ed7953\"], [0.7777777777777778, \"#fb9f3a\"], [0.8888888888888888, \"#fdca26\"], [1.0, \"#f0f921\"]]}, \"colorway\": [\"#636efa\", \"#EF553B\", \"#00cc96\", \"#ab63fa\", \"#FFA15A\", \"#19d3f3\", \"#FF6692\", \"#B6E880\", \"#FF97FF\", \"#FECB52\"], \"font\": {\"color\": \"#2a3f5f\"}, \"geo\": {\"bgcolor\": \"white\", \"lakecolor\": \"white\", \"landcolor\": \"#E5ECF6\", \"showlakes\": true, \"showland\": true, \"subunitcolor\": \"white\"}, \"hoverlabel\": {\"align\": \"left\"}, \"hovermode\": \"closest\", \"mapbox\": {\"style\": \"light\"}, \"paper_bgcolor\": \"white\", \"plot_bgcolor\": \"#E5ECF6\", \"polar\": {\"angularaxis\": {\"gridcolor\": \"white\", \"linecolor\": \"white\", \"ticks\": \"\"}, \"bgcolor\": \"#E5ECF6\", \"radialaxis\": {\"gridcolor\": \"white\", \"linecolor\": \"white\", \"ticks\": \"\"}}, \"scene\": {\"xaxis\": {\"backgroundcolor\": \"#E5ECF6\", \"gridcolor\": \"white\", \"gridwidth\": 2, \"linecolor\": \"white\", \"showbackground\": true, \"ticks\": \"\", \"zerolinecolor\": \"white\"}, \"yaxis\": {\"backgroundcolor\": \"#E5ECF6\", \"gridcolor\": \"white\", \"gridwidth\": 2, \"linecolor\": \"white\", \"showbackground\": true, \"ticks\": \"\", \"zerolinecolor\": \"white\"}, \"zaxis\": {\"backgroundcolor\": \"#E5ECF6\", \"gridcolor\": \"white\", \"gridwidth\": 2, \"linecolor\": \"white\", \"showbackground\": true, \"ticks\": \"\", \"zerolinecolor\": \"white\"}}, \"shapedefaults\": {\"line\": {\"color\": \"#2a3f5f\"}}, \"ternary\": {\"aaxis\": {\"gridcolor\": \"white\", \"linecolor\": \"white\", \"ticks\": \"\"}, \"baxis\": {\"gridcolor\": \"white\", \"linecolor\": \"white\", \"ticks\": \"\"}, \"bgcolor\": \"#E5ECF6\", \"caxis\": {\"gridcolor\": \"white\", \"linecolor\": \"white\", \"ticks\": \"\"}}, \"title\": {\"x\": 0.05}, \"xaxis\": {\"automargin\": true, \"gridcolor\": \"white\", \"linecolor\": \"white\", \"ticks\": \"\", \"title\": {\"standoff\": 15}, \"zerolinecolor\": \"white\", \"zerolinewidth\": 2}, \"yaxis\": {\"automargin\": true, \"gridcolor\": \"white\", \"linecolor\": \"white\", \"ticks\": \"\", \"title\": {\"standoff\": 15}, \"zerolinecolor\": \"white\", \"zerolinewidth\": 2}}}, \"title\": {\"text\": \"Average Survival rate by Continent \"}, \"xaxis\": {\"anchor\": \"y\", \"domain\": [0.0, 1.0], \"title\": {\"text\": \"GDP Per Capita\"}}, \"yaxis\": {\"anchor\": \"x\", \"domain\": [0.0, 1.0], \"title\": {\"text\": \"Five year lung cancer survival rate(%)\"}}},\n",
       "                        {\"responsive\": true}\n",
       "                    ).then(function(){\n",
       "                            \n",
       "var gd = document.getElementById('645ac492-2ed9-4332-82be-c9b6891b6072');\n",
       "var x = new MutationObserver(function (mutations, observer) {{\n",
       "        var display = window.getComputedStyle(gd).display;\n",
       "        if (!display || display === 'none') {{\n",
       "            console.log([gd, 'removed!']);\n",
       "            Plotly.purge(gd);\n",
       "            observer.disconnect();\n",
       "        }}\n",
       "}});\n",
       "\n",
       "// Listen for the removal of the full notebook cells\n",
       "var notebookContainer = gd.closest('#notebook-container');\n",
       "if (notebookContainer) {{\n",
       "    x.observe(notebookContainer, {childList: true});\n",
       "}}\n",
       "\n",
       "// Listen for the clearing of the current output cell\n",
       "var outputEl = gd.closest('.output');\n",
       "if (outputEl) {{\n",
       "    x.observe(outputEl, {childList: true});\n",
       "}}\n",
       "\n",
       "                        })\n",
       "                };\n",
       "                });\n",
       "            </script>\n",
       "        </div>"
      ]
     },
     "metadata": {},
     "output_type": "display_data"
    }
   ],
   "source": [
    "fig = px.scatter(df3_gdp, x=\"GDP_per_capita\", y=\"Five-year lung cancer survival rate (%)\", size=\"Total_pop\", color=\"Continent_Name\",\n",
    "           hover_name=\"Continent_Name\", size_max=60,title=\"Average Survival rate by Continent \")\n",
    "fig.update_xaxes(title='GDP Per Capita')\n",
    "fig.update_yaxes(title='Five year lung cancer survival rate(%)')\n",
    "\n",
    "\n",
    "fig.for_each_trace(\n",
    "    lambda trace: trace.update(name=next(continents)),\n",
    ")\n",
    "\n",
    "fig.show()"
   ]
  },
  {
   "cell_type": "code",
   "execution_count": 61,
   "metadata": {},
   "outputs": [
    {
     "data": {
      "application/vnd.plotly.v1+json": {
       "config": {
        "plotlyServerURL": "https://plot.ly"
       },
       "data": [
        {
         "coloraxis": "coloraxis",
         "geo": "geo",
         "hoverlabel": {
          "namelength": 0
         },
         "hovertemplate": "<b>%{hovertext}</b><br><br>Code=%{location}<br>Five-year lung cancer survival rate (%)=%{z}",
         "hovertext": [
          "DZA",
          "DZA",
          "DZA",
          "ARG",
          "ARG",
          "AUS",
          "AUS",
          "AUS",
          "AUT",
          "AUT",
          "AUT",
          "BEL",
          "BEL",
          "BRA",
          "BRA",
          "BRA",
          "BGR",
          "BGR",
          "BGR",
          "CAN",
          "CAN",
          "CAN",
          "CHL",
          "CHL",
          "CHN",
          "CHN",
          "CHN",
          "COL",
          "COL",
          "COL",
          "HRV",
          "HRV",
          "HRV",
          "CYP",
          "CYP",
          "CZE",
          "CZE",
          "CZE",
          "DNK",
          "DNK",
          "DNK",
          "ECU",
          "ECU",
          "ECU",
          "EST",
          "EST",
          "EST",
          "FIN",
          "FIN",
          "FIN",
          "FRA",
          "FRA",
          "FRA",
          "DEU",
          "DEU",
          "DEU",
          "ISL",
          "ISL",
          "ISL",
          "IND",
          "IND",
          "IND",
          "IDN",
          "IRL",
          "IRL",
          "IRL",
          "ISR",
          "ISR",
          "ISR",
          "ITA",
          "ITA",
          "ITA",
          "JPN",
          "JPN",
          "JPN",
          "JOR",
          "JOR",
          "LVA",
          "LVA",
          "LVA",
          "LTU",
          "LTU",
          "LTU",
          "MYS",
          "MYS",
          "MYS",
          "MLT",
          "MLT",
          "MLT",
          "MUS",
          "MNG",
          "NLD",
          "NLD",
          "NLD",
          "NZL",
          "NZL",
          "NZL",
          "NOR",
          "NOR",
          "NOR",
          "POL",
          "POL",
          "POL",
          "PRT",
          "PRT",
          "PRT",
          "PRI",
          "PRI",
          "QAT",
          "ROU",
          "RUS",
          "RUS",
          "SAU",
          "SAU",
          "SVK",
          "SVK",
          "SVN",
          "SVN",
          "SVN",
          "ZAF",
          "KOR",
          "KOR",
          "KOR",
          "ESP",
          "ESP",
          "ESP",
          "SWE",
          "SWE",
          "SWE",
          "CHE",
          "CHE",
          "CHE",
          "THA",
          "THA",
          "THA",
          "TUN",
          "TUR",
          "TUR",
          "TUR",
          "GBR",
          "GBR",
          "GBR",
          "USA",
          "USA",
          "USA",
          "URY",
          "URY"
         ],
         "locations": [
          "DZA",
          "DZA",
          "DZA",
          "ARG",
          "ARG",
          "AUS",
          "AUS",
          "AUS",
          "AUT",
          "AUT",
          "AUT",
          "BEL",
          "BEL",
          "BRA",
          "BRA",
          "BRA",
          "BGR",
          "BGR",
          "BGR",
          "CAN",
          "CAN",
          "CAN",
          "CHL",
          "CHL",
          "CHN",
          "CHN",
          "CHN",
          "COL",
          "COL",
          "COL",
          "HRV",
          "HRV",
          "HRV",
          "CYP",
          "CYP",
          "CZE",
          "CZE",
          "CZE",
          "DNK",
          "DNK",
          "DNK",
          "ECU",
          "ECU",
          "ECU",
          "EST",
          "EST",
          "EST",
          "FIN",
          "FIN",
          "FIN",
          "FRA",
          "FRA",
          "FRA",
          "DEU",
          "DEU",
          "DEU",
          "ISL",
          "ISL",
          "ISL",
          "IND",
          "IND",
          "IND",
          "IDN",
          "IRL",
          "IRL",
          "IRL",
          "ISR",
          "ISR",
          "ISR",
          "ITA",
          "ITA",
          "ITA",
          "JPN",
          "JPN",
          "JPN",
          "JOR",
          "JOR",
          "LVA",
          "LVA",
          "LVA",
          "LTU",
          "LTU",
          "LTU",
          "MYS",
          "MYS",
          "MYS",
          "MLT",
          "MLT",
          "MLT",
          "MUS",
          "MNG",
          "NLD",
          "NLD",
          "NLD",
          "NZL",
          "NZL",
          "NZL",
          "NOR",
          "NOR",
          "NOR",
          "POL",
          "POL",
          "POL",
          "PRT",
          "PRT",
          "PRT",
          "PRI",
          "PRI",
          "QAT",
          "ROU",
          "RUS",
          "RUS",
          "SAU",
          "SAU",
          "SVK",
          "SVK",
          "SVN",
          "SVN",
          "SVN",
          "ZAF",
          "KOR",
          "KOR",
          "KOR",
          "ESP",
          "ESP",
          "ESP",
          "SWE",
          "SWE",
          "SWE",
          "CHE",
          "CHE",
          "CHE",
          "THA",
          "THA",
          "THA",
          "TUN",
          "TUR",
          "TUR",
          "TUR",
          "GBR",
          "GBR",
          "GBR",
          "USA",
          "USA",
          "USA",
          "URY",
          "URY"
         ],
         "name": "",
         "type": "choropleth",
         "z": [
          6,
          8.2,
          14.8,
          20.8,
          11.9,
          13.7,
          14.8,
          15,
          14.1,
          15.6,
          17.9,
          15.3,
          16.6,
          18.6,
          13.7,
          18,
          5.9,
          5.7,
          6.3,
          15.1,
          15.6,
          17.3,
          6.2,
          6.3,
          7.5,
          18.1,
          17.5,
          6.1,
          9,
          9,
          16.5,
          15.2,
          13.6,
          18.4,
          15.4,
          8.5,
          10.9,
          12.3,
          8,
          9.6,
          11.3,
          34.5,
          37.8,
          28.7,
          8.2,
          10.9,
          11.9,
          11,
          11.8,
          12.3,
          12.8,
          13.9,
          13.6,
          11.6,
          15.1,
          16.2,
          14.3,
          14.5,
          15,
          4.4,
          9.8,
          9.6,
          12.2,
          9.5,
          10.3,
          12.9,
          17.3,
          20.7,
          23.8,
          12.9,
          14,
          14.7,
          22.9,
          28.5,
          30.1,
          7.7,
          4.4,
          12.1,
          13.8,
          16.2,
          10,
          8.3,
          7.7,
          15.1,
          13.1,
          10.7,
          10.9,
          9.3,
          10.8,
          37.2,
          6.6,
          12.4,
          12.2,
          14.8,
          12.2,
          11.4,
          12.4,
          10.7,
          11.7,
          15,
          11.4,
          11.7,
          13.4,
          10.4,
          10.4,
          12.8,
          14.8,
          15.8,
          13.2,
          16.2,
          14.7,
          15.7,
          21.3,
          12.9,
          9.6,
          10.7,
          8.5,
          9.7,
          11.4,
          19,
          9.6,
          15.2,
          18.5,
          10.2,
          11.5,
          12.6,
          12.2,
          13.3,
          15.6,
          13,
          14.5,
          16.5,
          31.9,
          14.2,
          13.5,
          10.3,
          19.2,
          11,
          10.1,
          7.3,
          8.5,
          9.6,
          15.2,
          16.6,
          18.7,
          12.5,
          9.1
         ]
        }
       ],
       "layout": {
        "coloraxis": {
         "colorbar": {
          "title": {
           "text": "Five-year lung cancer survival rate (%)"
          }
         },
         "colorscale": [
          [
           0,
           "#0d0887"
          ],
          [
           0.1111111111111111,
           "#46039f"
          ],
          [
           0.2222222222222222,
           "#7201a8"
          ],
          [
           0.3333333333333333,
           "#9c179e"
          ],
          [
           0.4444444444444444,
           "#bd3786"
          ],
          [
           0.5555555555555556,
           "#d8576b"
          ],
          [
           0.6666666666666666,
           "#ed7953"
          ],
          [
           0.7777777777777778,
           "#fb9f3a"
          ],
          [
           0.8888888888888888,
           "#fdca26"
          ],
          [
           1,
           "#f0f921"
          ]
         ]
        },
        "geo": {
         "center": {},
         "domain": {
          "x": [
           0,
           1
          ],
          "y": [
           0,
           1
          ]
         }
        },
        "height": 600,
        "legend": {
         "tracegroupgap": 0
        },
        "template": {
         "data": {
          "bar": [
           {
            "error_x": {
             "color": "#2a3f5f"
            },
            "error_y": {
             "color": "#2a3f5f"
            },
            "marker": {
             "line": {
              "color": "#E5ECF6",
              "width": 0.5
             }
            },
            "type": "bar"
           }
          ],
          "barpolar": [
           {
            "marker": {
             "line": {
              "color": "#E5ECF6",
              "width": 0.5
             }
            },
            "type": "barpolar"
           }
          ],
          "carpet": [
           {
            "aaxis": {
             "endlinecolor": "#2a3f5f",
             "gridcolor": "white",
             "linecolor": "white",
             "minorgridcolor": "white",
             "startlinecolor": "#2a3f5f"
            },
            "baxis": {
             "endlinecolor": "#2a3f5f",
             "gridcolor": "white",
             "linecolor": "white",
             "minorgridcolor": "white",
             "startlinecolor": "#2a3f5f"
            },
            "type": "carpet"
           }
          ],
          "choropleth": [
           {
            "colorbar": {
             "outlinewidth": 0,
             "ticks": ""
            },
            "type": "choropleth"
           }
          ],
          "contour": [
           {
            "colorbar": {
             "outlinewidth": 0,
             "ticks": ""
            },
            "colorscale": [
             [
              0,
              "#0d0887"
             ],
             [
              0.1111111111111111,
              "#46039f"
             ],
             [
              0.2222222222222222,
              "#7201a8"
             ],
             [
              0.3333333333333333,
              "#9c179e"
             ],
             [
              0.4444444444444444,
              "#bd3786"
             ],
             [
              0.5555555555555556,
              "#d8576b"
             ],
             [
              0.6666666666666666,
              "#ed7953"
             ],
             [
              0.7777777777777778,
              "#fb9f3a"
             ],
             [
              0.8888888888888888,
              "#fdca26"
             ],
             [
              1,
              "#f0f921"
             ]
            ],
            "type": "contour"
           }
          ],
          "contourcarpet": [
           {
            "colorbar": {
             "outlinewidth": 0,
             "ticks": ""
            },
            "type": "contourcarpet"
           }
          ],
          "heatmap": [
           {
            "colorbar": {
             "outlinewidth": 0,
             "ticks": ""
            },
            "colorscale": [
             [
              0,
              "#0d0887"
             ],
             [
              0.1111111111111111,
              "#46039f"
             ],
             [
              0.2222222222222222,
              "#7201a8"
             ],
             [
              0.3333333333333333,
              "#9c179e"
             ],
             [
              0.4444444444444444,
              "#bd3786"
             ],
             [
              0.5555555555555556,
              "#d8576b"
             ],
             [
              0.6666666666666666,
              "#ed7953"
             ],
             [
              0.7777777777777778,
              "#fb9f3a"
             ],
             [
              0.8888888888888888,
              "#fdca26"
             ],
             [
              1,
              "#f0f921"
             ]
            ],
            "type": "heatmap"
           }
          ],
          "heatmapgl": [
           {
            "colorbar": {
             "outlinewidth": 0,
             "ticks": ""
            },
            "colorscale": [
             [
              0,
              "#0d0887"
             ],
             [
              0.1111111111111111,
              "#46039f"
             ],
             [
              0.2222222222222222,
              "#7201a8"
             ],
             [
              0.3333333333333333,
              "#9c179e"
             ],
             [
              0.4444444444444444,
              "#bd3786"
             ],
             [
              0.5555555555555556,
              "#d8576b"
             ],
             [
              0.6666666666666666,
              "#ed7953"
             ],
             [
              0.7777777777777778,
              "#fb9f3a"
             ],
             [
              0.8888888888888888,
              "#fdca26"
             ],
             [
              1,
              "#f0f921"
             ]
            ],
            "type": "heatmapgl"
           }
          ],
          "histogram": [
           {
            "marker": {
             "colorbar": {
              "outlinewidth": 0,
              "ticks": ""
             }
            },
            "type": "histogram"
           }
          ],
          "histogram2d": [
           {
            "colorbar": {
             "outlinewidth": 0,
             "ticks": ""
            },
            "colorscale": [
             [
              0,
              "#0d0887"
             ],
             [
              0.1111111111111111,
              "#46039f"
             ],
             [
              0.2222222222222222,
              "#7201a8"
             ],
             [
              0.3333333333333333,
              "#9c179e"
             ],
             [
              0.4444444444444444,
              "#bd3786"
             ],
             [
              0.5555555555555556,
              "#d8576b"
             ],
             [
              0.6666666666666666,
              "#ed7953"
             ],
             [
              0.7777777777777778,
              "#fb9f3a"
             ],
             [
              0.8888888888888888,
              "#fdca26"
             ],
             [
              1,
              "#f0f921"
             ]
            ],
            "type": "histogram2d"
           }
          ],
          "histogram2dcontour": [
           {
            "colorbar": {
             "outlinewidth": 0,
             "ticks": ""
            },
            "colorscale": [
             [
              0,
              "#0d0887"
             ],
             [
              0.1111111111111111,
              "#46039f"
             ],
             [
              0.2222222222222222,
              "#7201a8"
             ],
             [
              0.3333333333333333,
              "#9c179e"
             ],
             [
              0.4444444444444444,
              "#bd3786"
             ],
             [
              0.5555555555555556,
              "#d8576b"
             ],
             [
              0.6666666666666666,
              "#ed7953"
             ],
             [
              0.7777777777777778,
              "#fb9f3a"
             ],
             [
              0.8888888888888888,
              "#fdca26"
             ],
             [
              1,
              "#f0f921"
             ]
            ],
            "type": "histogram2dcontour"
           }
          ],
          "mesh3d": [
           {
            "colorbar": {
             "outlinewidth": 0,
             "ticks": ""
            },
            "type": "mesh3d"
           }
          ],
          "parcoords": [
           {
            "line": {
             "colorbar": {
              "outlinewidth": 0,
              "ticks": ""
             }
            },
            "type": "parcoords"
           }
          ],
          "pie": [
           {
            "automargin": true,
            "type": "pie"
           }
          ],
          "scatter": [
           {
            "marker": {
             "colorbar": {
              "outlinewidth": 0,
              "ticks": ""
             }
            },
            "type": "scatter"
           }
          ],
          "scatter3d": [
           {
            "line": {
             "colorbar": {
              "outlinewidth": 0,
              "ticks": ""
             }
            },
            "marker": {
             "colorbar": {
              "outlinewidth": 0,
              "ticks": ""
             }
            },
            "type": "scatter3d"
           }
          ],
          "scattercarpet": [
           {
            "marker": {
             "colorbar": {
              "outlinewidth": 0,
              "ticks": ""
             }
            },
            "type": "scattercarpet"
           }
          ],
          "scattergeo": [
           {
            "marker": {
             "colorbar": {
              "outlinewidth": 0,
              "ticks": ""
             }
            },
            "type": "scattergeo"
           }
          ],
          "scattergl": [
           {
            "marker": {
             "colorbar": {
              "outlinewidth": 0,
              "ticks": ""
             }
            },
            "type": "scattergl"
           }
          ],
          "scattermapbox": [
           {
            "marker": {
             "colorbar": {
              "outlinewidth": 0,
              "ticks": ""
             }
            },
            "type": "scattermapbox"
           }
          ],
          "scatterpolar": [
           {
            "marker": {
             "colorbar": {
              "outlinewidth": 0,
              "ticks": ""
             }
            },
            "type": "scatterpolar"
           }
          ],
          "scatterpolargl": [
           {
            "marker": {
             "colorbar": {
              "outlinewidth": 0,
              "ticks": ""
             }
            },
            "type": "scatterpolargl"
           }
          ],
          "scatterternary": [
           {
            "marker": {
             "colorbar": {
              "outlinewidth": 0,
              "ticks": ""
             }
            },
            "type": "scatterternary"
           }
          ],
          "surface": [
           {
            "colorbar": {
             "outlinewidth": 0,
             "ticks": ""
            },
            "colorscale": [
             [
              0,
              "#0d0887"
             ],
             [
              0.1111111111111111,
              "#46039f"
             ],
             [
              0.2222222222222222,
              "#7201a8"
             ],
             [
              0.3333333333333333,
              "#9c179e"
             ],
             [
              0.4444444444444444,
              "#bd3786"
             ],
             [
              0.5555555555555556,
              "#d8576b"
             ],
             [
              0.6666666666666666,
              "#ed7953"
             ],
             [
              0.7777777777777778,
              "#fb9f3a"
             ],
             [
              0.8888888888888888,
              "#fdca26"
             ],
             [
              1,
              "#f0f921"
             ]
            ],
            "type": "surface"
           }
          ],
          "table": [
           {
            "cells": {
             "fill": {
              "color": "#EBF0F8"
             },
             "line": {
              "color": "white"
             }
            },
            "header": {
             "fill": {
              "color": "#C8D4E3"
             },
             "line": {
              "color": "white"
             }
            },
            "type": "table"
           }
          ]
         },
         "layout": {
          "annotationdefaults": {
           "arrowcolor": "#2a3f5f",
           "arrowhead": 0,
           "arrowwidth": 1
          },
          "coloraxis": {
           "colorbar": {
            "outlinewidth": 0,
            "ticks": ""
           }
          },
          "colorscale": {
           "diverging": [
            [
             0,
             "#8e0152"
            ],
            [
             0.1,
             "#c51b7d"
            ],
            [
             0.2,
             "#de77ae"
            ],
            [
             0.3,
             "#f1b6da"
            ],
            [
             0.4,
             "#fde0ef"
            ],
            [
             0.5,
             "#f7f7f7"
            ],
            [
             0.6,
             "#e6f5d0"
            ],
            [
             0.7,
             "#b8e186"
            ],
            [
             0.8,
             "#7fbc41"
            ],
            [
             0.9,
             "#4d9221"
            ],
            [
             1,
             "#276419"
            ]
           ],
           "sequential": [
            [
             0,
             "#0d0887"
            ],
            [
             0.1111111111111111,
             "#46039f"
            ],
            [
             0.2222222222222222,
             "#7201a8"
            ],
            [
             0.3333333333333333,
             "#9c179e"
            ],
            [
             0.4444444444444444,
             "#bd3786"
            ],
            [
             0.5555555555555556,
             "#d8576b"
            ],
            [
             0.6666666666666666,
             "#ed7953"
            ],
            [
             0.7777777777777778,
             "#fb9f3a"
            ],
            [
             0.8888888888888888,
             "#fdca26"
            ],
            [
             1,
             "#f0f921"
            ]
           ],
           "sequentialminus": [
            [
             0,
             "#0d0887"
            ],
            [
             0.1111111111111111,
             "#46039f"
            ],
            [
             0.2222222222222222,
             "#7201a8"
            ],
            [
             0.3333333333333333,
             "#9c179e"
            ],
            [
             0.4444444444444444,
             "#bd3786"
            ],
            [
             0.5555555555555556,
             "#d8576b"
            ],
            [
             0.6666666666666666,
             "#ed7953"
            ],
            [
             0.7777777777777778,
             "#fb9f3a"
            ],
            [
             0.8888888888888888,
             "#fdca26"
            ],
            [
             1,
             "#f0f921"
            ]
           ]
          },
          "colorway": [
           "#636efa",
           "#EF553B",
           "#00cc96",
           "#ab63fa",
           "#FFA15A",
           "#19d3f3",
           "#FF6692",
           "#B6E880",
           "#FF97FF",
           "#FECB52"
          ],
          "font": {
           "color": "#2a3f5f"
          },
          "geo": {
           "bgcolor": "white",
           "lakecolor": "white",
           "landcolor": "#E5ECF6",
           "showlakes": true,
           "showland": true,
           "subunitcolor": "white"
          },
          "hoverlabel": {
           "align": "left"
          },
          "hovermode": "closest",
          "mapbox": {
           "style": "light"
          },
          "paper_bgcolor": "white",
          "plot_bgcolor": "#E5ECF6",
          "polar": {
           "angularaxis": {
            "gridcolor": "white",
            "linecolor": "white",
            "ticks": ""
           },
           "bgcolor": "#E5ECF6",
           "radialaxis": {
            "gridcolor": "white",
            "linecolor": "white",
            "ticks": ""
           }
          },
          "scene": {
           "xaxis": {
            "backgroundcolor": "#E5ECF6",
            "gridcolor": "white",
            "gridwidth": 2,
            "linecolor": "white",
            "showbackground": true,
            "ticks": "",
            "zerolinecolor": "white"
           },
           "yaxis": {
            "backgroundcolor": "#E5ECF6",
            "gridcolor": "white",
            "gridwidth": 2,
            "linecolor": "white",
            "showbackground": true,
            "ticks": "",
            "zerolinecolor": "white"
           },
           "zaxis": {
            "backgroundcolor": "#E5ECF6",
            "gridcolor": "white",
            "gridwidth": 2,
            "linecolor": "white",
            "showbackground": true,
            "ticks": "",
            "zerolinecolor": "white"
           }
          },
          "shapedefaults": {
           "line": {
            "color": "#2a3f5f"
           }
          },
          "ternary": {
           "aaxis": {
            "gridcolor": "white",
            "linecolor": "white",
            "ticks": ""
           },
           "baxis": {
            "gridcolor": "white",
            "linecolor": "white",
            "ticks": ""
           },
           "bgcolor": "#E5ECF6",
           "caxis": {
            "gridcolor": "white",
            "linecolor": "white",
            "ticks": ""
           }
          },
          "title": {
           "x": 0.05
          },
          "xaxis": {
           "automargin": true,
           "gridcolor": "white",
           "linecolor": "white",
           "ticks": "",
           "title": {
            "standoff": 15
           },
           "zerolinecolor": "white",
           "zerolinewidth": 2
          },
          "yaxis": {
           "automargin": true,
           "gridcolor": "white",
           "linecolor": "white",
           "ticks": "",
           "title": {
            "standoff": 15
           },
           "zerolinecolor": "white",
           "zerolinewidth": 2
          }
         }
        },
        "title": {
         "text": "Heat Map of the World "
        }
       }
      },
      "text/html": [
       "<div>\n",
       "        \n",
       "        \n",
       "            <div id=\"86d8a556-9db5-42ab-b764-12043a7b2ee9\" class=\"plotly-graph-div\" style=\"height:600px; width:100%;\"></div>\n",
       "            <script type=\"text/javascript\">\n",
       "                require([\"plotly\"], function(Plotly) {\n",
       "                    window.PLOTLYENV=window.PLOTLYENV || {};\n",
       "                    \n",
       "                if (document.getElementById(\"86d8a556-9db5-42ab-b764-12043a7b2ee9\")) {\n",
       "                    Plotly.newPlot(\n",
       "                        '86d8a556-9db5-42ab-b764-12043a7b2ee9',\n",
       "                        [{\"coloraxis\": \"coloraxis\", \"geo\": \"geo\", \"hoverlabel\": {\"namelength\": 0}, \"hovertemplate\": \"<b>%{hovertext}</b><br><br>Code=%{location}<br>Five-year lung cancer survival rate (%)=%{z}\", \"hovertext\": [\"DZA\", \"DZA\", \"DZA\", \"ARG\", \"ARG\", \"AUS\", \"AUS\", \"AUS\", \"AUT\", \"AUT\", \"AUT\", \"BEL\", \"BEL\", \"BRA\", \"BRA\", \"BRA\", \"BGR\", \"BGR\", \"BGR\", \"CAN\", \"CAN\", \"CAN\", \"CHL\", \"CHL\", \"CHN\", \"CHN\", \"CHN\", \"COL\", \"COL\", \"COL\", \"HRV\", \"HRV\", \"HRV\", \"CYP\", \"CYP\", \"CZE\", \"CZE\", \"CZE\", \"DNK\", \"DNK\", \"DNK\", \"ECU\", \"ECU\", \"ECU\", \"EST\", \"EST\", \"EST\", \"FIN\", \"FIN\", \"FIN\", \"FRA\", \"FRA\", \"FRA\", \"DEU\", \"DEU\", \"DEU\", \"ISL\", \"ISL\", \"ISL\", \"IND\", \"IND\", \"IND\", \"IDN\", \"IRL\", \"IRL\", \"IRL\", \"ISR\", \"ISR\", \"ISR\", \"ITA\", \"ITA\", \"ITA\", \"JPN\", \"JPN\", \"JPN\", \"JOR\", \"JOR\", \"LVA\", \"LVA\", \"LVA\", \"LTU\", \"LTU\", \"LTU\", \"MYS\", \"MYS\", \"MYS\", \"MLT\", \"MLT\", \"MLT\", \"MUS\", \"MNG\", \"NLD\", \"NLD\", \"NLD\", \"NZL\", \"NZL\", \"NZL\", \"NOR\", \"NOR\", \"NOR\", \"POL\", \"POL\", \"POL\", \"PRT\", \"PRT\", \"PRT\", \"PRI\", \"PRI\", \"QAT\", \"ROU\", \"RUS\", \"RUS\", \"SAU\", \"SAU\", \"SVK\", \"SVK\", \"SVN\", \"SVN\", \"SVN\", \"ZAF\", \"KOR\", \"KOR\", \"KOR\", \"ESP\", \"ESP\", \"ESP\", \"SWE\", \"SWE\", \"SWE\", \"CHE\", \"CHE\", \"CHE\", \"THA\", \"THA\", \"THA\", \"TUN\", \"TUR\", \"TUR\", \"TUR\", \"GBR\", \"GBR\", \"GBR\", \"USA\", \"USA\", \"USA\", \"URY\", \"URY\"], \"locations\": [\"DZA\", \"DZA\", \"DZA\", \"ARG\", \"ARG\", \"AUS\", \"AUS\", \"AUS\", \"AUT\", \"AUT\", \"AUT\", \"BEL\", \"BEL\", \"BRA\", \"BRA\", \"BRA\", \"BGR\", \"BGR\", \"BGR\", \"CAN\", \"CAN\", \"CAN\", \"CHL\", \"CHL\", \"CHN\", \"CHN\", \"CHN\", \"COL\", \"COL\", \"COL\", \"HRV\", \"HRV\", \"HRV\", \"CYP\", \"CYP\", \"CZE\", \"CZE\", \"CZE\", \"DNK\", \"DNK\", \"DNK\", \"ECU\", \"ECU\", \"ECU\", \"EST\", \"EST\", \"EST\", \"FIN\", \"FIN\", \"FIN\", \"FRA\", \"FRA\", \"FRA\", \"DEU\", \"DEU\", \"DEU\", \"ISL\", \"ISL\", \"ISL\", \"IND\", \"IND\", \"IND\", \"IDN\", \"IRL\", \"IRL\", \"IRL\", \"ISR\", \"ISR\", \"ISR\", \"ITA\", \"ITA\", \"ITA\", \"JPN\", \"JPN\", \"JPN\", \"JOR\", \"JOR\", \"LVA\", \"LVA\", \"LVA\", \"LTU\", \"LTU\", \"LTU\", \"MYS\", \"MYS\", \"MYS\", \"MLT\", \"MLT\", \"MLT\", \"MUS\", \"MNG\", \"NLD\", \"NLD\", \"NLD\", \"NZL\", \"NZL\", \"NZL\", \"NOR\", \"NOR\", \"NOR\", \"POL\", \"POL\", \"POL\", \"PRT\", \"PRT\", \"PRT\", \"PRI\", \"PRI\", \"QAT\", \"ROU\", \"RUS\", \"RUS\", \"SAU\", \"SAU\", \"SVK\", \"SVK\", \"SVN\", \"SVN\", \"SVN\", \"ZAF\", \"KOR\", \"KOR\", \"KOR\", \"ESP\", \"ESP\", \"ESP\", \"SWE\", \"SWE\", \"SWE\", \"CHE\", \"CHE\", \"CHE\", \"THA\", \"THA\", \"THA\", \"TUN\", \"TUR\", \"TUR\", \"TUR\", \"GBR\", \"GBR\", \"GBR\", \"USA\", \"USA\", \"USA\", \"URY\", \"URY\"], \"name\": \"\", \"type\": \"choropleth\", \"z\": [6.0, 8.2, 14.8, 20.8, 11.9, 13.7, 14.8, 15.0, 14.1, 15.6, 17.9, 15.3, 16.6, 18.6, 13.7, 18.0, 5.9, 5.7, 6.3, 15.1, 15.6, 17.3, 6.2, 6.3, 7.5, 18.1, 17.5, 6.1, 9.0, 9.0, 16.5, 15.2, 13.6, 18.4, 15.4, 8.5, 10.9, 12.3, 8.0, 9.6, 11.3, 34.5, 37.8, 28.7, 8.2, 10.9, 11.9, 11.0, 11.8, 12.3, 12.8, 13.9, 13.6, 11.6, 15.1, 16.2, 14.3, 14.5, 15.0, 4.4, 9.8, 9.6, 12.2, 9.5, 10.3, 12.9, 17.3, 20.7, 23.8, 12.9, 14.0, 14.7, 22.9, 28.5, 30.1, 7.7, 4.4, 12.1, 13.8, 16.2, 10.0, 8.3, 7.7, 15.1, 13.1, 10.7, 10.9, 9.3, 10.8, 37.2, 6.6, 12.4, 12.2, 14.8, 12.2, 11.4, 12.4, 10.7, 11.7, 15.0, 11.4, 11.7, 13.4, 10.4, 10.4, 12.8, 14.8, 15.8, 13.2, 16.2, 14.7, 15.7, 21.3, 12.9, 9.6, 10.7, 8.5, 9.7, 11.4, 19.0, 9.6, 15.2, 18.5, 10.2, 11.5, 12.6, 12.2, 13.3, 15.6, 13.0, 14.5, 16.5, 31.9, 14.2, 13.5, 10.3, 19.2, 11.0, 10.1, 7.3, 8.5, 9.6, 15.2, 16.6, 18.7, 12.5, 9.1]}],\n",
       "                        {\"coloraxis\": {\"colorbar\": {\"title\": {\"text\": \"Five-year lung cancer survival rate (%)\"}}, \"colorscale\": [[0.0, \"#0d0887\"], [0.1111111111111111, \"#46039f\"], [0.2222222222222222, \"#7201a8\"], [0.3333333333333333, \"#9c179e\"], [0.4444444444444444, \"#bd3786\"], [0.5555555555555556, \"#d8576b\"], [0.6666666666666666, \"#ed7953\"], [0.7777777777777778, \"#fb9f3a\"], [0.8888888888888888, \"#fdca26\"], [1.0, \"#f0f921\"]]}, \"geo\": {\"center\": {}, \"domain\": {\"x\": [0.0, 1.0], \"y\": [0.0, 1.0]}}, \"height\": 600, \"legend\": {\"tracegroupgap\": 0}, \"template\": {\"data\": {\"bar\": [{\"error_x\": {\"color\": \"#2a3f5f\"}, \"error_y\": {\"color\": \"#2a3f5f\"}, \"marker\": {\"line\": {\"color\": \"#E5ECF6\", \"width\": 0.5}}, \"type\": \"bar\"}], \"barpolar\": [{\"marker\": {\"line\": {\"color\": \"#E5ECF6\", \"width\": 0.5}}, \"type\": \"barpolar\"}], \"carpet\": [{\"aaxis\": {\"endlinecolor\": \"#2a3f5f\", \"gridcolor\": \"white\", \"linecolor\": \"white\", \"minorgridcolor\": \"white\", \"startlinecolor\": \"#2a3f5f\"}, \"baxis\": {\"endlinecolor\": \"#2a3f5f\", \"gridcolor\": \"white\", \"linecolor\": \"white\", \"minorgridcolor\": \"white\", \"startlinecolor\": \"#2a3f5f\"}, \"type\": \"carpet\"}], \"choropleth\": [{\"colorbar\": {\"outlinewidth\": 0, \"ticks\": \"\"}, \"type\": \"choropleth\"}], \"contour\": [{\"colorbar\": {\"outlinewidth\": 0, \"ticks\": \"\"}, \"colorscale\": [[0.0, \"#0d0887\"], [0.1111111111111111, \"#46039f\"], [0.2222222222222222, \"#7201a8\"], [0.3333333333333333, \"#9c179e\"], [0.4444444444444444, \"#bd3786\"], [0.5555555555555556, \"#d8576b\"], [0.6666666666666666, \"#ed7953\"], [0.7777777777777778, \"#fb9f3a\"], [0.8888888888888888, \"#fdca26\"], [1.0, \"#f0f921\"]], \"type\": \"contour\"}], \"contourcarpet\": [{\"colorbar\": {\"outlinewidth\": 0, \"ticks\": \"\"}, \"type\": \"contourcarpet\"}], \"heatmap\": [{\"colorbar\": {\"outlinewidth\": 0, \"ticks\": \"\"}, \"colorscale\": [[0.0, \"#0d0887\"], [0.1111111111111111, \"#46039f\"], [0.2222222222222222, \"#7201a8\"], [0.3333333333333333, \"#9c179e\"], [0.4444444444444444, \"#bd3786\"], [0.5555555555555556, \"#d8576b\"], [0.6666666666666666, \"#ed7953\"], [0.7777777777777778, \"#fb9f3a\"], [0.8888888888888888, \"#fdca26\"], [1.0, \"#f0f921\"]], \"type\": \"heatmap\"}], \"heatmapgl\": [{\"colorbar\": {\"outlinewidth\": 0, \"ticks\": \"\"}, \"colorscale\": [[0.0, \"#0d0887\"], [0.1111111111111111, \"#46039f\"], [0.2222222222222222, \"#7201a8\"], [0.3333333333333333, \"#9c179e\"], [0.4444444444444444, \"#bd3786\"], [0.5555555555555556, \"#d8576b\"], [0.6666666666666666, \"#ed7953\"], [0.7777777777777778, \"#fb9f3a\"], [0.8888888888888888, \"#fdca26\"], [1.0, \"#f0f921\"]], \"type\": \"heatmapgl\"}], \"histogram\": [{\"marker\": {\"colorbar\": {\"outlinewidth\": 0, \"ticks\": \"\"}}, \"type\": \"histogram\"}], \"histogram2d\": [{\"colorbar\": {\"outlinewidth\": 0, \"ticks\": \"\"}, \"colorscale\": [[0.0, \"#0d0887\"], [0.1111111111111111, \"#46039f\"], [0.2222222222222222, \"#7201a8\"], [0.3333333333333333, \"#9c179e\"], [0.4444444444444444, \"#bd3786\"], [0.5555555555555556, \"#d8576b\"], [0.6666666666666666, \"#ed7953\"], [0.7777777777777778, \"#fb9f3a\"], [0.8888888888888888, \"#fdca26\"], [1.0, \"#f0f921\"]], \"type\": \"histogram2d\"}], \"histogram2dcontour\": [{\"colorbar\": {\"outlinewidth\": 0, \"ticks\": \"\"}, \"colorscale\": [[0.0, \"#0d0887\"], [0.1111111111111111, \"#46039f\"], [0.2222222222222222, \"#7201a8\"], [0.3333333333333333, \"#9c179e\"], [0.4444444444444444, \"#bd3786\"], [0.5555555555555556, \"#d8576b\"], [0.6666666666666666, \"#ed7953\"], [0.7777777777777778, \"#fb9f3a\"], [0.8888888888888888, \"#fdca26\"], [1.0, \"#f0f921\"]], \"type\": \"histogram2dcontour\"}], \"mesh3d\": [{\"colorbar\": {\"outlinewidth\": 0, \"ticks\": \"\"}, \"type\": \"mesh3d\"}], \"parcoords\": [{\"line\": {\"colorbar\": {\"outlinewidth\": 0, \"ticks\": \"\"}}, \"type\": \"parcoords\"}], \"pie\": [{\"automargin\": true, \"type\": \"pie\"}], \"scatter\": [{\"marker\": {\"colorbar\": {\"outlinewidth\": 0, \"ticks\": \"\"}}, \"type\": \"scatter\"}], \"scatter3d\": [{\"line\": {\"colorbar\": {\"outlinewidth\": 0, \"ticks\": \"\"}}, \"marker\": {\"colorbar\": {\"outlinewidth\": 0, \"ticks\": \"\"}}, \"type\": \"scatter3d\"}], \"scattercarpet\": [{\"marker\": {\"colorbar\": {\"outlinewidth\": 0, \"ticks\": \"\"}}, \"type\": \"scattercarpet\"}], \"scattergeo\": [{\"marker\": {\"colorbar\": {\"outlinewidth\": 0, \"ticks\": \"\"}}, \"type\": \"scattergeo\"}], \"scattergl\": [{\"marker\": {\"colorbar\": {\"outlinewidth\": 0, \"ticks\": \"\"}}, \"type\": \"scattergl\"}], \"scattermapbox\": [{\"marker\": {\"colorbar\": {\"outlinewidth\": 0, \"ticks\": \"\"}}, \"type\": \"scattermapbox\"}], \"scatterpolar\": [{\"marker\": {\"colorbar\": {\"outlinewidth\": 0, \"ticks\": \"\"}}, \"type\": \"scatterpolar\"}], \"scatterpolargl\": [{\"marker\": {\"colorbar\": {\"outlinewidth\": 0, \"ticks\": \"\"}}, \"type\": \"scatterpolargl\"}], \"scatterternary\": [{\"marker\": {\"colorbar\": {\"outlinewidth\": 0, \"ticks\": \"\"}}, \"type\": \"scatterternary\"}], \"surface\": [{\"colorbar\": {\"outlinewidth\": 0, \"ticks\": \"\"}, \"colorscale\": [[0.0, \"#0d0887\"], [0.1111111111111111, \"#46039f\"], [0.2222222222222222, \"#7201a8\"], [0.3333333333333333, \"#9c179e\"], [0.4444444444444444, \"#bd3786\"], [0.5555555555555556, \"#d8576b\"], [0.6666666666666666, \"#ed7953\"], [0.7777777777777778, \"#fb9f3a\"], [0.8888888888888888, \"#fdca26\"], [1.0, \"#f0f921\"]], \"type\": \"surface\"}], \"table\": [{\"cells\": {\"fill\": {\"color\": \"#EBF0F8\"}, \"line\": {\"color\": \"white\"}}, \"header\": {\"fill\": {\"color\": \"#C8D4E3\"}, \"line\": {\"color\": \"white\"}}, \"type\": \"table\"}]}, \"layout\": {\"annotationdefaults\": {\"arrowcolor\": \"#2a3f5f\", \"arrowhead\": 0, \"arrowwidth\": 1}, \"coloraxis\": {\"colorbar\": {\"outlinewidth\": 0, \"ticks\": \"\"}}, \"colorscale\": {\"diverging\": [[0, \"#8e0152\"], [0.1, \"#c51b7d\"], [0.2, \"#de77ae\"], [0.3, \"#f1b6da\"], [0.4, \"#fde0ef\"], [0.5, \"#f7f7f7\"], [0.6, \"#e6f5d0\"], [0.7, \"#b8e186\"], [0.8, \"#7fbc41\"], [0.9, \"#4d9221\"], [1, \"#276419\"]], \"sequential\": [[0.0, \"#0d0887\"], [0.1111111111111111, \"#46039f\"], [0.2222222222222222, \"#7201a8\"], [0.3333333333333333, \"#9c179e\"], [0.4444444444444444, \"#bd3786\"], [0.5555555555555556, \"#d8576b\"], [0.6666666666666666, \"#ed7953\"], [0.7777777777777778, \"#fb9f3a\"], [0.8888888888888888, \"#fdca26\"], [1.0, \"#f0f921\"]], \"sequentialminus\": [[0.0, \"#0d0887\"], [0.1111111111111111, \"#46039f\"], [0.2222222222222222, \"#7201a8\"], [0.3333333333333333, \"#9c179e\"], [0.4444444444444444, \"#bd3786\"], [0.5555555555555556, \"#d8576b\"], [0.6666666666666666, \"#ed7953\"], [0.7777777777777778, \"#fb9f3a\"], [0.8888888888888888, \"#fdca26\"], [1.0, \"#f0f921\"]]}, \"colorway\": [\"#636efa\", \"#EF553B\", \"#00cc96\", \"#ab63fa\", \"#FFA15A\", \"#19d3f3\", \"#FF6692\", \"#B6E880\", \"#FF97FF\", \"#FECB52\"], \"font\": {\"color\": \"#2a3f5f\"}, \"geo\": {\"bgcolor\": \"white\", \"lakecolor\": \"white\", \"landcolor\": \"#E5ECF6\", \"showlakes\": true, \"showland\": true, \"subunitcolor\": \"white\"}, \"hoverlabel\": {\"align\": \"left\"}, \"hovermode\": \"closest\", \"mapbox\": {\"style\": \"light\"}, \"paper_bgcolor\": \"white\", \"plot_bgcolor\": \"#E5ECF6\", \"polar\": {\"angularaxis\": {\"gridcolor\": \"white\", \"linecolor\": \"white\", \"ticks\": \"\"}, \"bgcolor\": \"#E5ECF6\", \"radialaxis\": {\"gridcolor\": \"white\", \"linecolor\": \"white\", \"ticks\": \"\"}}, \"scene\": {\"xaxis\": {\"backgroundcolor\": \"#E5ECF6\", \"gridcolor\": \"white\", \"gridwidth\": 2, \"linecolor\": \"white\", \"showbackground\": true, \"ticks\": \"\", \"zerolinecolor\": \"white\"}, \"yaxis\": {\"backgroundcolor\": \"#E5ECF6\", \"gridcolor\": \"white\", \"gridwidth\": 2, \"linecolor\": \"white\", \"showbackground\": true, \"ticks\": \"\", \"zerolinecolor\": \"white\"}, \"zaxis\": {\"backgroundcolor\": \"#E5ECF6\", \"gridcolor\": \"white\", \"gridwidth\": 2, \"linecolor\": \"white\", \"showbackground\": true, \"ticks\": \"\", \"zerolinecolor\": \"white\"}}, \"shapedefaults\": {\"line\": {\"color\": \"#2a3f5f\"}}, \"ternary\": {\"aaxis\": {\"gridcolor\": \"white\", \"linecolor\": \"white\", \"ticks\": \"\"}, \"baxis\": {\"gridcolor\": \"white\", \"linecolor\": \"white\", \"ticks\": \"\"}, \"bgcolor\": \"#E5ECF6\", \"caxis\": {\"gridcolor\": \"white\", \"linecolor\": \"white\", \"ticks\": \"\"}}, \"title\": {\"x\": 0.05}, \"xaxis\": {\"automargin\": true, \"gridcolor\": \"white\", \"linecolor\": \"white\", \"ticks\": \"\", \"title\": {\"standoff\": 15}, \"zerolinecolor\": \"white\", \"zerolinewidth\": 2}, \"yaxis\": {\"automargin\": true, \"gridcolor\": \"white\", \"linecolor\": \"white\", \"ticks\": \"\", \"title\": {\"standoff\": 15}, \"zerolinecolor\": \"white\", \"zerolinewidth\": 2}}}, \"title\": {\"text\": \"Heat Map of the World \"}},\n",
       "                        {\"responsive\": true}\n",
       "                    ).then(function(){\n",
       "                            \n",
       "var gd = document.getElementById('86d8a556-9db5-42ab-b764-12043a7b2ee9');\n",
       "var x = new MutationObserver(function (mutations, observer) {{\n",
       "        var display = window.getComputedStyle(gd).display;\n",
       "        if (!display || display === 'none') {{\n",
       "            console.log([gd, 'removed!']);\n",
       "            Plotly.purge(gd);\n",
       "            observer.disconnect();\n",
       "        }}\n",
       "}});\n",
       "\n",
       "// Listen for the removal of the full notebook cells\n",
       "var notebookContainer = gd.closest('#notebook-container');\n",
       "if (notebookContainer) {{\n",
       "    x.observe(notebookContainer, {childList: true});\n",
       "}}\n",
       "\n",
       "// Listen for the clearing of the current output cell\n",
       "var outputEl = gd.closest('.output');\n",
       "if (outputEl) {{\n",
       "    x.observe(outputEl, {childList: true});\n",
       "}}\n",
       "\n",
       "                        })\n",
       "                };\n",
       "                });\n",
       "            </script>\n",
       "        </div>"
      ]
     },
     "metadata": {},
     "output_type": "display_data"
    }
   ],
   "source": [
    "fig = px.choropleth(df1_gdp, locations=\"Code\",\n",
    "                    color=\"Five-year lung cancer survival rate (%)\", \n",
    "                    hover_name=\"Code\", \n",
    "                    color_continuous_scale=px.colors.sequential.Plasma,\n",
    "                   title=\"Heat Map of the World \")\n",
    "fig.show()"
   ]
  },
  {
   "cell_type": "markdown",
   "metadata": {},
   "source": [
    "# Bonus : Survival Function ( do not take into consideration)"
   ]
  },
  {
   "cell_type": "code",
   "execution_count": 62,
   "metadata": {},
   "outputs": [],
   "source": [
    "df_survival = pd.read_csv('../data/five-year-survival-rates-from-lung-cancer.csv')"
   ]
  },
  {
   "cell_type": "code",
   "execution_count": 63,
   "metadata": {},
   "outputs": [],
   "source": [
    "def survival(data, group_field, time_field, event_field):\n",
    "    kmf = KaplanMeierFitter()\n",
    "    results = []\n",
    "\n",
    "    for i in data[group_field].unique():\n",
    "        group = data[data[group_field]==i]\n",
    "        T = group[time_field]\n",
    "        E = group[event_field]\n",
    "        kmf.fit(T, E, label=str(i))\n",
    "        results.append(kmf.survival_function_)\n",
    "\n",
    "    survival = pd.concat(results, axis=1)\n",
    "    front_fill = survival.fillna(method='ffill')\n",
    "    back_fill = survival.fillna(method='bfill')\n",
    "    smoothed = (front_fill + back_fill) / 2\n",
    "    return smoothed"
   ]
  },
  {
   "cell_type": "code",
   "execution_count": 64,
   "metadata": {},
   "outputs": [
    {
     "data": {
      "text/html": [
       "<div>\n",
       "<style scoped>\n",
       "    .dataframe tbody tr th:only-of-type {\n",
       "        vertical-align: middle;\n",
       "    }\n",
       "\n",
       "    .dataframe tbody tr th {\n",
       "        vertical-align: top;\n",
       "    }\n",
       "\n",
       "    .dataframe thead th {\n",
       "        text-align: right;\n",
       "    }\n",
       "</style>\n",
       "<table border=\"1\" class=\"dataframe\">\n",
       "  <thead>\n",
       "    <tr style=\"text-align: right;\">\n",
       "      <th></th>\n",
       "      <th>Entity</th>\n",
       "      <th>Code</th>\n",
       "      <th>Year</th>\n",
       "      <th>Lung (%)</th>\n",
       "    </tr>\n",
       "  </thead>\n",
       "  <tbody>\n",
       "    <tr>\n",
       "      <th>0</th>\n",
       "      <td>Algeria</td>\n",
       "      <td>DZA</td>\n",
       "      <td>1999</td>\n",
       "      <td>6.00</td>\n",
       "    </tr>\n",
       "    <tr>\n",
       "      <th>1</th>\n",
       "      <td>Algeria</td>\n",
       "      <td>DZA</td>\n",
       "      <td>2004</td>\n",
       "      <td>8.20</td>\n",
       "    </tr>\n",
       "    <tr>\n",
       "      <th>2</th>\n",
       "      <td>Algeria</td>\n",
       "      <td>DZA</td>\n",
       "      <td>2009</td>\n",
       "      <td>14.80</td>\n",
       "    </tr>\n",
       "    <tr>\n",
       "      <th>3</th>\n",
       "      <td>Argentina</td>\n",
       "      <td>ARG</td>\n",
       "      <td>2004</td>\n",
       "      <td>20.80</td>\n",
       "    </tr>\n",
       "    <tr>\n",
       "      <th>4</th>\n",
       "      <td>Argentina</td>\n",
       "      <td>ARG</td>\n",
       "      <td>2009</td>\n",
       "      <td>11.90</td>\n",
       "    </tr>\n",
       "  </tbody>\n",
       "</table>\n",
       "</div>"
      ],
      "text/plain": [
       "      Entity Code  Year  Lung (%)\n",
       "0    Algeria  DZA  1999      6.00\n",
       "1    Algeria  DZA  2004      8.20\n",
       "2    Algeria  DZA  2009     14.80\n",
       "3  Argentina  ARG  2004     20.80\n",
       "4  Argentina  ARG  2009     11.90"
      ]
     },
     "execution_count": 64,
     "metadata": {},
     "output_type": "execute_result"
    }
   ],
   "source": [
    "df_survival.head()"
   ]
  },
  {
   "cell_type": "code",
   "execution_count": 65,
   "metadata": {},
   "outputs": [],
   "source": [
    "df1_survival = df_survival.rename(columns={\"Entity\":\"Country\",\"Lung (%)\": \"Lung_survival_rate(%)\"})"
   ]
  },
  {
   "cell_type": "code",
   "execution_count": 66,
   "metadata": {},
   "outputs": [
    {
     "data": {
      "text/html": [
       "<div>\n",
       "<style scoped>\n",
       "    .dataframe tbody tr th:only-of-type {\n",
       "        vertical-align: middle;\n",
       "    }\n",
       "\n",
       "    .dataframe tbody tr th {\n",
       "        vertical-align: top;\n",
       "    }\n",
       "\n",
       "    .dataframe thead th {\n",
       "        text-align: right;\n",
       "    }\n",
       "</style>\n",
       "<table border=\"1\" class=\"dataframe\">\n",
       "  <thead>\n",
       "    <tr style=\"text-align: right;\">\n",
       "      <th></th>\n",
       "      <th>Country</th>\n",
       "      <th>Code</th>\n",
       "      <th>Year</th>\n",
       "      <th>Lung_survival_rate(%)</th>\n",
       "    </tr>\n",
       "  </thead>\n",
       "  <tbody>\n",
       "    <tr>\n",
       "      <th>0</th>\n",
       "      <td>Algeria</td>\n",
       "      <td>DZA</td>\n",
       "      <td>1999</td>\n",
       "      <td>6.00</td>\n",
       "    </tr>\n",
       "    <tr>\n",
       "      <th>1</th>\n",
       "      <td>Algeria</td>\n",
       "      <td>DZA</td>\n",
       "      <td>2004</td>\n",
       "      <td>8.20</td>\n",
       "    </tr>\n",
       "    <tr>\n",
       "      <th>2</th>\n",
       "      <td>Algeria</td>\n",
       "      <td>DZA</td>\n",
       "      <td>2009</td>\n",
       "      <td>14.80</td>\n",
       "    </tr>\n",
       "    <tr>\n",
       "      <th>3</th>\n",
       "      <td>Argentina</td>\n",
       "      <td>ARG</td>\n",
       "      <td>2004</td>\n",
       "      <td>20.80</td>\n",
       "    </tr>\n",
       "    <tr>\n",
       "      <th>4</th>\n",
       "      <td>Argentina</td>\n",
       "      <td>ARG</td>\n",
       "      <td>2009</td>\n",
       "      <td>11.90</td>\n",
       "    </tr>\n",
       "  </tbody>\n",
       "</table>\n",
       "</div>"
      ],
      "text/plain": [
       "     Country Code  Year  Lung_survival_rate(%)\n",
       "0    Algeria  DZA  1999                   6.00\n",
       "1    Algeria  DZA  2004                   8.20\n",
       "2    Algeria  DZA  2009                  14.80\n",
       "3  Argentina  ARG  2004                  20.80\n",
       "4  Argentina  ARG  2009                  11.90"
      ]
     },
     "execution_count": 66,
     "metadata": {},
     "output_type": "execute_result"
    }
   ],
   "source": [
    "df1_survival.head()"
   ]
  },
  {
   "cell_type": "code",
   "execution_count": 67,
   "metadata": {},
   "outputs": [],
   "source": [
    "df2_survival = df1_survival.merge(df_continents, on='Code')"
   ]
  },
  {
   "cell_type": "code",
   "execution_count": 68,
   "metadata": {},
   "outputs": [
    {
     "data": {
      "text/html": [
       "<div>\n",
       "<style scoped>\n",
       "    .dataframe tbody tr th:only-of-type {\n",
       "        vertical-align: middle;\n",
       "    }\n",
       "\n",
       "    .dataframe tbody tr th {\n",
       "        vertical-align: top;\n",
       "    }\n",
       "\n",
       "    .dataframe thead th {\n",
       "        text-align: right;\n",
       "    }\n",
       "</style>\n",
       "<table border=\"1\" class=\"dataframe\">\n",
       "  <thead>\n",
       "    <tr style=\"text-align: right;\">\n",
       "      <th></th>\n",
       "      <th>Country</th>\n",
       "      <th>Code</th>\n",
       "      <th>Year</th>\n",
       "      <th>Lung_survival_rate(%)</th>\n",
       "      <th>Continent_Name</th>\n",
       "    </tr>\n",
       "  </thead>\n",
       "  <tbody>\n",
       "    <tr>\n",
       "      <th>0</th>\n",
       "      <td>Algeria</td>\n",
       "      <td>DZA</td>\n",
       "      <td>1999</td>\n",
       "      <td>6.00</td>\n",
       "      <td>Africa</td>\n",
       "    </tr>\n",
       "    <tr>\n",
       "      <th>1</th>\n",
       "      <td>Algeria</td>\n",
       "      <td>DZA</td>\n",
       "      <td>2004</td>\n",
       "      <td>8.20</td>\n",
       "      <td>Africa</td>\n",
       "    </tr>\n",
       "    <tr>\n",
       "      <th>2</th>\n",
       "      <td>Algeria</td>\n",
       "      <td>DZA</td>\n",
       "      <td>2009</td>\n",
       "      <td>14.80</td>\n",
       "      <td>Africa</td>\n",
       "    </tr>\n",
       "    <tr>\n",
       "      <th>3</th>\n",
       "      <td>Argentina</td>\n",
       "      <td>ARG</td>\n",
       "      <td>2004</td>\n",
       "      <td>20.80</td>\n",
       "      <td>South America</td>\n",
       "    </tr>\n",
       "    <tr>\n",
       "      <th>4</th>\n",
       "      <td>Argentina</td>\n",
       "      <td>ARG</td>\n",
       "      <td>2009</td>\n",
       "      <td>11.90</td>\n",
       "      <td>South America</td>\n",
       "    </tr>\n",
       "  </tbody>\n",
       "</table>\n",
       "</div>"
      ],
      "text/plain": [
       "     Country Code  Year  Lung_survival_rate(%) Continent_Name\n",
       "0    Algeria  DZA  1999                   6.00         Africa\n",
       "1    Algeria  DZA  2004                   8.20         Africa\n",
       "2    Algeria  DZA  2009                  14.80         Africa\n",
       "3  Argentina  ARG  2004                  20.80  South America\n",
       "4  Argentina  ARG  2009                  11.90  South America"
      ]
     },
     "execution_count": 68,
     "metadata": {},
     "output_type": "execute_result"
    }
   ],
   "source": [
    "df2_survival.head()"
   ]
  },
  {
   "cell_type": "code",
   "execution_count": 69,
   "metadata": {},
   "outputs": [],
   "source": [
    "df3_survival = df2_survival.pivot_table(values=['Lung_survival_rate(%)','Country'], index=['Continent_Name'], aggfunc={'Lung_survival_rate(%)': np.mean})"
   ]
  },
  {
   "cell_type": "code",
   "execution_count": 70,
   "metadata": {},
   "outputs": [
    {
     "data": {
      "text/html": [
       "<div>\n",
       "<style scoped>\n",
       "    .dataframe tbody tr th:only-of-type {\n",
       "        vertical-align: middle;\n",
       "    }\n",
       "\n",
       "    .dataframe tbody tr th {\n",
       "        vertical-align: top;\n",
       "    }\n",
       "\n",
       "    .dataframe thead th {\n",
       "        text-align: right;\n",
       "    }\n",
       "</style>\n",
       "<table border=\"1\" class=\"dataframe\">\n",
       "  <thead>\n",
       "    <tr style=\"text-align: right;\">\n",
       "      <th></th>\n",
       "      <th>Continent_Name</th>\n",
       "      <th>Lung_survival_rate(%)</th>\n",
       "    </tr>\n",
       "  </thead>\n",
       "  <tbody>\n",
       "    <tr>\n",
       "      <th>0</th>\n",
       "      <td>Africa</td>\n",
       "      <td>15.92</td>\n",
       "    </tr>\n",
       "    <tr>\n",
       "      <th>1</th>\n",
       "      <td>Asia</td>\n",
       "      <td>15.11</td>\n",
       "    </tr>\n",
       "    <tr>\n",
       "      <th>2</th>\n",
       "      <td>Europe</td>\n",
       "      <td>12.29</td>\n",
       "    </tr>\n",
       "    <tr>\n",
       "      <th>3</th>\n",
       "      <td>North America</td>\n",
       "      <td>16.65</td>\n",
       "    </tr>\n",
       "    <tr>\n",
       "      <th>4</th>\n",
       "      <td>Oceania</td>\n",
       "      <td>13.25</td>\n",
       "    </tr>\n",
       "    <tr>\n",
       "      <th>5</th>\n",
       "      <td>South America</td>\n",
       "      <td>16.15</td>\n",
       "    </tr>\n",
       "  </tbody>\n",
       "</table>\n",
       "</div>"
      ],
      "text/plain": [
       "  Continent_Name  Lung_survival_rate(%)\n",
       "0         Africa                  15.92\n",
       "1           Asia                  15.11\n",
       "2         Europe                  12.29\n",
       "3  North America                  16.65\n",
       "4        Oceania                  13.25\n",
       "5  South America                  16.15"
      ]
     },
     "execution_count": 70,
     "metadata": {},
     "output_type": "execute_result"
    }
   ],
   "source": [
    "df3_survival.reset_index()"
   ]
  },
  {
   "cell_type": "code",
   "execution_count": 71,
   "metadata": {},
   "outputs": [
    {
     "data": {
      "application/vnd.plotly.v1+json": {
       "config": {
        "linkText": "Export to plot.ly",
        "plotlyServerURL": "https://plot.ly",
        "showLink": true
       },
       "data": [
        {
         "line": {
          "color": "rgba(255, 153, 51, 1.0)",
          "dash": "solid",
          "shape": "linear",
          "width": 1.3
         },
         "mode": "lines",
         "name": "Africa",
         "text": "",
         "type": "scatter",
         "x": [
          0,
          1999,
          2004,
          2009
         ],
         "y": [
          1,
          0.8333333333333333,
          0.6666666666666666,
          0
         ]
        },
        {
         "line": {
          "color": "rgba(55, 128, 191, 1.0)",
          "dash": "solid",
          "shape": "linear",
          "width": 1.3
         },
         "mode": "lines",
         "name": "South America",
         "text": "",
         "type": "scatter",
         "x": [
          0,
          1999,
          2004,
          2009
         ],
         "y": [
          1,
          0.8,
          0.39999999999999997,
          0
         ]
        },
        {
         "line": {
          "color": "rgba(50, 171, 96, 1.0)",
          "dash": "solid",
          "shape": "linear",
          "width": 1.3
         },
         "mode": "lines",
         "name": "Oceania",
         "text": "",
         "type": "scatter",
         "x": [
          0,
          1999,
          2004,
          2009
         ],
         "y": [
          1,
          0.6666666666666666,
          0.33333333333333337,
          0
         ]
        },
        {
         "line": {
          "color": "rgba(128, 0, 128, 1.0)",
          "dash": "solid",
          "shape": "linear",
          "width": 1.3
         },
         "mode": "lines",
         "name": "Europe",
         "text": "",
         "type": "scatter",
         "x": [
          0,
          1999,
          2004,
          2009
         ],
         "y": [
          1,
          0.7023809523809528,
          0.35714285714285726,
          0
         ]
        },
        {
         "line": {
          "color": "rgba(219, 64, 82, 1.0)",
          "dash": "solid",
          "shape": "linear",
          "width": 1.3
         },
         "mode": "lines",
         "name": "North America",
         "text": "",
         "type": "scatter",
         "x": [
          0,
          1999,
          2004,
          2009
         ],
         "y": [
          1,
          0.7272727272727271,
          0.3636363636363636,
          0
         ]
        },
        {
         "line": {
          "color": "rgba(0, 128, 128, 1.0)",
          "dash": "solid",
          "shape": "linear",
          "width": 1.3
         },
         "mode": "lines",
         "name": "Asia",
         "text": "",
         "type": "scatter",
         "x": [
          0,
          1999,
          2004,
          2009
         ],
         "y": [
          1,
          0.7368421052631579,
          0.3947368421052632,
          0
         ]
        }
       ],
       "layout": {
        "legend": {
         "bgcolor": "#F5F6F9",
         "font": {
          "color": "#4D5663"
         }
        },
        "paper_bgcolor": "#F5F6F9",
        "plot_bgcolor": "#F5F6F9",
        "template": {
         "data": {
          "bar": [
           {
            "error_x": {
             "color": "#2a3f5f"
            },
            "error_y": {
             "color": "#2a3f5f"
            },
            "marker": {
             "line": {
              "color": "#E5ECF6",
              "width": 0.5
             }
            },
            "type": "bar"
           }
          ],
          "barpolar": [
           {
            "marker": {
             "line": {
              "color": "#E5ECF6",
              "width": 0.5
             }
            },
            "type": "barpolar"
           }
          ],
          "carpet": [
           {
            "aaxis": {
             "endlinecolor": "#2a3f5f",
             "gridcolor": "white",
             "linecolor": "white",
             "minorgridcolor": "white",
             "startlinecolor": "#2a3f5f"
            },
            "baxis": {
             "endlinecolor": "#2a3f5f",
             "gridcolor": "white",
             "linecolor": "white",
             "minorgridcolor": "white",
             "startlinecolor": "#2a3f5f"
            },
            "type": "carpet"
           }
          ],
          "choropleth": [
           {
            "colorbar": {
             "outlinewidth": 0,
             "ticks": ""
            },
            "type": "choropleth"
           }
          ],
          "contour": [
           {
            "colorbar": {
             "outlinewidth": 0,
             "ticks": ""
            },
            "colorscale": [
             [
              0,
              "#0d0887"
             ],
             [
              0.1111111111111111,
              "#46039f"
             ],
             [
              0.2222222222222222,
              "#7201a8"
             ],
             [
              0.3333333333333333,
              "#9c179e"
             ],
             [
              0.4444444444444444,
              "#bd3786"
             ],
             [
              0.5555555555555556,
              "#d8576b"
             ],
             [
              0.6666666666666666,
              "#ed7953"
             ],
             [
              0.7777777777777778,
              "#fb9f3a"
             ],
             [
              0.8888888888888888,
              "#fdca26"
             ],
             [
              1,
              "#f0f921"
             ]
            ],
            "type": "contour"
           }
          ],
          "contourcarpet": [
           {
            "colorbar": {
             "outlinewidth": 0,
             "ticks": ""
            },
            "type": "contourcarpet"
           }
          ],
          "heatmap": [
           {
            "colorbar": {
             "outlinewidth": 0,
             "ticks": ""
            },
            "colorscale": [
             [
              0,
              "#0d0887"
             ],
             [
              0.1111111111111111,
              "#46039f"
             ],
             [
              0.2222222222222222,
              "#7201a8"
             ],
             [
              0.3333333333333333,
              "#9c179e"
             ],
             [
              0.4444444444444444,
              "#bd3786"
             ],
             [
              0.5555555555555556,
              "#d8576b"
             ],
             [
              0.6666666666666666,
              "#ed7953"
             ],
             [
              0.7777777777777778,
              "#fb9f3a"
             ],
             [
              0.8888888888888888,
              "#fdca26"
             ],
             [
              1,
              "#f0f921"
             ]
            ],
            "type": "heatmap"
           }
          ],
          "heatmapgl": [
           {
            "colorbar": {
             "outlinewidth": 0,
             "ticks": ""
            },
            "colorscale": [
             [
              0,
              "#0d0887"
             ],
             [
              0.1111111111111111,
              "#46039f"
             ],
             [
              0.2222222222222222,
              "#7201a8"
             ],
             [
              0.3333333333333333,
              "#9c179e"
             ],
             [
              0.4444444444444444,
              "#bd3786"
             ],
             [
              0.5555555555555556,
              "#d8576b"
             ],
             [
              0.6666666666666666,
              "#ed7953"
             ],
             [
              0.7777777777777778,
              "#fb9f3a"
             ],
             [
              0.8888888888888888,
              "#fdca26"
             ],
             [
              1,
              "#f0f921"
             ]
            ],
            "type": "heatmapgl"
           }
          ],
          "histogram": [
           {
            "marker": {
             "colorbar": {
              "outlinewidth": 0,
              "ticks": ""
             }
            },
            "type": "histogram"
           }
          ],
          "histogram2d": [
           {
            "colorbar": {
             "outlinewidth": 0,
             "ticks": ""
            },
            "colorscale": [
             [
              0,
              "#0d0887"
             ],
             [
              0.1111111111111111,
              "#46039f"
             ],
             [
              0.2222222222222222,
              "#7201a8"
             ],
             [
              0.3333333333333333,
              "#9c179e"
             ],
             [
              0.4444444444444444,
              "#bd3786"
             ],
             [
              0.5555555555555556,
              "#d8576b"
             ],
             [
              0.6666666666666666,
              "#ed7953"
             ],
             [
              0.7777777777777778,
              "#fb9f3a"
             ],
             [
              0.8888888888888888,
              "#fdca26"
             ],
             [
              1,
              "#f0f921"
             ]
            ],
            "type": "histogram2d"
           }
          ],
          "histogram2dcontour": [
           {
            "colorbar": {
             "outlinewidth": 0,
             "ticks": ""
            },
            "colorscale": [
             [
              0,
              "#0d0887"
             ],
             [
              0.1111111111111111,
              "#46039f"
             ],
             [
              0.2222222222222222,
              "#7201a8"
             ],
             [
              0.3333333333333333,
              "#9c179e"
             ],
             [
              0.4444444444444444,
              "#bd3786"
             ],
             [
              0.5555555555555556,
              "#d8576b"
             ],
             [
              0.6666666666666666,
              "#ed7953"
             ],
             [
              0.7777777777777778,
              "#fb9f3a"
             ],
             [
              0.8888888888888888,
              "#fdca26"
             ],
             [
              1,
              "#f0f921"
             ]
            ],
            "type": "histogram2dcontour"
           }
          ],
          "mesh3d": [
           {
            "colorbar": {
             "outlinewidth": 0,
             "ticks": ""
            },
            "type": "mesh3d"
           }
          ],
          "parcoords": [
           {
            "line": {
             "colorbar": {
              "outlinewidth": 0,
              "ticks": ""
             }
            },
            "type": "parcoords"
           }
          ],
          "pie": [
           {
            "automargin": true,
            "type": "pie"
           }
          ],
          "scatter": [
           {
            "marker": {
             "colorbar": {
              "outlinewidth": 0,
              "ticks": ""
             }
            },
            "type": "scatter"
           }
          ],
          "scatter3d": [
           {
            "line": {
             "colorbar": {
              "outlinewidth": 0,
              "ticks": ""
             }
            },
            "marker": {
             "colorbar": {
              "outlinewidth": 0,
              "ticks": ""
             }
            },
            "type": "scatter3d"
           }
          ],
          "scattercarpet": [
           {
            "marker": {
             "colorbar": {
              "outlinewidth": 0,
              "ticks": ""
             }
            },
            "type": "scattercarpet"
           }
          ],
          "scattergeo": [
           {
            "marker": {
             "colorbar": {
              "outlinewidth": 0,
              "ticks": ""
             }
            },
            "type": "scattergeo"
           }
          ],
          "scattergl": [
           {
            "marker": {
             "colorbar": {
              "outlinewidth": 0,
              "ticks": ""
             }
            },
            "type": "scattergl"
           }
          ],
          "scattermapbox": [
           {
            "marker": {
             "colorbar": {
              "outlinewidth": 0,
              "ticks": ""
             }
            },
            "type": "scattermapbox"
           }
          ],
          "scatterpolar": [
           {
            "marker": {
             "colorbar": {
              "outlinewidth": 0,
              "ticks": ""
             }
            },
            "type": "scatterpolar"
           }
          ],
          "scatterpolargl": [
           {
            "marker": {
             "colorbar": {
              "outlinewidth": 0,
              "ticks": ""
             }
            },
            "type": "scatterpolargl"
           }
          ],
          "scatterternary": [
           {
            "marker": {
             "colorbar": {
              "outlinewidth": 0,
              "ticks": ""
             }
            },
            "type": "scatterternary"
           }
          ],
          "surface": [
           {
            "colorbar": {
             "outlinewidth": 0,
             "ticks": ""
            },
            "colorscale": [
             [
              0,
              "#0d0887"
             ],
             [
              0.1111111111111111,
              "#46039f"
             ],
             [
              0.2222222222222222,
              "#7201a8"
             ],
             [
              0.3333333333333333,
              "#9c179e"
             ],
             [
              0.4444444444444444,
              "#bd3786"
             ],
             [
              0.5555555555555556,
              "#d8576b"
             ],
             [
              0.6666666666666666,
              "#ed7953"
             ],
             [
              0.7777777777777778,
              "#fb9f3a"
             ],
             [
              0.8888888888888888,
              "#fdca26"
             ],
             [
              1,
              "#f0f921"
             ]
            ],
            "type": "surface"
           }
          ],
          "table": [
           {
            "cells": {
             "fill": {
              "color": "#EBF0F8"
             },
             "line": {
              "color": "white"
             }
            },
            "header": {
             "fill": {
              "color": "#C8D4E3"
             },
             "line": {
              "color": "white"
             }
            },
            "type": "table"
           }
          ]
         },
         "layout": {
          "annotationdefaults": {
           "arrowcolor": "#2a3f5f",
           "arrowhead": 0,
           "arrowwidth": 1
          },
          "coloraxis": {
           "colorbar": {
            "outlinewidth": 0,
            "ticks": ""
           }
          },
          "colorscale": {
           "diverging": [
            [
             0,
             "#8e0152"
            ],
            [
             0.1,
             "#c51b7d"
            ],
            [
             0.2,
             "#de77ae"
            ],
            [
             0.3,
             "#f1b6da"
            ],
            [
             0.4,
             "#fde0ef"
            ],
            [
             0.5,
             "#f7f7f7"
            ],
            [
             0.6,
             "#e6f5d0"
            ],
            [
             0.7,
             "#b8e186"
            ],
            [
             0.8,
             "#7fbc41"
            ],
            [
             0.9,
             "#4d9221"
            ],
            [
             1,
             "#276419"
            ]
           ],
           "sequential": [
            [
             0,
             "#0d0887"
            ],
            [
             0.1111111111111111,
             "#46039f"
            ],
            [
             0.2222222222222222,
             "#7201a8"
            ],
            [
             0.3333333333333333,
             "#9c179e"
            ],
            [
             0.4444444444444444,
             "#bd3786"
            ],
            [
             0.5555555555555556,
             "#d8576b"
            ],
            [
             0.6666666666666666,
             "#ed7953"
            ],
            [
             0.7777777777777778,
             "#fb9f3a"
            ],
            [
             0.8888888888888888,
             "#fdca26"
            ],
            [
             1,
             "#f0f921"
            ]
           ],
           "sequentialminus": [
            [
             0,
             "#0d0887"
            ],
            [
             0.1111111111111111,
             "#46039f"
            ],
            [
             0.2222222222222222,
             "#7201a8"
            ],
            [
             0.3333333333333333,
             "#9c179e"
            ],
            [
             0.4444444444444444,
             "#bd3786"
            ],
            [
             0.5555555555555556,
             "#d8576b"
            ],
            [
             0.6666666666666666,
             "#ed7953"
            ],
            [
             0.7777777777777778,
             "#fb9f3a"
            ],
            [
             0.8888888888888888,
             "#fdca26"
            ],
            [
             1,
             "#f0f921"
            ]
           ]
          },
          "colorway": [
           "#636efa",
           "#EF553B",
           "#00cc96",
           "#ab63fa",
           "#FFA15A",
           "#19d3f3",
           "#FF6692",
           "#B6E880",
           "#FF97FF",
           "#FECB52"
          ],
          "font": {
           "color": "#2a3f5f"
          },
          "geo": {
           "bgcolor": "white",
           "lakecolor": "white",
           "landcolor": "#E5ECF6",
           "showlakes": true,
           "showland": true,
           "subunitcolor": "white"
          },
          "hoverlabel": {
           "align": "left"
          },
          "hovermode": "closest",
          "mapbox": {
           "style": "light"
          },
          "paper_bgcolor": "white",
          "plot_bgcolor": "#E5ECF6",
          "polar": {
           "angularaxis": {
            "gridcolor": "white",
            "linecolor": "white",
            "ticks": ""
           },
           "bgcolor": "#E5ECF6",
           "radialaxis": {
            "gridcolor": "white",
            "linecolor": "white",
            "ticks": ""
           }
          },
          "scene": {
           "xaxis": {
            "backgroundcolor": "#E5ECF6",
            "gridcolor": "white",
            "gridwidth": 2,
            "linecolor": "white",
            "showbackground": true,
            "ticks": "",
            "zerolinecolor": "white"
           },
           "yaxis": {
            "backgroundcolor": "#E5ECF6",
            "gridcolor": "white",
            "gridwidth": 2,
            "linecolor": "white",
            "showbackground": true,
            "ticks": "",
            "zerolinecolor": "white"
           },
           "zaxis": {
            "backgroundcolor": "#E5ECF6",
            "gridcolor": "white",
            "gridwidth": 2,
            "linecolor": "white",
            "showbackground": true,
            "ticks": "",
            "zerolinecolor": "white"
           }
          },
          "shapedefaults": {
           "line": {
            "color": "#2a3f5f"
           }
          },
          "ternary": {
           "aaxis": {
            "gridcolor": "white",
            "linecolor": "white",
            "ticks": ""
           },
           "baxis": {
            "gridcolor": "white",
            "linecolor": "white",
            "ticks": ""
           },
           "bgcolor": "#E5ECF6",
           "caxis": {
            "gridcolor": "white",
            "linecolor": "white",
            "ticks": ""
           }
          },
          "title": {
           "x": 0.05
          },
          "xaxis": {
           "automargin": true,
           "gridcolor": "white",
           "linecolor": "white",
           "ticks": "",
           "title": {
            "standoff": 15
           },
           "zerolinecolor": "white",
           "zerolinewidth": 2
          },
          "yaxis": {
           "automargin": true,
           "gridcolor": "white",
           "linecolor": "white",
           "ticks": "",
           "title": {
            "standoff": 15
           },
           "zerolinecolor": "white",
           "zerolinewidth": 2
          }
         }
        },
        "title": {
         "font": {
          "color": "#4D5663"
         },
         "text": "To determine"
        },
        "xaxis": {
         "gridcolor": "#E1E5ED",
         "showgrid": true,
         "tickfont": {
          "color": "#4D5663"
         },
         "title": {
          "font": {
           "color": "#4D5663"
          },
          "text": "Year"
         },
         "zerolinecolor": "#E1E5ED"
        },
        "yaxis": {
         "gridcolor": "#E1E5ED",
         "showgrid": true,
         "tickfont": {
          "color": "#4D5663"
         },
         "title": {
          "font": {
           "color": "#4D5663"
          },
          "text": "Lung_survival_rate(%)"
         },
         "zerolinecolor": "#E1E5ED"
        }
       }
      },
      "text/html": [
       "<div>\n",
       "        \n",
       "        \n",
       "            <div id=\"0ad23438-92ff-4416-b929-04a5adaa936f\" class=\"plotly-graph-div\" style=\"height:525px; width:100%;\"></div>\n",
       "            <script type=\"text/javascript\">\n",
       "                require([\"plotly\"], function(Plotly) {\n",
       "                    window.PLOTLYENV=window.PLOTLYENV || {};\n",
       "                    window.PLOTLYENV.BASE_URL='https://plot.ly';\n",
       "                    \n",
       "                if (document.getElementById(\"0ad23438-92ff-4416-b929-04a5adaa936f\")) {\n",
       "                    Plotly.newPlot(\n",
       "                        '0ad23438-92ff-4416-b929-04a5adaa936f',\n",
       "                        [{\"line\": {\"color\": \"rgba(255, 153, 51, 1.0)\", \"dash\": \"solid\", \"shape\": \"linear\", \"width\": 1.3}, \"mode\": \"lines\", \"name\": \"Africa\", \"text\": \"\", \"type\": \"scatter\", \"x\": [0.0, 1999.0, 2004.0, 2009.0], \"y\": [1.0, 0.8333333333333333, 0.6666666666666666, 0.0]}, {\"line\": {\"color\": \"rgba(55, 128, 191, 1.0)\", \"dash\": \"solid\", \"shape\": \"linear\", \"width\": 1.3}, \"mode\": \"lines\", \"name\": \"South America\", \"text\": \"\", \"type\": \"scatter\", \"x\": [0.0, 1999.0, 2004.0, 2009.0], \"y\": [1.0, 0.8, 0.39999999999999997, 0.0]}, {\"line\": {\"color\": \"rgba(50, 171, 96, 1.0)\", \"dash\": \"solid\", \"shape\": \"linear\", \"width\": 1.3}, \"mode\": \"lines\", \"name\": \"Oceania\", \"text\": \"\", \"type\": \"scatter\", \"x\": [0.0, 1999.0, 2004.0, 2009.0], \"y\": [1.0, 0.6666666666666666, 0.33333333333333337, 0.0]}, {\"line\": {\"color\": \"rgba(128, 0, 128, 1.0)\", \"dash\": \"solid\", \"shape\": \"linear\", \"width\": 1.3}, \"mode\": \"lines\", \"name\": \"Europe\", \"text\": \"\", \"type\": \"scatter\", \"x\": [0.0, 1999.0, 2004.0, 2009.0], \"y\": [1.0, 0.7023809523809528, 0.35714285714285726, 0.0]}, {\"line\": {\"color\": \"rgba(219, 64, 82, 1.0)\", \"dash\": \"solid\", \"shape\": \"linear\", \"width\": 1.3}, \"mode\": \"lines\", \"name\": \"North America\", \"text\": \"\", \"type\": \"scatter\", \"x\": [0.0, 1999.0, 2004.0, 2009.0], \"y\": [1.0, 0.7272727272727271, 0.3636363636363636, 0.0]}, {\"line\": {\"color\": \"rgba(0, 128, 128, 1.0)\", \"dash\": \"solid\", \"shape\": \"linear\", \"width\": 1.3}, \"mode\": \"lines\", \"name\": \"Asia\", \"text\": \"\", \"type\": \"scatter\", \"x\": [0.0, 1999.0, 2004.0, 2009.0], \"y\": [1.0, 0.7368421052631579, 0.3947368421052632, 0.0]}],\n",
       "                        {\"legend\": {\"bgcolor\": \"#F5F6F9\", \"font\": {\"color\": \"#4D5663\"}}, \"paper_bgcolor\": \"#F5F6F9\", \"plot_bgcolor\": \"#F5F6F9\", \"template\": {\"data\": {\"bar\": [{\"error_x\": {\"color\": \"#2a3f5f\"}, \"error_y\": {\"color\": \"#2a3f5f\"}, \"marker\": {\"line\": {\"color\": \"#E5ECF6\", \"width\": 0.5}}, \"type\": \"bar\"}], \"barpolar\": [{\"marker\": {\"line\": {\"color\": \"#E5ECF6\", \"width\": 0.5}}, \"type\": \"barpolar\"}], \"carpet\": [{\"aaxis\": {\"endlinecolor\": \"#2a3f5f\", \"gridcolor\": \"white\", \"linecolor\": \"white\", \"minorgridcolor\": \"white\", \"startlinecolor\": \"#2a3f5f\"}, \"baxis\": {\"endlinecolor\": \"#2a3f5f\", \"gridcolor\": \"white\", \"linecolor\": \"white\", \"minorgridcolor\": \"white\", \"startlinecolor\": \"#2a3f5f\"}, \"type\": \"carpet\"}], \"choropleth\": [{\"colorbar\": {\"outlinewidth\": 0, \"ticks\": \"\"}, \"type\": \"choropleth\"}], \"contour\": [{\"colorbar\": {\"outlinewidth\": 0, \"ticks\": \"\"}, \"colorscale\": [[0.0, \"#0d0887\"], [0.1111111111111111, \"#46039f\"], [0.2222222222222222, \"#7201a8\"], [0.3333333333333333, \"#9c179e\"], [0.4444444444444444, \"#bd3786\"], [0.5555555555555556, \"#d8576b\"], [0.6666666666666666, \"#ed7953\"], [0.7777777777777778, \"#fb9f3a\"], [0.8888888888888888, \"#fdca26\"], [1.0, \"#f0f921\"]], \"type\": \"contour\"}], \"contourcarpet\": [{\"colorbar\": {\"outlinewidth\": 0, \"ticks\": \"\"}, \"type\": \"contourcarpet\"}], \"heatmap\": [{\"colorbar\": {\"outlinewidth\": 0, \"ticks\": \"\"}, \"colorscale\": [[0.0, \"#0d0887\"], [0.1111111111111111, \"#46039f\"], [0.2222222222222222, \"#7201a8\"], [0.3333333333333333, \"#9c179e\"], [0.4444444444444444, \"#bd3786\"], [0.5555555555555556, \"#d8576b\"], [0.6666666666666666, \"#ed7953\"], [0.7777777777777778, \"#fb9f3a\"], [0.8888888888888888, \"#fdca26\"], [1.0, \"#f0f921\"]], \"type\": \"heatmap\"}], \"heatmapgl\": [{\"colorbar\": {\"outlinewidth\": 0, \"ticks\": \"\"}, \"colorscale\": [[0.0, \"#0d0887\"], [0.1111111111111111, \"#46039f\"], [0.2222222222222222, \"#7201a8\"], [0.3333333333333333, \"#9c179e\"], [0.4444444444444444, \"#bd3786\"], [0.5555555555555556, \"#d8576b\"], [0.6666666666666666, \"#ed7953\"], [0.7777777777777778, \"#fb9f3a\"], [0.8888888888888888, \"#fdca26\"], [1.0, \"#f0f921\"]], \"type\": \"heatmapgl\"}], \"histogram\": [{\"marker\": {\"colorbar\": {\"outlinewidth\": 0, \"ticks\": \"\"}}, \"type\": \"histogram\"}], \"histogram2d\": [{\"colorbar\": {\"outlinewidth\": 0, \"ticks\": \"\"}, \"colorscale\": [[0.0, \"#0d0887\"], [0.1111111111111111, \"#46039f\"], [0.2222222222222222, \"#7201a8\"], [0.3333333333333333, \"#9c179e\"], [0.4444444444444444, \"#bd3786\"], [0.5555555555555556, \"#d8576b\"], [0.6666666666666666, \"#ed7953\"], [0.7777777777777778, \"#fb9f3a\"], [0.8888888888888888, \"#fdca26\"], [1.0, \"#f0f921\"]], \"type\": \"histogram2d\"}], \"histogram2dcontour\": [{\"colorbar\": {\"outlinewidth\": 0, \"ticks\": \"\"}, \"colorscale\": [[0.0, \"#0d0887\"], [0.1111111111111111, \"#46039f\"], [0.2222222222222222, \"#7201a8\"], [0.3333333333333333, \"#9c179e\"], [0.4444444444444444, \"#bd3786\"], [0.5555555555555556, \"#d8576b\"], [0.6666666666666666, \"#ed7953\"], [0.7777777777777778, \"#fb9f3a\"], [0.8888888888888888, \"#fdca26\"], [1.0, \"#f0f921\"]], \"type\": \"histogram2dcontour\"}], \"mesh3d\": [{\"colorbar\": {\"outlinewidth\": 0, \"ticks\": \"\"}, \"type\": \"mesh3d\"}], \"parcoords\": [{\"line\": {\"colorbar\": {\"outlinewidth\": 0, \"ticks\": \"\"}}, \"type\": \"parcoords\"}], \"pie\": [{\"automargin\": true, \"type\": \"pie\"}], \"scatter\": [{\"marker\": {\"colorbar\": {\"outlinewidth\": 0, \"ticks\": \"\"}}, \"type\": \"scatter\"}], \"scatter3d\": [{\"line\": {\"colorbar\": {\"outlinewidth\": 0, \"ticks\": \"\"}}, \"marker\": {\"colorbar\": {\"outlinewidth\": 0, \"ticks\": \"\"}}, \"type\": \"scatter3d\"}], \"scattercarpet\": [{\"marker\": {\"colorbar\": {\"outlinewidth\": 0, \"ticks\": \"\"}}, \"type\": \"scattercarpet\"}], \"scattergeo\": [{\"marker\": {\"colorbar\": {\"outlinewidth\": 0, \"ticks\": \"\"}}, \"type\": \"scattergeo\"}], \"scattergl\": [{\"marker\": {\"colorbar\": {\"outlinewidth\": 0, \"ticks\": \"\"}}, \"type\": \"scattergl\"}], \"scattermapbox\": [{\"marker\": {\"colorbar\": {\"outlinewidth\": 0, \"ticks\": \"\"}}, \"type\": \"scattermapbox\"}], \"scatterpolar\": [{\"marker\": {\"colorbar\": {\"outlinewidth\": 0, \"ticks\": \"\"}}, \"type\": \"scatterpolar\"}], \"scatterpolargl\": [{\"marker\": {\"colorbar\": {\"outlinewidth\": 0, \"ticks\": \"\"}}, \"type\": \"scatterpolargl\"}], \"scatterternary\": [{\"marker\": {\"colorbar\": {\"outlinewidth\": 0, \"ticks\": \"\"}}, \"type\": \"scatterternary\"}], \"surface\": [{\"colorbar\": {\"outlinewidth\": 0, \"ticks\": \"\"}, \"colorscale\": [[0.0, \"#0d0887\"], [0.1111111111111111, \"#46039f\"], [0.2222222222222222, \"#7201a8\"], [0.3333333333333333, \"#9c179e\"], [0.4444444444444444, \"#bd3786\"], [0.5555555555555556, \"#d8576b\"], [0.6666666666666666, \"#ed7953\"], [0.7777777777777778, \"#fb9f3a\"], [0.8888888888888888, \"#fdca26\"], [1.0, \"#f0f921\"]], \"type\": \"surface\"}], \"table\": [{\"cells\": {\"fill\": {\"color\": \"#EBF0F8\"}, \"line\": {\"color\": \"white\"}}, \"header\": {\"fill\": {\"color\": \"#C8D4E3\"}, \"line\": {\"color\": \"white\"}}, \"type\": \"table\"}]}, \"layout\": {\"annotationdefaults\": {\"arrowcolor\": \"#2a3f5f\", \"arrowhead\": 0, \"arrowwidth\": 1}, \"coloraxis\": {\"colorbar\": {\"outlinewidth\": 0, \"ticks\": \"\"}}, \"colorscale\": {\"diverging\": [[0, \"#8e0152\"], [0.1, \"#c51b7d\"], [0.2, \"#de77ae\"], [0.3, \"#f1b6da\"], [0.4, \"#fde0ef\"], [0.5, \"#f7f7f7\"], [0.6, \"#e6f5d0\"], [0.7, \"#b8e186\"], [0.8, \"#7fbc41\"], [0.9, \"#4d9221\"], [1, \"#276419\"]], \"sequential\": [[0.0, \"#0d0887\"], [0.1111111111111111, \"#46039f\"], [0.2222222222222222, \"#7201a8\"], [0.3333333333333333, \"#9c179e\"], [0.4444444444444444, \"#bd3786\"], [0.5555555555555556, \"#d8576b\"], [0.6666666666666666, \"#ed7953\"], [0.7777777777777778, \"#fb9f3a\"], [0.8888888888888888, \"#fdca26\"], [1.0, \"#f0f921\"]], \"sequentialminus\": [[0.0, \"#0d0887\"], [0.1111111111111111, \"#46039f\"], [0.2222222222222222, \"#7201a8\"], [0.3333333333333333, \"#9c179e\"], [0.4444444444444444, \"#bd3786\"], [0.5555555555555556, \"#d8576b\"], [0.6666666666666666, \"#ed7953\"], [0.7777777777777778, \"#fb9f3a\"], [0.8888888888888888, \"#fdca26\"], [1.0, \"#f0f921\"]]}, \"colorway\": [\"#636efa\", \"#EF553B\", \"#00cc96\", \"#ab63fa\", \"#FFA15A\", \"#19d3f3\", \"#FF6692\", \"#B6E880\", \"#FF97FF\", \"#FECB52\"], \"font\": {\"color\": \"#2a3f5f\"}, \"geo\": {\"bgcolor\": \"white\", \"lakecolor\": \"white\", \"landcolor\": \"#E5ECF6\", \"showlakes\": true, \"showland\": true, \"subunitcolor\": \"white\"}, \"hoverlabel\": {\"align\": \"left\"}, \"hovermode\": \"closest\", \"mapbox\": {\"style\": \"light\"}, \"paper_bgcolor\": \"white\", \"plot_bgcolor\": \"#E5ECF6\", \"polar\": {\"angularaxis\": {\"gridcolor\": \"white\", \"linecolor\": \"white\", \"ticks\": \"\"}, \"bgcolor\": \"#E5ECF6\", \"radialaxis\": {\"gridcolor\": \"white\", \"linecolor\": \"white\", \"ticks\": \"\"}}, \"scene\": {\"xaxis\": {\"backgroundcolor\": \"#E5ECF6\", \"gridcolor\": \"white\", \"gridwidth\": 2, \"linecolor\": \"white\", \"showbackground\": true, \"ticks\": \"\", \"zerolinecolor\": \"white\"}, \"yaxis\": {\"backgroundcolor\": \"#E5ECF6\", \"gridcolor\": \"white\", \"gridwidth\": 2, \"linecolor\": \"white\", \"showbackground\": true, \"ticks\": \"\", \"zerolinecolor\": \"white\"}, \"zaxis\": {\"backgroundcolor\": \"#E5ECF6\", \"gridcolor\": \"white\", \"gridwidth\": 2, \"linecolor\": \"white\", \"showbackground\": true, \"ticks\": \"\", \"zerolinecolor\": \"white\"}}, \"shapedefaults\": {\"line\": {\"color\": \"#2a3f5f\"}}, \"ternary\": {\"aaxis\": {\"gridcolor\": \"white\", \"linecolor\": \"white\", \"ticks\": \"\"}, \"baxis\": {\"gridcolor\": \"white\", \"linecolor\": \"white\", \"ticks\": \"\"}, \"bgcolor\": \"#E5ECF6\", \"caxis\": {\"gridcolor\": \"white\", \"linecolor\": \"white\", \"ticks\": \"\"}}, \"title\": {\"x\": 0.05}, \"xaxis\": {\"automargin\": true, \"gridcolor\": \"white\", \"linecolor\": \"white\", \"ticks\": \"\", \"title\": {\"standoff\": 15}, \"zerolinecolor\": \"white\", \"zerolinewidth\": 2}, \"yaxis\": {\"automargin\": true, \"gridcolor\": \"white\", \"linecolor\": \"white\", \"ticks\": \"\", \"title\": {\"standoff\": 15}, \"zerolinecolor\": \"white\", \"zerolinewidth\": 2}}}, \"title\": {\"font\": {\"color\": \"#4D5663\"}, \"text\": \"To determine\"}, \"xaxis\": {\"gridcolor\": \"#E1E5ED\", \"showgrid\": true, \"tickfont\": {\"color\": \"#4D5663\"}, \"title\": {\"font\": {\"color\": \"#4D5663\"}, \"text\": \"Year\"}, \"zerolinecolor\": \"#E1E5ED\"}, \"yaxis\": {\"gridcolor\": \"#E1E5ED\", \"showgrid\": true, \"tickfont\": {\"color\": \"#4D5663\"}, \"title\": {\"font\": {\"color\": \"#4D5663\"}, \"text\": \"Lung_survival_rate(%)\"}, \"zerolinecolor\": \"#E1E5ED\"}},\n",
       "                        {\"showLink\": true, \"linkText\": \"Export to plot.ly\", \"plotlyServerURL\": \"https://plot.ly\", \"responsive\": true}\n",
       "                    ).then(function(){\n",
       "                            \n",
       "var gd = document.getElementById('0ad23438-92ff-4416-b929-04a5adaa936f');\n",
       "var x = new MutationObserver(function (mutations, observer) {{\n",
       "        var display = window.getComputedStyle(gd).display;\n",
       "        if (!display || display === 'none') {{\n",
       "            console.log([gd, 'removed!']);\n",
       "            Plotly.purge(gd);\n",
       "            observer.disconnect();\n",
       "        }}\n",
       "}});\n",
       "\n",
       "// Listen for the removal of the full notebook cells\n",
       "var notebookContainer = gd.closest('#notebook-container');\n",
       "if (notebookContainer) {{\n",
       "    x.observe(notebookContainer, {childList: true});\n",
       "}}\n",
       "\n",
       "// Listen for the clearing of the current output cell\n",
       "var outputEl = gd.closest('.output');\n",
       "if (outputEl) {{\n",
       "    x.observe(outputEl, {childList: true});\n",
       "}}\n",
       "\n",
       "                        })\n",
       "                };\n",
       "                });\n",
       "            </script>\n",
       "        </div>"
      ]
     },
     "metadata": {},
     "output_type": "display_data"
    }
   ],
   "source": [
    "rates = survival(df2_survival, 'Continent_Name', 'Year', 'Lung_survival_rate(%)')\n",
    "\n",
    "rates.iplot(kind='line', xTitle='Year', yTitle='Lung_survival_rate(%)',title='To determine')"
   ]
  }
 ],
 "metadata": {
  "kernelspec": {
   "display_name": "Python 3",
   "language": "python",
   "name": "python3"
  },
  "language_info": {
   "codemirror_mode": {
    "name": "ipython",
    "version": 3
   },
   "file_extension": ".py",
   "mimetype": "text/x-python",
   "name": "python",
   "nbconvert_exporter": "python",
   "pygments_lexer": "ipython3",
   "version": "3.7.3"
  }
 },
 "nbformat": 4,
 "nbformat_minor": 2
}
